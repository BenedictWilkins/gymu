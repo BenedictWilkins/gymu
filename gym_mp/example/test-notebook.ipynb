{
 "cells": [
  {
   "cell_type": "code",
   "execution_count": 1,
   "metadata": {
    "scrolled": false
   },
   "outputs": [
    {
     "name": "stderr",
     "output_type": "stream",
     "text": [
      "2020-09-16 16:14:18,107\tINFO resource_spec.py:223 -- Starting Ray with 14.7 GiB memory available for workers and up to 7.36 GiB for objects. You can adjust these settings with ray.init(memory=<bytes>, object_store_memory=<bytes>).\n",
      "2020-09-16 16:14:18,561\tINFO services.py:1191 -- View the Ray dashboard at \u001b[1m\u001b[32mlocalhost:8265\u001b[39m\u001b[22m\n"
     ]
    },
    {
     "data": {
      "text/plain": [
       "{'node_ip_address': '192.168.0.10',\n",
       " 'raylet_ip_address': '192.168.0.10',\n",
       " 'redis_address': '192.168.0.10:6379',\n",
       " 'object_store_address': '/tmp/ray/session_2020-09-16_16-14-18_107040_3016/sockets/plasma_store',\n",
       " 'raylet_socket_name': '/tmp/ray/session_2020-09-16_16-14-18_107040_3016/sockets/raylet',\n",
       " 'webui_url': 'localhost:8265',\n",
       " 'session_dir': '/tmp/ray/session_2020-09-16_16-14-18_107040_3016'}"
      ]
     },
     "execution_count": 1,
     "metadata": {},
     "output_type": "execute_result"
    }
   ],
   "source": [
    "import torch\n",
    "import gym\n",
    "import gym_mp\n",
    "import numpy as np\n",
    "import time\n",
    "import ray\n",
    "ray.init()"
   ]
  },
  {
   "cell_type": "code",
   "execution_count": 2,
   "metadata": {},
   "outputs": [
    {
     "data": {
      "text/plain": [
       "(array([[-0.03570205, -0.03047747,  0.02822699,  0.02090508],\n",
       "        [-0.0363116 , -0.22599261,  0.02864509,  0.32235861],\n",
       "        [-0.04083145, -0.42151051,  0.03509226,  0.62393565],\n",
       "        [-0.04926166, -0.61710438,  0.04757097,  0.92746083],\n",
       "        [-0.06160375, -0.81283525,  0.06612019,  1.23470558],\n",
       "        [-0.07786046, -0.61862256,  0.0908143 ,  0.9634483 ],\n",
       "        [-0.09023291, -0.81483956,  0.11008327,  1.28322367],\n",
       "        [-0.1065297 , -0.62127809,  0.13574774,  1.02693807],\n",
       "        [-0.11895526, -0.81792028,  0.1562865 ,  1.35897518],\n",
       "        [-0.13531367, -1.01461815,  0.18346601,  1.6961874 ],\n",
       "        [-0.15560603, -1.21132149,  0.21738975,  2.0399275 ]]),\n",
       " array([0, 0, 0, 0, 1, 0, 1, 0, 0, 0, 0]))"
      ]
     },
     "execution_count": 2,
     "metadata": {},
     "output_type": "execute_result"
    }
   ],
   "source": [
    "gym_mp.iterators.episode('CartPole-v0', mode=gym_mp.mode.sa)"
   ]
  },
  {
   "cell_type": "code",
   "execution_count": 3,
   "metadata": {
    "scrolled": false
   },
   "outputs": [
    {
     "name": "stdout",
     "output_type": "stream",
     "text": [
      "(1000, 210, 160, 3) (1000,)\n",
      "(1000, 210, 160, 3) (1000,)\n"
     ]
    }
   ],
   "source": [
    "\n",
    "lit = gym_mp.mp_episodes('Pong-v0', workers=2, \n",
    "                            mode=gym_mp.mode.sa, n=1, \n",
    "                            max_length=1000)\n",
    "\n",
    "for x in lit.gather_async():\n",
    "    s, a = x\n",
    "    print(s.shape, a.shape)\n",
    "    \n"
   ]
  },
  {
   "cell_type": "code",
   "execution_count": 4,
   "metadata": {
    "scrolled": false
   },
   "outputs": [],
   "source": [
    "class TestEnv(gym.Env):\n",
    "    \n",
    "    def __init__(self):\n",
    "        super(TestEnv, self).__init__()\n",
    "        self.name = \"env\"\n",
    "        self.i = 0\n",
    "        self.n = 3\n",
    "        self.action_space = gym.spaces.Discrete(2)\n",
    "    \n",
    "    def step(self, action):\n",
    "        self.i += 1\n",
    "        time.sleep(np.random.randint(1000)/1000)\n",
    "        done = self.i > self.n\n",
    "        return \"{0}-{1}-{2}\".format(self.name, self.i, action), 0., done\n",
    "\n",
    "    def reset(self):\n",
    "        self.i = 0\n",
    "        return \"{0}-{1}-{2}\".format(self.name, self.i, -1)"
   ]
  },
  {
   "cell_type": "code",
   "execution_count": null,
   "metadata": {
    "scrolled": false
   },
   "outputs": [
    {
     "name": "stdout",
     "output_type": "stream",
     "text": [
      "env-0--1\n",
      "env-0--1\n",
      "env-1-0\n",
      "env-1-0\n",
      "env-2-1\n",
      "env-2-0\n",
      "env-3-0\n",
      "env-3-1\n",
      "env-4-1\n",
      "env-0--1\n",
      "env-1-1\n",
      "env-2-0\n",
      "env-3-1\n",
      "env-4-1\n",
      "env-0--1\n",
      "env-4-1\n",
      "env-0--1\n",
      "env-1-0\n",
      "env-2-0\n",
      "env-1-0\n",
      "env-3-1\n",
      "env-4-1\n",
      "env-0--1\n",
      "env-2-1\n",
      "env-1-0\n",
      "env-2-1\n",
      "env-3-0\n",
      "env-3-0\n",
      "env-4-0\n",
      "env-0--1\n",
      "env-4-0\n",
      "env-0--1\n"
     ]
    }
   ],
   "source": [
    "\n",
    "policy_f = lambda : gym_mp.policy.uniform(gym.spaces.Discrete(2))\n",
    "\n",
    "env_f = TestEnv\n",
    "lit = gym_mp.async_iterator(env_f, policy_f, repeat=True)\n",
    "\n",
    "for s in lit:\n",
    "    print(*s)\n"
   ]
  },
  {
   "cell_type": "code",
   "execution_count": null,
   "metadata": {
    "scrolled": false
   },
   "outputs": [],
   "source": [
    "import time\n",
    "import ray.util.iter\n",
    "\n",
    "class wait_iter:\n",
    "    \n",
    "    def __init__(self, n):\n",
    "        self.n = n\n",
    "        self.i = 0\n",
    "    \n",
    "    def __next__(self):\n",
    "        time.sleep(1)\n",
    "        self.i += 1\n",
    "        if self.i > self.n:\n",
    "            raise StopIteration()\n",
    "        return self.i\n",
    "    \n",
    "    def __iter__(self):\n",
    "        return self\n",
    "    \n",
    "def gen(n):\n",
    "    for i in range(n):\n",
    "        time.sleep(1)\n",
    "        yield i\n",
    "\n",
    "class wait_iter2:\n",
    "    \n",
    "    def __init__(self, n):\n",
    "        self.n = n\n",
    "    \n",
    "    def __iter__(self):\n",
    "        return gen(self.n)\n",
    "        \n",
    "    \n",
    "it = ray.util.iter.from_iterators([range(10), wait_iter2(10)])\n",
    "\n",
    "lit = it.gather_async()\n",
    "\n",
    "for i in lit:\n",
    "    print(i)"
   ]
  },
  {
   "cell_type": "code",
   "execution_count": null,
   "metadata": {},
   "outputs": [],
   "source": []
  }
 ],
 "metadata": {
  "kernelspec": {
   "display_name": "PhD",
   "language": "python",
   "name": "phd"
  },
  "language_info": {
   "codemirror_mode": {
    "name": "ipython",
    "version": 3
   },
   "file_extension": ".py",
   "mimetype": "text/x-python",
   "name": "python",
   "nbconvert_exporter": "python",
   "pygments_lexer": "ipython3",
   "version": "3.8.2"
  }
 },
 "nbformat": 4,
 "nbformat_minor": 4
}
