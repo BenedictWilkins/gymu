{
 "cells": [
  {
   "cell_type": "code",
   "execution_count": null,
   "id": "d96b512c",
   "metadata": {
    "scrolled": false
   },
   "outputs": [],
   "source": [
    "import torch\n",
    "import gym\n",
    "import gymu\n",
    "import numpy as np\n",
    "from itertools import chain, repeat\n",
    "\n",
    "class TestEnvironment(gym.Env):\n",
    "    \n",
    "    def __init__(self, n=10, m=2):\n",
    "        shape = (1,2,2)\n",
    "        self.states = torch.ones(n+1,*shape) * (torch.arange(n+1).view(n+1,1,1,1) / n)\n",
    "        self.action_space = gym.spaces.Discrete(m)\n",
    "        self.observation_space = gym.spaces.Box(0,1,shape)\n",
    "        self.index = 0\n",
    "        self.count = 0\n",
    "        \n",
    "    def step(self, action):\n",
    "        self.count += 1\n",
    "        self.index += action\n",
    "        self.index = min(self.index, self.states.shape[0] - 1)\n",
    "        done = self.index == (self.states.shape[0] - 1)\n",
    "        return self.states[self.index], 0., done, {'index':self.index, 'step':self.count}\n",
    "    \n",
    "    def reset(self):\n",
    "        self.index = 0\n",
    "        self.count = 0\n",
    "        return self.states[self.index], {'index':self.index, 'step':self.count}\n",
    "    \n",
    "env = TestEnvironment()\n",
    "iterator = gymu.iterator(env, mode=gymu.mode.sardi)\n",
    "\n",
    "iterator = chain(*list(repeat(iterator, 2)))\n",
    "\n",
    "default = next(iter(gymu.data.dataset(gymu.iterator(env, mode=gymu.mode.sardi)).gymu.unpack_info()))\n",
    "default['step'] = -1\n",
    "\n",
    "dataset = gymu.data.dataset(iterator).gymu.unpack_info()\n",
    "\n",
    "mask = {'state': np.s_[:2] }\n",
    "dataset = dataset.gymu.window(window_size=10, default=default, mask=mask)\n",
    "#dataset = dataset.gymu.window(window_size=2)\n",
    "\n",
    "for x in dataset:\n",
    "    print(x['state'].shape, x['action'].shape)\n",
    "    print(x['step'])\n",
    "    \n",
    "    \n",
    "\n",
    "\n",
    "\n",
    "\n",
    "        "
   ]
  },
  {
   "cell_type": "code",
   "execution_count": 4,
   "id": "b3dda974",
   "metadata": {
    "scrolled": false
   },
   "outputs": [
    {
     "data": {
      "application/vnd.jupyter.widget-view+json": {
       "model_id": "cf74d4ba15154006b0b3a21b54d5f68b",
       "version_major": 2,
       "version_minor": 0
      },
      "text/plain": [
       "0it [00:00, ?it/s]"
      ]
     },
     "metadata": {},
     "output_type": "display_data"
    },
    {
     "name": "stdout",
     "output_type": "stream",
     "text": [
      "THEN\n",
      "THEN\n",
      "THEN\n",
      "THEN\n",
      "THEN\n"
     ]
    },
    {
     "data": {
      "application/vnd.jupyter.widget-view+json": {
       "model_id": "3830cf1369f143588b7a63a0ae3a5054",
       "version_major": 2,
       "version_minor": 0
      },
      "text/plain": [
       "Loading Tensor Dataset: 0it [00:00, ?it/s]"
      ]
     },
     "metadata": {},
     "output_type": "display_data"
    },
    {
     "name": "stdout",
     "output_type": "stream",
     "text": [
      "[<class 'torch.Tensor'>, <class 'torch.Tensor'>]\n",
      "<class 'torch.Tensor'> <class 'torch.Tensor'>\n",
      "<class 'torch.Tensor'> <class 'torch.Tensor'>\n",
      "<class 'torch.Tensor'> <class 'torch.Tensor'>\n",
      "<class 'torch.Tensor'> <class 'torch.Tensor'>\n",
      "<class 'torch.Tensor'> <class 'torch.Tensor'>\n",
      "<class 'torch.Tensor'> <class 'torch.Tensor'>\n",
      "<class 'torch.Tensor'> <class 'torch.Tensor'>\n",
      "<class 'torch.Tensor'> <class 'torch.Tensor'>\n",
      "<class 'torch.Tensor'> <class 'torch.Tensor'>\n",
      "<class 'torch.Tensor'> <class 'torch.Tensor'>\n",
      "<class 'torch.Tensor'> <class 'torch.Tensor'>\n",
      "<class 'torch.Tensor'> <class 'torch.Tensor'>\n",
      "<class 'torch.Tensor'> <class 'torch.Tensor'>\n",
      "<class 'torch.Tensor'> <class 'torch.Tensor'>\n",
      "<class 'torch.Tensor'> <class 'torch.Tensor'>\n",
      "<class 'torch.Tensor'> <class 'torch.Tensor'>\n",
      "<class 'torch.Tensor'> <class 'torch.Tensor'>\n",
      "<class 'torch.Tensor'> <class 'torch.Tensor'>\n",
      "<class 'torch.Tensor'> <class 'torch.Tensor'>\n",
      "<class 'torch.Tensor'> <class 'torch.Tensor'>\n"
     ]
    },
    {
     "data": {
      "application/vnd.jupyter.widget-view+json": {
       "model_id": "4b7e9a7a359140db880f3c11d353b451",
       "version_major": 2,
       "version_minor": 0
      },
      "text/plain": [
       "HBox(children=(Canvas(height=28, width=56),), layout=Layout(align_items='center', display='flex', flex_flow='r…"
      ]
     },
     "metadata": {},
     "output_type": "display_data"
    },
    {
     "name": "stdout",
     "output_type": "stream",
     "text": [
      "torch.Size([2, 1, 28, 28]) tensor([0, 0, 1])\n"
     ]
    },
    {
     "data": {
      "application/vnd.jupyter.widget-view+json": {
       "model_id": "284424784a77438091c76a600664cd17",
       "version_major": 2,
       "version_minor": 0
      },
      "text/plain": [
       "HBox(children=(Canvas(height=28, width=56),), layout=Layout(align_items='center', display='flex', flex_flow='r…"
      ]
     },
     "metadata": {},
     "output_type": "display_data"
    },
    {
     "name": "stdout",
     "output_type": "stream",
     "text": [
      "torch.Size([2, 1, 28, 28]) tensor([0, 1, 1])\n"
     ]
    },
    {
     "data": {
      "application/vnd.jupyter.widget-view+json": {
       "model_id": "fe94c03cdc75455493a742523957e798",
       "version_major": 2,
       "version_minor": 0
      },
      "text/plain": [
       "HBox(children=(Canvas(height=28, width=56),), layout=Layout(align_items='center', display='flex', flex_flow='r…"
      ]
     },
     "metadata": {},
     "output_type": "display_data"
    },
    {
     "name": "stdout",
     "output_type": "stream",
     "text": [
      "torch.Size([2, 1, 28, 28]) tensor([1, 1, 1])\n"
     ]
    },
    {
     "data": {
      "application/vnd.jupyter.widget-view+json": {
       "model_id": "f54d315ab25948c68f0eec885af1f468",
       "version_major": 2,
       "version_minor": 0
      },
      "text/plain": [
       "HBox(children=(Canvas(height=28, width=56),), layout=Layout(align_items='center', display='flex', flex_flow='r…"
      ]
     },
     "metadata": {},
     "output_type": "display_data"
    },
    {
     "name": "stdout",
     "output_type": "stream",
     "text": [
      "torch.Size([2, 1, 28, 28]) tensor([1, 1, 1])\n"
     ]
    },
    {
     "data": {
      "application/vnd.jupyter.widget-view+json": {
       "model_id": "def16c582c824ef984ec246e69aaf13f",
       "version_major": 2,
       "version_minor": 0
      },
      "text/plain": [
       "HBox(children=(Canvas(height=28, width=56),), layout=Layout(align_items='center', display='flex', flex_flow='r…"
      ]
     },
     "metadata": {},
     "output_type": "display_data"
    },
    {
     "name": "stdout",
     "output_type": "stream",
     "text": [
      "torch.Size([2, 1, 28, 28]) tensor([1, 1, 0])\n"
     ]
    },
    {
     "data": {
      "application/vnd.jupyter.widget-view+json": {
       "model_id": "dc96cd2bc3f14b0c86a6f6a467d918e9",
       "version_major": 2,
       "version_minor": 0
      },
      "text/plain": [
       "HBox(children=(Canvas(height=28, width=56),), layout=Layout(align_items='center', display='flex', flex_flow='r…"
      ]
     },
     "metadata": {},
     "output_type": "display_data"
    },
    {
     "name": "stdout",
     "output_type": "stream",
     "text": [
      "torch.Size([2, 1, 28, 28]) tensor([1, 0, 0])\n"
     ]
    },
    {
     "data": {
      "application/vnd.jupyter.widget-view+json": {
       "model_id": "01b813ecb4354d5d9d7a6c79730657de",
       "version_major": 2,
       "version_minor": 0
      },
      "text/plain": [
       "HBox(children=(Canvas(height=28, width=56),), layout=Layout(align_items='center', display='flex', flex_flow='r…"
      ]
     },
     "metadata": {},
     "output_type": "display_data"
    },
    {
     "name": "stdout",
     "output_type": "stream",
     "text": [
      "torch.Size([2, 1, 28, 28]) tensor([0, 0, 0])\n"
     ]
    },
    {
     "data": {
      "application/vnd.jupyter.widget-view+json": {
       "model_id": "7e7854c67c2c44d6bb2ebd97ede7c321",
       "version_major": 2,
       "version_minor": 0
      },
      "text/plain": [
       "HBox(children=(Canvas(height=28, width=56),), layout=Layout(align_items='center', display='flex', flex_flow='r…"
      ]
     },
     "metadata": {},
     "output_type": "display_data"
    },
    {
     "name": "stdout",
     "output_type": "stream",
     "text": [
      "torch.Size([2, 1, 28, 28]) tensor([0, 0, 0])\n"
     ]
    },
    {
     "data": {
      "application/vnd.jupyter.widget-view+json": {
       "model_id": "3b5afa58208846fbb2e0e0416b0e8cd7",
       "version_major": 2,
       "version_minor": 0
      },
      "text/plain": [
       "HBox(children=(Canvas(height=28, width=56),), layout=Layout(align_items='center', display='flex', flex_flow='r…"
      ]
     },
     "metadata": {},
     "output_type": "display_data"
    },
    {
     "name": "stdout",
     "output_type": "stream",
     "text": [
      "torch.Size([2, 1, 28, 28]) tensor([0, 0, 0])\n"
     ]
    },
    {
     "data": {
      "application/vnd.jupyter.widget-view+json": {
       "model_id": "8da6a43a8ada4322ae17a1b4394dc20a",
       "version_major": 2,
       "version_minor": 0
      },
      "text/plain": [
       "HBox(children=(Canvas(height=28, width=56),), layout=Layout(align_items='center', display='flex', flex_flow='r…"
      ]
     },
     "metadata": {},
     "output_type": "display_data"
    },
    {
     "name": "stdout",
     "output_type": "stream",
     "text": [
      "torch.Size([2, 1, 28, 28]) tensor([0, 0, 1])\n"
     ]
    },
    {
     "data": {
      "application/vnd.jupyter.widget-view+json": {
       "model_id": "00afd996e6e7467ba1e6d2440d2437a2",
       "version_major": 2,
       "version_minor": 0
      },
      "text/plain": [
       "HBox(children=(Canvas(height=28, width=56),), layout=Layout(align_items='center', display='flex', flex_flow='r…"
      ]
     },
     "metadata": {},
     "output_type": "display_data"
    },
    {
     "name": "stdout",
     "output_type": "stream",
     "text": [
      "torch.Size([2, 1, 28, 28]) tensor([0, 1, 1])\n"
     ]
    },
    {
     "data": {
      "application/vnd.jupyter.widget-view+json": {
       "model_id": "bc0859daf464488bb850da96f8ca681e",
       "version_major": 2,
       "version_minor": 0
      },
      "text/plain": [
       "HBox(children=(Canvas(height=28, width=56),), layout=Layout(align_items='center', display='flex', flex_flow='r…"
      ]
     },
     "metadata": {},
     "output_type": "display_data"
    },
    {
     "name": "stdout",
     "output_type": "stream",
     "text": [
      "torch.Size([2, 1, 28, 28]) tensor([1, 1, 1])\n"
     ]
    },
    {
     "data": {
      "application/vnd.jupyter.widget-view+json": {
       "model_id": "451b88bd6ac040798e381900ca602366",
       "version_major": 2,
       "version_minor": 0
      },
      "text/plain": [
       "HBox(children=(Canvas(height=28, width=56),), layout=Layout(align_items='center', display='flex', flex_flow='r…"
      ]
     },
     "metadata": {},
     "output_type": "display_data"
    },
    {
     "name": "stdout",
     "output_type": "stream",
     "text": [
      "torch.Size([2, 1, 28, 28]) tensor([1, 1, 0])\n"
     ]
    },
    {
     "data": {
      "application/vnd.jupyter.widget-view+json": {
       "model_id": "02b79b9ca4994001a0cbe2e738600e72",
       "version_major": 2,
       "version_minor": 0
      },
      "text/plain": [
       "HBox(children=(Canvas(height=28, width=56),), layout=Layout(align_items='center', display='flex', flex_flow='r…"
      ]
     },
     "metadata": {},
     "output_type": "display_data"
    },
    {
     "name": "stdout",
     "output_type": "stream",
     "text": [
      "torch.Size([2, 1, 28, 28]) tensor([1, 0, 0])\n"
     ]
    },
    {
     "data": {
      "application/vnd.jupyter.widget-view+json": {
       "model_id": "0cea1d267fbe4b6685a68004100007ac",
       "version_major": 2,
       "version_minor": 0
      },
      "text/plain": [
       "HBox(children=(Canvas(height=28, width=56),), layout=Layout(align_items='center', display='flex', flex_flow='r…"
      ]
     },
     "metadata": {},
     "output_type": "display_data"
    },
    {
     "name": "stdout",
     "output_type": "stream",
     "text": [
      "torch.Size([2, 1, 28, 28]) tensor([0, 0, 0])\n"
     ]
    },
    {
     "data": {
      "application/vnd.jupyter.widget-view+json": {
       "model_id": "d48a1257846548048bf22953de4bc3fb",
       "version_major": 2,
       "version_minor": 0
      },
      "text/plain": [
       "HBox(children=(Canvas(height=28, width=56),), layout=Layout(align_items='center', display='flex', flex_flow='r…"
      ]
     },
     "metadata": {},
     "output_type": "display_data"
    },
    {
     "name": "stdout",
     "output_type": "stream",
     "text": [
      "torch.Size([2, 1, 28, 28]) tensor([0, 0, 0])\n"
     ]
    },
    {
     "data": {
      "application/vnd.jupyter.widget-view+json": {
       "model_id": "10f6a2b5cef24687b843512ba75f9a30",
       "version_major": 2,
       "version_minor": 0
      },
      "text/plain": [
       "HBox(children=(Canvas(height=28, width=56),), layout=Layout(align_items='center', display='flex', flex_flow='r…"
      ]
     },
     "metadata": {},
     "output_type": "display_data"
    },
    {
     "name": "stdout",
     "output_type": "stream",
     "text": [
      "torch.Size([2, 1, 28, 28]) tensor([0, 0, 1])\n"
     ]
    },
    {
     "data": {
      "application/vnd.jupyter.widget-view+json": {
       "model_id": "5e9fd572badc449ebba1b06e76f2325e",
       "version_major": 2,
       "version_minor": 0
      },
      "text/plain": [
       "HBox(children=(Canvas(height=28, width=56),), layout=Layout(align_items='center', display='flex', flex_flow='r…"
      ]
     },
     "metadata": {},
     "output_type": "display_data"
    },
    {
     "name": "stdout",
     "output_type": "stream",
     "text": [
      "torch.Size([2, 1, 28, 28]) tensor([0, 1, 0])\n"
     ]
    },
    {
     "data": {
      "application/vnd.jupyter.widget-view+json": {
       "model_id": "d69ff43cabfa46db800bc2f89ee063e6",
       "version_major": 2,
       "version_minor": 0
      },
      "text/plain": [
       "HBox(children=(Canvas(height=28, width=56),), layout=Layout(align_items='center', display='flex', flex_flow='r…"
      ]
     },
     "metadata": {},
     "output_type": "display_data"
    },
    {
     "name": "stdout",
     "output_type": "stream",
     "text": [
      "torch.Size([2, 1, 28, 28]) tensor([1, 0, 1])\n"
     ]
    },
    {
     "data": {
      "application/vnd.jupyter.widget-view+json": {
       "model_id": "03d1f00b394d4aee9e7d9116a32b5222",
       "version_major": 2,
       "version_minor": 0
      },
      "text/plain": [
       "HBox(children=(Canvas(height=28, width=56),), layout=Layout(align_items='center', display='flex', flex_flow='r…"
      ]
     },
     "metadata": {},
     "output_type": "display_data"
    },
    {
     "name": "stdout",
     "output_type": "stream",
     "text": [
      "torch.Size([2, 1, 28, 28]) tensor([0, 1, 1])\n"
     ]
    }
   ],
   "source": [
    "import gymu\n",
    "import glob\n",
    "\n",
    "env = gymu.make(\"thesis/MNIST-v0\")\n",
    "iterator = gymu.iterator(env, mode=gymu.mode.sard, max_length=20)\n",
    "gymu.data.write_episode(iterator, path=f\"./MNIST-v0/ep-{0}\")\n",
    "episodes = glob.glob(\"./MNIST-v0/*.tar.gz\")\n",
    "dataset = gymu.data.dataset(episodes)\n",
    "dataset = dataset.decode(keep_meta=False)\n",
    "dataset = dataset.window(window_size=3, default='zeros_like')\n",
    "dataset = dataset.mask(state = slice(-1))\n",
    "dataset = dataset.numpy()\n",
    "dataset = dataset.mode(gymu.mode.sa)\n",
    "dataset = dataset.to_tensor_dataset(show_progress=True, order=['state', 'action'])\n",
    "\n",
    "import torch\n",
    "for s,a in iter(dataset):\n",
    "    print(type(s), type(a))\n",
    "#loader = DataLoader(dataset, batch_size=2)\n",
    "import jnu as J\n",
    "for x in iter(dataset):\n",
    "    s,a = x\n",
    "    J.image(torch.cat([*s], dim=-1))\n",
    "    print(s.shape, a)\n",
    "    #print(x['__key__'], x['__worker__'])"
   ]
  },
  {
   "cell_type": "code",
   "execution_count": null,
   "id": "13b2bfa4",
   "metadata": {},
   "outputs": [],
   "source": [
    "import torch\n",
    "import numpy as np\n",
    "torch.cat([[torch.zeros(10)], [torch.zeros(10)]])"
   ]
  },
  {
   "cell_type": "code",
   "execution_count": null,
   "id": "c054a60d",
   "metadata": {},
   "outputs": [],
   "source": [
    "np.array(np.zeros(10)).shape"
   ]
  },
  {
   "cell_type": "code",
   "execution_count": 52,
   "id": "3572d1ca",
   "metadata": {},
   "outputs": [
    {
     "name": "stdout",
     "output_type": "stream",
     "text": [
      "[('', '', '', '0')]\n",
      "[('', '', '', ''), ('', '', '', '')]\n",
      "[('1', '', '', ''), ('', '', '', '')]\n",
      "[('', '-1', '', ''), ('', '', '', '')]\n",
      "[('', '', '-1', ''), ('', '', '', '')]\n",
      "[('1', '', '-1', ''), ('', '', '', '')]\n",
      "[('1', '2', '', ''), ('', '', '', '')]\n",
      "[('1', '2', '-1', ''), ('', '', '', '')]\n",
      "[1, 2, -1]\n"
     ]
    }
   ],
   "source": [
    "import re\n",
    "\n",
    "pattern = re.compile(\"\\[(-?[0-9]*):(-?[0-9]*):?(-?[0-9]*)|(-?[0-9]*)\\]\")\n",
    "print(re.findall(pattern, \"[0]\"))\n",
    "print(re.findall(pattern, \"[:]\"))\n",
    "print(re.findall(pattern, \"[1:]\"))\n",
    "print(re.findall(pattern, \"[:-1]\"))\n",
    "print(re.findall(pattern, \"[::-1]\"))\n",
    "print(re.findall(pattern, \"[1::-1]\"))\n",
    "print(re.findall(pattern, \"[1:2]\"))\n",
    "print(re.findall(pattern, \"[1:2:-1]\"))\n",
    "\n",
    "\n",
    "s = [(int(x) if x != '' else None) for x in re.findall(pattern, \"[1:2:-1]\")[0]]\n",
    "s = s[-1] if s[-1] is not None else s[:3]\n",
    "print(s)"
   ]
  },
  {
   "cell_type": "code",
   "execution_count": null,
   "id": "ce8fbf07",
   "metadata": {},
   "outputs": [],
   "source": []
  }
 ],
 "metadata": {
  "kernelspec": {
   "display_name": "PhD",
   "language": "python",
   "name": "phd"
  },
  "language_info": {
   "codemirror_mode": {
    "name": "ipython",
    "version": 3
   },
   "file_extension": ".py",
   "mimetype": "text/x-python",
   "name": "python",
   "nbconvert_exporter": "python",
   "pygments_lexer": "ipython3",
   "version": "3.8.12"
  }
 },
 "nbformat": 4,
 "nbformat_minor": 5
}
