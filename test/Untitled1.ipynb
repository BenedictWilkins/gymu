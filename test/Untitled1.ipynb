{
 "cells": [
  {
   "cell_type": "code",
   "execution_count": 1,
   "metadata": {
    "scrolled": false
   },
   "outputs": [
    {
     "name": "stdout",
     "output_type": "stream",
     "text": [
      "(210, 160, 3)\n",
      "<Numpy<TimeLimit<AtariEnv<PongNoFrameskip-v4>>>>\n",
      "<class 'slice'>\n"
     ]
    }
   ],
   "source": [
    "import numpy as np\n",
    "\n",
    "import gymu\n",
    "import jnu as J\n",
    "\n",
    "def show(env):\n",
    "    print(env)\n",
    "    print(env.observation_space, env.action_space)\n",
    "    J.images(*gymu.episode(env), scale=3)\n",
    "    \n",
    "    \n",
    "env = gymu.make(\"PongNoFrameskip-v4\")\n",
    "#env = gymu.wrappers.image(env)\n",
    "\n",
    "\n",
    "#show(env.grey()) # gray scale\n",
    "#show((env.grey() > 100).astype(np.float32)) # binary\n",
    "#show(env.resize(84,84,3).astype(np.uint8))\n",
    "\n",
    "#env = gymu.wrappers.Stack(env, 3, dim=2)\n",
    "\n",
    "print(env.observation_space.shape)\n",
    "\n",
    "#atari = gymu.wrappers.atari.wrap_atari(env,frame_stack=3)\n",
    "#show(atari)\n",
    "\n",
    "wrap = gymu.wrappers.Temporal(env)\n",
    "print(wrap)\n",
    "\n",
    "\n",
    "wrap[:1]"
   ]
  },
  {
   "cell_type": "code",
   "execution_count": null,
   "metadata": {},
   "outputs": [],
   "source": []
  },
  {
   "cell_type": "code",
   "execution_count": null,
   "metadata": {},
   "outputs": [],
   "source": []
  }
 ],
 "metadata": {
  "kernelspec": {
   "display_name": "PhD",
   "language": "python",
   "name": "phd"
  },
  "language_info": {
   "codemirror_mode": {
    "name": "ipython",
    "version": 3
   },
   "file_extension": ".py",
   "mimetype": "text/x-python",
   "name": "python",
   "nbconvert_exporter": "python",
   "pygments_lexer": "ipython3",
   "version": "3.8.2"
  }
 },
 "nbformat": 4,
 "nbformat_minor": 4
}
