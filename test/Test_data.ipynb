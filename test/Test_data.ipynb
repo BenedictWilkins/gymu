{
 "cells": [
  {
   "cell_type": "code",
   "execution_count": 1,
   "id": "8f212bd7",
   "metadata": {},
   "outputs": [
    {
     "data": {
      "application/vnd.jupyter.widget-view+json": {
       "model_id": "7ca3a915ab92401780bfc234a722b393",
       "version_major": 2,
       "version_minor": 0
      },
      "text/plain": [
       "0it [00:00, ?it/s]"
      ]
     },
     "metadata": {},
     "output_type": "display_data"
    },
    {
     "data": {
      "application/vnd.jupyter.widget-view+json": {
       "model_id": "490e3d2adbb74b77af9e82c2442b422d",
       "version_major": 2,
       "version_minor": 0
      },
      "text/plain": [
       "0it [00:00, ?it/s]"
      ]
     },
     "metadata": {},
     "output_type": "display_data"
    },
    {
     "ename": "KeyError",
     "evalue": "'next_state'",
     "output_type": "error",
     "traceback": [
      "\u001b[0;31m---------------------------------------------------------------------------\u001b[0m",
      "\u001b[0;31mKeyError\u001b[0m                                  Traceback (most recent call last)",
      "Input \u001b[0;32mIn [1]\u001b[0m, in \u001b[0;36m<module>\u001b[0;34m\u001b[0m\n\u001b[1;32m     22\u001b[0m dataset \u001b[38;5;241m=\u001b[39m dataset\u001b[38;5;241m.\u001b[39mmap(cat)\n\u001b[1;32m     23\u001b[0m dataset \u001b[38;5;241m=\u001b[39m dataset\u001b[38;5;241m.\u001b[39mthen(gymu\u001b[38;5;241m.\u001b[39mdata\u001b[38;5;241m.\u001b[39mComposable\u001b[38;5;241m.\u001b[39mmode(gymu\u001b[38;5;241m.\u001b[39mmode\u001b[38;5;241m.\u001b[39msa))\n\u001b[0;32m---> 25\u001b[0m J\u001b[38;5;241m.\u001b[39mimages([x\u001b[38;5;241m.\u001b[39mstate \u001b[38;5;28;01mfor\u001b[39;00m x \u001b[38;5;129;01min\u001b[39;00m dataset])\n",
      "Input \u001b[0;32mIn [1]\u001b[0m, in \u001b[0;36m<listcomp>\u001b[0;34m(.0)\u001b[0m\n\u001b[1;32m     22\u001b[0m dataset \u001b[38;5;241m=\u001b[39m dataset\u001b[38;5;241m.\u001b[39mmap(cat)\n\u001b[1;32m     23\u001b[0m dataset \u001b[38;5;241m=\u001b[39m dataset\u001b[38;5;241m.\u001b[39mthen(gymu\u001b[38;5;241m.\u001b[39mdata\u001b[38;5;241m.\u001b[39mComposable\u001b[38;5;241m.\u001b[39mmode(gymu\u001b[38;5;241m.\u001b[39mmode\u001b[38;5;241m.\u001b[39msa))\n\u001b[0;32m---> 25\u001b[0m J\u001b[38;5;241m.\u001b[39mimages([x\u001b[38;5;241m.\u001b[39mstate \u001b[38;5;28;01mfor\u001b[39;00m x \u001b[38;5;129;01min\u001b[39;00m dataset])\n",
      "File \u001b[0;32m~/Documents/repos/gymu/gymu/data/_torch/_tar.py:63\u001b[0m, in \u001b[0;36mComposable.mode.<locals>._mode_without_next_state\u001b[0;34m(source)\u001b[0m\n\u001b[1;32m     62\u001b[0m \u001b[38;5;28;01mdef\u001b[39;00m \u001b[38;5;21m_mode_without_next_state\u001b[39m(source):\n\u001b[0;32m---> 63\u001b[0m     \u001b[38;5;28;01mfor\u001b[39;00m x \u001b[38;5;129;01min\u001b[39;00m source:\n\u001b[1;32m     64\u001b[0m         x \u001b[38;5;241m=\u001b[39m {k:v \u001b[38;5;28;01mfor\u001b[39;00m k,v \u001b[38;5;129;01min\u001b[39;00m x\u001b[38;5;241m.\u001b[39mitems() \u001b[38;5;28;01mif\u001b[39;00m k \u001b[38;5;129;01min\u001b[39;00m mode\u001b[38;5;241m.\u001b[39mkeys()}\n\u001b[1;32m     65\u001b[0m         \u001b[38;5;28;01myield\u001b[39;00m mode(\u001b[38;5;241m*\u001b[39m\u001b[38;5;241m*\u001b[39mx)\n",
      "File \u001b[0;32m~/anaconda3/envs/PhD/lib/python3.8/site-packages/webdataset/iterators.py:234\u001b[0m, in \u001b[0;36mmap\u001b[0;34m(data, f, handler)\u001b[0m\n\u001b[1;32m    232\u001b[0m \u001b[38;5;28;01mdef\u001b[39;00m \u001b[38;5;21mmap\u001b[39m(data, f, handler\u001b[38;5;241m=\u001b[39mreraise_exception):\n\u001b[1;32m    233\u001b[0m     \u001b[38;5;124;03m\"\"\"Map samples.\"\"\"\u001b[39;00m\n\u001b[0;32m--> 234\u001b[0m     \u001b[38;5;28;01mfor\u001b[39;00m sample \u001b[38;5;129;01min\u001b[39;00m data:\n\u001b[1;32m    235\u001b[0m         \u001b[38;5;28;01mtry\u001b[39;00m:\n\u001b[1;32m    236\u001b[0m             result \u001b[38;5;241m=\u001b[39m f(sample)\n",
      "File \u001b[0;32m~/Documents/repos/gymu/gymu/data/_torch/_tar.py:95\u001b[0m, in \u001b[0;36mComposable.window.<locals>._window\u001b[0;34m(source)\u001b[0m\n\u001b[1;32m     93\u001b[0m \u001b[38;5;28;01mdef\u001b[39;00m \u001b[38;5;21m_window\u001b[39m(source):\n\u001b[1;32m     94\u001b[0m     iterator \u001b[38;5;241m=\u001b[39m windowed(source, window_size)\n\u001b[0;32m---> 95\u001b[0m     \u001b[38;5;28;01mfor\u001b[39;00m x \u001b[38;5;129;01min\u001b[39;00m iterator:\n\u001b[1;32m     96\u001b[0m         k \u001b[38;5;241m=\u001b[39m x[\u001b[38;5;241m0\u001b[39m]\u001b[38;5;241m.\u001b[39mkeys()\n\u001b[1;32m     97\u001b[0m         \u001b[38;5;28mprint\u001b[39m([z[\u001b[38;5;124m'\u001b[39m\u001b[38;5;124m__key__\u001b[39m\u001b[38;5;124m'\u001b[39m] \u001b[38;5;28;01mfor\u001b[39;00m z \u001b[38;5;129;01min\u001b[39;00m x])\n",
      "File \u001b[0;32m~/anaconda3/envs/PhD/lib/python3.8/site-packages/more_itertools/more.py:869\u001b[0m, in \u001b[0;36mwindowed\u001b[0;34m(seq, n, fillvalue, step)\u001b[0m\n\u001b[1;32m    867\u001b[0m window \u001b[38;5;241m=\u001b[39m deque(maxlen\u001b[38;5;241m=\u001b[39mn)\n\u001b[1;32m    868\u001b[0m i \u001b[38;5;241m=\u001b[39m n\n\u001b[0;32m--> 869\u001b[0m \u001b[38;5;28;01mfor\u001b[39;00m _ \u001b[38;5;129;01min\u001b[39;00m \u001b[38;5;28mmap\u001b[39m(window\u001b[38;5;241m.\u001b[39mappend, seq):\n\u001b[1;32m    870\u001b[0m     i \u001b[38;5;241m-\u001b[39m\u001b[38;5;241m=\u001b[39m \u001b[38;5;241m1\u001b[39m\n\u001b[1;32m    871\u001b[0m     \u001b[38;5;28;01mif\u001b[39;00m \u001b[38;5;129;01mnot\u001b[39;00m i:\n",
      "File \u001b[0;32m~/Documents/repos/gymu/gymu/data/_torch/_tar.py:87\u001b[0m, in \u001b[0;36mComposable.keep.<locals>._keep\u001b[0;34m(source)\u001b[0m\n\u001b[1;32m     85\u001b[0m \u001b[38;5;28;01mdef\u001b[39;00m \u001b[38;5;21m_keep\u001b[39m(source):\n\u001b[1;32m     86\u001b[0m     \u001b[38;5;28;01mfor\u001b[39;00m x \u001b[38;5;129;01min\u001b[39;00m source:\n\u001b[0;32m---> 87\u001b[0m         \u001b[38;5;28;01myield\u001b[39;00m {k:x[k] \u001b[38;5;28;01mfor\u001b[39;00m k \u001b[38;5;129;01min\u001b[39;00m keys}\n",
      "File \u001b[0;32m~/Documents/repos/gymu/gymu/data/_torch/_tar.py:87\u001b[0m, in \u001b[0;36m<dictcomp>\u001b[0;34m(.0)\u001b[0m\n\u001b[1;32m     85\u001b[0m \u001b[38;5;28;01mdef\u001b[39;00m \u001b[38;5;21m_keep\u001b[39m(source):\n\u001b[1;32m     86\u001b[0m     \u001b[38;5;28;01mfor\u001b[39;00m x \u001b[38;5;129;01min\u001b[39;00m source:\n\u001b[0;32m---> 87\u001b[0m         \u001b[38;5;28;01myield\u001b[39;00m {k:\u001b[43mx\u001b[49m\u001b[43m[\u001b[49m\u001b[43mk\u001b[49m\u001b[43m]\u001b[49m \u001b[38;5;28;01mfor\u001b[39;00m k \u001b[38;5;129;01min\u001b[39;00m keys}\n",
      "\u001b[0;31mKeyError\u001b[0m: 'next_state'"
     ]
    }
   ],
   "source": [
    "import glob\n",
    "import numpy as np\n",
    "import gymu\n",
    "from gymu.data import Composable\n",
    "import gym_pygame\n",
    "import jnu as J\n",
    "\n",
    "\n",
    "env = gymu.make(\"Alone-v0\")\n",
    "iterator = gymu.iterator(env, mode=gymu.mode.sard, max_length=20)\n",
    "gymu.data.write_episode(iterator, path=\"Alone-v0/ep-0.tar.gz\")\n",
    "gymu.data.write_episode(iterator, path=\"Alone-v0/ep-1.tar.gz\")\n",
    "\n",
    "episodes = glob.glob(\"./Alone-v0/*.tar.gz\")\n",
    "dataset = gymu.data.dataset(episodes).then(Composable.decode())\n",
    "dataset = dataset.then(gymu.data.Composable.keep())\n",
    "dataset = dataset.then(gymu.data.Composable.window(window_size=3))\n",
    "\n",
    "def cat(x):\n",
    "    x['state'] = np.concatenate([*x['state']], axis=-1)\n",
    "    return x\n",
    "dataset = dataset.map(cat)\n",
    "dataset = dataset.then(gymu.data.Composable.mode(gymu.mode.sa))\n",
    "\n",
    "J.images([x.state for x in dataset])\n",
    "    \n",
    "    \n",
    "\n",
    "\n",
    "\n"
   ]
  },
  {
   "cell_type": "code",
   "execution_count": null,
   "id": "3707a3e9",
   "metadata": {},
   "outputs": [],
   "source": [
    "\n",
    "from gymu.utils import overload\n",
    "\n",
    "@overload\n",
    "def f():\n",
    "    pass\n",
    "\n",
    "@f.args(int, int)\n",
    "def f(x, y):\n",
    "    print('two integers')\n",
    "\n",
    "@f.args(float)\n",
    "def f(x):\n",
    "    print('one float')\n",
    "\n",
    "    \n",
    "print(f.cases)\n",
    "f(1.)\n",
    "f(1,1)"
   ]
  },
  {
   "cell_type": "code",
   "execution_count": null,
   "id": "936cbd67",
   "metadata": {},
   "outputs": [],
   "source": [
    "from more_itertools import pairwise\n",
    "\n",
    "\n",
    "iterator = pairwise([1,2,3,4,5])\n",
    "\n",
    "x = next(iterator)\n",
    "for x in iterator:\n",
    "    print(x)\n"
   ]
  },
  {
   "cell_type": "code",
   "execution_count": null,
   "id": "71d5d8bf",
   "metadata": {},
   "outputs": [],
   "source": [
    "import gymu\n",
    "import jnu as J\n",
    "import numpy as np\n",
    "\n",
    "dataset = gymu.data.dataset([\"./NORMAL-300k/ep-0000.tar.gz\",\"./NORMAL-300k/ep-0000.tar.gz\"]).then(gymu.data.Composable.decode())\n",
    "dataset = dataset.then(gymu.data.Composable.mode(gymu.mode.sas))\n",
    "\n",
    "s = [np.concatenate([x.state, (x.next_state if x.next_state is not None else np.zeros_like(x.state))], axis=-1) for x in dataset]\n",
    " \n",
    "\n",
    "\n",
    "    "
   ]
  },
  {
   "cell_type": "code",
   "execution_count": null,
   "id": "cc37498b",
   "metadata": {},
   "outputs": [],
   "source": [
    "J.images(s, scale=3)"
   ]
  },
  {
   "cell_type": "code",
   "execution_count": null,
   "id": "a9c182e3",
   "metadata": {
    "scrolled": false
   },
   "outputs": [],
   "source": [
    "import glob\n",
    "import numpy as np\n",
    "import gymu\n",
    "from gymu.data import Composable\n",
    "import gym_pygame\n",
    "import jnu as J\n",
    "\n",
    "\n",
    "env = gymu.make(\"Alone-v0\")\n",
    "iterator = gymu.iterator(env, mode=gymu.mode.sard, max_length=20)\n",
    "gymu.data.write_episode(iterator, path=\"Alone-v0/ep-0.tar.gz\")\n",
    "gymu.data.write_episode(iterator, path=\"Alone-v0/ep-1.tar.gz\")\n",
    "\n",
    "episodes = glob.glob(\"./Alone-v0/*.tar.gz\")\n",
    "dataset = gymu.data.dataset(episodes).then(Composable.decode())\n",
    "dataset = dataset.then(gymu.data.Composable.mode(gymu.mode.sas, ignore_last=False))\n",
    "\n",
    "s = [np.concatenate([x.state, (x.next_state if x.next_state is not None else np.zeros_like(x.state))], axis=-1) for x in dataset]\n",
    "J.images(s)      \n",
    "\n",
    "\n",
    "\n",
    "\n",
    "\n",
    "\n"
   ]
  },
  {
   "cell_type": "code",
   "execution_count": null,
   "id": "b39fca24",
   "metadata": {
    "scrolled": false
   },
   "outputs": [],
   "source": [
    "import jnu as J\n",
    "import itertools\n",
    "import gymu\n",
    "import glob\n",
    "from gymu.data import Composable\n",
    "\n",
    "\n",
    "from torch.utils.data import DataLoader\n",
    "\n",
    "\n",
    "\n",
    "            \n",
    "            \n",
    "\n",
    "episodes = glob.glob(\"./NORMAL-300k/*.tar.gz\")\n",
    "\n",
    "dataset = gymu.data.dataset(episodes)\n",
    "dataset = dataset.then(Composable.mode(gymu.mode.sa))\n",
    "dataset = dataset.shuffle(256).batched(256)\n",
    "loader = DataLoader(dataset, batch_size=None, num_workers=12, prefetch_factor=16)\n",
    "\n",
    "for (s, a) in loader:\n",
    "    print(s.shape, a.shape)"
   ]
  },
  {
   "cell_type": "code",
   "execution_count": null,
   "id": "5748134d",
   "metadata": {},
   "outputs": [],
   "source": []
  }
 ],
 "metadata": {
  "kernelspec": {
   "display_name": "Python 3 (ipykernel)",
   "language": "python",
   "name": "python3"
  },
  "language_info": {
   "codemirror_mode": {
    "name": "ipython",
    "version": 3
   },
   "file_extension": ".py",
   "mimetype": "text/x-python",
   "name": "python",
   "nbconvert_exporter": "python",
   "pygments_lexer": "ipython3",
   "version": "3.8.12"
  }
 },
 "nbformat": 4,
 "nbformat_minor": 5
}
