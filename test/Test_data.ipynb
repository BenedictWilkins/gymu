{
 "cells": [
  {
   "cell_type": "code",
   "execution_count": null,
   "id": "01d8c05b",
   "metadata": {},
   "outputs": [],
   "source": [
    "\n",
    "from gymu.utils import overload\n",
    "\n",
    "@overload\n",
    "def f():\n",
    "    pass\n",
    "\n",
    "@f.args(int, int)\n",
    "def f(x, y):\n",
    "    print('two integers')\n",
    "\n",
    "@f.args(float)\n",
    "def f(x):\n",
    "    print('one float')\n",
    "\n",
    "    \n",
    "print(f.cases)\n",
    "f(1.)\n",
    "f(1,1)"
   ]
  },
  {
   "cell_type": "code",
   "execution_count": 5,
   "id": "b237f856",
   "metadata": {
    "scrolled": false
   },
   "outputs": [
    {
     "data": {
      "application/vnd.jupyter.widget-view+json": {
       "model_id": "ea25ceb6e5c84f7cae34a05e8e694a96",
       "version_major": 2,
       "version_minor": 0
      },
      "text/plain": [
       "0it [00:00, ?it/s]"
      ]
     },
     "metadata": {},
     "output_type": "display_data"
    },
    {
     "data": {
      "application/vnd.jupyter.widget-view+json": {
       "model_id": "b6870411864e41409ebf2253aef9e64b",
       "version_major": 2,
       "version_minor": 0
      },
      "text/plain": [
       "0it [00:00, ?it/s]"
      ]
     },
     "metadata": {},
     "output_type": "display_data"
    },
    {
     "name": "stdout",
     "output_type": "stream",
     "text": [
      "False\n",
      "False\n",
      "False\n",
      "False\n",
      "False\n",
      "False\n",
      "False\n",
      "False\n",
      "False\n",
      "True\n",
      "False\n",
      "False\n",
      "False\n",
      "False\n",
      "False\n",
      "False\n",
      "False\n",
      "False\n",
      "False\n",
      "True\n"
     ]
    }
   ],
   "source": [
    "import glob\n",
    "import numpy as np\n",
    "import gymu\n",
    "from gymu.data import Composable\n",
    "import gym_pygame\n",
    "import jnu as J\n",
    "\n",
    "\n",
    "env = gymu.make(\"Alone-v0\")\n",
    "iterator = gymu.iterator(env, mode=gymu.mode.sard, max_length=10)\n",
    "gymu.data.write_episode(iterator, path=\"Alone-v0/ep-0.tar.gz\")\n",
    "gymu.data.write_episode(iterator, path=\"Alone-v0/ep-1.tar.gz\")\n",
    "\n",
    "episodes = glob.glob(\"./Alone-v0/*.tar.gz\")\n",
    "dataset = gymu.data.dataset(episodes).then(Composable.decode())\n",
    "#dataset = dataset.then(gymu.data.Composable.mode(gymu.mode.sasd))\n",
    "\n",
    "for x in dataset:\n",
    "    #print(x.keys())\n",
    "    print(x['done'])\n",
    "\n",
    "\n",
    "#s = [np.concatenate([x.state, x.next_state], axis=-1) for x in dataset]\n",
    "#J.images(s)              "
   ]
  },
  {
   "cell_type": "code",
   "execution_count": null,
   "id": "befc9b48",
   "metadata": {
    "scrolled": false
   },
   "outputs": [],
   "source": [
    "import jnu as J\n",
    "import itertools\n",
    "import gymu\n",
    "import glob\n",
    "from gymu.data import Composable\n",
    "\n",
    "\n",
    "from torch.utils.data import DataLoader\n",
    "\n",
    "\n",
    "\n",
    "            \n",
    "            \n",
    "\n",
    "episodes = glob.glob(\"./NORMAL-300k/*.tar.gz\")\n",
    "\n",
    "dataset = gymu.data.dataset(episodes)\n",
    "dataset = dataset.then(Composable.mode(gymu.mode.sa))\n",
    "dataset = dataset.shuffle(256).batched(256)\n",
    "loader = DataLoader(dataset, batch_size=None, num_workers=12, prefetch_factor=16)\n",
    "\n",
    "for (s, a) in loader:\n",
    "    print(s.shape, a.shape)"
   ]
  },
  {
   "cell_type": "code",
   "execution_count": null,
   "id": "0b8b0174",
   "metadata": {},
   "outputs": [],
   "source": []
  }
 ],
 "metadata": {
  "kernelspec": {
   "display_name": "Python 3 (ipykernel)",
   "language": "python",
   "name": "python3"
  },
  "language_info": {
   "codemirror_mode": {
    "name": "ipython",
    "version": 3
   },
   "file_extension": ".py",
   "mimetype": "text/x-python",
   "name": "python",
   "nbconvert_exporter": "python",
   "pygments_lexer": "ipython3",
   "version": "3.8.12"
  }
 },
 "nbformat": 4,
 "nbformat_minor": 5
}
