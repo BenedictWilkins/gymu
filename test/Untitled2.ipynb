{
 "cells": [
  {
   "cell_type": "code",
   "execution_count": 10,
   "id": "02bd3fd4",
   "metadata": {
    "scrolled": false
   },
   "outputs": [
    {
     "data": {
      "application/vnd.jupyter.widget-view+json": {
       "model_id": "da44a5060fcf442184174dcb1d7b2a68",
       "version_major": 2,
       "version_minor": 0
      },
      "text/plain": [
       "  0%|          | 0/10 [00:00<?, ?it/s]"
      ]
     },
     "metadata": {},
     "output_type": "display_data"
    },
    {
     "name": "stdout",
     "output_type": "stream",
     "text": [
      "/home/ben/Documents/repos/world-of-bugs-experiments/dataset/TEST/ScreenTear.hdf5\n",
      "SAVING EP, ep-0000, ScreenTear\n"
     ]
    },
    {
     "data": {
      "application/vnd.jupyter.widget-view+json": {
       "model_id": "89544d4b706745b7951f9bb4ebee45bd",
       "version_major": 2,
       "version_minor": 0
      },
      "text/plain": [
       "0it [00:00, ?it/s]"
      ]
     },
     "metadata": {},
     "output_type": "display_data"
    },
    {
     "name": "stdout",
     "output_type": "stream",
     "text": [
      "SAVING EP, ep-0001, ScreenTear\n"
     ]
    },
    {
     "data": {
      "application/vnd.jupyter.widget-view+json": {
       "model_id": "4058431cf7e54ca28cb5205e3d4dcf8c",
       "version_major": 2,
       "version_minor": 0
      },
      "text/plain": [
       "0it [00:00, ?it/s]"
      ]
     },
     "metadata": {},
     "output_type": "display_data"
    },
    {
     "name": "stdout",
     "output_type": "stream",
     "text": [
      "SAVING EP, ep-0002, ScreenTear\n"
     ]
    },
    {
     "data": {
      "application/vnd.jupyter.widget-view+json": {
       "model_id": "5fad25b16c9e4c0fb0a64eda5460b1f0",
       "version_major": 2,
       "version_minor": 0
      },
      "text/plain": [
       "0it [00:00, ?it/s]"
      ]
     },
     "metadata": {},
     "output_type": "display_data"
    },
    {
     "name": "stdout",
     "output_type": "stream",
     "text": [
      "SAVING EP, ep-0003, ScreenTear\n"
     ]
    },
    {
     "data": {
      "application/vnd.jupyter.widget-view+json": {
       "model_id": "f7d659bf1540457aba12f4b8ae6e33c2",
       "version_major": 2,
       "version_minor": 0
      },
      "text/plain": [
       "0it [00:00, ?it/s]"
      ]
     },
     "metadata": {},
     "output_type": "display_data"
    },
    {
     "name": "stdout",
     "output_type": "stream",
     "text": [
      "SAVING EP, ep-0004, ScreenTear\n"
     ]
    },
    {
     "data": {
      "application/vnd.jupyter.widget-view+json": {
       "model_id": "f3adcd688fea41df81616cdcde683a46",
       "version_major": 2,
       "version_minor": 0
      },
      "text/plain": [
       "0it [00:00, ?it/s]"
      ]
     },
     "metadata": {},
     "output_type": "display_data"
    },
    {
     "name": "stdout",
     "output_type": "stream",
     "text": [
      "SAVING EP, ep-0005, ScreenTear\n"
     ]
    },
    {
     "data": {
      "application/vnd.jupyter.widget-view+json": {
       "model_id": "78dde28526254db6bfe1e1610d3ed751",
       "version_major": 2,
       "version_minor": 0
      },
      "text/plain": [
       "0it [00:00, ?it/s]"
      ]
     },
     "metadata": {},
     "output_type": "display_data"
    },
    {
     "name": "stdout",
     "output_type": "stream",
     "text": [
      "SAVING EP, ep-0006, ScreenTear\n"
     ]
    },
    {
     "data": {
      "application/vnd.jupyter.widget-view+json": {
       "model_id": "59bb47b4ad844e05864b39a5e6a8029b",
       "version_major": 2,
       "version_minor": 0
      },
      "text/plain": [
       "0it [00:00, ?it/s]"
      ]
     },
     "metadata": {},
     "output_type": "display_data"
    },
    {
     "name": "stdout",
     "output_type": "stream",
     "text": [
      "SAVING EP, ep-0007, ScreenTear\n"
     ]
    },
    {
     "data": {
      "application/vnd.jupyter.widget-view+json": {
       "model_id": "d25d8a5a44e84ddd8a60bd8661ccc1a3",
       "version_major": 2,
       "version_minor": 0
      },
      "text/plain": [
       "0it [00:00, ?it/s]"
      ]
     },
     "metadata": {},
     "output_type": "display_data"
    },
    {
     "name": "stdout",
     "output_type": "stream",
     "text": [
      "SAVING EP, ep-0008, ScreenTear\n"
     ]
    },
    {
     "data": {
      "application/vnd.jupyter.widget-view+json": {
       "model_id": "23da81897d9343e3a2075a0016c267b0",
       "version_major": 2,
       "version_minor": 0
      },
      "text/plain": [
       "0it [00:00, ?it/s]"
      ]
     },
     "metadata": {},
     "output_type": "display_data"
    },
    {
     "name": "stdout",
     "output_type": "stream",
     "text": [
      "SAVING EP, ep-0009, ScreenTear\n"
     ]
    },
    {
     "data": {
      "application/vnd.jupyter.widget-view+json": {
       "model_id": "1d652362613b447b9fb2d7e0431f2a5f",
       "version_major": 2,
       "version_minor": 0
      },
      "text/plain": [
       "0it [00:00, ?it/s]"
      ]
     },
     "metadata": {},
     "output_type": "display_data"
    },
    {
     "name": "stdout",
     "output_type": "stream",
     "text": [
      "/home/ben/Documents/repos/world-of-bugs-experiments/dataset/TEST/GeometryCorruption.hdf5\n",
      "SAVING EP, ep-0000, GeometryCorruption\n"
     ]
    },
    {
     "data": {
      "application/vnd.jupyter.widget-view+json": {
       "model_id": "0d9c240a863d445e89d0e75b7a7ffe47",
       "version_major": 2,
       "version_minor": 0
      },
      "text/plain": [
       "0it [00:00, ?it/s]"
      ]
     },
     "metadata": {},
     "output_type": "display_data"
    },
    {
     "name": "stdout",
     "output_type": "stream",
     "text": [
      "SAVING EP, ep-0001, GeometryCorruption\n"
     ]
    },
    {
     "data": {
      "application/vnd.jupyter.widget-view+json": {
       "model_id": "b9b4f7be39da4a33b5d1942e6785ead4",
       "version_major": 2,
       "version_minor": 0
      },
      "text/plain": [
       "0it [00:00, ?it/s]"
      ]
     },
     "metadata": {},
     "output_type": "display_data"
    },
    {
     "name": "stdout",
     "output_type": "stream",
     "text": [
      "SAVING EP, ep-0002, GeometryCorruption\n"
     ]
    },
    {
     "data": {
      "application/vnd.jupyter.widget-view+json": {
       "model_id": "b28402abbcf8429cbc00c83117dbd1f5",
       "version_major": 2,
       "version_minor": 0
      },
      "text/plain": [
       "0it [00:00, ?it/s]"
      ]
     },
     "metadata": {},
     "output_type": "display_data"
    },
    {
     "name": "stdout",
     "output_type": "stream",
     "text": [
      "SAVING EP, ep-0003, GeometryCorruption\n"
     ]
    },
    {
     "data": {
      "application/vnd.jupyter.widget-view+json": {
       "model_id": "050edf543f9344c6b105619e96e7dbe1",
       "version_major": 2,
       "version_minor": 0
      },
      "text/plain": [
       "0it [00:00, ?it/s]"
      ]
     },
     "metadata": {},
     "output_type": "display_data"
    },
    {
     "name": "stdout",
     "output_type": "stream",
     "text": [
      "SAVING EP, ep-0004, GeometryCorruption\n"
     ]
    },
    {
     "data": {
      "application/vnd.jupyter.widget-view+json": {
       "model_id": "c923e78f9b964fe3ac465abd3bf6d491",
       "version_major": 2,
       "version_minor": 0
      },
      "text/plain": [
       "0it [00:00, ?it/s]"
      ]
     },
     "metadata": {},
     "output_type": "display_data"
    },
    {
     "name": "stdout",
     "output_type": "stream",
     "text": [
      "SAVING EP, ep-0005, GeometryCorruption\n"
     ]
    },
    {
     "data": {
      "application/vnd.jupyter.widget-view+json": {
       "model_id": "5d76fe8b015b453c95fc75fe974770de",
       "version_major": 2,
       "version_minor": 0
      },
      "text/plain": [
       "0it [00:00, ?it/s]"
      ]
     },
     "metadata": {},
     "output_type": "display_data"
    },
    {
     "name": "stdout",
     "output_type": "stream",
     "text": [
      "SAVING EP, ep-0006, GeometryCorruption\n"
     ]
    },
    {
     "data": {
      "application/vnd.jupyter.widget-view+json": {
       "model_id": "c7aace198f984a9aa2c72d57f22057a9",
       "version_major": 2,
       "version_minor": 0
      },
      "text/plain": [
       "0it [00:00, ?it/s]"
      ]
     },
     "metadata": {},
     "output_type": "display_data"
    },
    {
     "name": "stdout",
     "output_type": "stream",
     "text": [
      "SAVING EP, ep-0007, GeometryCorruption\n"
     ]
    },
    {
     "data": {
      "application/vnd.jupyter.widget-view+json": {
       "model_id": "4df50e3d097a46eab33469bb06047579",
       "version_major": 2,
       "version_minor": 0
      },
      "text/plain": [
       "0it [00:00, ?it/s]"
      ]
     },
     "metadata": {},
     "output_type": "display_data"
    },
    {
     "name": "stdout",
     "output_type": "stream",
     "text": [
      "SAVING EP, ep-0008, GeometryCorruption\n"
     ]
    },
    {
     "data": {
      "application/vnd.jupyter.widget-view+json": {
       "model_id": "5d9d26cb554343578e2f99e17a8a0e9c",
       "version_major": 2,
       "version_minor": 0
      },
      "text/plain": [
       "0it [00:00, ?it/s]"
      ]
     },
     "metadata": {},
     "output_type": "display_data"
    },
    {
     "name": "stdout",
     "output_type": "stream",
     "text": [
      "SAVING EP, ep-0009, GeometryCorruption\n"
     ]
    },
    {
     "data": {
      "application/vnd.jupyter.widget-view+json": {
       "model_id": "cf1ab2878ed14353a03722b49c921a41",
       "version_major": 2,
       "version_minor": 0
      },
      "text/plain": [
       "0it [00:00, ?it/s]"
      ]
     },
     "metadata": {},
     "output_type": "display_data"
    },
    {
     "name": "stdout",
     "output_type": "stream",
     "text": [
      "/home/ben/Documents/repos/world-of-bugs-experiments/dataset/TEST/CameraClipping.hdf5\n",
      "SAVING EP, ep-0000, CameraClipping\n"
     ]
    },
    {
     "data": {
      "application/vnd.jupyter.widget-view+json": {
       "model_id": "efb25d080e4b447a92895c60d775ba41",
       "version_major": 2,
       "version_minor": 0
      },
      "text/plain": [
       "0it [00:00, ?it/s]"
      ]
     },
     "metadata": {},
     "output_type": "display_data"
    },
    {
     "name": "stdout",
     "output_type": "stream",
     "text": [
      "SAVING EP, ep-0001, CameraClipping\n"
     ]
    },
    {
     "data": {
      "application/vnd.jupyter.widget-view+json": {
       "model_id": "c37539e7ec54419da04ae64e18e8bc22",
       "version_major": 2,
       "version_minor": 0
      },
      "text/plain": [
       "0it [00:00, ?it/s]"
      ]
     },
     "metadata": {},
     "output_type": "display_data"
    },
    {
     "name": "stdout",
     "output_type": "stream",
     "text": [
      "SAVING EP, ep-0002, CameraClipping\n"
     ]
    },
    {
     "data": {
      "application/vnd.jupyter.widget-view+json": {
       "model_id": "17501e7baace486f99cd56d876607fb1",
       "version_major": 2,
       "version_minor": 0
      },
      "text/plain": [
       "0it [00:00, ?it/s]"
      ]
     },
     "metadata": {},
     "output_type": "display_data"
    },
    {
     "name": "stdout",
     "output_type": "stream",
     "text": [
      "SAVING EP, ep-0003, CameraClipping\n"
     ]
    },
    {
     "data": {
      "application/vnd.jupyter.widget-view+json": {
       "model_id": "5788a1667d2244b48ba3a10f60574646",
       "version_major": 2,
       "version_minor": 0
      },
      "text/plain": [
       "0it [00:00, ?it/s]"
      ]
     },
     "metadata": {},
     "output_type": "display_data"
    },
    {
     "name": "stdout",
     "output_type": "stream",
     "text": [
      "SAVING EP, ep-0004, CameraClipping\n"
     ]
    },
    {
     "data": {
      "application/vnd.jupyter.widget-view+json": {
       "model_id": "cdd94fde71b443278f10bbbd1c80f3ea",
       "version_major": 2,
       "version_minor": 0
      },
      "text/plain": [
       "0it [00:00, ?it/s]"
      ]
     },
     "metadata": {},
     "output_type": "display_data"
    },
    {
     "name": "stdout",
     "output_type": "stream",
     "text": [
      "SAVING EP, ep-0005, CameraClipping\n"
     ]
    },
    {
     "data": {
      "application/vnd.jupyter.widget-view+json": {
       "model_id": "cc9e3ed4ba77443f8be4af50321b9c00",
       "version_major": 2,
       "version_minor": 0
      },
      "text/plain": [
       "0it [00:00, ?it/s]"
      ]
     },
     "metadata": {},
     "output_type": "display_data"
    },
    {
     "name": "stdout",
     "output_type": "stream",
     "text": [
      "SAVING EP, ep-0006, CameraClipping\n"
     ]
    },
    {
     "data": {
      "application/vnd.jupyter.widget-view+json": {
       "model_id": "79203c1315c5424d9b635f09a2cb9149",
       "version_major": 2,
       "version_minor": 0
      },
      "text/plain": [
       "0it [00:00, ?it/s]"
      ]
     },
     "metadata": {},
     "output_type": "display_data"
    },
    {
     "name": "stdout",
     "output_type": "stream",
     "text": [
      "SAVING EP, ep-0007, CameraClipping\n"
     ]
    },
    {
     "data": {
      "application/vnd.jupyter.widget-view+json": {
       "model_id": "2cfa0cae9fc54d198ba80e0f263b8197",
       "version_major": 2,
       "version_minor": 0
      },
      "text/plain": [
       "0it [00:00, ?it/s]"
      ]
     },
     "metadata": {},
     "output_type": "display_data"
    },
    {
     "name": "stdout",
     "output_type": "stream",
     "text": [
      "SAVING EP, ep-0008, CameraClipping\n"
     ]
    },
    {
     "data": {
      "application/vnd.jupyter.widget-view+json": {
       "model_id": "cc188ad8eaf243c3a47d92ac465ea8b1",
       "version_major": 2,
       "version_minor": 0
      },
      "text/plain": [
       "0it [00:00, ?it/s]"
      ]
     },
     "metadata": {},
     "output_type": "display_data"
    },
    {
     "name": "stdout",
     "output_type": "stream",
     "text": [
      "SAVING EP, ep-0009, CameraClipping\n"
     ]
    },
    {
     "data": {
      "application/vnd.jupyter.widget-view+json": {
       "model_id": "deb0d8bc77574f52bc97f958a667bf7c",
       "version_major": 2,
       "version_minor": 0
      },
      "text/plain": [
       "0it [00:00, ?it/s]"
      ]
     },
     "metadata": {},
     "output_type": "display_data"
    },
    {
     "name": "stdout",
     "output_type": "stream",
     "text": [
      "/home/ben/Documents/repos/world-of-bugs-experiments/dataset/TEST/ZFighting.hdf5\n",
      "SAVING EP, ep-0000, ZFighting\n"
     ]
    },
    {
     "data": {
      "application/vnd.jupyter.widget-view+json": {
       "model_id": "42acd1f08a7643e08d4f0222baf5d017",
       "version_major": 2,
       "version_minor": 0
      },
      "text/plain": [
       "0it [00:00, ?it/s]"
      ]
     },
     "metadata": {},
     "output_type": "display_data"
    },
    {
     "name": "stdout",
     "output_type": "stream",
     "text": [
      "SAVING EP, ep-0001, ZFighting\n"
     ]
    },
    {
     "data": {
      "application/vnd.jupyter.widget-view+json": {
       "model_id": "6bcdb658a5244971ab201d4b1c91e543",
       "version_major": 2,
       "version_minor": 0
      },
      "text/plain": [
       "0it [00:00, ?it/s]"
      ]
     },
     "metadata": {},
     "output_type": "display_data"
    },
    {
     "name": "stdout",
     "output_type": "stream",
     "text": [
      "SAVING EP, ep-0002, ZFighting\n"
     ]
    },
    {
     "data": {
      "application/vnd.jupyter.widget-view+json": {
       "model_id": "203e2f0024dc4925a56ccc759080b37a",
       "version_major": 2,
       "version_minor": 0
      },
      "text/plain": [
       "0it [00:00, ?it/s]"
      ]
     },
     "metadata": {},
     "output_type": "display_data"
    },
    {
     "name": "stdout",
     "output_type": "stream",
     "text": [
      "SAVING EP, ep-0003, ZFighting\n"
     ]
    },
    {
     "data": {
      "application/vnd.jupyter.widget-view+json": {
       "model_id": "5347fc60158843c1b715fb0f8b7010c1",
       "version_major": 2,
       "version_minor": 0
      },
      "text/plain": [
       "0it [00:00, ?it/s]"
      ]
     },
     "metadata": {},
     "output_type": "display_data"
    },
    {
     "name": "stdout",
     "output_type": "stream",
     "text": [
      "SAVING EP, ep-0004, ZFighting\n"
     ]
    },
    {
     "data": {
      "application/vnd.jupyter.widget-view+json": {
       "model_id": "12d5fa7d155d4be295c22ef37b51d8dc",
       "version_major": 2,
       "version_minor": 0
      },
      "text/plain": [
       "0it [00:00, ?it/s]"
      ]
     },
     "metadata": {},
     "output_type": "display_data"
    },
    {
     "name": "stdout",
     "output_type": "stream",
     "text": [
      "SAVING EP, ep-0005, ZFighting\n"
     ]
    },
    {
     "data": {
      "application/vnd.jupyter.widget-view+json": {
       "model_id": "be18e4369aed40a98118c511077155b3",
       "version_major": 2,
       "version_minor": 0
      },
      "text/plain": [
       "0it [00:00, ?it/s]"
      ]
     },
     "metadata": {},
     "output_type": "display_data"
    },
    {
     "name": "stdout",
     "output_type": "stream",
     "text": [
      "SAVING EP, ep-0006, ZFighting\n"
     ]
    },
    {
     "data": {
      "application/vnd.jupyter.widget-view+json": {
       "model_id": "ae89852b13004232a91763b8b4b572d0",
       "version_major": 2,
       "version_minor": 0
      },
      "text/plain": [
       "0it [00:00, ?it/s]"
      ]
     },
     "metadata": {},
     "output_type": "display_data"
    },
    {
     "name": "stdout",
     "output_type": "stream",
     "text": [
      "SAVING EP, ep-0007, ZFighting\n"
     ]
    },
    {
     "data": {
      "application/vnd.jupyter.widget-view+json": {
       "model_id": "539ab791504c4305a8814379ba30cb02",
       "version_major": 2,
       "version_minor": 0
      },
      "text/plain": [
       "0it [00:00, ?it/s]"
      ]
     },
     "metadata": {},
     "output_type": "display_data"
    },
    {
     "name": "stdout",
     "output_type": "stream",
     "text": [
      "SAVING EP, ep-0008, ZFighting\n"
     ]
    },
    {
     "data": {
      "application/vnd.jupyter.widget-view+json": {
       "model_id": "bebc4272083a4826b18aa942cf549155",
       "version_major": 2,
       "version_minor": 0
      },
      "text/plain": [
       "0it [00:00, ?it/s]"
      ]
     },
     "metadata": {},
     "output_type": "display_data"
    },
    {
     "name": "stdout",
     "output_type": "stream",
     "text": [
      "SAVING EP, ep-0009, ZFighting\n"
     ]
    },
    {
     "data": {
      "application/vnd.jupyter.widget-view+json": {
       "model_id": "e5467c5388414a59a8708ac81d5547f4",
       "version_major": 2,
       "version_minor": 0
      },
      "text/plain": [
       "0it [00:00, ?it/s]"
      ]
     },
     "metadata": {},
     "output_type": "display_data"
    },
    {
     "name": "stdout",
     "output_type": "stream",
     "text": [
      "/home/ben/Documents/repos/world-of-bugs-experiments/dataset/TEST/GeometryClipping.hdf5\n",
      "SAVING EP, ep-0000, GeometryClipping\n"
     ]
    },
    {
     "data": {
      "application/vnd.jupyter.widget-view+json": {
       "model_id": "d55e24c166664abfa03286629eb441c2",
       "version_major": 2,
       "version_minor": 0
      },
      "text/plain": [
       "0it [00:00, ?it/s]"
      ]
     },
     "metadata": {},
     "output_type": "display_data"
    },
    {
     "name": "stdout",
     "output_type": "stream",
     "text": [
      "SAVING EP, ep-0001, GeometryClipping\n"
     ]
    },
    {
     "data": {
      "application/vnd.jupyter.widget-view+json": {
       "model_id": "8ba46473649546c884b7e2eac26439e3",
       "version_major": 2,
       "version_minor": 0
      },
      "text/plain": [
       "0it [00:00, ?it/s]"
      ]
     },
     "metadata": {},
     "output_type": "display_data"
    },
    {
     "name": "stdout",
     "output_type": "stream",
     "text": [
      "SAVING EP, ep-0002, GeometryClipping\n"
     ]
    },
    {
     "data": {
      "application/vnd.jupyter.widget-view+json": {
       "model_id": "1bcee9544adc4be3b76f79137d272172",
       "version_major": 2,
       "version_minor": 0
      },
      "text/plain": [
       "0it [00:00, ?it/s]"
      ]
     },
     "metadata": {},
     "output_type": "display_data"
    },
    {
     "name": "stdout",
     "output_type": "stream",
     "text": [
      "SAVING EP, ep-0003, GeometryClipping\n"
     ]
    },
    {
     "data": {
      "application/vnd.jupyter.widget-view+json": {
       "model_id": "fe2010833a38452ab84d2c03eb42cdc0",
       "version_major": 2,
       "version_minor": 0
      },
      "text/plain": [
       "0it [00:00, ?it/s]"
      ]
     },
     "metadata": {},
     "output_type": "display_data"
    },
    {
     "name": "stdout",
     "output_type": "stream",
     "text": [
      "SAVING EP, ep-0004, GeometryClipping\n"
     ]
    },
    {
     "data": {
      "application/vnd.jupyter.widget-view+json": {
       "model_id": "2a96d0a9f53148479eba1f81626bced1",
       "version_major": 2,
       "version_minor": 0
      },
      "text/plain": [
       "0it [00:00, ?it/s]"
      ]
     },
     "metadata": {},
     "output_type": "display_data"
    },
    {
     "name": "stdout",
     "output_type": "stream",
     "text": [
      "SAVING EP, ep-0005, GeometryClipping\n"
     ]
    },
    {
     "data": {
      "application/vnd.jupyter.widget-view+json": {
       "model_id": "2ae1e891d4464e3a8b576cbe47d971d6",
       "version_major": 2,
       "version_minor": 0
      },
      "text/plain": [
       "0it [00:00, ?it/s]"
      ]
     },
     "metadata": {},
     "output_type": "display_data"
    },
    {
     "name": "stdout",
     "output_type": "stream",
     "text": [
      "SAVING EP, ep-0006, GeometryClipping\n"
     ]
    },
    {
     "data": {
      "application/vnd.jupyter.widget-view+json": {
       "model_id": "bb59d9b794d844a8869eabcc7a8a4fd4",
       "version_major": 2,
       "version_minor": 0
      },
      "text/plain": [
       "0it [00:00, ?it/s]"
      ]
     },
     "metadata": {},
     "output_type": "display_data"
    },
    {
     "name": "stdout",
     "output_type": "stream",
     "text": [
      "SAVING EP, ep-0007, GeometryClipping\n"
     ]
    },
    {
     "data": {
      "application/vnd.jupyter.widget-view+json": {
       "model_id": "fcf195983c6c47828e9f062e396daf85",
       "version_major": 2,
       "version_minor": 0
      },
      "text/plain": [
       "0it [00:00, ?it/s]"
      ]
     },
     "metadata": {},
     "output_type": "display_data"
    },
    {
     "name": "stdout",
     "output_type": "stream",
     "text": [
      "SAVING EP, ep-0008, GeometryClipping\n"
     ]
    },
    {
     "data": {
      "application/vnd.jupyter.widget-view+json": {
       "model_id": "bea41599c9b745409805db3a5cce461f",
       "version_major": 2,
       "version_minor": 0
      },
      "text/plain": [
       "0it [00:00, ?it/s]"
      ]
     },
     "metadata": {},
     "output_type": "display_data"
    },
    {
     "name": "stdout",
     "output_type": "stream",
     "text": [
      "SAVING EP, ep-0009, GeometryClipping\n"
     ]
    },
    {
     "data": {
      "application/vnd.jupyter.widget-view+json": {
       "model_id": "e4068dae486546f4adaf1248bfdf1d06",
       "version_major": 2,
       "version_minor": 0
      },
      "text/plain": [
       "0it [00:00, ?it/s]"
      ]
     },
     "metadata": {},
     "output_type": "display_data"
    },
    {
     "name": "stdout",
     "output_type": "stream",
     "text": [
      "/home/ben/Documents/repos/world-of-bugs-experiments/dataset/TEST/BoundaryHole.hdf5\n",
      "SAVING EP, ep-0000, BoundaryHole\n"
     ]
    },
    {
     "data": {
      "application/vnd.jupyter.widget-view+json": {
       "model_id": "ba9a10a9895d460c8b198f555482ea1a",
       "version_major": 2,
       "version_minor": 0
      },
      "text/plain": [
       "0it [00:00, ?it/s]"
      ]
     },
     "metadata": {},
     "output_type": "display_data"
    },
    {
     "name": "stdout",
     "output_type": "stream",
     "text": [
      "SAVING EP, ep-0001, BoundaryHole\n"
     ]
    },
    {
     "data": {
      "application/vnd.jupyter.widget-view+json": {
       "model_id": "c6f013fe59734aa8bc1a55b92b70c4e3",
       "version_major": 2,
       "version_minor": 0
      },
      "text/plain": [
       "0it [00:00, ?it/s]"
      ]
     },
     "metadata": {},
     "output_type": "display_data"
    },
    {
     "name": "stdout",
     "output_type": "stream",
     "text": [
      "SAVING EP, ep-0002, BoundaryHole\n"
     ]
    },
    {
     "data": {
      "application/vnd.jupyter.widget-view+json": {
       "model_id": "6e6012c7860d418ab74849a05293ba2e",
       "version_major": 2,
       "version_minor": 0
      },
      "text/plain": [
       "0it [00:00, ?it/s]"
      ]
     },
     "metadata": {},
     "output_type": "display_data"
    },
    {
     "name": "stdout",
     "output_type": "stream",
     "text": [
      "SAVING EP, ep-0003, BoundaryHole\n"
     ]
    },
    {
     "data": {
      "application/vnd.jupyter.widget-view+json": {
       "model_id": "75acf6de79cc46dd9cac2b3e0400829a",
       "version_major": 2,
       "version_minor": 0
      },
      "text/plain": [
       "0it [00:00, ?it/s]"
      ]
     },
     "metadata": {},
     "output_type": "display_data"
    },
    {
     "name": "stdout",
     "output_type": "stream",
     "text": [
      "SAVING EP, ep-0004, BoundaryHole\n"
     ]
    },
    {
     "data": {
      "application/vnd.jupyter.widget-view+json": {
       "model_id": "2bcddf845ef743d287c8a63762b2564d",
       "version_major": 2,
       "version_minor": 0
      },
      "text/plain": [
       "0it [00:00, ?it/s]"
      ]
     },
     "metadata": {},
     "output_type": "display_data"
    },
    {
     "name": "stdout",
     "output_type": "stream",
     "text": [
      "SAVING EP, ep-0005, BoundaryHole\n"
     ]
    },
    {
     "data": {
      "application/vnd.jupyter.widget-view+json": {
       "model_id": "af798219892e41f68072d85352f88a24",
       "version_major": 2,
       "version_minor": 0
      },
      "text/plain": [
       "0it [00:00, ?it/s]"
      ]
     },
     "metadata": {},
     "output_type": "display_data"
    },
    {
     "name": "stdout",
     "output_type": "stream",
     "text": [
      "SAVING EP, ep-0006, BoundaryHole\n"
     ]
    },
    {
     "data": {
      "application/vnd.jupyter.widget-view+json": {
       "model_id": "a4b6b20a1f574d7ab5d1c7af58167aa2",
       "version_major": 2,
       "version_minor": 0
      },
      "text/plain": [
       "0it [00:00, ?it/s]"
      ]
     },
     "metadata": {},
     "output_type": "display_data"
    },
    {
     "name": "stdout",
     "output_type": "stream",
     "text": [
      "SAVING EP, ep-0007, BoundaryHole\n"
     ]
    },
    {
     "data": {
      "application/vnd.jupyter.widget-view+json": {
       "model_id": "dbeeb881b5b248618b8e3ff9815aae29",
       "version_major": 2,
       "version_minor": 0
      },
      "text/plain": [
       "0it [00:00, ?it/s]"
      ]
     },
     "metadata": {},
     "output_type": "display_data"
    },
    {
     "name": "stdout",
     "output_type": "stream",
     "text": [
      "SAVING EP, ep-0008, BoundaryHole\n"
     ]
    },
    {
     "data": {
      "application/vnd.jupyter.widget-view+json": {
       "model_id": "41f769ad833e427d821a678356c541bc",
       "version_major": 2,
       "version_minor": 0
      },
      "text/plain": [
       "0it [00:00, ?it/s]"
      ]
     },
     "metadata": {},
     "output_type": "display_data"
    },
    {
     "name": "stdout",
     "output_type": "stream",
     "text": [
      "SAVING EP, ep-0009, BoundaryHole\n"
     ]
    },
    {
     "data": {
      "application/vnd.jupyter.widget-view+json": {
       "model_id": "0acdd1500b064f388dbe53ac365d4f15",
       "version_major": 2,
       "version_minor": 0
      },
      "text/plain": [
       "0it [00:00, ?it/s]"
      ]
     },
     "metadata": {},
     "output_type": "display_data"
    },
    {
     "name": "stdout",
     "output_type": "stream",
     "text": [
      "SAVING EP, ep-0010, BoundaryHole\n"
     ]
    },
    {
     "data": {
      "application/vnd.jupyter.widget-view+json": {
       "model_id": "6b172160f1464783bc2b0c97a4898a14",
       "version_major": 2,
       "version_minor": 0
      },
      "text/plain": [
       "0it [00:00, ?it/s]"
      ]
     },
     "metadata": {},
     "output_type": "display_data"
    },
    {
     "name": "stdout",
     "output_type": "stream",
     "text": [
      "SAVING EP, ep-0011, BoundaryHole\n"
     ]
    },
    {
     "data": {
      "application/vnd.jupyter.widget-view+json": {
       "model_id": "eac26c9d8d6d492c94bf131f2f3f4a2f",
       "version_major": 2,
       "version_minor": 0
      },
      "text/plain": [
       "0it [00:00, ?it/s]"
      ]
     },
     "metadata": {},
     "output_type": "display_data"
    },
    {
     "name": "stdout",
     "output_type": "stream",
     "text": [
      "SAVING EP, ep-0012, BoundaryHole\n"
     ]
    },
    {
     "data": {
      "application/vnd.jupyter.widget-view+json": {
       "model_id": "ad112ac4b3ba4d55ae848192f64ed19a",
       "version_major": 2,
       "version_minor": 0
      },
      "text/plain": [
       "0it [00:00, ?it/s]"
      ]
     },
     "metadata": {},
     "output_type": "display_data"
    },
    {
     "name": "stdout",
     "output_type": "stream",
     "text": [
      "SAVING EP, ep-0013, BoundaryHole\n"
     ]
    },
    {
     "data": {
      "application/vnd.jupyter.widget-view+json": {
       "model_id": "34eb4b4e571948fcb5edc19cc47e3a33",
       "version_major": 2,
       "version_minor": 0
      },
      "text/plain": [
       "0it [00:00, ?it/s]"
      ]
     },
     "metadata": {},
     "output_type": "display_data"
    },
    {
     "name": "stdout",
     "output_type": "stream",
     "text": [
      "SAVING EP, ep-0014, BoundaryHole\n"
     ]
    },
    {
     "data": {
      "application/vnd.jupyter.widget-view+json": {
       "model_id": "454099528da04e7e9cd64b9af2efb920",
       "version_major": 2,
       "version_minor": 0
      },
      "text/plain": [
       "0it [00:00, ?it/s]"
      ]
     },
     "metadata": {},
     "output_type": "display_data"
    },
    {
     "name": "stdout",
     "output_type": "stream",
     "text": [
      "SAVING EP, ep-0015, BoundaryHole\n"
     ]
    },
    {
     "data": {
      "application/vnd.jupyter.widget-view+json": {
       "model_id": "10263de101594187aebf4a649ca7ed3c",
       "version_major": 2,
       "version_minor": 0
      },
      "text/plain": [
       "0it [00:00, ?it/s]"
      ]
     },
     "metadata": {},
     "output_type": "display_data"
    },
    {
     "name": "stdout",
     "output_type": "stream",
     "text": [
      "SAVING EP, ep-0016, BoundaryHole\n"
     ]
    },
    {
     "data": {
      "application/vnd.jupyter.widget-view+json": {
       "model_id": "309316d6159e40ebb301c5028c3332ab",
       "version_major": 2,
       "version_minor": 0
      },
      "text/plain": [
       "0it [00:00, ?it/s]"
      ]
     },
     "metadata": {},
     "output_type": "display_data"
    },
    {
     "name": "stdout",
     "output_type": "stream",
     "text": [
      "SAVING EP, ep-0017, BoundaryHole\n"
     ]
    },
    {
     "data": {
      "application/vnd.jupyter.widget-view+json": {
       "model_id": "7f22f9d72682498daf49fb4b5ed6fea7",
       "version_major": 2,
       "version_minor": 0
      },
      "text/plain": [
       "0it [00:00, ?it/s]"
      ]
     },
     "metadata": {},
     "output_type": "display_data"
    },
    {
     "name": "stdout",
     "output_type": "stream",
     "text": [
      "SAVING EP, ep-0018, BoundaryHole\n"
     ]
    },
    {
     "data": {
      "application/vnd.jupyter.widget-view+json": {
       "model_id": "f769718fe1084afea4472ce364533a0b",
       "version_major": 2,
       "version_minor": 0
      },
      "text/plain": [
       "0it [00:00, ?it/s]"
      ]
     },
     "metadata": {},
     "output_type": "display_data"
    },
    {
     "name": "stdout",
     "output_type": "stream",
     "text": [
      "SAVING EP, ep-0019, BoundaryHole\n"
     ]
    },
    {
     "data": {
      "application/vnd.jupyter.widget-view+json": {
       "model_id": "8a9e27cee9f84219b32d88886b0a9b73",
       "version_major": 2,
       "version_minor": 0
      },
      "text/plain": [
       "0it [00:00, ?it/s]"
      ]
     },
     "metadata": {},
     "output_type": "display_data"
    },
    {
     "name": "stdout",
     "output_type": "stream",
     "text": [
      "SAVING EP, ep-0020, BoundaryHole\n"
     ]
    },
    {
     "data": {
      "application/vnd.jupyter.widget-view+json": {
       "model_id": "be9b535bb4aa442fa4df2bde2a0ce4fa",
       "version_major": 2,
       "version_minor": 0
      },
      "text/plain": [
       "0it [00:00, ?it/s]"
      ]
     },
     "metadata": {},
     "output_type": "display_data"
    },
    {
     "name": "stdout",
     "output_type": "stream",
     "text": [
      "SAVING EP, ep-0021, BoundaryHole\n"
     ]
    },
    {
     "data": {
      "application/vnd.jupyter.widget-view+json": {
       "model_id": "17441755a23a4642bed8b8fe6412746c",
       "version_major": 2,
       "version_minor": 0
      },
      "text/plain": [
       "0it [00:00, ?it/s]"
      ]
     },
     "metadata": {},
     "output_type": "display_data"
    },
    {
     "name": "stdout",
     "output_type": "stream",
     "text": [
      "SAVING EP, ep-0022, BoundaryHole\n"
     ]
    },
    {
     "data": {
      "application/vnd.jupyter.widget-view+json": {
       "model_id": "1d15f9d7579c48209c0fde4592d25a76",
       "version_major": 2,
       "version_minor": 0
      },
      "text/plain": [
       "0it [00:00, ?it/s]"
      ]
     },
     "metadata": {},
     "output_type": "display_data"
    },
    {
     "name": "stdout",
     "output_type": "stream",
     "text": [
      "SAVING EP, ep-0023, BoundaryHole\n"
     ]
    },
    {
     "data": {
      "application/vnd.jupyter.widget-view+json": {
       "model_id": "802b07b510084c60b19faa0e1a463e6e",
       "version_major": 2,
       "version_minor": 0
      },
      "text/plain": [
       "0it [00:00, ?it/s]"
      ]
     },
     "metadata": {},
     "output_type": "display_data"
    },
    {
     "name": "stdout",
     "output_type": "stream",
     "text": [
      "SAVING EP, ep-0024, BoundaryHole\n"
     ]
    },
    {
     "data": {
      "application/vnd.jupyter.widget-view+json": {
       "model_id": "c50c4c1098a64319881178e5d0d91901",
       "version_major": 2,
       "version_minor": 0
      },
      "text/plain": [
       "0it [00:00, ?it/s]"
      ]
     },
     "metadata": {},
     "output_type": "display_data"
    },
    {
     "name": "stdout",
     "output_type": "stream",
     "text": [
      "SAVING EP, ep-0025, BoundaryHole\n"
     ]
    },
    {
     "data": {
      "application/vnd.jupyter.widget-view+json": {
       "model_id": "2e56303cb76f4ec88140dcfd22ddfca3",
       "version_major": 2,
       "version_minor": 0
      },
      "text/plain": [
       "0it [00:00, ?it/s]"
      ]
     },
     "metadata": {},
     "output_type": "display_data"
    },
    {
     "name": "stdout",
     "output_type": "stream",
     "text": [
      "SAVING EP, ep-0026, BoundaryHole\n"
     ]
    },
    {
     "data": {
      "application/vnd.jupyter.widget-view+json": {
       "model_id": "17c2648ae9894338a0db782e177ee441",
       "version_major": 2,
       "version_minor": 0
      },
      "text/plain": [
       "0it [00:00, ?it/s]"
      ]
     },
     "metadata": {},
     "output_type": "display_data"
    },
    {
     "name": "stdout",
     "output_type": "stream",
     "text": [
      "SAVING EP, ep-0027, BoundaryHole\n"
     ]
    },
    {
     "data": {
      "application/vnd.jupyter.widget-view+json": {
       "model_id": "7e9ab078c0f14642be8b308d0fc0fa9c",
       "version_major": 2,
       "version_minor": 0
      },
      "text/plain": [
       "0it [00:00, ?it/s]"
      ]
     },
     "metadata": {},
     "output_type": "display_data"
    },
    {
     "name": "stdout",
     "output_type": "stream",
     "text": [
      "SAVING EP, ep-0028, BoundaryHole\n"
     ]
    },
    {
     "data": {
      "application/vnd.jupyter.widget-view+json": {
       "model_id": "69f6c60b9057451290fd3be316504568",
       "version_major": 2,
       "version_minor": 0
      },
      "text/plain": [
       "0it [00:00, ?it/s]"
      ]
     },
     "metadata": {},
     "output_type": "display_data"
    },
    {
     "name": "stdout",
     "output_type": "stream",
     "text": [
      "/home/ben/Documents/repos/world-of-bugs-experiments/dataset/TEST/TextureMissing.hdf5\n",
      "SAVING EP, ep-0000, TextureMissing\n"
     ]
    },
    {
     "data": {
      "application/vnd.jupyter.widget-view+json": {
       "model_id": "33363e6bd46841ebae041a9abd7db7f7",
       "version_major": 2,
       "version_minor": 0
      },
      "text/plain": [
       "0it [00:00, ?it/s]"
      ]
     },
     "metadata": {},
     "output_type": "display_data"
    },
    {
     "name": "stdout",
     "output_type": "stream",
     "text": [
      "SAVING EP, ep-0001, TextureMissing\n"
     ]
    },
    {
     "data": {
      "application/vnd.jupyter.widget-view+json": {
       "model_id": "92dd768c5d4049cfb50acc8f97387d2b",
       "version_major": 2,
       "version_minor": 0
      },
      "text/plain": [
       "0it [00:00, ?it/s]"
      ]
     },
     "metadata": {},
     "output_type": "display_data"
    },
    {
     "name": "stdout",
     "output_type": "stream",
     "text": [
      "SAVING EP, ep-0002, TextureMissing\n"
     ]
    },
    {
     "data": {
      "application/vnd.jupyter.widget-view+json": {
       "model_id": "8f9a190cae824a2ba5936b6cbc6b09dd",
       "version_major": 2,
       "version_minor": 0
      },
      "text/plain": [
       "0it [00:00, ?it/s]"
      ]
     },
     "metadata": {},
     "output_type": "display_data"
    },
    {
     "name": "stdout",
     "output_type": "stream",
     "text": [
      "SAVING EP, ep-0003, TextureMissing\n"
     ]
    },
    {
     "data": {
      "application/vnd.jupyter.widget-view+json": {
       "model_id": "22a461b750014d3d8a2218a1d5a5a13b",
       "version_major": 2,
       "version_minor": 0
      },
      "text/plain": [
       "0it [00:00, ?it/s]"
      ]
     },
     "metadata": {},
     "output_type": "display_data"
    },
    {
     "name": "stdout",
     "output_type": "stream",
     "text": [
      "SAVING EP, ep-0004, TextureMissing\n"
     ]
    },
    {
     "data": {
      "application/vnd.jupyter.widget-view+json": {
       "model_id": "4c5bc3779faa42619862f83aa26a130f",
       "version_major": 2,
       "version_minor": 0
      },
      "text/plain": [
       "0it [00:00, ?it/s]"
      ]
     },
     "metadata": {},
     "output_type": "display_data"
    },
    {
     "name": "stdout",
     "output_type": "stream",
     "text": [
      "SAVING EP, ep-0005, TextureMissing\n"
     ]
    },
    {
     "data": {
      "application/vnd.jupyter.widget-view+json": {
       "model_id": "57cdd6a9a51b44feb3a22652948f360a",
       "version_major": 2,
       "version_minor": 0
      },
      "text/plain": [
       "0it [00:00, ?it/s]"
      ]
     },
     "metadata": {},
     "output_type": "display_data"
    },
    {
     "name": "stdout",
     "output_type": "stream",
     "text": [
      "SAVING EP, ep-0006, TextureMissing\n"
     ]
    },
    {
     "data": {
      "application/vnd.jupyter.widget-view+json": {
       "model_id": "634dc2e7aec04ab6b1a88d56eb4a9b7e",
       "version_major": 2,
       "version_minor": 0
      },
      "text/plain": [
       "0it [00:00, ?it/s]"
      ]
     },
     "metadata": {},
     "output_type": "display_data"
    },
    {
     "name": "stdout",
     "output_type": "stream",
     "text": [
      "SAVING EP, ep-0007, TextureMissing\n"
     ]
    },
    {
     "data": {
      "application/vnd.jupyter.widget-view+json": {
       "model_id": "3addcd8871404acc9838811e50b9fe39",
       "version_major": 2,
       "version_minor": 0
      },
      "text/plain": [
       "0it [00:00, ?it/s]"
      ]
     },
     "metadata": {},
     "output_type": "display_data"
    },
    {
     "name": "stdout",
     "output_type": "stream",
     "text": [
      "SAVING EP, ep-0008, TextureMissing\n"
     ]
    },
    {
     "data": {
      "application/vnd.jupyter.widget-view+json": {
       "model_id": "9df96cf864a4468ab7868f36de589941",
       "version_major": 2,
       "version_minor": 0
      },
      "text/plain": [
       "0it [00:00, ?it/s]"
      ]
     },
     "metadata": {},
     "output_type": "display_data"
    },
    {
     "name": "stdout",
     "output_type": "stream",
     "text": [
      "SAVING EP, ep-0009, TextureMissing\n"
     ]
    },
    {
     "data": {
      "application/vnd.jupyter.widget-view+json": {
       "model_id": "722f2ca0a1a74ca5bb76c98501e6536c",
       "version_major": 2,
       "version_minor": 0
      },
      "text/plain": [
       "0it [00:00, ?it/s]"
      ]
     },
     "metadata": {},
     "output_type": "display_data"
    },
    {
     "name": "stdout",
     "output_type": "stream",
     "text": [
      "/home/ben/Documents/repos/world-of-bugs-experiments/dataset/TEST/TextureCorruption.hdf5\n",
      "SAVING EP, ep-0000, TextureCorruption\n"
     ]
    },
    {
     "data": {
      "application/vnd.jupyter.widget-view+json": {
       "model_id": "a32dbf0ba06e4f2d90b9f16d201a4909",
       "version_major": 2,
       "version_minor": 0
      },
      "text/plain": [
       "0it [00:00, ?it/s]"
      ]
     },
     "metadata": {},
     "output_type": "display_data"
    },
    {
     "name": "stdout",
     "output_type": "stream",
     "text": [
      "SAVING EP, ep-0001, TextureCorruption\n"
     ]
    },
    {
     "data": {
      "application/vnd.jupyter.widget-view+json": {
       "model_id": "6c0c45b8e87c469080f549d71a16ca3a",
       "version_major": 2,
       "version_minor": 0
      },
      "text/plain": [
       "0it [00:00, ?it/s]"
      ]
     },
     "metadata": {},
     "output_type": "display_data"
    },
    {
     "name": "stdout",
     "output_type": "stream",
     "text": [
      "SAVING EP, ep-0002, TextureCorruption\n"
     ]
    },
    {
     "data": {
      "application/vnd.jupyter.widget-view+json": {
       "model_id": "541349650fa444cca048a0207d600bab",
       "version_major": 2,
       "version_minor": 0
      },
      "text/plain": [
       "0it [00:00, ?it/s]"
      ]
     },
     "metadata": {},
     "output_type": "display_data"
    },
    {
     "name": "stdout",
     "output_type": "stream",
     "text": [
      "SAVING EP, ep-0003, TextureCorruption\n"
     ]
    },
    {
     "data": {
      "application/vnd.jupyter.widget-view+json": {
       "model_id": "6b2280c93e6b4b1cb392b16ab8a40c89",
       "version_major": 2,
       "version_minor": 0
      },
      "text/plain": [
       "0it [00:00, ?it/s]"
      ]
     },
     "metadata": {},
     "output_type": "display_data"
    },
    {
     "name": "stdout",
     "output_type": "stream",
     "text": [
      "SAVING EP, ep-0004, TextureCorruption\n"
     ]
    },
    {
     "data": {
      "application/vnd.jupyter.widget-view+json": {
       "model_id": "53eff7200670481a8d23082bffbf3b66",
       "version_major": 2,
       "version_minor": 0
      },
      "text/plain": [
       "0it [00:00, ?it/s]"
      ]
     },
     "metadata": {},
     "output_type": "display_data"
    },
    {
     "name": "stdout",
     "output_type": "stream",
     "text": [
      "SAVING EP, ep-0005, TextureCorruption\n"
     ]
    },
    {
     "data": {
      "application/vnd.jupyter.widget-view+json": {
       "model_id": "c9822aa23f524a8ba25dc5be6e0d0803",
       "version_major": 2,
       "version_minor": 0
      },
      "text/plain": [
       "0it [00:00, ?it/s]"
      ]
     },
     "metadata": {},
     "output_type": "display_data"
    },
    {
     "name": "stdout",
     "output_type": "stream",
     "text": [
      "SAVING EP, ep-0006, TextureCorruption\n"
     ]
    },
    {
     "data": {
      "application/vnd.jupyter.widget-view+json": {
       "model_id": "5475093478484b7aae81159f42138f75",
       "version_major": 2,
       "version_minor": 0
      },
      "text/plain": [
       "0it [00:00, ?it/s]"
      ]
     },
     "metadata": {},
     "output_type": "display_data"
    },
    {
     "name": "stdout",
     "output_type": "stream",
     "text": [
      "SAVING EP, ep-0007, TextureCorruption\n"
     ]
    },
    {
     "data": {
      "application/vnd.jupyter.widget-view+json": {
       "model_id": "49a31cded4db4acc9a94ecc542fff5fd",
       "version_major": 2,
       "version_minor": 0
      },
      "text/plain": [
       "0it [00:00, ?it/s]"
      ]
     },
     "metadata": {},
     "output_type": "display_data"
    },
    {
     "name": "stdout",
     "output_type": "stream",
     "text": [
      "SAVING EP, ep-0008, TextureCorruption\n"
     ]
    },
    {
     "data": {
      "application/vnd.jupyter.widget-view+json": {
       "model_id": "2079691aaead4018aff7fb3e8162ed20",
       "version_major": 2,
       "version_minor": 0
      },
      "text/plain": [
       "0it [00:00, ?it/s]"
      ]
     },
     "metadata": {},
     "output_type": "display_data"
    },
    {
     "name": "stdout",
     "output_type": "stream",
     "text": [
      "SAVING EP, ep-0009, TextureCorruption\n"
     ]
    },
    {
     "data": {
      "application/vnd.jupyter.widget-view+json": {
       "model_id": "dfdf65f6168d41a6b53003d801a6cdf3",
       "version_major": 2,
       "version_minor": 0
      },
      "text/plain": [
       "0it [00:00, ?it/s]"
      ]
     },
     "metadata": {},
     "output_type": "display_data"
    },
    {
     "name": "stdout",
     "output_type": "stream",
     "text": [
      "/home/ben/Documents/repos/world-of-bugs-experiments/dataset/TEST/BlackScreen.hdf5\n",
      "SAVING EP, ep-0000, BlackScreen\n"
     ]
    },
    {
     "data": {
      "application/vnd.jupyter.widget-view+json": {
       "model_id": "adc26e7f79514cb595785eee3695c16f",
       "version_major": 2,
       "version_minor": 0
      },
      "text/plain": [
       "0it [00:00, ?it/s]"
      ]
     },
     "metadata": {},
     "output_type": "display_data"
    },
    {
     "name": "stdout",
     "output_type": "stream",
     "text": [
      "SAVING EP, ep-0001, BlackScreen\n"
     ]
    },
    {
     "data": {
      "application/vnd.jupyter.widget-view+json": {
       "model_id": "9f6834fae0814e89a76ceed557242043",
       "version_major": 2,
       "version_minor": 0
      },
      "text/plain": [
       "0it [00:00, ?it/s]"
      ]
     },
     "metadata": {},
     "output_type": "display_data"
    },
    {
     "name": "stdout",
     "output_type": "stream",
     "text": [
      "SAVING EP, ep-0002, BlackScreen\n"
     ]
    },
    {
     "data": {
      "application/vnd.jupyter.widget-view+json": {
       "model_id": "33e4ebbf64f9416fb55e66fd1d47eae0",
       "version_major": 2,
       "version_minor": 0
      },
      "text/plain": [
       "0it [00:00, ?it/s]"
      ]
     },
     "metadata": {},
     "output_type": "display_data"
    },
    {
     "name": "stdout",
     "output_type": "stream",
     "text": [
      "SAVING EP, ep-0003, BlackScreen\n"
     ]
    },
    {
     "data": {
      "application/vnd.jupyter.widget-view+json": {
       "model_id": "802b9741d5154e718b1d461e5364603b",
       "version_major": 2,
       "version_minor": 0
      },
      "text/plain": [
       "0it [00:00, ?it/s]"
      ]
     },
     "metadata": {},
     "output_type": "display_data"
    },
    {
     "name": "stdout",
     "output_type": "stream",
     "text": [
      "SAVING EP, ep-0004, BlackScreen\n"
     ]
    },
    {
     "data": {
      "application/vnd.jupyter.widget-view+json": {
       "model_id": "3a77bb4d6df742dfbffafbb878419525",
       "version_major": 2,
       "version_minor": 0
      },
      "text/plain": [
       "0it [00:00, ?it/s]"
      ]
     },
     "metadata": {},
     "output_type": "display_data"
    },
    {
     "name": "stdout",
     "output_type": "stream",
     "text": [
      "SAVING EP, ep-0005, BlackScreen\n"
     ]
    },
    {
     "data": {
      "application/vnd.jupyter.widget-view+json": {
       "model_id": "4068978a51f2404d8d77709a8d93d56d",
       "version_major": 2,
       "version_minor": 0
      },
      "text/plain": [
       "0it [00:00, ?it/s]"
      ]
     },
     "metadata": {},
     "output_type": "display_data"
    },
    {
     "name": "stdout",
     "output_type": "stream",
     "text": [
      "SAVING EP, ep-0006, BlackScreen\n"
     ]
    },
    {
     "data": {
      "application/vnd.jupyter.widget-view+json": {
       "model_id": "f5cb7b3a0cc74959b01f4ca654678cbd",
       "version_major": 2,
       "version_minor": 0
      },
      "text/plain": [
       "0it [00:00, ?it/s]"
      ]
     },
     "metadata": {},
     "output_type": "display_data"
    },
    {
     "name": "stdout",
     "output_type": "stream",
     "text": [
      "SAVING EP, ep-0007, BlackScreen\n"
     ]
    },
    {
     "data": {
      "application/vnd.jupyter.widget-view+json": {
       "model_id": "b3d40ce644744ff9b0a6dc6d4a906d0b",
       "version_major": 2,
       "version_minor": 0
      },
      "text/plain": [
       "0it [00:00, ?it/s]"
      ]
     },
     "metadata": {},
     "output_type": "display_data"
    },
    {
     "name": "stdout",
     "output_type": "stream",
     "text": [
      "SAVING EP, ep-0008, BlackScreen\n"
     ]
    },
    {
     "data": {
      "application/vnd.jupyter.widget-view+json": {
       "model_id": "d46988c7c4aa4ec29528448750e7c856",
       "version_major": 2,
       "version_minor": 0
      },
      "text/plain": [
       "0it [00:00, ?it/s]"
      ]
     },
     "metadata": {},
     "output_type": "display_data"
    },
    {
     "name": "stdout",
     "output_type": "stream",
     "text": [
      "SAVING EP, ep-0009, BlackScreen\n"
     ]
    },
    {
     "data": {
      "application/vnd.jupyter.widget-view+json": {
       "model_id": "2649258cbd9542528c54b81ea6ffad65",
       "version_major": 2,
       "version_minor": 0
      },
      "text/plain": [
       "0it [00:00, ?it/s]"
      ]
     },
     "metadata": {},
     "output_type": "display_data"
    },
    {
     "name": "stdout",
     "output_type": "stream",
     "text": [
      "/home/ben/Documents/repos/world-of-bugs-experiments/dataset/TEST/ZClipping.hdf5\n",
      "SAVING EP, ep-0000, ZClipping\n"
     ]
    },
    {
     "data": {
      "application/vnd.jupyter.widget-view+json": {
       "model_id": "35967c25029e444cb938965e8037d611",
       "version_major": 2,
       "version_minor": 0
      },
      "text/plain": [
       "0it [00:00, ?it/s]"
      ]
     },
     "metadata": {},
     "output_type": "display_data"
    },
    {
     "name": "stdout",
     "output_type": "stream",
     "text": [
      "SAVING EP, ep-0001, ZClipping\n"
     ]
    },
    {
     "data": {
      "application/vnd.jupyter.widget-view+json": {
       "model_id": "cc9c33989c3c43049276bd5776befca3",
       "version_major": 2,
       "version_minor": 0
      },
      "text/plain": [
       "0it [00:00, ?it/s]"
      ]
     },
     "metadata": {},
     "output_type": "display_data"
    },
    {
     "name": "stdout",
     "output_type": "stream",
     "text": [
      "SAVING EP, ep-0002, ZClipping\n"
     ]
    },
    {
     "data": {
      "application/vnd.jupyter.widget-view+json": {
       "model_id": "afa5fb6c99704a57ae36e0ccd9fce337",
       "version_major": 2,
       "version_minor": 0
      },
      "text/plain": [
       "0it [00:00, ?it/s]"
      ]
     },
     "metadata": {},
     "output_type": "display_data"
    },
    {
     "name": "stdout",
     "output_type": "stream",
     "text": [
      "SAVING EP, ep-0003, ZClipping\n"
     ]
    },
    {
     "data": {
      "application/vnd.jupyter.widget-view+json": {
       "model_id": "624bcb5ff74d4d4b88d8b9ca303310e5",
       "version_major": 2,
       "version_minor": 0
      },
      "text/plain": [
       "0it [00:00, ?it/s]"
      ]
     },
     "metadata": {},
     "output_type": "display_data"
    },
    {
     "name": "stdout",
     "output_type": "stream",
     "text": [
      "SAVING EP, ep-0004, ZClipping\n"
     ]
    },
    {
     "data": {
      "application/vnd.jupyter.widget-view+json": {
       "model_id": "420885920e0d42b39832a573b41e2781",
       "version_major": 2,
       "version_minor": 0
      },
      "text/plain": [
       "0it [00:00, ?it/s]"
      ]
     },
     "metadata": {},
     "output_type": "display_data"
    },
    {
     "name": "stdout",
     "output_type": "stream",
     "text": [
      "SAVING EP, ep-0005, ZClipping\n"
     ]
    },
    {
     "data": {
      "application/vnd.jupyter.widget-view+json": {
       "model_id": "fab4d3fee20447d3b67ea3d2414b1118",
       "version_major": 2,
       "version_minor": 0
      },
      "text/plain": [
       "0it [00:00, ?it/s]"
      ]
     },
     "metadata": {},
     "output_type": "display_data"
    },
    {
     "name": "stdout",
     "output_type": "stream",
     "text": [
      "SAVING EP, ep-0006, ZClipping\n"
     ]
    },
    {
     "data": {
      "application/vnd.jupyter.widget-view+json": {
       "model_id": "1362a41daf604ebda69dab68d51b6f88",
       "version_major": 2,
       "version_minor": 0
      },
      "text/plain": [
       "0it [00:00, ?it/s]"
      ]
     },
     "metadata": {},
     "output_type": "display_data"
    },
    {
     "name": "stdout",
     "output_type": "stream",
     "text": [
      "SAVING EP, ep-0007, ZClipping\n"
     ]
    },
    {
     "data": {
      "application/vnd.jupyter.widget-view+json": {
       "model_id": "dfc586ef2a384d8fb43bf3e7f9ebafe7",
       "version_major": 2,
       "version_minor": 0
      },
      "text/plain": [
       "0it [00:00, ?it/s]"
      ]
     },
     "metadata": {},
     "output_type": "display_data"
    },
    {
     "name": "stdout",
     "output_type": "stream",
     "text": [
      "SAVING EP, ep-0008, ZClipping\n"
     ]
    },
    {
     "data": {
      "application/vnd.jupyter.widget-view+json": {
       "model_id": "8d11ad45775d456bad58f2a4a26ad489",
       "version_major": 2,
       "version_minor": 0
      },
      "text/plain": [
       "0it [00:00, ?it/s]"
      ]
     },
     "metadata": {},
     "output_type": "display_data"
    },
    {
     "name": "stdout",
     "output_type": "stream",
     "text": [
      "SAVING EP, ep-0009, ZClipping\n"
     ]
    },
    {
     "data": {
      "application/vnd.jupyter.widget-view+json": {
       "model_id": "7ce26b4ef8a04f558d83ee5b2c39543f",
       "version_major": 2,
       "version_minor": 0
      },
      "text/plain": [
       "0it [00:00, ?it/s]"
      ]
     },
     "metadata": {},
     "output_type": "display_data"
    }
   ],
   "source": [
    "## convert hdf5 file to tar archive....\n",
    "\n",
    "PATH = \"/home/ben/Documents/repos/world-of-bugs-experiments/dataset\"\n",
    "\n",
    "import pathlib\n",
    "import h5py\n",
    "import glob\n",
    "from pprint import pprint\n",
    "from tqdm.auto import tqdm\n",
    "\n",
    "from gymu.data import write_episode\n",
    "\n",
    "def iterator(group):\n",
    "    keys = [k.replace(\"observation\", \"state\") for k in group.keys()]\n",
    "    #dict of lists to list of dicts\n",
    "    d = zip(*[x for x in group.values()])\n",
    "    for x in d:\n",
    "        z = dict(zip(keys, x))\n",
    "        if \"bugmask\" in z:\n",
    "            z['info'] = (z['info'], z['bugmask'])\n",
    "            del z['bugmask']\n",
    "        yield z\n",
    "        \n",
    "def process(path):\n",
    "    path = pathlib.Path(path)\n",
    "    with h5py.File(str(path), \"r\") as f:\n",
    "        for ep in f.keys():\n",
    "            print(f\"SAVING EP, {ep}, {path.stem}\") \n",
    "            write_episode(iterator(f[ep]), path=f\"./{path.stem}/{ep}\")\n",
    "            \n",
    "for file in tqdm([f for f in glob.glob(PATH + \"/**/*.hdf5\", recursive=False) if \"compressed\" not in f]):\n",
    "    print(file)\n",
    "    process(file)"
   ]
  },
  {
   "cell_type": "code",
   "execution_count": 8,
   "id": "363fe541",
   "metadata": {
    "scrolled": false
   },
   "outputs": [
    {
     "name": "stdout",
     "output_type": "stream",
     "text": [
      "[(1, 3, 84, 84), (1,), (1,), (1,), (1, 2)]\n",
      "(7,)\n",
      "(3, 84, 84)\n"
     ]
    },
    {
     "data": {
      "application/vnd.jupyter.widget-view+json": {
       "model_id": "e3db43a546fe4c67bb36dcf353667835",
       "version_major": 2,
       "version_minor": 0
      },
      "text/plain": [
       "HBox(children=(Canvas(height=84, width=84),), layout=Layout(align_items='center', display='flex', flex_flow='r…"
      ]
     },
     "metadata": {},
     "output_type": "display_data"
    },
    {
     "name": "stdout",
     "output_type": "stream",
     "text": [
      "[(1, 3, 84, 84), (1,), (1,), (1,), (1, 2)]\n",
      "(7,)\n",
      "(3, 84, 84)\n"
     ]
    },
    {
     "data": {
      "application/vnd.jupyter.widget-view+json": {
       "model_id": "fab4ba3c7d85463b96139129f3f51b5d",
       "version_major": 2,
       "version_minor": 0
      },
      "text/plain": [
       "HBox(children=(Canvas(height=84, width=84),), layout=Layout(align_items='center', display='flex', flex_flow='r…"
      ]
     },
     "metadata": {},
     "output_type": "display_data"
    },
    {
     "name": "stdout",
     "output_type": "stream",
     "text": [
      "[(1, 3, 84, 84), (1,), (1,), (1,), (1, 2)]\n",
      "(7,)\n",
      "(3, 84, 84)\n"
     ]
    },
    {
     "data": {
      "application/vnd.jupyter.widget-view+json": {
       "model_id": "1d8d661900a845a08fe3ff54ec82928a",
       "version_major": 2,
       "version_minor": 0
      },
      "text/plain": [
       "HBox(children=(Canvas(height=84, width=84),), layout=Layout(align_items='center', display='flex', flex_flow='r…"
      ]
     },
     "metadata": {},
     "output_type": "display_data"
    },
    {
     "name": "stdout",
     "output_type": "stream",
     "text": [
      "[(1, 3, 84, 84), (1,), (1,), (1,), (1, 2)]\n",
      "(7,)\n",
      "(3, 84, 84)\n"
     ]
    },
    {
     "data": {
      "application/vnd.jupyter.widget-view+json": {
       "model_id": "836503beffc24e92babe63d214dd396f",
       "version_major": 2,
       "version_minor": 0
      },
      "text/plain": [
       "HBox(children=(Canvas(height=84, width=84),), layout=Layout(align_items='center', display='flex', flex_flow='r…"
      ]
     },
     "metadata": {},
     "output_type": "display_data"
    },
    {
     "name": "stdout",
     "output_type": "stream",
     "text": [
      "[(1, 3, 84, 84), (1,), (1,), (1,), (1, 2)]\n",
      "(7,)\n",
      "(3, 84, 84)\n"
     ]
    },
    {
     "data": {
      "application/vnd.jupyter.widget-view+json": {
       "model_id": "feeff72680034062959aebc2885b26e7",
       "version_major": 2,
       "version_minor": 0
      },
      "text/plain": [
       "HBox(children=(Canvas(height=84, width=84),), layout=Layout(align_items='center', display='flex', flex_flow='r…"
      ]
     },
     "metadata": {},
     "output_type": "display_data"
    },
    {
     "name": "stdout",
     "output_type": "stream",
     "text": [
      "[(1, 3, 84, 84), (1,), (1,), (1,), (1, 2)]\n",
      "(7,)\n",
      "(3, 84, 84)\n"
     ]
    },
    {
     "data": {
      "application/vnd.jupyter.widget-view+json": {
       "model_id": "b3fab0c2281f4d41af64f96b7696964e",
       "version_major": 2,
       "version_minor": 0
      },
      "text/plain": [
       "HBox(children=(Canvas(height=84, width=84),), layout=Layout(align_items='center', display='flex', flex_flow='r…"
      ]
     },
     "metadata": {},
     "output_type": "display_data"
    },
    {
     "name": "stdout",
     "output_type": "stream",
     "text": [
      "[(1, 3, 84, 84), (1,), (1,), (1,), (1, 2)]\n",
      "(7,)\n",
      "(3, 84, 84)\n"
     ]
    },
    {
     "data": {
      "application/vnd.jupyter.widget-view+json": {
       "model_id": "444b4a72c4204742bb88b293c2cf1fe8",
       "version_major": 2,
       "version_minor": 0
      },
      "text/plain": [
       "HBox(children=(Canvas(height=84, width=84),), layout=Layout(align_items='center', display='flex', flex_flow='r…"
      ]
     },
     "metadata": {},
     "output_type": "display_data"
    },
    {
     "name": "stdout",
     "output_type": "stream",
     "text": [
      "[(1, 3, 84, 84), (1,), (1,), (1,), (1, 2)]\n",
      "(7,)\n",
      "(3, 84, 84)\n"
     ]
    },
    {
     "data": {
      "application/vnd.jupyter.widget-view+json": {
       "model_id": "8bda4bec211a42ff9438a740d24edbc6",
       "version_major": 2,
       "version_minor": 0
      },
      "text/plain": [
       "HBox(children=(Canvas(height=84, width=84),), layout=Layout(align_items='center', display='flex', flex_flow='r…"
      ]
     },
     "metadata": {},
     "output_type": "display_data"
    },
    {
     "name": "stdout",
     "output_type": "stream",
     "text": [
      "[(1, 3, 84, 84), (1,), (1,), (1,), (1, 2)]\n",
      "(7,)\n",
      "(3, 84, 84)\n"
     ]
    },
    {
     "data": {
      "application/vnd.jupyter.widget-view+json": {
       "model_id": "f42920d5bf424c6a906ad6fe284637de",
       "version_major": 2,
       "version_minor": 0
      },
      "text/plain": [
       "HBox(children=(Canvas(height=84, width=84),), layout=Layout(align_items='center', display='flex', flex_flow='r…"
      ]
     },
     "metadata": {},
     "output_type": "display_data"
    },
    {
     "name": "stdout",
     "output_type": "stream",
     "text": [
      "[(1, 3, 84, 84), (1,), (1,), (1,), (1, 2)]\n",
      "(7,)\n",
      "(3, 84, 84)\n"
     ]
    },
    {
     "data": {
      "application/vnd.jupyter.widget-view+json": {
       "model_id": "79b86476913d4e53ae25b96809ee9d9a",
       "version_major": 2,
       "version_minor": 0
      },
      "text/plain": [
       "HBox(children=(Canvas(height=84, width=84),), layout=Layout(align_items='center', display='flex', flex_flow='r…"
      ]
     },
     "metadata": {},
     "output_type": "display_data"
    },
    {
     "name": "stdout",
     "output_type": "stream",
     "text": [
      "[(1, 3, 84, 84), (1,), (1,), (1,), (1, 2)]\n",
      "(7,)\n",
      "(3, 84, 84)\n"
     ]
    },
    {
     "data": {
      "application/vnd.jupyter.widget-view+json": {
       "model_id": "99c5794364d541e7879d6eab7788ee69",
       "version_major": 2,
       "version_minor": 0
      },
      "text/plain": [
       "HBox(children=(Canvas(height=84, width=84),), layout=Layout(align_items='center', display='flex', flex_flow='r…"
      ]
     },
     "metadata": {},
     "output_type": "display_data"
    },
    {
     "name": "stdout",
     "output_type": "stream",
     "text": [
      "[(1, 3, 84, 84), (1,), (1,), (1,), (1, 2)]\n",
      "(7,)\n",
      "(3, 84, 84)\n"
     ]
    },
    {
     "data": {
      "application/vnd.jupyter.widget-view+json": {
       "model_id": "0e5c5be89e4a45ce999d46fad85e2589",
       "version_major": 2,
       "version_minor": 0
      },
      "text/plain": [
       "HBox(children=(Canvas(height=84, width=84),), layout=Layout(align_items='center', display='flex', flex_flow='r…"
      ]
     },
     "metadata": {},
     "output_type": "display_data"
    },
    {
     "name": "stdout",
     "output_type": "stream",
     "text": [
      "[(1, 3, 84, 84), (1,), (1,), (1,), (1, 2)]\n",
      "(7,)\n",
      "(3, 84, 84)\n"
     ]
    },
    {
     "data": {
      "application/vnd.jupyter.widget-view+json": {
       "model_id": "a01cda6f16fe4f17bb4f7488d0466221",
       "version_major": 2,
       "version_minor": 0
      },
      "text/plain": [
       "HBox(children=(Canvas(height=84, width=84),), layout=Layout(align_items='center', display='flex', flex_flow='r…"
      ]
     },
     "metadata": {},
     "output_type": "display_data"
    },
    {
     "name": "stdout",
     "output_type": "stream",
     "text": [
      "[(1, 3, 84, 84), (1,), (1,), (1,), (1, 2)]\n",
      "(7,)\n",
      "(3, 84, 84)\n"
     ]
    },
    {
     "data": {
      "application/vnd.jupyter.widget-view+json": {
       "model_id": "2a6384821cb444fca36e019ab998e030",
       "version_major": 2,
       "version_minor": 0
      },
      "text/plain": [
       "HBox(children=(Canvas(height=84, width=84),), layout=Layout(align_items='center', display='flex', flex_flow='r…"
      ]
     },
     "metadata": {},
     "output_type": "display_data"
    },
    {
     "name": "stdout",
     "output_type": "stream",
     "text": [
      "[(1, 3, 84, 84), (1,), (1,), (1,), (1, 2)]\n",
      "(7,)\n",
      "(3, 84, 84)\n"
     ]
    },
    {
     "data": {
      "application/vnd.jupyter.widget-view+json": {
       "model_id": "1d2bc5a415d34cdba107415f69a9166d",
       "version_major": 2,
       "version_minor": 0
      },
      "text/plain": [
       "HBox(children=(Canvas(height=84, width=84),), layout=Layout(align_items='center', display='flex', flex_flow='r…"
      ]
     },
     "metadata": {},
     "output_type": "display_data"
    },
    {
     "name": "stdout",
     "output_type": "stream",
     "text": [
      "[(1, 3, 84, 84), (1,), (1,), (1,), (1, 2)]\n",
      "(7,)\n",
      "(3, 84, 84)\n"
     ]
    },
    {
     "data": {
      "application/vnd.jupyter.widget-view+json": {
       "model_id": "75280fbb4cdc4b5194f94fe742ef89fa",
       "version_major": 2,
       "version_minor": 0
      },
      "text/plain": [
       "HBox(children=(Canvas(height=84, width=84),), layout=Layout(align_items='center', display='flex', flex_flow='r…"
      ]
     },
     "metadata": {},
     "output_type": "display_data"
    },
    {
     "name": "stdout",
     "output_type": "stream",
     "text": [
      "[(1, 3, 84, 84), (1,), (1,), (1,), (1, 2)]\n",
      "(7,)\n",
      "(3, 84, 84)\n"
     ]
    },
    {
     "data": {
      "application/vnd.jupyter.widget-view+json": {
       "model_id": "d784d9b0eaae4d329a214d9bf1f4caee",
       "version_major": 2,
       "version_minor": 0
      },
      "text/plain": [
       "HBox(children=(Canvas(height=84, width=84),), layout=Layout(align_items='center', display='flex', flex_flow='r…"
      ]
     },
     "metadata": {},
     "output_type": "display_data"
    },
    {
     "name": "stdout",
     "output_type": "stream",
     "text": [
      "[(1, 3, 84, 84), (1,), (1,), (1,), (1, 2)]\n",
      "(7,)\n",
      "(3, 84, 84)\n"
     ]
    },
    {
     "data": {
      "application/vnd.jupyter.widget-view+json": {
       "model_id": "6d1ff44b69b8445e9a0fdadddb322847",
       "version_major": 2,
       "version_minor": 0
      },
      "text/plain": [
       "HBox(children=(Canvas(height=84, width=84),), layout=Layout(align_items='center', display='flex', flex_flow='r…"
      ]
     },
     "metadata": {},
     "output_type": "display_data"
    },
    {
     "name": "stdout",
     "output_type": "stream",
     "text": [
      "[(1, 3, 84, 84), (1,), (1,), (1,), (1, 2)]\n",
      "(7,)\n",
      "(3, 84, 84)\n"
     ]
    },
    {
     "data": {
      "application/vnd.jupyter.widget-view+json": {
       "model_id": "825c86846cf14b04b6e6faffed8ae7d8",
       "version_major": 2,
       "version_minor": 0
      },
      "text/plain": [
       "HBox(children=(Canvas(height=84, width=84),), layout=Layout(align_items='center', display='flex', flex_flow='r…"
      ]
     },
     "metadata": {},
     "output_type": "display_data"
    },
    {
     "name": "stdout",
     "output_type": "stream",
     "text": [
      "[(1, 3, 84, 84), (1,), (1,), (1,), (1, 2)]\n",
      "(7,)\n",
      "(3, 84, 84)\n"
     ]
    },
    {
     "data": {
      "application/vnd.jupyter.widget-view+json": {
       "model_id": "a65361a0e4934699b922b4aea827de9e",
       "version_major": 2,
       "version_minor": 0
      },
      "text/plain": [
       "HBox(children=(Canvas(height=84, width=84),), layout=Layout(align_items='center', display='flex', flex_flow='r…"
      ]
     },
     "metadata": {},
     "output_type": "display_data"
    },
    {
     "name": "stdout",
     "output_type": "stream",
     "text": [
      "[(1, 3, 84, 84), (1,), (1,), (1,), (1, 2)]\n",
      "(7,)\n",
      "(3, 84, 84)\n"
     ]
    },
    {
     "data": {
      "application/vnd.jupyter.widget-view+json": {
       "model_id": "1e34d2404b084927af60bdb703263629",
       "version_major": 2,
       "version_minor": 0
      },
      "text/plain": [
       "HBox(children=(Canvas(height=84, width=84),), layout=Layout(align_items='center', display='flex', flex_flow='r…"
      ]
     },
     "metadata": {},
     "output_type": "display_data"
    },
    {
     "name": "stdout",
     "output_type": "stream",
     "text": [
      "[(1, 3, 84, 84), (1,), (1,), (1,), (1, 2)]\n",
      "(7,)\n",
      "(3, 84, 84)\n"
     ]
    },
    {
     "data": {
      "application/vnd.jupyter.widget-view+json": {
       "model_id": "eb2f7c98e7a74d4680314f7563102d27",
       "version_major": 2,
       "version_minor": 0
      },
      "text/plain": [
       "HBox(children=(Canvas(height=84, width=84),), layout=Layout(align_items='center', display='flex', flex_flow='r…"
      ]
     },
     "metadata": {},
     "output_type": "display_data"
    },
    {
     "name": "stdout",
     "output_type": "stream",
     "text": [
      "[(1, 3, 84, 84), (1,), (1,), (1,), (1, 2)]\n",
      "(7,)\n",
      "(3, 84, 84)\n"
     ]
    },
    {
     "data": {
      "application/vnd.jupyter.widget-view+json": {
       "model_id": "3f8046486874440a88a82171e0a420db",
       "version_major": 2,
       "version_minor": 0
      },
      "text/plain": [
       "HBox(children=(Canvas(height=84, width=84),), layout=Layout(align_items='center', display='flex', flex_flow='r…"
      ]
     },
     "metadata": {},
     "output_type": "display_data"
    },
    {
     "name": "stdout",
     "output_type": "stream",
     "text": [
      "[(1, 3, 84, 84), (1,), (1,), (1,), (1, 2)]\n",
      "(7,)\n",
      "(3, 84, 84)\n"
     ]
    },
    {
     "data": {
      "application/vnd.jupyter.widget-view+json": {
       "model_id": "7e62c69217ed48aca1a7caafad666e98",
       "version_major": 2,
       "version_minor": 0
      },
      "text/plain": [
       "HBox(children=(Canvas(height=84, width=84),), layout=Layout(align_items='center', display='flex', flex_flow='r…"
      ]
     },
     "metadata": {},
     "output_type": "display_data"
    },
    {
     "name": "stdout",
     "output_type": "stream",
     "text": [
      "[(1, 3, 84, 84), (1,), (1,), (1,), (1, 2)]\n",
      "(7,)\n",
      "(3, 84, 84)\n"
     ]
    },
    {
     "data": {
      "application/vnd.jupyter.widget-view+json": {
       "model_id": "90fe8d966e114740a3fc88e380144a8b",
       "version_major": 2,
       "version_minor": 0
      },
      "text/plain": [
       "HBox(children=(Canvas(height=84, width=84),), layout=Layout(align_items='center', display='flex', flex_flow='r…"
      ]
     },
     "metadata": {},
     "output_type": "display_data"
    },
    {
     "name": "stdout",
     "output_type": "stream",
     "text": [
      "[(1, 3, 84, 84), (1,), (1,), (1,), (1, 2)]\n",
      "(7,)\n",
      "(3, 84, 84)\n"
     ]
    },
    {
     "data": {
      "application/vnd.jupyter.widget-view+json": {
       "model_id": "6d65ff9439c44e43afba7512b9900a7f",
       "version_major": 2,
       "version_minor": 0
      },
      "text/plain": [
       "HBox(children=(Canvas(height=84, width=84),), layout=Layout(align_items='center', display='flex', flex_flow='r…"
      ]
     },
     "metadata": {},
     "output_type": "display_data"
    },
    {
     "name": "stdout",
     "output_type": "stream",
     "text": [
      "[(1, 3, 84, 84), (1,), (1,), (1,), (1, 2)]\n",
      "(7,)\n",
      "(3, 84, 84)\n"
     ]
    },
    {
     "data": {
      "application/vnd.jupyter.widget-view+json": {
       "model_id": "18a37fe234264a34870a02090dd774f2",
       "version_major": 2,
       "version_minor": 0
      },
      "text/plain": [
       "HBox(children=(Canvas(height=84, width=84),), layout=Layout(align_items='center', display='flex', flex_flow='r…"
      ]
     },
     "metadata": {},
     "output_type": "display_data"
    },
    {
     "name": "stdout",
     "output_type": "stream",
     "text": [
      "[(1, 3, 84, 84), (1,), (1,), (1,), (1, 2)]\n",
      "(7,)\n",
      "(3, 84, 84)\n"
     ]
    },
    {
     "data": {
      "application/vnd.jupyter.widget-view+json": {
       "model_id": "c3afc94c1e894c01bf57653f57c65c70",
       "version_major": 2,
       "version_minor": 0
      },
      "text/plain": [
       "HBox(children=(Canvas(height=84, width=84),), layout=Layout(align_items='center', display='flex', flex_flow='r…"
      ]
     },
     "metadata": {},
     "output_type": "display_data"
    },
    {
     "name": "stdout",
     "output_type": "stream",
     "text": [
      "[(1, 3, 84, 84), (1,), (1,), (1,), (1, 2)]\n",
      "(7,)\n",
      "(3, 84, 84)\n"
     ]
    },
    {
     "data": {
      "application/vnd.jupyter.widget-view+json": {
       "model_id": "2cf19435a4384ca7932e2b1a4cf3ee81",
       "version_major": 2,
       "version_minor": 0
      },
      "text/plain": [
       "HBox(children=(Canvas(height=84, width=84),), layout=Layout(align_items='center', display='flex', flex_flow='r…"
      ]
     },
     "metadata": {},
     "output_type": "display_data"
    },
    {
     "name": "stdout",
     "output_type": "stream",
     "text": [
      "[(1, 3, 84, 84), (1,), (1,), (1,), (1, 2)]\n",
      "(7,)\n",
      "(3, 84, 84)\n"
     ]
    },
    {
     "data": {
      "application/vnd.jupyter.widget-view+json": {
       "model_id": "7dbb5ab8f4554db1b6d0e82ccef4d0ef",
       "version_major": 2,
       "version_minor": 0
      },
      "text/plain": [
       "HBox(children=(Canvas(height=84, width=84),), layout=Layout(align_items='center', display='flex', flex_flow='r…"
      ]
     },
     "metadata": {},
     "output_type": "display_data"
    },
    {
     "name": "stdout",
     "output_type": "stream",
     "text": [
      "[(1, 3, 84, 84), (1,), (1,), (1,), (1, 2)]\n",
      "(7,)\n",
      "(3, 84, 84)\n"
     ]
    },
    {
     "data": {
      "application/vnd.jupyter.widget-view+json": {
       "model_id": "1e036b23a7014f8390cf811113e1513d",
       "version_major": 2,
       "version_minor": 0
      },
      "text/plain": [
       "HBox(children=(Canvas(height=84, width=84),), layout=Layout(align_items='center', display='flex', flex_flow='r…"
      ]
     },
     "metadata": {},
     "output_type": "display_data"
    },
    {
     "name": "stdout",
     "output_type": "stream",
     "text": [
      "[(1, 3, 84, 84), (1,), (1,), (1,), (1, 2)]\n",
      "(7,)\n",
      "(3, 84, 84)\n"
     ]
    },
    {
     "data": {
      "application/vnd.jupyter.widget-view+json": {
       "model_id": "ea3c856b42f94787ae4965fb1c7ae383",
       "version_major": 2,
       "version_minor": 0
      },
      "text/plain": [
       "HBox(children=(Canvas(height=84, width=84),), layout=Layout(align_items='center', display='flex', flex_flow='r…"
      ]
     },
     "metadata": {},
     "output_type": "display_data"
    },
    {
     "name": "stdout",
     "output_type": "stream",
     "text": [
      "[(1, 3, 84, 84), (1,), (1,), (1,), (1, 2)]\n",
      "(7,)\n",
      "(3, 84, 84)\n"
     ]
    },
    {
     "data": {
      "application/vnd.jupyter.widget-view+json": {
       "model_id": "3e726424d43349269c131140ab7d84cd",
       "version_major": 2,
       "version_minor": 0
      },
      "text/plain": [
       "HBox(children=(Canvas(height=84, width=84),), layout=Layout(align_items='center', display='flex', flex_flow='r…"
      ]
     },
     "metadata": {},
     "output_type": "display_data"
    },
    {
     "name": "stdout",
     "output_type": "stream",
     "text": [
      "[(1, 3, 84, 84), (1,), (1,), (1,), (1, 2)]\n",
      "(7,)\n",
      "(3, 84, 84)\n"
     ]
    },
    {
     "data": {
      "application/vnd.jupyter.widget-view+json": {
       "model_id": "96f1893906294a5cb69581377dfa2011",
       "version_major": 2,
       "version_minor": 0
      },
      "text/plain": [
       "HBox(children=(Canvas(height=84, width=84),), layout=Layout(align_items='center', display='flex', flex_flow='r…"
      ]
     },
     "metadata": {},
     "output_type": "display_data"
    },
    {
     "name": "stdout",
     "output_type": "stream",
     "text": [
      "[(1, 3, 84, 84), (1,), (1,), (1,), (1, 2)]\n",
      "(7,)\n",
      "(3, 84, 84)\n"
     ]
    },
    {
     "data": {
      "application/vnd.jupyter.widget-view+json": {
       "model_id": "59c837e153204b9cac169e734dc42225",
       "version_major": 2,
       "version_minor": 0
      },
      "text/plain": [
       "HBox(children=(Canvas(height=84, width=84),), layout=Layout(align_items='center', display='flex', flex_flow='r…"
      ]
     },
     "metadata": {},
     "output_type": "display_data"
    },
    {
     "name": "stdout",
     "output_type": "stream",
     "text": [
      "[(1, 3, 84, 84), (1,), (1,), (1,), (1, 2)]\n",
      "(7,)\n",
      "(3, 84, 84)\n"
     ]
    },
    {
     "data": {
      "application/vnd.jupyter.widget-view+json": {
       "model_id": "42b38f000e4b4f80b3e19e8dd63d982f",
       "version_major": 2,
       "version_minor": 0
      },
      "text/plain": [
       "HBox(children=(Canvas(height=84, width=84),), layout=Layout(align_items='center', display='flex', flex_flow='r…"
      ]
     },
     "metadata": {},
     "output_type": "display_data"
    },
    {
     "name": "stdout",
     "output_type": "stream",
     "text": [
      "[(1, 3, 84, 84), (1,), (1,), (1,), (1, 2)]\n",
      "(7,)\n",
      "(3, 84, 84)\n"
     ]
    },
    {
     "data": {
      "application/vnd.jupyter.widget-view+json": {
       "model_id": "a8eb5f83035e4723b4564cfc1d14584f",
       "version_major": 2,
       "version_minor": 0
      },
      "text/plain": [
       "HBox(children=(Canvas(height=84, width=84),), layout=Layout(align_items='center', display='flex', flex_flow='r…"
      ]
     },
     "metadata": {},
     "output_type": "display_data"
    },
    {
     "name": "stdout",
     "output_type": "stream",
     "text": [
      "[(1, 3, 84, 84), (1,), (1,), (1,), (1, 2)]\n",
      "(7,)\n",
      "(3, 84, 84)\n"
     ]
    },
    {
     "data": {
      "application/vnd.jupyter.widget-view+json": {
       "model_id": "c645d5f1f0924464b894081652acb960",
       "version_major": 2,
       "version_minor": 0
      },
      "text/plain": [
       "HBox(children=(Canvas(height=84, width=84),), layout=Layout(align_items='center', display='flex', flex_flow='r…"
      ]
     },
     "metadata": {},
     "output_type": "display_data"
    },
    {
     "name": "stdout",
     "output_type": "stream",
     "text": [
      "[(1, 3, 84, 84), (1,), (1,), (1,), (1, 2)]\n",
      "(7,)\n",
      "(3, 84, 84)\n"
     ]
    },
    {
     "data": {
      "application/vnd.jupyter.widget-view+json": {
       "model_id": "7f6277ffafe04d868e48ff6a95fcfb3d",
       "version_major": 2,
       "version_minor": 0
      },
      "text/plain": [
       "HBox(children=(Canvas(height=84, width=84),), layout=Layout(align_items='center', display='flex', flex_flow='r…"
      ]
     },
     "metadata": {},
     "output_type": "display_data"
    },
    {
     "name": "stdout",
     "output_type": "stream",
     "text": [
      "[(1, 3, 84, 84), (1,), (1,), (1,), (1, 2)]\n",
      "(7,)\n",
      "(3, 84, 84)\n"
     ]
    },
    {
     "data": {
      "application/vnd.jupyter.widget-view+json": {
       "model_id": "58c4fb1f518b4641a88c19a5894e210b",
       "version_major": 2,
       "version_minor": 0
      },
      "text/plain": [
       "HBox(children=(Canvas(height=84, width=84),), layout=Layout(align_items='center', display='flex', flex_flow='r…"
      ]
     },
     "metadata": {},
     "output_type": "display_data"
    },
    {
     "name": "stdout",
     "output_type": "stream",
     "text": [
      "[(1, 3, 84, 84), (1,), (1,), (1,), (1, 2)]\n",
      "(7,)\n",
      "(3, 84, 84)\n"
     ]
    },
    {
     "data": {
      "application/vnd.jupyter.widget-view+json": {
       "model_id": "57cdeea0bfd94cf593615bf030fc4a60",
       "version_major": 2,
       "version_minor": 0
      },
      "text/plain": [
       "HBox(children=(Canvas(height=84, width=84),), layout=Layout(align_items='center', display='flex', flex_flow='r…"
      ]
     },
     "metadata": {},
     "output_type": "display_data"
    },
    {
     "name": "stdout",
     "output_type": "stream",
     "text": [
      "[(1, 3, 84, 84), (1,), (1,), (1,), (1, 2)]\n",
      "(7,)\n",
      "(3, 84, 84)\n"
     ]
    },
    {
     "data": {
      "application/vnd.jupyter.widget-view+json": {
       "model_id": "9d3574e517854f0fa6032d8af1422cea",
       "version_major": 2,
       "version_minor": 0
      },
      "text/plain": [
       "HBox(children=(Canvas(height=84, width=84),), layout=Layout(align_items='center', display='flex', flex_flow='r…"
      ]
     },
     "metadata": {},
     "output_type": "display_data"
    },
    {
     "name": "stdout",
     "output_type": "stream",
     "text": [
      "[(1, 3, 84, 84), (1,), (1,), (1,), (1, 2)]\n",
      "(7,)\n",
      "(3, 84, 84)\n"
     ]
    },
    {
     "data": {
      "application/vnd.jupyter.widget-view+json": {
       "model_id": "d1de9550c665491db3a76ff5092389d8",
       "version_major": 2,
       "version_minor": 0
      },
      "text/plain": [
       "HBox(children=(Canvas(height=84, width=84),), layout=Layout(align_items='center', display='flex', flex_flow='r…"
      ]
     },
     "metadata": {},
     "output_type": "display_data"
    },
    {
     "name": "stdout",
     "output_type": "stream",
     "text": [
      "[(1, 3, 84, 84), (1,), (1,), (1,), (1, 2)]\n",
      "(7,)\n",
      "(3, 84, 84)\n"
     ]
    },
    {
     "data": {
      "application/vnd.jupyter.widget-view+json": {
       "model_id": "7e03d95f4e014636b3510a458aa2e0d2",
       "version_major": 2,
       "version_minor": 0
      },
      "text/plain": [
       "HBox(children=(Canvas(height=84, width=84),), layout=Layout(align_items='center', display='flex', flex_flow='r…"
      ]
     },
     "metadata": {},
     "output_type": "display_data"
    },
    {
     "name": "stdout",
     "output_type": "stream",
     "text": [
      "[(1, 3, 84, 84), (1,), (1,), (1,), (1, 2)]\n",
      "(7,)\n",
      "(3, 84, 84)\n"
     ]
    },
    {
     "data": {
      "application/vnd.jupyter.widget-view+json": {
       "model_id": "230756b83fd14ab093fc97d55a490ca0",
       "version_major": 2,
       "version_minor": 0
      },
      "text/plain": [
       "HBox(children=(Canvas(height=84, width=84),), layout=Layout(align_items='center', display='flex', flex_flow='r…"
      ]
     },
     "metadata": {},
     "output_type": "display_data"
    },
    {
     "name": "stdout",
     "output_type": "stream",
     "text": [
      "[(1, 3, 84, 84), (1,), (1,), (1,), (1, 2)]\n",
      "(7,)\n",
      "(3, 84, 84)\n"
     ]
    },
    {
     "data": {
      "application/vnd.jupyter.widget-view+json": {
       "model_id": "df65241567ce4ca69dda23caf21abf37",
       "version_major": 2,
       "version_minor": 0
      },
      "text/plain": [
       "HBox(children=(Canvas(height=84, width=84),), layout=Layout(align_items='center', display='flex', flex_flow='r…"
      ]
     },
     "metadata": {},
     "output_type": "display_data"
    },
    {
     "name": "stdout",
     "output_type": "stream",
     "text": [
      "[(1, 3, 84, 84), (1,), (1,), (1,), (1, 2)]\n",
      "(7,)\n",
      "(3, 84, 84)\n"
     ]
    },
    {
     "data": {
      "application/vnd.jupyter.widget-view+json": {
       "model_id": "cef83dc010c0497fadb13580de1a1d32",
       "version_major": 2,
       "version_minor": 0
      },
      "text/plain": [
       "HBox(children=(Canvas(height=84, width=84),), layout=Layout(align_items='center', display='flex', flex_flow='r…"
      ]
     },
     "metadata": {},
     "output_type": "display_data"
    },
    {
     "name": "stdout",
     "output_type": "stream",
     "text": [
      "[(1, 3, 84, 84), (1,), (1,), (1,), (1, 2)]\n",
      "(7,)\n",
      "(3, 84, 84)\n"
     ]
    },
    {
     "data": {
      "application/vnd.jupyter.widget-view+json": {
       "model_id": "41071c2f477b49eba369a8ae487f219b",
       "version_major": 2,
       "version_minor": 0
      },
      "text/plain": [
       "HBox(children=(Canvas(height=84, width=84),), layout=Layout(align_items='center', display='flex', flex_flow='r…"
      ]
     },
     "metadata": {},
     "output_type": "display_data"
    },
    {
     "name": "stdout",
     "output_type": "stream",
     "text": [
      "[(1, 3, 84, 84), (1,), (1,), (1,), (1, 2)]\n",
      "(7,)\n",
      "(3, 84, 84)\n"
     ]
    },
    {
     "data": {
      "application/vnd.jupyter.widget-view+json": {
       "model_id": "fc58380d61ac46cea44c106d4991c299",
       "version_major": 2,
       "version_minor": 0
      },
      "text/plain": [
       "HBox(children=(Canvas(height=84, width=84),), layout=Layout(align_items='center', display='flex', flex_flow='r…"
      ]
     },
     "metadata": {},
     "output_type": "display_data"
    },
    {
     "name": "stdout",
     "output_type": "stream",
     "text": [
      "[(1, 3, 84, 84), (1,), (1,), (1,), (1, 2)]\n",
      "(7,)\n",
      "(3, 84, 84)\n"
     ]
    },
    {
     "data": {
      "application/vnd.jupyter.widget-view+json": {
       "model_id": "3fdd120e06254d998247d5c5dac3f879",
       "version_major": 2,
       "version_minor": 0
      },
      "text/plain": [
       "HBox(children=(Canvas(height=84, width=84),), layout=Layout(align_items='center', display='flex', flex_flow='r…"
      ]
     },
     "metadata": {},
     "output_type": "display_data"
    },
    {
     "name": "stdout",
     "output_type": "stream",
     "text": [
      "[(1, 3, 84, 84), (1,), (1,), (1,), (1, 2)]\n",
      "(7,)\n",
      "(3, 84, 84)\n"
     ]
    },
    {
     "data": {
      "application/vnd.jupyter.widget-view+json": {
       "model_id": "7e7ec4f0588b490da6df0f778aee3886",
       "version_major": 2,
       "version_minor": 0
      },
      "text/plain": [
       "HBox(children=(Canvas(height=84, width=84),), layout=Layout(align_items='center', display='flex', flex_flow='r…"
      ]
     },
     "metadata": {},
     "output_type": "display_data"
    },
    {
     "name": "stdout",
     "output_type": "stream",
     "text": [
      "[(1, 3, 84, 84), (1,), (1,), (1,), (1, 2)]\n",
      "(7,)\n",
      "(3, 84, 84)\n"
     ]
    },
    {
     "data": {
      "application/vnd.jupyter.widget-view+json": {
       "model_id": "64d5ea15ed744a4ca5d850dbcd40c91b",
       "version_major": 2,
       "version_minor": 0
      },
      "text/plain": [
       "HBox(children=(Canvas(height=84, width=84),), layout=Layout(align_items='center', display='flex', flex_flow='r…"
      ]
     },
     "metadata": {},
     "output_type": "display_data"
    },
    {
     "name": "stdout",
     "output_type": "stream",
     "text": [
      "[(1, 3, 84, 84), (1,), (1,), (1,), (1, 2)]\n",
      "(7,)\n",
      "(3, 84, 84)\n"
     ]
    },
    {
     "data": {
      "application/vnd.jupyter.widget-view+json": {
       "model_id": "72f0bd4622404d55b07296f49ee7d80a",
       "version_major": 2,
       "version_minor": 0
      },
      "text/plain": [
       "HBox(children=(Canvas(height=84, width=84),), layout=Layout(align_items='center', display='flex', flex_flow='r…"
      ]
     },
     "metadata": {},
     "output_type": "display_data"
    },
    {
     "name": "stdout",
     "output_type": "stream",
     "text": [
      "[(1, 3, 84, 84), (1,), (1,), (1,), (1, 2)]\n",
      "(7,)\n",
      "(3, 84, 84)\n"
     ]
    },
    {
     "data": {
      "application/vnd.jupyter.widget-view+json": {
       "model_id": "7a32103fda5e4f3fbfd386e18037f6ae",
       "version_major": 2,
       "version_minor": 0
      },
      "text/plain": [
       "HBox(children=(Canvas(height=84, width=84),), layout=Layout(align_items='center', display='flex', flex_flow='r…"
      ]
     },
     "metadata": {},
     "output_type": "display_data"
    },
    {
     "name": "stdout",
     "output_type": "stream",
     "text": [
      "[(1, 3, 84, 84), (1,), (1,), (1,), (1, 2)]\n",
      "(7,)\n",
      "(3, 84, 84)\n"
     ]
    },
    {
     "data": {
      "application/vnd.jupyter.widget-view+json": {
       "model_id": "0515742c88484524a75513a2fca56a10",
       "version_major": 2,
       "version_minor": 0
      },
      "text/plain": [
       "HBox(children=(Canvas(height=84, width=84),), layout=Layout(align_items='center', display='flex', flex_flow='r…"
      ]
     },
     "metadata": {},
     "output_type": "display_data"
    },
    {
     "name": "stdout",
     "output_type": "stream",
     "text": [
      "[(1, 3, 84, 84), (1,), (1,), (1,), (1, 2)]\n",
      "(7,)\n",
      "(3, 84, 84)\n"
     ]
    },
    {
     "data": {
      "application/vnd.jupyter.widget-view+json": {
       "model_id": "3095b3a97a704612bf1252e418a025b7",
       "version_major": 2,
       "version_minor": 0
      },
      "text/plain": [
       "HBox(children=(Canvas(height=84, width=84),), layout=Layout(align_items='center', display='flex', flex_flow='r…"
      ]
     },
     "metadata": {},
     "output_type": "display_data"
    },
    {
     "name": "stdout",
     "output_type": "stream",
     "text": [
      "[(1, 3, 84, 84), (1,), (1,), (1,), (1, 2)]\n",
      "(7,)\n",
      "(3, 84, 84)\n"
     ]
    },
    {
     "data": {
      "application/vnd.jupyter.widget-view+json": {
       "model_id": "93ff5c058a714a5fae40ce6786e00e56",
       "version_major": 2,
       "version_minor": 0
      },
      "text/plain": [
       "HBox(children=(Canvas(height=84, width=84),), layout=Layout(align_items='center', display='flex', flex_flow='r…"
      ]
     },
     "metadata": {},
     "output_type": "display_data"
    },
    {
     "name": "stdout",
     "output_type": "stream",
     "text": [
      "[(1, 3, 84, 84), (1,), (1,), (1,), (1, 2)]\n",
      "(7,)\n",
      "(3, 84, 84)\n"
     ]
    },
    {
     "data": {
      "application/vnd.jupyter.widget-view+json": {
       "model_id": "ec9ae49992184b32a27af40626d7ece5",
       "version_major": 2,
       "version_minor": 0
      },
      "text/plain": [
       "HBox(children=(Canvas(height=84, width=84),), layout=Layout(align_items='center', display='flex', flex_flow='r…"
      ]
     },
     "metadata": {},
     "output_type": "display_data"
    },
    {
     "name": "stdout",
     "output_type": "stream",
     "text": [
      "[(1, 3, 84, 84), (1,), (1,), (1,), (1, 2)]\n",
      "(7,)\n",
      "(3, 84, 84)\n"
     ]
    },
    {
     "data": {
      "application/vnd.jupyter.widget-view+json": {
       "model_id": "56261fd54fc4487ba5a89943a8c52f76",
       "version_major": 2,
       "version_minor": 0
      },
      "text/plain": [
       "HBox(children=(Canvas(height=84, width=84),), layout=Layout(align_items='center', display='flex', flex_flow='r…"
      ]
     },
     "metadata": {},
     "output_type": "display_data"
    },
    {
     "name": "stdout",
     "output_type": "stream",
     "text": [
      "[(1, 3, 84, 84), (1,), (1,), (1,), (1, 2)]\n",
      "(7,)\n",
      "(3, 84, 84)\n"
     ]
    },
    {
     "data": {
      "application/vnd.jupyter.widget-view+json": {
       "model_id": "05eba2f5ab1b48b4ab42be5f01765dbe",
       "version_major": 2,
       "version_minor": 0
      },
      "text/plain": [
       "HBox(children=(Canvas(height=84, width=84),), layout=Layout(align_items='center', display='flex', flex_flow='r…"
      ]
     },
     "metadata": {},
     "output_type": "display_data"
    },
    {
     "name": "stdout",
     "output_type": "stream",
     "text": [
      "[(1, 3, 84, 84), (1,), (1,), (1,), (1, 2)]\n",
      "(7,)\n",
      "(3, 84, 84)\n"
     ]
    },
    {
     "data": {
      "application/vnd.jupyter.widget-view+json": {
       "model_id": "58fc39f54d2c49f1ac71d782383a6646",
       "version_major": 2,
       "version_minor": 0
      },
      "text/plain": [
       "HBox(children=(Canvas(height=84, width=84),), layout=Layout(align_items='center', display='flex', flex_flow='r…"
      ]
     },
     "metadata": {},
     "output_type": "display_data"
    },
    {
     "name": "stdout",
     "output_type": "stream",
     "text": [
      "[(1, 3, 84, 84), (1,), (1,), (1,), (1, 2)]\n",
      "(7,)\n",
      "(3, 84, 84)\n"
     ]
    },
    {
     "data": {
      "application/vnd.jupyter.widget-view+json": {
       "model_id": "f14ea08490a94ee88e630f20b4e5c5d0",
       "version_major": 2,
       "version_minor": 0
      },
      "text/plain": [
       "HBox(children=(Canvas(height=84, width=84),), layout=Layout(align_items='center', display='flex', flex_flow='r…"
      ]
     },
     "metadata": {},
     "output_type": "display_data"
    },
    {
     "name": "stdout",
     "output_type": "stream",
     "text": [
      "[(1, 3, 84, 84), (1,), (1,), (1,), (1, 2)]\n",
      "(7,)\n",
      "(3, 84, 84)\n"
     ]
    },
    {
     "data": {
      "application/vnd.jupyter.widget-view+json": {
       "model_id": "c4eca8329a534a60914d68d143c0d6d7",
       "version_major": 2,
       "version_minor": 0
      },
      "text/plain": [
       "HBox(children=(Canvas(height=84, width=84),), layout=Layout(align_items='center', display='flex', flex_flow='r…"
      ]
     },
     "metadata": {},
     "output_type": "display_data"
    },
    {
     "name": "stdout",
     "output_type": "stream",
     "text": [
      "[(1, 3, 84, 84), (1,), (1,), (1,), (1, 2)]\n",
      "(7,)\n",
      "(3, 84, 84)\n"
     ]
    },
    {
     "data": {
      "application/vnd.jupyter.widget-view+json": {
       "model_id": "7a619fab0d454be4908cd746f1e07d35",
       "version_major": 2,
       "version_minor": 0
      },
      "text/plain": [
       "HBox(children=(Canvas(height=84, width=84),), layout=Layout(align_items='center', display='flex', flex_flow='r…"
      ]
     },
     "metadata": {},
     "output_type": "display_data"
    },
    {
     "name": "stdout",
     "output_type": "stream",
     "text": [
      "[(1, 3, 84, 84), (1,), (1,), (1,), (1, 2)]\n",
      "(7,)\n",
      "(3, 84, 84)\n"
     ]
    },
    {
     "data": {
      "application/vnd.jupyter.widget-view+json": {
       "model_id": "e51253b3cfe14a96984b6bb78e86d916",
       "version_major": 2,
       "version_minor": 0
      },
      "text/plain": [
       "HBox(children=(Canvas(height=84, width=84),), layout=Layout(align_items='center', display='flex', flex_flow='r…"
      ]
     },
     "metadata": {},
     "output_type": "display_data"
    },
    {
     "name": "stdout",
     "output_type": "stream",
     "text": [
      "[(1, 3, 84, 84), (1,), (1,), (1,), (1, 2)]\n",
      "(7,)\n",
      "(3, 84, 84)\n"
     ]
    },
    {
     "data": {
      "application/vnd.jupyter.widget-view+json": {
       "model_id": "2c6a51542fa94a5bb781f0afabbb685d",
       "version_major": 2,
       "version_minor": 0
      },
      "text/plain": [
       "HBox(children=(Canvas(height=84, width=84),), layout=Layout(align_items='center', display='flex', flex_flow='r…"
      ]
     },
     "metadata": {},
     "output_type": "display_data"
    },
    {
     "name": "stdout",
     "output_type": "stream",
     "text": [
      "[(1, 3, 84, 84), (1,), (1,), (1,), (1, 2)]\n",
      "(7,)\n",
      "(3, 84, 84)\n"
     ]
    },
    {
     "data": {
      "application/vnd.jupyter.widget-view+json": {
       "model_id": "42b061c6725c4b8b865c94e58f890c15",
       "version_major": 2,
       "version_minor": 0
      },
      "text/plain": [
       "HBox(children=(Canvas(height=84, width=84),), layout=Layout(align_items='center', display='flex', flex_flow='r…"
      ]
     },
     "metadata": {},
     "output_type": "display_data"
    },
    {
     "name": "stdout",
     "output_type": "stream",
     "text": [
      "[(1, 3, 84, 84), (1,), (1,), (1,), (1, 2)]\n",
      "(7,)\n",
      "(3, 84, 84)\n"
     ]
    },
    {
     "data": {
      "application/vnd.jupyter.widget-view+json": {
       "model_id": "1033d420b61e4a6c9ed070691dc2ce2e",
       "version_major": 2,
       "version_minor": 0
      },
      "text/plain": [
       "HBox(children=(Canvas(height=84, width=84),), layout=Layout(align_items='center', display='flex', flex_flow='r…"
      ]
     },
     "metadata": {},
     "output_type": "display_data"
    },
    {
     "name": "stdout",
     "output_type": "stream",
     "text": [
      "[(1, 3, 84, 84), (1,), (1,), (1,), (1, 2)]\n",
      "(7,)\n",
      "(3, 84, 84)\n"
     ]
    },
    {
     "data": {
      "application/vnd.jupyter.widget-view+json": {
       "model_id": "0277eaf874644b7ea718578eab98f032",
       "version_major": 2,
       "version_minor": 0
      },
      "text/plain": [
       "HBox(children=(Canvas(height=84, width=84),), layout=Layout(align_items='center', display='flex', flex_flow='r…"
      ]
     },
     "metadata": {},
     "output_type": "display_data"
    },
    {
     "name": "stdout",
     "output_type": "stream",
     "text": [
      "[(1, 3, 84, 84), (1,), (1,), (1,), (1, 2)]\n",
      "(7,)\n",
      "(3, 84, 84)\n"
     ]
    },
    {
     "data": {
      "application/vnd.jupyter.widget-view+json": {
       "model_id": "e73efaedb6f244508fd02ac0ea9c854f",
       "version_major": 2,
       "version_minor": 0
      },
      "text/plain": [
       "HBox(children=(Canvas(height=84, width=84),), layout=Layout(align_items='center', display='flex', flex_flow='r…"
      ]
     },
     "metadata": {},
     "output_type": "display_data"
    },
    {
     "name": "stdout",
     "output_type": "stream",
     "text": [
      "[(1, 3, 84, 84), (1,), (1,), (1,), (1, 2)]\n",
      "(7,)\n",
      "(3, 84, 84)\n"
     ]
    },
    {
     "data": {
      "application/vnd.jupyter.widget-view+json": {
       "model_id": "928d9b39c3294ef9be5a526fe9d80756",
       "version_major": 2,
       "version_minor": 0
      },
      "text/plain": [
       "HBox(children=(Canvas(height=84, width=84),), layout=Layout(align_items='center', display='flex', flex_flow='r…"
      ]
     },
     "metadata": {},
     "output_type": "display_data"
    },
    {
     "name": "stdout",
     "output_type": "stream",
     "text": [
      "[(1, 3, 84, 84), (1,), (1,), (1,), (1, 2)]\n",
      "(7,)\n",
      "(3, 84, 84)\n"
     ]
    },
    {
     "data": {
      "application/vnd.jupyter.widget-view+json": {
       "model_id": "c395a859e1b54f47a5c41a8a6c59bfe6",
       "version_major": 2,
       "version_minor": 0
      },
      "text/plain": [
       "HBox(children=(Canvas(height=84, width=84),), layout=Layout(align_items='center', display='flex', flex_flow='r…"
      ]
     },
     "metadata": {},
     "output_type": "display_data"
    },
    {
     "name": "stdout",
     "output_type": "stream",
     "text": [
      "[(1, 3, 84, 84), (1,), (1,), (1,), (1, 2)]\n",
      "(7,)\n",
      "(3, 84, 84)\n"
     ]
    },
    {
     "data": {
      "application/vnd.jupyter.widget-view+json": {
       "model_id": "81d564ea9ba74f1e8f1f185ad6156d6f",
       "version_major": 2,
       "version_minor": 0
      },
      "text/plain": [
       "HBox(children=(Canvas(height=84, width=84),), layout=Layout(align_items='center', display='flex', flex_flow='r…"
      ]
     },
     "metadata": {},
     "output_type": "display_data"
    },
    {
     "name": "stdout",
     "output_type": "stream",
     "text": [
      "[(1, 3, 84, 84), (1,), (1,), (1,), (1, 2)]\n",
      "(7,)\n",
      "(3, 84, 84)\n"
     ]
    },
    {
     "data": {
      "application/vnd.jupyter.widget-view+json": {
       "model_id": "1ffa9c16823b4f5b955bad4d6f6bb315",
       "version_major": 2,
       "version_minor": 0
      },
      "text/plain": [
       "HBox(children=(Canvas(height=84, width=84),), layout=Layout(align_items='center', display='flex', flex_flow='r…"
      ]
     },
     "metadata": {},
     "output_type": "display_data"
    },
    {
     "name": "stdout",
     "output_type": "stream",
     "text": [
      "[(1, 3, 84, 84), (1,), (1,), (1,), (1, 2)]\n",
      "(7,)\n",
      "(3, 84, 84)\n"
     ]
    },
    {
     "data": {
      "application/vnd.jupyter.widget-view+json": {
       "model_id": "fb77a7879629431092f76ce039b7ac77",
       "version_major": 2,
       "version_minor": 0
      },
      "text/plain": [
       "HBox(children=(Canvas(height=84, width=84),), layout=Layout(align_items='center', display='flex', flex_flow='r…"
      ]
     },
     "metadata": {},
     "output_type": "display_data"
    },
    {
     "name": "stdout",
     "output_type": "stream",
     "text": [
      "[(1, 3, 84, 84), (1,), (1,), (1,), (1, 2)]\n",
      "(7,)\n",
      "(3, 84, 84)\n"
     ]
    },
    {
     "data": {
      "application/vnd.jupyter.widget-view+json": {
       "model_id": "9064503d8f414557a50c9dacde641b3b",
       "version_major": 2,
       "version_minor": 0
      },
      "text/plain": [
       "HBox(children=(Canvas(height=84, width=84),), layout=Layout(align_items='center', display='flex', flex_flow='r…"
      ]
     },
     "metadata": {},
     "output_type": "display_data"
    },
    {
     "name": "stdout",
     "output_type": "stream",
     "text": [
      "[(1, 3, 84, 84), (1,), (1,), (1,), (1, 2)]\n",
      "(7,)\n",
      "(3, 84, 84)\n"
     ]
    },
    {
     "data": {
      "application/vnd.jupyter.widget-view+json": {
       "model_id": "96218c42d0b847f19466f6b13e9eba64",
       "version_major": 2,
       "version_minor": 0
      },
      "text/plain": [
       "HBox(children=(Canvas(height=84, width=84),), layout=Layout(align_items='center', display='flex', flex_flow='r…"
      ]
     },
     "metadata": {},
     "output_type": "display_data"
    },
    {
     "name": "stdout",
     "output_type": "stream",
     "text": [
      "[(1, 3, 84, 84), (1,), (1,), (1,), (1, 2)]\n",
      "(7,)\n",
      "(3, 84, 84)\n"
     ]
    },
    {
     "data": {
      "application/vnd.jupyter.widget-view+json": {
       "model_id": "fbc559a24f154d2590dac5360768cd33",
       "version_major": 2,
       "version_minor": 0
      },
      "text/plain": [
       "HBox(children=(Canvas(height=84, width=84),), layout=Layout(align_items='center', display='flex', flex_flow='r…"
      ]
     },
     "metadata": {},
     "output_type": "display_data"
    },
    {
     "name": "stdout",
     "output_type": "stream",
     "text": [
      "[(1, 3, 84, 84), (1,), (1,), (1,), (1, 2)]\n",
      "(7,)\n",
      "(3, 84, 84)\n"
     ]
    },
    {
     "data": {
      "application/vnd.jupyter.widget-view+json": {
       "model_id": "3d958cded760492ebc221baa491bf5b6",
       "version_major": 2,
       "version_minor": 0
      },
      "text/plain": [
       "HBox(children=(Canvas(height=84, width=84),), layout=Layout(align_items='center', display='flex', flex_flow='r…"
      ]
     },
     "metadata": {},
     "output_type": "display_data"
    },
    {
     "name": "stdout",
     "output_type": "stream",
     "text": [
      "[(1, 3, 84, 84), (1,), (1,), (1,), (1, 2)]\n",
      "(7,)\n",
      "(3, 84, 84)\n"
     ]
    },
    {
     "data": {
      "application/vnd.jupyter.widget-view+json": {
       "model_id": "844713ffa3f24b44bb05b7c09301e363",
       "version_major": 2,
       "version_minor": 0
      },
      "text/plain": [
       "HBox(children=(Canvas(height=84, width=84),), layout=Layout(align_items='center', display='flex', flex_flow='r…"
      ]
     },
     "metadata": {},
     "output_type": "display_data"
    },
    {
     "name": "stdout",
     "output_type": "stream",
     "text": [
      "[(1, 3, 84, 84), (1,), (1,), (1,), (1, 2)]\n",
      "(7,)\n",
      "(3, 84, 84)\n"
     ]
    },
    {
     "data": {
      "application/vnd.jupyter.widget-view+json": {
       "model_id": "ed3aee8f600c45b0a2103e280fe29d00",
       "version_major": 2,
       "version_minor": 0
      },
      "text/plain": [
       "HBox(children=(Canvas(height=84, width=84),), layout=Layout(align_items='center', display='flex', flex_flow='r…"
      ]
     },
     "metadata": {},
     "output_type": "display_data"
    },
    {
     "name": "stdout",
     "output_type": "stream",
     "text": [
      "[(1, 3, 84, 84), (1,), (1,), (1,), (1, 2)]\n",
      "(7,)\n",
      "(3, 84, 84)\n"
     ]
    },
    {
     "data": {
      "application/vnd.jupyter.widget-view+json": {
       "model_id": "5dfb3325de6044ae83433f99ca264d86",
       "version_major": 2,
       "version_minor": 0
      },
      "text/plain": [
       "HBox(children=(Canvas(height=84, width=84),), layout=Layout(align_items='center', display='flex', flex_flow='r…"
      ]
     },
     "metadata": {},
     "output_type": "display_data"
    },
    {
     "name": "stdout",
     "output_type": "stream",
     "text": [
      "[(1, 3, 84, 84), (1,), (1,), (1,), (1, 2)]\n",
      "(7,)\n",
      "(3, 84, 84)\n"
     ]
    },
    {
     "data": {
      "application/vnd.jupyter.widget-view+json": {
       "model_id": "8e48f40ab5b441dba29928004b8dafc8",
       "version_major": 2,
       "version_minor": 0
      },
      "text/plain": [
       "HBox(children=(Canvas(height=84, width=84),), layout=Layout(align_items='center', display='flex', flex_flow='r…"
      ]
     },
     "metadata": {},
     "output_type": "display_data"
    },
    {
     "name": "stdout",
     "output_type": "stream",
     "text": [
      "[(1, 3, 84, 84), (1,), (1,), (1,), (1, 2)]\n",
      "(7,)\n",
      "(3, 84, 84)\n"
     ]
    },
    {
     "data": {
      "application/vnd.jupyter.widget-view+json": {
       "model_id": "dcf4fd8847f0434e9dd8a61d724aa782",
       "version_major": 2,
       "version_minor": 0
      },
      "text/plain": [
       "HBox(children=(Canvas(height=84, width=84),), layout=Layout(align_items='center', display='flex', flex_flow='r…"
      ]
     },
     "metadata": {},
     "output_type": "display_data"
    },
    {
     "name": "stdout",
     "output_type": "stream",
     "text": [
      "[(1, 3, 84, 84), (1,), (1,), (1,), (1, 2)]\n",
      "(7,)\n",
      "(3, 84, 84)\n"
     ]
    },
    {
     "data": {
      "application/vnd.jupyter.widget-view+json": {
       "model_id": "b5ab74aa3cb7434fa958d7dc201ebfab",
       "version_major": 2,
       "version_minor": 0
      },
      "text/plain": [
       "HBox(children=(Canvas(height=84, width=84),), layout=Layout(align_items='center', display='flex', flex_flow='r…"
      ]
     },
     "metadata": {},
     "output_type": "display_data"
    },
    {
     "name": "stdout",
     "output_type": "stream",
     "text": [
      "[(1, 3, 84, 84), (1,), (1,), (1,), (1, 2)]\n",
      "(7,)\n",
      "(3, 84, 84)\n"
     ]
    },
    {
     "data": {
      "application/vnd.jupyter.widget-view+json": {
       "model_id": "f77d7788caea4ce2804ba8c619a66d64",
       "version_major": 2,
       "version_minor": 0
      },
      "text/plain": [
       "HBox(children=(Canvas(height=84, width=84),), layout=Layout(align_items='center', display='flex', flex_flow='r…"
      ]
     },
     "metadata": {},
     "output_type": "display_data"
    },
    {
     "name": "stdout",
     "output_type": "stream",
     "text": [
      "[(1, 3, 84, 84), (1,), (1,), (1,), (1, 2)]\n",
      "(7,)\n",
      "(3, 84, 84)\n"
     ]
    },
    {
     "data": {
      "application/vnd.jupyter.widget-view+json": {
       "model_id": "c0173a5602bd40cdbde478e68bf3333d",
       "version_major": 2,
       "version_minor": 0
      },
      "text/plain": [
       "HBox(children=(Canvas(height=84, width=84),), layout=Layout(align_items='center', display='flex', flex_flow='r…"
      ]
     },
     "metadata": {},
     "output_type": "display_data"
    },
    {
     "name": "stdout",
     "output_type": "stream",
     "text": [
      "[(1, 3, 84, 84), (1,), (1,), (1,), (1, 2)]\n",
      "(7,)\n",
      "(3, 84, 84)\n"
     ]
    },
    {
     "data": {
      "application/vnd.jupyter.widget-view+json": {
       "model_id": "ed94f446f12f4297b2db1bd07c3363d4",
       "version_major": 2,
       "version_minor": 0
      },
      "text/plain": [
       "HBox(children=(Canvas(height=84, width=84),), layout=Layout(align_items='center', display='flex', flex_flow='r…"
      ]
     },
     "metadata": {},
     "output_type": "display_data"
    },
    {
     "name": "stdout",
     "output_type": "stream",
     "text": [
      "[(1, 3, 84, 84), (1,), (1,), (1,), (1, 2)]\n",
      "(7,)\n",
      "(3, 84, 84)\n"
     ]
    },
    {
     "data": {
      "application/vnd.jupyter.widget-view+json": {
       "model_id": "e526cc3ac5a04769bc3e9fb64f3214c0",
       "version_major": 2,
       "version_minor": 0
      },
      "text/plain": [
       "HBox(children=(Canvas(height=84, width=84),), layout=Layout(align_items='center', display='flex', flex_flow='r…"
      ]
     },
     "metadata": {},
     "output_type": "display_data"
    },
    {
     "name": "stdout",
     "output_type": "stream",
     "text": [
      "[(1, 3, 84, 84), (1,), (1,), (1,), (1, 2)]\n",
      "(7,)\n",
      "(3, 84, 84)\n"
     ]
    },
    {
     "data": {
      "application/vnd.jupyter.widget-view+json": {
       "model_id": "d798eab88b114590a23e45396beaa4f3",
       "version_major": 2,
       "version_minor": 0
      },
      "text/plain": [
       "HBox(children=(Canvas(height=84, width=84),), layout=Layout(align_items='center', display='flex', flex_flow='r…"
      ]
     },
     "metadata": {},
     "output_type": "display_data"
    },
    {
     "name": "stdout",
     "output_type": "stream",
     "text": [
      "[(1, 3, 84, 84), (1,), (1,), (1,), (1, 2)]\n",
      "(7,)\n",
      "(3, 84, 84)\n"
     ]
    },
    {
     "data": {
      "application/vnd.jupyter.widget-view+json": {
       "model_id": "b62e5c7b54fb4dfebb125c3ec334783f",
       "version_major": 2,
       "version_minor": 0
      },
      "text/plain": [
       "HBox(children=(Canvas(height=84, width=84),), layout=Layout(align_items='center', display='flex', flex_flow='r…"
      ]
     },
     "metadata": {},
     "output_type": "display_data"
    },
    {
     "name": "stdout",
     "output_type": "stream",
     "text": [
      "[(1, 3, 84, 84), (1,), (1,), (1,), (1, 2)]\n",
      "(7,)\n",
      "(3, 84, 84)\n"
     ]
    },
    {
     "data": {
      "application/vnd.jupyter.widget-view+json": {
       "model_id": "fe0d8abfe6e34335a77c471054bb96e9",
       "version_major": 2,
       "version_minor": 0
      },
      "text/plain": [
       "HBox(children=(Canvas(height=84, width=84),), layout=Layout(align_items='center', display='flex', flex_flow='r…"
      ]
     },
     "metadata": {},
     "output_type": "display_data"
    },
    {
     "name": "stdout",
     "output_type": "stream",
     "text": [
      "[(1, 3, 84, 84), (1,), (1,), (1,), (1, 2)]\n",
      "(7,)\n",
      "(3, 84, 84)\n"
     ]
    },
    {
     "data": {
      "application/vnd.jupyter.widget-view+json": {
       "model_id": "64e5d8eb2f234a328dea3151fdf6ba6b",
       "version_major": 2,
       "version_minor": 0
      },
      "text/plain": [
       "HBox(children=(Canvas(height=84, width=84),), layout=Layout(align_items='center', display='flex', flex_flow='r…"
      ]
     },
     "metadata": {},
     "output_type": "display_data"
    },
    {
     "name": "stdout",
     "output_type": "stream",
     "text": [
      "[(1, 3, 84, 84), (1,), (1,), (1,), (1, 2)]\n",
      "(7,)\n",
      "(3, 84, 84)\n"
     ]
    },
    {
     "data": {
      "application/vnd.jupyter.widget-view+json": {
       "model_id": "58c96438631947b8bbbb2507f862df8f",
       "version_major": 2,
       "version_minor": 0
      },
      "text/plain": [
       "HBox(children=(Canvas(height=84, width=84),), layout=Layout(align_items='center', display='flex', flex_flow='r…"
      ]
     },
     "metadata": {},
     "output_type": "display_data"
    },
    {
     "name": "stdout",
     "output_type": "stream",
     "text": [
      "[(1, 3, 84, 84), (1,), (1,), (1,), (1, 2)]\n",
      "(7,)\n",
      "(3, 84, 84)\n"
     ]
    },
    {
     "data": {
      "application/vnd.jupyter.widget-view+json": {
       "model_id": "1aa9ca56d39742e7bc2b9150685bb212",
       "version_major": 2,
       "version_minor": 0
      },
      "text/plain": [
       "HBox(children=(Canvas(height=84, width=84),), layout=Layout(align_items='center', display='flex', flex_flow='r…"
      ]
     },
     "metadata": {},
     "output_type": "display_data"
    },
    {
     "name": "stdout",
     "output_type": "stream",
     "text": [
      "[(1, 3, 84, 84), (1,), (1,), (1,), (1, 2)]\n",
      "(7,)\n",
      "(3, 84, 84)\n"
     ]
    },
    {
     "data": {
      "application/vnd.jupyter.widget-view+json": {
       "model_id": "c90f20db77a34739a46b15be5a59af8b",
       "version_major": 2,
       "version_minor": 0
      },
      "text/plain": [
       "HBox(children=(Canvas(height=84, width=84),), layout=Layout(align_items='center', display='flex', flex_flow='r…"
      ]
     },
     "metadata": {},
     "output_type": "display_data"
    },
    {
     "name": "stdout",
     "output_type": "stream",
     "text": [
      "[(1, 3, 84, 84), (1,), (1,), (1,), (1, 2)]\n",
      "(7,)\n",
      "(3, 84, 84)\n"
     ]
    },
    {
     "data": {
      "application/vnd.jupyter.widget-view+json": {
       "model_id": "8ce1b4d94ee443e28247a4d8d726ce1f",
       "version_major": 2,
       "version_minor": 0
      },
      "text/plain": [
       "HBox(children=(Canvas(height=84, width=84),), layout=Layout(align_items='center', display='flex', flex_flow='r…"
      ]
     },
     "metadata": {},
     "output_type": "display_data"
    },
    {
     "name": "stdout",
     "output_type": "stream",
     "text": [
      "[(1, 3, 84, 84), (1,), (1,), (1,), (1, 2)]\n",
      "(7,)\n",
      "(3, 84, 84)\n"
     ]
    },
    {
     "data": {
      "application/vnd.jupyter.widget-view+json": {
       "model_id": "e71cbd56914f439093934d2ea0c9700c",
       "version_major": 2,
       "version_minor": 0
      },
      "text/plain": [
       "HBox(children=(Canvas(height=84, width=84),), layout=Layout(align_items='center', display='flex', flex_flow='r…"
      ]
     },
     "metadata": {},
     "output_type": "display_data"
    },
    {
     "name": "stdout",
     "output_type": "stream",
     "text": [
      "[(1, 3, 84, 84), (1,), (1,), (1,), (1, 2)]\n",
      "(7,)\n",
      "(3, 84, 84)\n"
     ]
    },
    {
     "data": {
      "application/vnd.jupyter.widget-view+json": {
       "model_id": "afd4aef2112144459378887b2d2dc003",
       "version_major": 2,
       "version_minor": 0
      },
      "text/plain": [
       "HBox(children=(Canvas(height=84, width=84),), layout=Layout(align_items='center', display='flex', flex_flow='r…"
      ]
     },
     "metadata": {},
     "output_type": "display_data"
    },
    {
     "name": "stdout",
     "output_type": "stream",
     "text": [
      "[(1, 3, 84, 84), (1,), (1,), (1,), (1, 2)]\n",
      "(7,)\n",
      "(3, 84, 84)\n"
     ]
    },
    {
     "data": {
      "application/vnd.jupyter.widget-view+json": {
       "model_id": "a01fd594ee9a47d98b918406464cd04c",
       "version_major": 2,
       "version_minor": 0
      },
      "text/plain": [
       "HBox(children=(Canvas(height=84, width=84),), layout=Layout(align_items='center', display='flex', flex_flow='r…"
      ]
     },
     "metadata": {},
     "output_type": "display_data"
    },
    {
     "name": "stdout",
     "output_type": "stream",
     "text": [
      "[(1, 3, 84, 84), (1,), (1,), (1,), (1, 2)]\n",
      "(7,)\n",
      "(3, 84, 84)\n"
     ]
    },
    {
     "data": {
      "application/vnd.jupyter.widget-view+json": {
       "model_id": "0801d532936b4a169d5fcc84427dcc0d",
       "version_major": 2,
       "version_minor": 0
      },
      "text/plain": [
       "HBox(children=(Canvas(height=84, width=84),), layout=Layout(align_items='center', display='flex', flex_flow='r…"
      ]
     },
     "metadata": {},
     "output_type": "display_data"
    },
    {
     "name": "stdout",
     "output_type": "stream",
     "text": [
      "[(1, 3, 84, 84), (1,), (1,), (1,), (1, 2)]\n",
      "(7,)\n",
      "(3, 84, 84)\n"
     ]
    },
    {
     "data": {
      "application/vnd.jupyter.widget-view+json": {
       "model_id": "4b8eab2889cf451da43aa15f18b5d2b2",
       "version_major": 2,
       "version_minor": 0
      },
      "text/plain": [
       "HBox(children=(Canvas(height=84, width=84),), layout=Layout(align_items='center', display='flex', flex_flow='r…"
      ]
     },
     "metadata": {},
     "output_type": "display_data"
    },
    {
     "name": "stdout",
     "output_type": "stream",
     "text": [
      "[(1, 3, 84, 84), (1,), (1,), (1,), (1, 2)]\n",
      "(7,)\n",
      "(3, 84, 84)\n"
     ]
    },
    {
     "data": {
      "application/vnd.jupyter.widget-view+json": {
       "model_id": "24f4d14b04da48879ffab70677ed9a5b",
       "version_major": 2,
       "version_minor": 0
      },
      "text/plain": [
       "HBox(children=(Canvas(height=84, width=84),), layout=Layout(align_items='center', display='flex', flex_flow='r…"
      ]
     },
     "metadata": {},
     "output_type": "display_data"
    },
    {
     "name": "stdout",
     "output_type": "stream",
     "text": [
      "[(1, 3, 84, 84), (1,), (1,), (1,), (1, 2)]\n",
      "(7,)\n",
      "(3, 84, 84)\n"
     ]
    },
    {
     "data": {
      "application/vnd.jupyter.widget-view+json": {
       "model_id": "d57d4a61f6fa4294a1c3efac45a1a58d",
       "version_major": 2,
       "version_minor": 0
      },
      "text/plain": [
       "HBox(children=(Canvas(height=84, width=84),), layout=Layout(align_items='center', display='flex', flex_flow='r…"
      ]
     },
     "metadata": {},
     "output_type": "display_data"
    },
    {
     "name": "stdout",
     "output_type": "stream",
     "text": [
      "[(1, 3, 84, 84), (1,), (1,), (1,), (1, 2)]\n",
      "(7,)\n",
      "(3, 84, 84)\n"
     ]
    },
    {
     "data": {
      "application/vnd.jupyter.widget-view+json": {
       "model_id": "1caf3a6ffb3946b1a1fcddcf69f72990",
       "version_major": 2,
       "version_minor": 0
      },
      "text/plain": [
       "HBox(children=(Canvas(height=84, width=84),), layout=Layout(align_items='center', display='flex', flex_flow='r…"
      ]
     },
     "metadata": {},
     "output_type": "display_data"
    },
    {
     "name": "stdout",
     "output_type": "stream",
     "text": [
      "[(1, 3, 84, 84), (1,), (1,), (1,), (1, 2)]\n",
      "(7,)\n",
      "(3, 84, 84)\n"
     ]
    },
    {
     "data": {
      "application/vnd.jupyter.widget-view+json": {
       "model_id": "2eb66296a9e24b13b898e7c8aae75615",
       "version_major": 2,
       "version_minor": 0
      },
      "text/plain": [
       "HBox(children=(Canvas(height=84, width=84),), layout=Layout(align_items='center', display='flex', flex_flow='r…"
      ]
     },
     "metadata": {},
     "output_type": "display_data"
    },
    {
     "name": "stdout",
     "output_type": "stream",
     "text": [
      "[(1, 3, 84, 84), (1,), (1,), (1,), (1, 2)]\n",
      "(7,)\n",
      "(3, 84, 84)\n"
     ]
    },
    {
     "data": {
      "application/vnd.jupyter.widget-view+json": {
       "model_id": "0537c742babd4cdebf2c6751e6af07dd",
       "version_major": 2,
       "version_minor": 0
      },
      "text/plain": [
       "HBox(children=(Canvas(height=84, width=84),), layout=Layout(align_items='center', display='flex', flex_flow='r…"
      ]
     },
     "metadata": {},
     "output_type": "display_data"
    },
    {
     "name": "stdout",
     "output_type": "stream",
     "text": [
      "[(1, 3, 84, 84), (1,), (1,), (1,), (1, 2)]\n",
      "(7,)\n",
      "(3, 84, 84)\n"
     ]
    },
    {
     "data": {
      "application/vnd.jupyter.widget-view+json": {
       "model_id": "c0fbe75550de4c10a472ecac30a763e7",
       "version_major": 2,
       "version_minor": 0
      },
      "text/plain": [
       "HBox(children=(Canvas(height=84, width=84),), layout=Layout(align_items='center', display='flex', flex_flow='r…"
      ]
     },
     "metadata": {},
     "output_type": "display_data"
    },
    {
     "name": "stdout",
     "output_type": "stream",
     "text": [
      "[(1, 3, 84, 84), (1,), (1,), (1,), (1, 2)]\n",
      "(7,)\n",
      "(3, 84, 84)\n"
     ]
    },
    {
     "data": {
      "application/vnd.jupyter.widget-view+json": {
       "model_id": "4c07d420f12d43269c90ff33d545c0b6",
       "version_major": 2,
       "version_minor": 0
      },
      "text/plain": [
       "HBox(children=(Canvas(height=84, width=84),), layout=Layout(align_items='center', display='flex', flex_flow='r…"
      ]
     },
     "metadata": {},
     "output_type": "display_data"
    },
    {
     "name": "stdout",
     "output_type": "stream",
     "text": [
      "[(1, 3, 84, 84), (1,), (1,), (1,), (1, 2)]\n",
      "(7,)\n",
      "(3, 84, 84)\n"
     ]
    },
    {
     "data": {
      "application/vnd.jupyter.widget-view+json": {
       "model_id": "4ea9366c7e2042fc8917c2bc939f0779",
       "version_major": 2,
       "version_minor": 0
      },
      "text/plain": [
       "HBox(children=(Canvas(height=84, width=84),), layout=Layout(align_items='center', display='flex', flex_flow='r…"
      ]
     },
     "metadata": {},
     "output_type": "display_data"
    },
    {
     "name": "stdout",
     "output_type": "stream",
     "text": [
      "[(1, 3, 84, 84), (1,), (1,), (1,), (1, 2)]\n",
      "(7,)\n",
      "(3, 84, 84)\n"
     ]
    },
    {
     "data": {
      "application/vnd.jupyter.widget-view+json": {
       "model_id": "cd8ef9aad134482586c390a3cb8ef665",
       "version_major": 2,
       "version_minor": 0
      },
      "text/plain": [
       "HBox(children=(Canvas(height=84, width=84),), layout=Layout(align_items='center', display='flex', flex_flow='r…"
      ]
     },
     "metadata": {},
     "output_type": "display_data"
    },
    {
     "name": "stdout",
     "output_type": "stream",
     "text": [
      "[(1, 3, 84, 84), (1,), (1,), (1,), (1, 2)]\n",
      "(7,)\n",
      "(3, 84, 84)\n"
     ]
    },
    {
     "data": {
      "application/vnd.jupyter.widget-view+json": {
       "model_id": "fa12c97783db4d0f950c885bd5165008",
       "version_major": 2,
       "version_minor": 0
      },
      "text/plain": [
       "HBox(children=(Canvas(height=84, width=84),), layout=Layout(align_items='center', display='flex', flex_flow='r…"
      ]
     },
     "metadata": {},
     "output_type": "display_data"
    },
    {
     "name": "stdout",
     "output_type": "stream",
     "text": [
      "[(1, 3, 84, 84), (1,), (1,), (1,), (1, 2)]\n",
      "(7,)\n",
      "(3, 84, 84)\n"
     ]
    },
    {
     "data": {
      "application/vnd.jupyter.widget-view+json": {
       "model_id": "213751815d194e6dbb2dfcfd51032e20",
       "version_major": 2,
       "version_minor": 0
      },
      "text/plain": [
       "HBox(children=(Canvas(height=84, width=84),), layout=Layout(align_items='center', display='flex', flex_flow='r…"
      ]
     },
     "metadata": {},
     "output_type": "display_data"
    },
    {
     "name": "stdout",
     "output_type": "stream",
     "text": [
      "[(1, 3, 84, 84), (1,), (1,), (1,), (1, 2)]\n",
      "(7,)\n",
      "(3, 84, 84)\n"
     ]
    },
    {
     "data": {
      "application/vnd.jupyter.widget-view+json": {
       "model_id": "f0c5f1dbad9a45a6b84673a7ead35690",
       "version_major": 2,
       "version_minor": 0
      },
      "text/plain": [
       "HBox(children=(Canvas(height=84, width=84),), layout=Layout(align_items='center', display='flex', flex_flow='r…"
      ]
     },
     "metadata": {},
     "output_type": "display_data"
    },
    {
     "name": "stdout",
     "output_type": "stream",
     "text": [
      "[(1, 3, 84, 84), (1,), (1,), (1,), (1, 2)]\n",
      "(7,)\n",
      "(3, 84, 84)\n"
     ]
    },
    {
     "data": {
      "application/vnd.jupyter.widget-view+json": {
       "model_id": "441c1bccd2594c7f98179886bc1ac538",
       "version_major": 2,
       "version_minor": 0
      },
      "text/plain": [
       "HBox(children=(Canvas(height=84, width=84),), layout=Layout(align_items='center', display='flex', flex_flow='r…"
      ]
     },
     "metadata": {},
     "output_type": "display_data"
    },
    {
     "name": "stdout",
     "output_type": "stream",
     "text": [
      "[(1, 3, 84, 84), (1,), (1,), (1,), (1, 2)]\n",
      "(7,)\n",
      "(3, 84, 84)\n"
     ]
    },
    {
     "data": {
      "application/vnd.jupyter.widget-view+json": {
       "model_id": "cb3b18f9e69344628bc88467ebb175eb",
       "version_major": 2,
       "version_minor": 0
      },
      "text/plain": [
       "HBox(children=(Canvas(height=84, width=84),), layout=Layout(align_items='center', display='flex', flex_flow='r…"
      ]
     },
     "metadata": {},
     "output_type": "display_data"
    },
    {
     "name": "stdout",
     "output_type": "stream",
     "text": [
      "[(1, 3, 84, 84), (1,), (1,), (1,), (1, 2)]\n",
      "(7,)\n",
      "(3, 84, 84)\n"
     ]
    },
    {
     "data": {
      "application/vnd.jupyter.widget-view+json": {
       "model_id": "789cf90b5e6e4126833ef1b0e777e6d3",
       "version_major": 2,
       "version_minor": 0
      },
      "text/plain": [
       "HBox(children=(Canvas(height=84, width=84),), layout=Layout(align_items='center', display='flex', flex_flow='r…"
      ]
     },
     "metadata": {},
     "output_type": "display_data"
    },
    {
     "name": "stdout",
     "output_type": "stream",
     "text": [
      "[(1, 3, 84, 84), (1,), (1,), (1,), (1, 2)]\n",
      "(7,)\n",
      "(3, 84, 84)\n"
     ]
    },
    {
     "data": {
      "application/vnd.jupyter.widget-view+json": {
       "model_id": "e9cf7d1d4b0f4229a90a1b6232f4ceb9",
       "version_major": 2,
       "version_minor": 0
      },
      "text/plain": [
       "HBox(children=(Canvas(height=84, width=84),), layout=Layout(align_items='center', display='flex', flex_flow='r…"
      ]
     },
     "metadata": {},
     "output_type": "display_data"
    },
    {
     "name": "stdout",
     "output_type": "stream",
     "text": [
      "[(1, 3, 84, 84), (1,), (1,), (1,), (1, 2)]\n",
      "(7,)\n",
      "(3, 84, 84)\n"
     ]
    },
    {
     "data": {
      "application/vnd.jupyter.widget-view+json": {
       "model_id": "4a7a3c9c166e4928bc6cf1256dcd28d6",
       "version_major": 2,
       "version_minor": 0
      },
      "text/plain": [
       "HBox(children=(Canvas(height=84, width=84),), layout=Layout(align_items='center', display='flex', flex_flow='r…"
      ]
     },
     "metadata": {},
     "output_type": "display_data"
    },
    {
     "name": "stdout",
     "output_type": "stream",
     "text": [
      "[(1, 3, 84, 84), (1,), (1,), (1,), (1, 2)]\n",
      "(7,)\n",
      "(3, 84, 84)\n"
     ]
    },
    {
     "data": {
      "application/vnd.jupyter.widget-view+json": {
       "model_id": "4872d3fa825144288579cde728ca42b3",
       "version_major": 2,
       "version_minor": 0
      },
      "text/plain": [
       "HBox(children=(Canvas(height=84, width=84),), layout=Layout(align_items='center', display='flex', flex_flow='r…"
      ]
     },
     "metadata": {},
     "output_type": "display_data"
    },
    {
     "name": "stdout",
     "output_type": "stream",
     "text": [
      "[(1, 3, 84, 84), (1,), (1,), (1,), (1, 2)]\n",
      "(7,)\n",
      "(3, 84, 84)\n"
     ]
    },
    {
     "data": {
      "application/vnd.jupyter.widget-view+json": {
       "model_id": "67dc81cc15c14241a6c9caf35c4827ec",
       "version_major": 2,
       "version_minor": 0
      },
      "text/plain": [
       "HBox(children=(Canvas(height=84, width=84),), layout=Layout(align_items='center', display='flex', flex_flow='r…"
      ]
     },
     "metadata": {},
     "output_type": "display_data"
    },
    {
     "name": "stdout",
     "output_type": "stream",
     "text": [
      "[(1, 3, 84, 84), (1,), (1,), (1,), (1, 2)]\n",
      "(7,)\n",
      "(3, 84, 84)\n"
     ]
    },
    {
     "data": {
      "application/vnd.jupyter.widget-view+json": {
       "model_id": "d53a32a5e870477ca880fb20733936ba",
       "version_major": 2,
       "version_minor": 0
      },
      "text/plain": [
       "HBox(children=(Canvas(height=84, width=84),), layout=Layout(align_items='center', display='flex', flex_flow='r…"
      ]
     },
     "metadata": {},
     "output_type": "display_data"
    },
    {
     "name": "stdout",
     "output_type": "stream",
     "text": [
      "[(1, 3, 84, 84), (1,), (1,), (1,), (1, 2)]\n",
      "(7,)\n",
      "(3, 84, 84)\n"
     ]
    },
    {
     "data": {
      "application/vnd.jupyter.widget-view+json": {
       "model_id": "b3c6c926064d41c3a93cecbd9eb55be8",
       "version_major": 2,
       "version_minor": 0
      },
      "text/plain": [
       "HBox(children=(Canvas(height=84, width=84),), layout=Layout(align_items='center', display='flex', flex_flow='r…"
      ]
     },
     "metadata": {},
     "output_type": "display_data"
    },
    {
     "name": "stdout",
     "output_type": "stream",
     "text": [
      "[(1, 3, 84, 84), (1,), (1,), (1,), (1, 2)]\n",
      "(7,)\n",
      "(3, 84, 84)\n"
     ]
    },
    {
     "data": {
      "application/vnd.jupyter.widget-view+json": {
       "model_id": "9b29bc368e964d35a1930d8f1385f70e",
       "version_major": 2,
       "version_minor": 0
      },
      "text/plain": [
       "HBox(children=(Canvas(height=84, width=84),), layout=Layout(align_items='center', display='flex', flex_flow='r…"
      ]
     },
     "metadata": {},
     "output_type": "display_data"
    },
    {
     "name": "stdout",
     "output_type": "stream",
     "text": [
      "[(1, 3, 84, 84), (1,), (1,), (1,), (1, 2)]\n",
      "(7,)\n",
      "(3, 84, 84)\n"
     ]
    },
    {
     "data": {
      "application/vnd.jupyter.widget-view+json": {
       "model_id": "1f308567ae314ff4a8f8fe2703d0e6fd",
       "version_major": 2,
       "version_minor": 0
      },
      "text/plain": [
       "HBox(children=(Canvas(height=84, width=84),), layout=Layout(align_items='center', display='flex', flex_flow='r…"
      ]
     },
     "metadata": {},
     "output_type": "display_data"
    },
    {
     "name": "stdout",
     "output_type": "stream",
     "text": [
      "[(1, 3, 84, 84), (1,), (1,), (1,), (1, 2)]\n",
      "(7,)\n",
      "(3, 84, 84)\n"
     ]
    },
    {
     "data": {
      "application/vnd.jupyter.widget-view+json": {
       "model_id": "a5010e056d2b418182ebbc168c73ac35",
       "version_major": 2,
       "version_minor": 0
      },
      "text/plain": [
       "HBox(children=(Canvas(height=84, width=84),), layout=Layout(align_items='center', display='flex', flex_flow='r…"
      ]
     },
     "metadata": {},
     "output_type": "display_data"
    },
    {
     "name": "stdout",
     "output_type": "stream",
     "text": [
      "[(1, 3, 84, 84), (1,), (1,), (1,), (1, 2)]\n",
      "(7,)\n",
      "(3, 84, 84)\n"
     ]
    },
    {
     "data": {
      "application/vnd.jupyter.widget-view+json": {
       "model_id": "fef92839d23649d79f6743b5f56a9f55",
       "version_major": 2,
       "version_minor": 0
      },
      "text/plain": [
       "HBox(children=(Canvas(height=84, width=84),), layout=Layout(align_items='center', display='flex', flex_flow='r…"
      ]
     },
     "metadata": {},
     "output_type": "display_data"
    },
    {
     "name": "stdout",
     "output_type": "stream",
     "text": [
      "[(1, 3, 84, 84), (1,), (1,), (1,), (1, 2)]\n",
      "(7,)\n",
      "(3, 84, 84)\n"
     ]
    },
    {
     "data": {
      "application/vnd.jupyter.widget-view+json": {
       "model_id": "a50f7852d98c4837b1a494b8d7bc9821",
       "version_major": 2,
       "version_minor": 0
      },
      "text/plain": [
       "HBox(children=(Canvas(height=84, width=84),), layout=Layout(align_items='center', display='flex', flex_flow='r…"
      ]
     },
     "metadata": {},
     "output_type": "display_data"
    },
    {
     "name": "stdout",
     "output_type": "stream",
     "text": [
      "[(1, 3, 84, 84), (1,), (1,), (1,), (1, 2)]\n",
      "(7,)\n",
      "(3, 84, 84)\n"
     ]
    },
    {
     "data": {
      "application/vnd.jupyter.widget-view+json": {
       "model_id": "69b10493338a4ede914a4be4758e13ff",
       "version_major": 2,
       "version_minor": 0
      },
      "text/plain": [
       "HBox(children=(Canvas(height=84, width=84),), layout=Layout(align_items='center', display='flex', flex_flow='r…"
      ]
     },
     "metadata": {},
     "output_type": "display_data"
    },
    {
     "name": "stdout",
     "output_type": "stream",
     "text": [
      "[(1, 3, 84, 84), (1,), (1,), (1,), (1, 2)]\n",
      "(7,)\n",
      "(3, 84, 84)\n"
     ]
    },
    {
     "data": {
      "application/vnd.jupyter.widget-view+json": {
       "model_id": "a825653bc9124cd9b7cfcf5a2c566fde",
       "version_major": 2,
       "version_minor": 0
      },
      "text/plain": [
       "HBox(children=(Canvas(height=84, width=84),), layout=Layout(align_items='center', display='flex', flex_flow='r…"
      ]
     },
     "metadata": {},
     "output_type": "display_data"
    },
    {
     "name": "stdout",
     "output_type": "stream",
     "text": [
      "[(1, 3, 84, 84), (1,), (1,), (1,), (1, 2)]\n",
      "(7,)\n",
      "(3, 84, 84)\n"
     ]
    },
    {
     "data": {
      "application/vnd.jupyter.widget-view+json": {
       "model_id": "55fa586e3d284368846c6ffc733ebb1d",
       "version_major": 2,
       "version_minor": 0
      },
      "text/plain": [
       "HBox(children=(Canvas(height=84, width=84),), layout=Layout(align_items='center', display='flex', flex_flow='r…"
      ]
     },
     "metadata": {},
     "output_type": "display_data"
    },
    {
     "name": "stdout",
     "output_type": "stream",
     "text": [
      "[(1, 3, 84, 84), (1,), (1,), (1,), (1, 2)]\n",
      "(7,)\n",
      "(3, 84, 84)\n"
     ]
    },
    {
     "data": {
      "application/vnd.jupyter.widget-view+json": {
       "model_id": "45827cca71db48c5b6b13e8c66b5b5f6",
       "version_major": 2,
       "version_minor": 0
      },
      "text/plain": [
       "HBox(children=(Canvas(height=84, width=84),), layout=Layout(align_items='center', display='flex', flex_flow='r…"
      ]
     },
     "metadata": {},
     "output_type": "display_data"
    },
    {
     "name": "stdout",
     "output_type": "stream",
     "text": [
      "[(1, 3, 84, 84), (1,), (1,), (1,), (1, 2)]\n",
      "(7,)\n",
      "(3, 84, 84)\n"
     ]
    },
    {
     "data": {
      "application/vnd.jupyter.widget-view+json": {
       "model_id": "5642e262dc0144d9bd61397c7035f5a7",
       "version_major": 2,
       "version_minor": 0
      },
      "text/plain": [
       "HBox(children=(Canvas(height=84, width=84),), layout=Layout(align_items='center', display='flex', flex_flow='r…"
      ]
     },
     "metadata": {},
     "output_type": "display_data"
    },
    {
     "name": "stdout",
     "output_type": "stream",
     "text": [
      "[(1, 3, 84, 84), (1,), (1,), (1,), (1, 2)]\n",
      "(7,)\n",
      "(3, 84, 84)\n"
     ]
    },
    {
     "data": {
      "application/vnd.jupyter.widget-view+json": {
       "model_id": "596b6bd526da4e9191ebc6afb460d360",
       "version_major": 2,
       "version_minor": 0
      },
      "text/plain": [
       "HBox(children=(Canvas(height=84, width=84),), layout=Layout(align_items='center', display='flex', flex_flow='r…"
      ]
     },
     "metadata": {},
     "output_type": "display_data"
    },
    {
     "name": "stdout",
     "output_type": "stream",
     "text": [
      "[(1, 3, 84, 84), (1,), (1,), (1,), (1, 2)]\n",
      "(7,)\n",
      "(3, 84, 84)\n"
     ]
    },
    {
     "data": {
      "application/vnd.jupyter.widget-view+json": {
       "model_id": "f1be6f6c016244a09ab4a614ce02810a",
       "version_major": 2,
       "version_minor": 0
      },
      "text/plain": [
       "HBox(children=(Canvas(height=84, width=84),), layout=Layout(align_items='center', display='flex', flex_flow='r…"
      ]
     },
     "metadata": {},
     "output_type": "display_data"
    },
    {
     "name": "stdout",
     "output_type": "stream",
     "text": [
      "[(1, 3, 84, 84), (1,), (1,), (1,), (1, 2)]\n",
      "(7,)\n",
      "(3, 84, 84)\n"
     ]
    },
    {
     "data": {
      "application/vnd.jupyter.widget-view+json": {
       "model_id": "cc513f00173f496689a31e1ec683f23f",
       "version_major": 2,
       "version_minor": 0
      },
      "text/plain": [
       "HBox(children=(Canvas(height=84, width=84),), layout=Layout(align_items='center', display='flex', flex_flow='r…"
      ]
     },
     "metadata": {},
     "output_type": "display_data"
    },
    {
     "name": "stdout",
     "output_type": "stream",
     "text": [
      "[(1, 3, 84, 84), (1,), (1,), (1,), (1, 2)]\n",
      "(7,)\n",
      "(3, 84, 84)\n"
     ]
    },
    {
     "data": {
      "application/vnd.jupyter.widget-view+json": {
       "model_id": "316c60ba845f4c1787bb3f7bcb90e0d4",
       "version_major": 2,
       "version_minor": 0
      },
      "text/plain": [
       "HBox(children=(Canvas(height=84, width=84),), layout=Layout(align_items='center', display='flex', flex_flow='r…"
      ]
     },
     "metadata": {},
     "output_type": "display_data"
    },
    {
     "name": "stdout",
     "output_type": "stream",
     "text": [
      "[(1, 3, 84, 84), (1,), (1,), (1,), (1, 2)]\n",
      "(7,)\n",
      "(3, 84, 84)\n"
     ]
    },
    {
     "data": {
      "application/vnd.jupyter.widget-view+json": {
       "model_id": "14bbbcaeb93e4884942efbc398fa449c",
       "version_major": 2,
       "version_minor": 0
      },
      "text/plain": [
       "HBox(children=(Canvas(height=84, width=84),), layout=Layout(align_items='center', display='flex', flex_flow='r…"
      ]
     },
     "metadata": {},
     "output_type": "display_data"
    },
    {
     "name": "stdout",
     "output_type": "stream",
     "text": [
      "[(1, 3, 84, 84), (1,), (1,), (1,), (1, 2)]\n",
      "(7,)\n",
      "(3, 84, 84)\n"
     ]
    },
    {
     "data": {
      "application/vnd.jupyter.widget-view+json": {
       "model_id": "4eab4f5ea41d4881a2139cd115b53a40",
       "version_major": 2,
       "version_minor": 0
      },
      "text/plain": [
       "HBox(children=(Canvas(height=84, width=84),), layout=Layout(align_items='center', display='flex', flex_flow='r…"
      ]
     },
     "metadata": {},
     "output_type": "display_data"
    },
    {
     "name": "stdout",
     "output_type": "stream",
     "text": [
      "[(1, 3, 84, 84), (1,), (1,), (1,), (1, 2)]\n",
      "(7,)\n",
      "(3, 84, 84)\n"
     ]
    },
    {
     "data": {
      "application/vnd.jupyter.widget-view+json": {
       "model_id": "920105d3b69845c8a4e6f27a0be1cd86",
       "version_major": 2,
       "version_minor": 0
      },
      "text/plain": [
       "HBox(children=(Canvas(height=84, width=84),), layout=Layout(align_items='center', display='flex', flex_flow='r…"
      ]
     },
     "metadata": {},
     "output_type": "display_data"
    },
    {
     "name": "stdout",
     "output_type": "stream",
     "text": [
      "[(1, 3, 84, 84), (1,), (1,), (1,), (1, 2)]\n",
      "(7,)\n",
      "(3, 84, 84)\n"
     ]
    },
    {
     "data": {
      "application/vnd.jupyter.widget-view+json": {
       "model_id": "669b42693d7848b5ad196effff289391",
       "version_major": 2,
       "version_minor": 0
      },
      "text/plain": [
       "HBox(children=(Canvas(height=84, width=84),), layout=Layout(align_items='center', display='flex', flex_flow='r…"
      ]
     },
     "metadata": {},
     "output_type": "display_data"
    },
    {
     "name": "stdout",
     "output_type": "stream",
     "text": [
      "[(1, 3, 84, 84), (1,), (1,), (1,), (1, 2)]\n",
      "(7,)\n",
      "(3, 84, 84)\n"
     ]
    },
    {
     "data": {
      "application/vnd.jupyter.widget-view+json": {
       "model_id": "4ac14842b3ff412da83a5ab24bbad9d6",
       "version_major": 2,
       "version_minor": 0
      },
      "text/plain": [
       "HBox(children=(Canvas(height=84, width=84),), layout=Layout(align_items='center', display='flex', flex_flow='r…"
      ]
     },
     "metadata": {},
     "output_type": "display_data"
    },
    {
     "name": "stdout",
     "output_type": "stream",
     "text": [
      "[(1, 3, 84, 84), (1,), (1,), (1,), (1, 2)]\n",
      "(7,)\n",
      "(3, 84, 84)\n"
     ]
    },
    {
     "data": {
      "application/vnd.jupyter.widget-view+json": {
       "model_id": "6d4a292b512f4508a1d3f68a600d96f6",
       "version_major": 2,
       "version_minor": 0
      },
      "text/plain": [
       "HBox(children=(Canvas(height=84, width=84),), layout=Layout(align_items='center', display='flex', flex_flow='r…"
      ]
     },
     "metadata": {},
     "output_type": "display_data"
    },
    {
     "name": "stdout",
     "output_type": "stream",
     "text": [
      "[(1, 3, 84, 84), (1,), (1,), (1,), (1, 2)]\n",
      "(7,)\n",
      "(3, 84, 84)\n"
     ]
    },
    {
     "data": {
      "application/vnd.jupyter.widget-view+json": {
       "model_id": "c5feb32a2462447ca8cf1a458cef1bf2",
       "version_major": 2,
       "version_minor": 0
      },
      "text/plain": [
       "HBox(children=(Canvas(height=84, width=84),), layout=Layout(align_items='center', display='flex', flex_flow='r…"
      ]
     },
     "metadata": {},
     "output_type": "display_data"
    },
    {
     "name": "stdout",
     "output_type": "stream",
     "text": [
      "[(1, 3, 84, 84), (1,), (1,), (1,), (1, 2)]\n",
      "(7,)\n",
      "(3, 84, 84)\n"
     ]
    },
    {
     "data": {
      "application/vnd.jupyter.widget-view+json": {
       "model_id": "afd3ba94f11f4947b47619cd2b6c80ee",
       "version_major": 2,
       "version_minor": 0
      },
      "text/plain": [
       "HBox(children=(Canvas(height=84, width=84),), layout=Layout(align_items='center', display='flex', flex_flow='r…"
      ]
     },
     "metadata": {},
     "output_type": "display_data"
    },
    {
     "name": "stdout",
     "output_type": "stream",
     "text": [
      "[(1, 3, 84, 84), (1,), (1,), (1,), (1, 2)]\n",
      "(7,)\n",
      "(3, 84, 84)\n"
     ]
    },
    {
     "data": {
      "application/vnd.jupyter.widget-view+json": {
       "model_id": "6014ef5b646647cca332578d10044c5a",
       "version_major": 2,
       "version_minor": 0
      },
      "text/plain": [
       "HBox(children=(Canvas(height=84, width=84),), layout=Layout(align_items='center', display='flex', flex_flow='r…"
      ]
     },
     "metadata": {},
     "output_type": "display_data"
    },
    {
     "name": "stdout",
     "output_type": "stream",
     "text": [
      "[(1, 3, 84, 84), (1,), (1,), (1,), (1, 2)]\n",
      "(7,)\n",
      "(3, 84, 84)\n"
     ]
    },
    {
     "data": {
      "application/vnd.jupyter.widget-view+json": {
       "model_id": "9810946630f048b282d15929713480ca",
       "version_major": 2,
       "version_minor": 0
      },
      "text/plain": [
       "HBox(children=(Canvas(height=84, width=84),), layout=Layout(align_items='center', display='flex', flex_flow='r…"
      ]
     },
     "metadata": {},
     "output_type": "display_data"
    },
    {
     "name": "stdout",
     "output_type": "stream",
     "text": [
      "[(1, 3, 84, 84), (1,), (1,), (1,), (1, 2)]\n",
      "(7,)\n",
      "(3, 84, 84)\n"
     ]
    },
    {
     "data": {
      "application/vnd.jupyter.widget-view+json": {
       "model_id": "e6f329afeb5a45139599bc318b6bf8ed",
       "version_major": 2,
       "version_minor": 0
      },
      "text/plain": [
       "HBox(children=(Canvas(height=84, width=84),), layout=Layout(align_items='center', display='flex', flex_flow='r…"
      ]
     },
     "metadata": {},
     "output_type": "display_data"
    },
    {
     "name": "stdout",
     "output_type": "stream",
     "text": [
      "[(1, 3, 84, 84), (1,), (1,), (1,), (1, 2)]\n",
      "(7,)\n",
      "(3, 84, 84)\n"
     ]
    },
    {
     "data": {
      "application/vnd.jupyter.widget-view+json": {
       "model_id": "8ef5642826074176be33665b497f4973",
       "version_major": 2,
       "version_minor": 0
      },
      "text/plain": [
       "HBox(children=(Canvas(height=84, width=84),), layout=Layout(align_items='center', display='flex', flex_flow='r…"
      ]
     },
     "metadata": {},
     "output_type": "display_data"
    },
    {
     "name": "stdout",
     "output_type": "stream",
     "text": [
      "[(1, 3, 84, 84), (1,), (1,), (1,), (1, 2)]\n",
      "(7,)\n",
      "(3, 84, 84)\n"
     ]
    },
    {
     "data": {
      "application/vnd.jupyter.widget-view+json": {
       "model_id": "782e3b8e3dab4c878ff000d9ab36e809",
       "version_major": 2,
       "version_minor": 0
      },
      "text/plain": [
       "HBox(children=(Canvas(height=84, width=84),), layout=Layout(align_items='center', display='flex', flex_flow='r…"
      ]
     },
     "metadata": {},
     "output_type": "display_data"
    },
    {
     "name": "stdout",
     "output_type": "stream",
     "text": [
      "[(1, 3, 84, 84), (1,), (1,), (1,), (1, 2)]\n",
      "(7,)\n",
      "(3, 84, 84)\n"
     ]
    },
    {
     "data": {
      "application/vnd.jupyter.widget-view+json": {
       "model_id": "9f46fe797bb3412ea3a4688fe6c9efa0",
       "version_major": 2,
       "version_minor": 0
      },
      "text/plain": [
       "HBox(children=(Canvas(height=84, width=84),), layout=Layout(align_items='center', display='flex', flex_flow='r…"
      ]
     },
     "metadata": {},
     "output_type": "display_data"
    },
    {
     "name": "stdout",
     "output_type": "stream",
     "text": [
      "[(1, 3, 84, 84), (1,), (1,), (1,), (1, 2)]\n",
      "(7,)\n",
      "(3, 84, 84)\n"
     ]
    },
    {
     "data": {
      "application/vnd.jupyter.widget-view+json": {
       "model_id": "801a924f97414342a591169db876fc55",
       "version_major": 2,
       "version_minor": 0
      },
      "text/plain": [
       "HBox(children=(Canvas(height=84, width=84),), layout=Layout(align_items='center', display='flex', flex_flow='r…"
      ]
     },
     "metadata": {},
     "output_type": "display_data"
    },
    {
     "name": "stdout",
     "output_type": "stream",
     "text": [
      "[(1, 3, 84, 84), (1,), (1,), (1,), (1, 2)]\n",
      "(7,)\n",
      "(3, 84, 84)\n"
     ]
    },
    {
     "data": {
      "application/vnd.jupyter.widget-view+json": {
       "model_id": "dbec9714cad94e3c8b1543ead7e23df6",
       "version_major": 2,
       "version_minor": 0
      },
      "text/plain": [
       "HBox(children=(Canvas(height=84, width=84),), layout=Layout(align_items='center', display='flex', flex_flow='r…"
      ]
     },
     "metadata": {},
     "output_type": "display_data"
    },
    {
     "name": "stdout",
     "output_type": "stream",
     "text": [
      "[(1, 3, 84, 84), (1,), (1,), (1,), (1, 2)]\n",
      "(7,)\n",
      "(3, 84, 84)\n"
     ]
    },
    {
     "data": {
      "application/vnd.jupyter.widget-view+json": {
       "model_id": "3c4bc1076774460fb029095c2045f0da",
       "version_major": 2,
       "version_minor": 0
      },
      "text/plain": [
       "HBox(children=(Canvas(height=84, width=84),), layout=Layout(align_items='center', display='flex', flex_flow='r…"
      ]
     },
     "metadata": {},
     "output_type": "display_data"
    },
    {
     "name": "stdout",
     "output_type": "stream",
     "text": [
      "[(1, 3, 84, 84), (1,), (1,), (1,), (1, 2)]\n",
      "(7,)\n",
      "(3, 84, 84)\n"
     ]
    },
    {
     "data": {
      "application/vnd.jupyter.widget-view+json": {
       "model_id": "589a4fb7ae804042978434689cdd8568",
       "version_major": 2,
       "version_minor": 0
      },
      "text/plain": [
       "HBox(children=(Canvas(height=84, width=84),), layout=Layout(align_items='center', display='flex', flex_flow='r…"
      ]
     },
     "metadata": {},
     "output_type": "display_data"
    },
    {
     "name": "stdout",
     "output_type": "stream",
     "text": [
      "[(1, 3, 84, 84), (1,), (1,), (1,), (1, 2)]\n",
      "(7,)\n",
      "(3, 84, 84)\n"
     ]
    },
    {
     "data": {
      "application/vnd.jupyter.widget-view+json": {
       "model_id": "726a5f70996f4949885dcc6d699b3bed",
       "version_major": 2,
       "version_minor": 0
      },
      "text/plain": [
       "HBox(children=(Canvas(height=84, width=84),), layout=Layout(align_items='center', display='flex', flex_flow='r…"
      ]
     },
     "metadata": {},
     "output_type": "display_data"
    },
    {
     "name": "stdout",
     "output_type": "stream",
     "text": [
      "[(1, 3, 84, 84), (1,), (1,), (1,), (1, 2)]\n",
      "(7,)\n",
      "(3, 84, 84)\n"
     ]
    },
    {
     "data": {
      "application/vnd.jupyter.widget-view+json": {
       "model_id": "4a16655854254993a6192168c41a99da",
       "version_major": 2,
       "version_minor": 0
      },
      "text/plain": [
       "HBox(children=(Canvas(height=84, width=84),), layout=Layout(align_items='center', display='flex', flex_flow='r…"
      ]
     },
     "metadata": {},
     "output_type": "display_data"
    },
    {
     "name": "stdout",
     "output_type": "stream",
     "text": [
      "[(1, 3, 84, 84), (1,), (1,), (1,), (1, 2)]\n",
      "(7,)\n",
      "(3, 84, 84)\n"
     ]
    },
    {
     "data": {
      "application/vnd.jupyter.widget-view+json": {
       "model_id": "7839ef3da20943c3af50cc03ccfb3ca9",
       "version_major": 2,
       "version_minor": 0
      },
      "text/plain": [
       "HBox(children=(Canvas(height=84, width=84),), layout=Layout(align_items='center', display='flex', flex_flow='r…"
      ]
     },
     "metadata": {},
     "output_type": "display_data"
    },
    {
     "name": "stdout",
     "output_type": "stream",
     "text": [
      "[(1, 3, 84, 84), (1,), (1,), (1,), (1, 2)]\n",
      "(7,)\n",
      "(3, 84, 84)\n"
     ]
    },
    {
     "data": {
      "application/vnd.jupyter.widget-view+json": {
       "model_id": "9538a37300054b35bf0707af4be96e4b",
       "version_major": 2,
       "version_minor": 0
      },
      "text/plain": [
       "HBox(children=(Canvas(height=84, width=84),), layout=Layout(align_items='center', display='flex', flex_flow='r…"
      ]
     },
     "metadata": {},
     "output_type": "display_data"
    },
    {
     "name": "stdout",
     "output_type": "stream",
     "text": [
      "[(1, 3, 84, 84), (1,), (1,), (1,), (1, 2)]\n",
      "(7,)\n",
      "(3, 84, 84)\n"
     ]
    },
    {
     "data": {
      "application/vnd.jupyter.widget-view+json": {
       "model_id": "fd51095562c64dad998bf1cd8964502a",
       "version_major": 2,
       "version_minor": 0
      },
      "text/plain": [
       "HBox(children=(Canvas(height=84, width=84),), layout=Layout(align_items='center', display='flex', flex_flow='r…"
      ]
     },
     "metadata": {},
     "output_type": "display_data"
    },
    {
     "name": "stdout",
     "output_type": "stream",
     "text": [
      "[(1, 3, 84, 84), (1,), (1,), (1,), (1, 2)]\n",
      "(7,)\n",
      "(3, 84, 84)\n"
     ]
    },
    {
     "data": {
      "application/vnd.jupyter.widget-view+json": {
       "model_id": "27a154f9703846478a0336f1801b9a97",
       "version_major": 2,
       "version_minor": 0
      },
      "text/plain": [
       "HBox(children=(Canvas(height=84, width=84),), layout=Layout(align_items='center', display='flex', flex_flow='r…"
      ]
     },
     "metadata": {},
     "output_type": "display_data"
    },
    {
     "name": "stdout",
     "output_type": "stream",
     "text": [
      "[(1, 3, 84, 84), (1,), (1,), (1,), (1, 2)]\n",
      "(7,)\n",
      "(3, 84, 84)\n"
     ]
    },
    {
     "data": {
      "application/vnd.jupyter.widget-view+json": {
       "model_id": "4c6e54c02fa7487a92c0114968818dce",
       "version_major": 2,
       "version_minor": 0
      },
      "text/plain": [
       "HBox(children=(Canvas(height=84, width=84),), layout=Layout(align_items='center', display='flex', flex_flow='r…"
      ]
     },
     "metadata": {},
     "output_type": "display_data"
    },
    {
     "name": "stdout",
     "output_type": "stream",
     "text": [
      "[(1, 3, 84, 84), (1,), (1,), (1,), (1, 2)]\n",
      "(7,)\n",
      "(3, 84, 84)\n"
     ]
    },
    {
     "data": {
      "application/vnd.jupyter.widget-view+json": {
       "model_id": "41ae816de5a04a1191b8b7ece1f54801",
       "version_major": 2,
       "version_minor": 0
      },
      "text/plain": [
       "HBox(children=(Canvas(height=84, width=84),), layout=Layout(align_items='center', display='flex', flex_flow='r…"
      ]
     },
     "metadata": {},
     "output_type": "display_data"
    },
    {
     "name": "stdout",
     "output_type": "stream",
     "text": [
      "[(1, 3, 84, 84), (1,), (1,), (1,), (1, 2)]\n",
      "(7,)\n",
      "(3, 84, 84)\n"
     ]
    },
    {
     "data": {
      "application/vnd.jupyter.widget-view+json": {
       "model_id": "bf2439b294cc46c893f1cb68beb267c5",
       "version_major": 2,
       "version_minor": 0
      },
      "text/plain": [
       "HBox(children=(Canvas(height=84, width=84),), layout=Layout(align_items='center', display='flex', flex_flow='r…"
      ]
     },
     "metadata": {},
     "output_type": "display_data"
    },
    {
     "name": "stdout",
     "output_type": "stream",
     "text": [
      "[(1, 3, 84, 84), (1,), (1,), (1,), (1, 2)]\n",
      "(7,)\n",
      "(3, 84, 84)\n"
     ]
    },
    {
     "data": {
      "application/vnd.jupyter.widget-view+json": {
       "model_id": "c86366a70bdc4befae47e5a43c372e9f",
       "version_major": 2,
       "version_minor": 0
      },
      "text/plain": [
       "HBox(children=(Canvas(height=84, width=84),), layout=Layout(align_items='center', display='flex', flex_flow='r…"
      ]
     },
     "metadata": {},
     "output_type": "display_data"
    },
    {
     "name": "stdout",
     "output_type": "stream",
     "text": [
      "[(1, 3, 84, 84), (1,), (1,), (1,), (1, 2)]\n",
      "(7,)\n",
      "(3, 84, 84)\n"
     ]
    },
    {
     "data": {
      "application/vnd.jupyter.widget-view+json": {
       "model_id": "cfaea1aa93f24c9a878c53180e7af7cf",
       "version_major": 2,
       "version_minor": 0
      },
      "text/plain": [
       "HBox(children=(Canvas(height=84, width=84),), layout=Layout(align_items='center', display='flex', flex_flow='r…"
      ]
     },
     "metadata": {},
     "output_type": "display_data"
    },
    {
     "name": "stdout",
     "output_type": "stream",
     "text": [
      "[(1, 3, 84, 84), (1,), (1,), (1,), (1, 2)]\n",
      "(7,)\n",
      "(3, 84, 84)\n"
     ]
    },
    {
     "data": {
      "application/vnd.jupyter.widget-view+json": {
       "model_id": "eb3fb711516246889804073bbd10ce85",
       "version_major": 2,
       "version_minor": 0
      },
      "text/plain": [
       "HBox(children=(Canvas(height=84, width=84),), layout=Layout(align_items='center', display='flex', flex_flow='r…"
      ]
     },
     "metadata": {},
     "output_type": "display_data"
    },
    {
     "name": "stdout",
     "output_type": "stream",
     "text": [
      "[(1, 3, 84, 84), (1,), (1,), (1,), (1, 2)]\n",
      "(7,)\n",
      "(3, 84, 84)\n"
     ]
    },
    {
     "data": {
      "application/vnd.jupyter.widget-view+json": {
       "model_id": "c3a95780b68a413a83c9457868476ff1",
       "version_major": 2,
       "version_minor": 0
      },
      "text/plain": [
       "HBox(children=(Canvas(height=84, width=84),), layout=Layout(align_items='center', display='flex', flex_flow='r…"
      ]
     },
     "metadata": {},
     "output_type": "display_data"
    },
    {
     "name": "stdout",
     "output_type": "stream",
     "text": [
      "[(1, 3, 84, 84), (1,), (1,), (1,), (1, 2)]\n",
      "(7,)\n",
      "(3, 84, 84)\n"
     ]
    },
    {
     "data": {
      "application/vnd.jupyter.widget-view+json": {
       "model_id": "5ba184aec5764071a4004eba2972b018",
       "version_major": 2,
       "version_minor": 0
      },
      "text/plain": [
       "HBox(children=(Canvas(height=84, width=84),), layout=Layout(align_items='center', display='flex', flex_flow='r…"
      ]
     },
     "metadata": {},
     "output_type": "display_data"
    },
    {
     "name": "stdout",
     "output_type": "stream",
     "text": [
      "[(1, 3, 84, 84), (1,), (1,), (1,), (1, 2)]\n",
      "(7,)\n",
      "(3, 84, 84)\n"
     ]
    },
    {
     "data": {
      "application/vnd.jupyter.widget-view+json": {
       "model_id": "96b9593537524fc2a94e180ccab31dfe",
       "version_major": 2,
       "version_minor": 0
      },
      "text/plain": [
       "HBox(children=(Canvas(height=84, width=84),), layout=Layout(align_items='center', display='flex', flex_flow='r…"
      ]
     },
     "metadata": {},
     "output_type": "display_data"
    },
    {
     "name": "stdout",
     "output_type": "stream",
     "text": [
      "[(1, 3, 84, 84), (1,), (1,), (1,), (1, 2)]\n",
      "(7,)\n",
      "(3, 84, 84)\n"
     ]
    },
    {
     "data": {
      "application/vnd.jupyter.widget-view+json": {
       "model_id": "76631a0aa5954eb2b4981815bcc3945a",
       "version_major": 2,
       "version_minor": 0
      },
      "text/plain": [
       "HBox(children=(Canvas(height=84, width=84),), layout=Layout(align_items='center', display='flex', flex_flow='r…"
      ]
     },
     "metadata": {},
     "output_type": "display_data"
    },
    {
     "name": "stdout",
     "output_type": "stream",
     "text": [
      "[(1, 3, 84, 84), (1,), (1,), (1,), (1, 2)]\n",
      "(7,)\n",
      "(3, 84, 84)\n"
     ]
    },
    {
     "data": {
      "application/vnd.jupyter.widget-view+json": {
       "model_id": "fa1b0df71ba24388ac2ef86fc4a609fd",
       "version_major": 2,
       "version_minor": 0
      },
      "text/plain": [
       "HBox(children=(Canvas(height=84, width=84),), layout=Layout(align_items='center', display='flex', flex_flow='r…"
      ]
     },
     "metadata": {},
     "output_type": "display_data"
    },
    {
     "name": "stdout",
     "output_type": "stream",
     "text": [
      "[(1, 3, 84, 84), (1,), (1,), (1,), (1, 2)]\n",
      "(7,)\n",
      "(3, 84, 84)\n"
     ]
    },
    {
     "data": {
      "application/vnd.jupyter.widget-view+json": {
       "model_id": "59222970b4a6437b83edb62b65da2f12",
       "version_major": 2,
       "version_minor": 0
      },
      "text/plain": [
       "HBox(children=(Canvas(height=84, width=84),), layout=Layout(align_items='center', display='flex', flex_flow='r…"
      ]
     },
     "metadata": {},
     "output_type": "display_data"
    },
    {
     "name": "stdout",
     "output_type": "stream",
     "text": [
      "[(1, 3, 84, 84), (1,), (1,), (1,), (1, 2)]\n",
      "(7,)\n",
      "(3, 84, 84)\n"
     ]
    },
    {
     "data": {
      "application/vnd.jupyter.widget-view+json": {
       "model_id": "e23447a5bbe14514855ee9cc42bc1b59",
       "version_major": 2,
       "version_minor": 0
      },
      "text/plain": [
       "HBox(children=(Canvas(height=84, width=84),), layout=Layout(align_items='center', display='flex', flex_flow='r…"
      ]
     },
     "metadata": {},
     "output_type": "display_data"
    },
    {
     "name": "stdout",
     "output_type": "stream",
     "text": [
      "[(1, 3, 84, 84), (1,), (1,), (1,), (1, 2)]\n",
      "(7,)\n",
      "(3, 84, 84)\n"
     ]
    },
    {
     "data": {
      "application/vnd.jupyter.widget-view+json": {
       "model_id": "ac631ac9c26e44fcbc3a5c8671c38d3b",
       "version_major": 2,
       "version_minor": 0
      },
      "text/plain": [
       "HBox(children=(Canvas(height=84, width=84),), layout=Layout(align_items='center', display='flex', flex_flow='r…"
      ]
     },
     "metadata": {},
     "output_type": "display_data"
    },
    {
     "name": "stdout",
     "output_type": "stream",
     "text": [
      "[(1, 3, 84, 84), (1,), (1,), (1,), (1, 2)]\n",
      "(7,)\n",
      "(3, 84, 84)\n"
     ]
    },
    {
     "data": {
      "application/vnd.jupyter.widget-view+json": {
       "model_id": "32ca36f9c783407d85f3bd07c0192005",
       "version_major": 2,
       "version_minor": 0
      },
      "text/plain": [
       "HBox(children=(Canvas(height=84, width=84),), layout=Layout(align_items='center', display='flex', flex_flow='r…"
      ]
     },
     "metadata": {},
     "output_type": "display_data"
    },
    {
     "name": "stdout",
     "output_type": "stream",
     "text": [
      "[(1, 3, 84, 84), (1,), (1,), (1,), (1, 2)]\n",
      "(7,)\n",
      "(3, 84, 84)\n"
     ]
    },
    {
     "data": {
      "application/vnd.jupyter.widget-view+json": {
       "model_id": "3392e907aecc45e1819291c8e23a511a",
       "version_major": 2,
       "version_minor": 0
      },
      "text/plain": [
       "HBox(children=(Canvas(height=84, width=84),), layout=Layout(align_items='center', display='flex', flex_flow='r…"
      ]
     },
     "metadata": {},
     "output_type": "display_data"
    },
    {
     "name": "stdout",
     "output_type": "stream",
     "text": [
      "[(1, 3, 84, 84), (1,), (1,), (1,), (1, 2)]\n",
      "(7,)\n",
      "(3, 84, 84)\n"
     ]
    },
    {
     "data": {
      "application/vnd.jupyter.widget-view+json": {
       "model_id": "69903ab727204defafc7cbd17cc3b2bc",
       "version_major": 2,
       "version_minor": 0
      },
      "text/plain": [
       "HBox(children=(Canvas(height=84, width=84),), layout=Layout(align_items='center', display='flex', flex_flow='r…"
      ]
     },
     "metadata": {},
     "output_type": "display_data"
    },
    {
     "name": "stdout",
     "output_type": "stream",
     "text": [
      "[(1, 3, 84, 84), (1,), (1,), (1,), (1, 2)]\n",
      "(7,)\n",
      "(3, 84, 84)\n"
     ]
    },
    {
     "data": {
      "application/vnd.jupyter.widget-view+json": {
       "model_id": "578aa2a047044075bd9d7582a87a8055",
       "version_major": 2,
       "version_minor": 0
      },
      "text/plain": [
       "HBox(children=(Canvas(height=84, width=84),), layout=Layout(align_items='center', display='flex', flex_flow='r…"
      ]
     },
     "metadata": {},
     "output_type": "display_data"
    },
    {
     "name": "stdout",
     "output_type": "stream",
     "text": [
      "[(1, 3, 84, 84), (1,), (1,), (1,), (1, 2)]\n",
      "(7,)\n",
      "(3, 84, 84)\n"
     ]
    },
    {
     "data": {
      "application/vnd.jupyter.widget-view+json": {
       "model_id": "e99ee79de2554ea9928e5223953bf557",
       "version_major": 2,
       "version_minor": 0
      },
      "text/plain": [
       "HBox(children=(Canvas(height=84, width=84),), layout=Layout(align_items='center', display='flex', flex_flow='r…"
      ]
     },
     "metadata": {},
     "output_type": "display_data"
    },
    {
     "name": "stdout",
     "output_type": "stream",
     "text": [
      "[(1, 3, 84, 84), (1,), (1,), (1,), (1, 2)]\n",
      "(7,)\n",
      "(3, 84, 84)\n"
     ]
    },
    {
     "data": {
      "application/vnd.jupyter.widget-view+json": {
       "model_id": "4385502e12564914a74499face1ddf88",
       "version_major": 2,
       "version_minor": 0
      },
      "text/plain": [
       "HBox(children=(Canvas(height=84, width=84),), layout=Layout(align_items='center', display='flex', flex_flow='r…"
      ]
     },
     "metadata": {},
     "output_type": "display_data"
    },
    {
     "name": "stdout",
     "output_type": "stream",
     "text": [
      "[(1, 3, 84, 84), (1,), (1,), (1,), (1, 2)]\n",
      "(7,)\n",
      "(3, 84, 84)\n"
     ]
    },
    {
     "data": {
      "application/vnd.jupyter.widget-view+json": {
       "model_id": "27c6d69c2e074a9db0443d9bbf55eb9f",
       "version_major": 2,
       "version_minor": 0
      },
      "text/plain": [
       "HBox(children=(Canvas(height=84, width=84),), layout=Layout(align_items='center', display='flex', flex_flow='r…"
      ]
     },
     "metadata": {},
     "output_type": "display_data"
    },
    {
     "name": "stdout",
     "output_type": "stream",
     "text": [
      "[(1, 3, 84, 84), (1,), (1,), (1,), (1, 2)]\n",
      "(7,)\n",
      "(3, 84, 84)\n"
     ]
    },
    {
     "data": {
      "application/vnd.jupyter.widget-view+json": {
       "model_id": "14525456155e425d8e6626028cc87407",
       "version_major": 2,
       "version_minor": 0
      },
      "text/plain": [
       "HBox(children=(Canvas(height=84, width=84),), layout=Layout(align_items='center', display='flex', flex_flow='r…"
      ]
     },
     "metadata": {},
     "output_type": "display_data"
    },
    {
     "name": "stdout",
     "output_type": "stream",
     "text": [
      "[(1, 3, 84, 84), (1,), (1,), (1,), (1, 2)]\n",
      "(7,)\n",
      "(3, 84, 84)\n"
     ]
    },
    {
     "data": {
      "application/vnd.jupyter.widget-view+json": {
       "model_id": "7ea43e827a0749f5b72c6e0c71b4346b",
       "version_major": 2,
       "version_minor": 0
      },
      "text/plain": [
       "HBox(children=(Canvas(height=84, width=84),), layout=Layout(align_items='center', display='flex', flex_flow='r…"
      ]
     },
     "metadata": {},
     "output_type": "display_data"
    },
    {
     "name": "stdout",
     "output_type": "stream",
     "text": [
      "[(1, 3, 84, 84), (1,), (1,), (1,), (1, 2)]\n",
      "(7,)\n",
      "(3, 84, 84)\n"
     ]
    },
    {
     "data": {
      "application/vnd.jupyter.widget-view+json": {
       "model_id": "ec3d3c497d81461dad1f2283c0a68635",
       "version_major": 2,
       "version_minor": 0
      },
      "text/plain": [
       "HBox(children=(Canvas(height=84, width=84),), layout=Layout(align_items='center', display='flex', flex_flow='r…"
      ]
     },
     "metadata": {},
     "output_type": "display_data"
    },
    {
     "name": "stdout",
     "output_type": "stream",
     "text": [
      "[(1, 3, 84, 84), (1,), (1,), (1,), (1, 2)]\n",
      "(7,)\n",
      "(3, 84, 84)\n"
     ]
    },
    {
     "data": {
      "application/vnd.jupyter.widget-view+json": {
       "model_id": "eee40b16c0c84b32af9f8249cb96860f",
       "version_major": 2,
       "version_minor": 0
      },
      "text/plain": [
       "HBox(children=(Canvas(height=84, width=84),), layout=Layout(align_items='center', display='flex', flex_flow='r…"
      ]
     },
     "metadata": {},
     "output_type": "display_data"
    },
    {
     "name": "stdout",
     "output_type": "stream",
     "text": [
      "[(1, 3, 84, 84), (1,), (1,), (1,), (1, 2)]\n",
      "(7,)\n",
      "(3, 84, 84)\n"
     ]
    },
    {
     "data": {
      "application/vnd.jupyter.widget-view+json": {
       "model_id": "a7efe23b02da42eca3af6b495e3693dc",
       "version_major": 2,
       "version_minor": 0
      },
      "text/plain": [
       "HBox(children=(Canvas(height=84, width=84),), layout=Layout(align_items='center', display='flex', flex_flow='r…"
      ]
     },
     "metadata": {},
     "output_type": "display_data"
    },
    {
     "name": "stdout",
     "output_type": "stream",
     "text": [
      "[(1, 3, 84, 84), (1,), (1,), (1,), (1, 2)]\n",
      "(7,)\n",
      "(3, 84, 84)\n"
     ]
    },
    {
     "data": {
      "application/vnd.jupyter.widget-view+json": {
       "model_id": "3de49fbd44d547b08271a9959cd4e800",
       "version_major": 2,
       "version_minor": 0
      },
      "text/plain": [
       "HBox(children=(Canvas(height=84, width=84),), layout=Layout(align_items='center', display='flex', flex_flow='r…"
      ]
     },
     "metadata": {},
     "output_type": "display_data"
    },
    {
     "name": "stdout",
     "output_type": "stream",
     "text": [
      "[(1, 3, 84, 84), (1,), (1,), (1,), (1, 2)]\n",
      "(7,)\n",
      "(3, 84, 84)\n"
     ]
    },
    {
     "data": {
      "application/vnd.jupyter.widget-view+json": {
       "model_id": "e65f4895413a4edfbe37fdcdb1bd735c",
       "version_major": 2,
       "version_minor": 0
      },
      "text/plain": [
       "HBox(children=(Canvas(height=84, width=84),), layout=Layout(align_items='center', display='flex', flex_flow='r…"
      ]
     },
     "metadata": {},
     "output_type": "display_data"
    },
    {
     "name": "stdout",
     "output_type": "stream",
     "text": [
      "[(1, 3, 84, 84), (1,), (1,), (1,), (1, 2)]\n",
      "(7,)\n",
      "(3, 84, 84)\n"
     ]
    },
    {
     "data": {
      "application/vnd.jupyter.widget-view+json": {
       "model_id": "ba4d9433010945c9b60568f7135c0fe5",
       "version_major": 2,
       "version_minor": 0
      },
      "text/plain": [
       "HBox(children=(Canvas(height=84, width=84),), layout=Layout(align_items='center', display='flex', flex_flow='r…"
      ]
     },
     "metadata": {},
     "output_type": "display_data"
    },
    {
     "name": "stdout",
     "output_type": "stream",
     "text": [
      "[(1, 3, 84, 84), (1,), (1,), (1,), (1, 2)]\n",
      "(7,)\n",
      "(3, 84, 84)\n"
     ]
    },
    {
     "data": {
      "application/vnd.jupyter.widget-view+json": {
       "model_id": "596946cc4fb74cc387339e8a6c216b4a",
       "version_major": 2,
       "version_minor": 0
      },
      "text/plain": [
       "HBox(children=(Canvas(height=84, width=84),), layout=Layout(align_items='center', display='flex', flex_flow='r…"
      ]
     },
     "metadata": {},
     "output_type": "display_data"
    },
    {
     "name": "stdout",
     "output_type": "stream",
     "text": [
      "[(1, 3, 84, 84), (1,), (1,), (1,), (1, 2)]\n",
      "(7,)\n",
      "(3, 84, 84)\n"
     ]
    },
    {
     "data": {
      "application/vnd.jupyter.widget-view+json": {
       "model_id": "f3ea457286ea486a8e0aa5cfd794fbda",
       "version_major": 2,
       "version_minor": 0
      },
      "text/plain": [
       "HBox(children=(Canvas(height=84, width=84),), layout=Layout(align_items='center', display='flex', flex_flow='r…"
      ]
     },
     "metadata": {},
     "output_type": "display_data"
    },
    {
     "name": "stdout",
     "output_type": "stream",
     "text": [
      "[(1, 3, 84, 84), (1,), (1,), (1,), (1, 2)]\n",
      "(7,)\n",
      "(3, 84, 84)\n"
     ]
    },
    {
     "data": {
      "application/vnd.jupyter.widget-view+json": {
       "model_id": "ae0bb03238cb4fa497084b58eac66018",
       "version_major": 2,
       "version_minor": 0
      },
      "text/plain": [
       "HBox(children=(Canvas(height=84, width=84),), layout=Layout(align_items='center', display='flex', flex_flow='r…"
      ]
     },
     "metadata": {},
     "output_type": "display_data"
    },
    {
     "name": "stdout",
     "output_type": "stream",
     "text": [
      "[(1, 3, 84, 84), (1,), (1,), (1,), (1, 2)]\n",
      "(7,)\n",
      "(3, 84, 84)\n"
     ]
    },
    {
     "data": {
      "application/vnd.jupyter.widget-view+json": {
       "model_id": "921dc42bcf8c49a4b309408b1f8d9129",
       "version_major": 2,
       "version_minor": 0
      },
      "text/plain": [
       "HBox(children=(Canvas(height=84, width=84),), layout=Layout(align_items='center', display='flex', flex_flow='r…"
      ]
     },
     "metadata": {},
     "output_type": "display_data"
    },
    {
     "name": "stdout",
     "output_type": "stream",
     "text": [
      "[(1, 3, 84, 84), (1,), (1,), (1,), (1, 2)]\n",
      "(7,)\n",
      "(3, 84, 84)\n"
     ]
    },
    {
     "data": {
      "application/vnd.jupyter.widget-view+json": {
       "model_id": "336cf63f1ead44d3887654b6d5384fe8",
       "version_major": 2,
       "version_minor": 0
      },
      "text/plain": [
       "HBox(children=(Canvas(height=84, width=84),), layout=Layout(align_items='center', display='flex', flex_flow='r…"
      ]
     },
     "metadata": {},
     "output_type": "display_data"
    },
    {
     "name": "stdout",
     "output_type": "stream",
     "text": [
      "[(1, 3, 84, 84), (1,), (1,), (1,), (1, 2)]\n",
      "(7,)\n",
      "(3, 84, 84)\n"
     ]
    },
    {
     "data": {
      "application/vnd.jupyter.widget-view+json": {
       "model_id": "64a34d04c4ef4d41a35ce83f0c07218b",
       "version_major": 2,
       "version_minor": 0
      },
      "text/plain": [
       "HBox(children=(Canvas(height=84, width=84),), layout=Layout(align_items='center', display='flex', flex_flow='r…"
      ]
     },
     "metadata": {},
     "output_type": "display_data"
    },
    {
     "name": "stdout",
     "output_type": "stream",
     "text": [
      "[(1, 3, 84, 84), (1,), (1,), (1,), (1, 2)]\n",
      "(7,)\n",
      "(3, 84, 84)\n"
     ]
    },
    {
     "data": {
      "application/vnd.jupyter.widget-view+json": {
       "model_id": "b8563886699741b5bce77279292a3b90",
       "version_major": 2,
       "version_minor": 0
      },
      "text/plain": [
       "HBox(children=(Canvas(height=84, width=84),), layout=Layout(align_items='center', display='flex', flex_flow='r…"
      ]
     },
     "metadata": {},
     "output_type": "display_data"
    },
    {
     "name": "stdout",
     "output_type": "stream",
     "text": [
      "[(1, 3, 84, 84), (1,), (1,), (1,), (1, 2)]\n",
      "(7,)\n",
      "(3, 84, 84)\n"
     ]
    },
    {
     "data": {
      "application/vnd.jupyter.widget-view+json": {
       "model_id": "af4d7a17fe3444c0b55a2952614f7780",
       "version_major": 2,
       "version_minor": 0
      },
      "text/plain": [
       "HBox(children=(Canvas(height=84, width=84),), layout=Layout(align_items='center', display='flex', flex_flow='r…"
      ]
     },
     "metadata": {},
     "output_type": "display_data"
    },
    {
     "name": "stdout",
     "output_type": "stream",
     "text": [
      "[(1, 3, 84, 84), (1,), (1,), (1,), (1, 2)]\n",
      "(7,)\n",
      "(3, 84, 84)\n"
     ]
    },
    {
     "data": {
      "application/vnd.jupyter.widget-view+json": {
       "model_id": "c44d19334f534249bc071ad39c44b3c5",
       "version_major": 2,
       "version_minor": 0
      },
      "text/plain": [
       "HBox(children=(Canvas(height=84, width=84),), layout=Layout(align_items='center', display='flex', flex_flow='r…"
      ]
     },
     "metadata": {},
     "output_type": "display_data"
    },
    {
     "name": "stdout",
     "output_type": "stream",
     "text": [
      "[(1, 3, 84, 84), (1,), (1,), (1,), (1, 2)]\n",
      "(7,)\n",
      "(3, 84, 84)\n"
     ]
    },
    {
     "data": {
      "application/vnd.jupyter.widget-view+json": {
       "model_id": "d190c517f8f94d82861c145a628f5707",
       "version_major": 2,
       "version_minor": 0
      },
      "text/plain": [
       "HBox(children=(Canvas(height=84, width=84),), layout=Layout(align_items='center', display='flex', flex_flow='r…"
      ]
     },
     "metadata": {},
     "output_type": "display_data"
    },
    {
     "name": "stdout",
     "output_type": "stream",
     "text": [
      "[(1, 3, 84, 84), (1,), (1,), (1,), (1, 2)]\n",
      "(7,)\n",
      "(3, 84, 84)\n"
     ]
    },
    {
     "data": {
      "application/vnd.jupyter.widget-view+json": {
       "model_id": "efde1c734346418ba0e51aa6abd6f24d",
       "version_major": 2,
       "version_minor": 0
      },
      "text/plain": [
       "HBox(children=(Canvas(height=84, width=84),), layout=Layout(align_items='center', display='flex', flex_flow='r…"
      ]
     },
     "metadata": {},
     "output_type": "display_data"
    },
    {
     "name": "stdout",
     "output_type": "stream",
     "text": [
      "[(1, 3, 84, 84), (1,), (1,), (1,), (1, 2)]\n",
      "(7,)\n",
      "(3, 84, 84)\n"
     ]
    },
    {
     "data": {
      "application/vnd.jupyter.widget-view+json": {
       "model_id": "a0a1be2828ed4be4ab61574b3d03473d",
       "version_major": 2,
       "version_minor": 0
      },
      "text/plain": [
       "HBox(children=(Canvas(height=84, width=84),), layout=Layout(align_items='center', display='flex', flex_flow='r…"
      ]
     },
     "metadata": {},
     "output_type": "display_data"
    },
    {
     "name": "stdout",
     "output_type": "stream",
     "text": [
      "[(1, 3, 84, 84), (1,), (1,), (1,), (1, 2)]\n",
      "(7,)\n",
      "(3, 84, 84)\n"
     ]
    },
    {
     "data": {
      "application/vnd.jupyter.widget-view+json": {
       "model_id": "30ebda5091794502b7acb52d6c59d0ca",
       "version_major": 2,
       "version_minor": 0
      },
      "text/plain": [
       "HBox(children=(Canvas(height=84, width=84),), layout=Layout(align_items='center', display='flex', flex_flow='r…"
      ]
     },
     "metadata": {},
     "output_type": "display_data"
    },
    {
     "name": "stdout",
     "output_type": "stream",
     "text": [
      "[(1, 3, 84, 84), (1,), (1,), (1,), (1, 2)]\n",
      "(7,)\n",
      "(3, 84, 84)\n"
     ]
    },
    {
     "data": {
      "application/vnd.jupyter.widget-view+json": {
       "model_id": "d21229c5b28b49cbb659eb4d9f47025c",
       "version_major": 2,
       "version_minor": 0
      },
      "text/plain": [
       "HBox(children=(Canvas(height=84, width=84),), layout=Layout(align_items='center', display='flex', flex_flow='r…"
      ]
     },
     "metadata": {},
     "output_type": "display_data"
    },
    {
     "name": "stdout",
     "output_type": "stream",
     "text": [
      "[(1, 3, 84, 84), (1,), (1,), (1,), (1, 2)]\n",
      "(7,)\n",
      "(3, 84, 84)\n"
     ]
    },
    {
     "data": {
      "application/vnd.jupyter.widget-view+json": {
       "model_id": "27d50b459aa6491fb33c4816016d1236",
       "version_major": 2,
       "version_minor": 0
      },
      "text/plain": [
       "HBox(children=(Canvas(height=84, width=84),), layout=Layout(align_items='center', display='flex', flex_flow='r…"
      ]
     },
     "metadata": {},
     "output_type": "display_data"
    },
    {
     "name": "stdout",
     "output_type": "stream",
     "text": [
      "[(1, 3, 84, 84), (1,), (1,), (1,), (1, 2)]\n",
      "(7,)\n",
      "(3, 84, 84)\n"
     ]
    },
    {
     "data": {
      "application/vnd.jupyter.widget-view+json": {
       "model_id": "951183dd6fd74e33a66226af74fc4156",
       "version_major": 2,
       "version_minor": 0
      },
      "text/plain": [
       "HBox(children=(Canvas(height=84, width=84),), layout=Layout(align_items='center', display='flex', flex_flow='r…"
      ]
     },
     "metadata": {},
     "output_type": "display_data"
    },
    {
     "name": "stdout",
     "output_type": "stream",
     "text": [
      "[(1, 3, 84, 84), (1,), (1,), (1,), (1, 2)]\n",
      "(7,)\n",
      "(3, 84, 84)\n"
     ]
    },
    {
     "data": {
      "application/vnd.jupyter.widget-view+json": {
       "model_id": "1ab92876791b4ecc969759055d1880f1",
       "version_major": 2,
       "version_minor": 0
      },
      "text/plain": [
       "HBox(children=(Canvas(height=84, width=84),), layout=Layout(align_items='center', display='flex', flex_flow='r…"
      ]
     },
     "metadata": {},
     "output_type": "display_data"
    },
    {
     "name": "stdout",
     "output_type": "stream",
     "text": [
      "[(1, 3, 84, 84), (1,), (1,), (1,), (1, 2)]\n",
      "(7,)\n",
      "(3, 84, 84)\n"
     ]
    },
    {
     "data": {
      "application/vnd.jupyter.widget-view+json": {
       "model_id": "8e7787095adb4d1fbe9514d8ed9a2f9d",
       "version_major": 2,
       "version_minor": 0
      },
      "text/plain": [
       "HBox(children=(Canvas(height=84, width=84),), layout=Layout(align_items='center', display='flex', flex_flow='r…"
      ]
     },
     "metadata": {},
     "output_type": "display_data"
    },
    {
     "name": "stdout",
     "output_type": "stream",
     "text": [
      "[(1, 3, 84, 84), (1,), (1,), (1,), (1, 2)]\n",
      "(7,)\n",
      "(3, 84, 84)\n"
     ]
    },
    {
     "data": {
      "application/vnd.jupyter.widget-view+json": {
       "model_id": "113030ca0a2346349fd32910c1bdc4c6",
       "version_major": 2,
       "version_minor": 0
      },
      "text/plain": [
       "HBox(children=(Canvas(height=84, width=84),), layout=Layout(align_items='center', display='flex', flex_flow='r…"
      ]
     },
     "metadata": {},
     "output_type": "display_data"
    },
    {
     "name": "stdout",
     "output_type": "stream",
     "text": [
      "[(1, 3, 84, 84), (1,), (1,), (1,), (1, 2)]\n",
      "(7,)\n",
      "(3, 84, 84)\n"
     ]
    },
    {
     "data": {
      "application/vnd.jupyter.widget-view+json": {
       "model_id": "41c5f461b06a42c8b623d274438961f8",
       "version_major": 2,
       "version_minor": 0
      },
      "text/plain": [
       "HBox(children=(Canvas(height=84, width=84),), layout=Layout(align_items='center', display='flex', flex_flow='r…"
      ]
     },
     "metadata": {},
     "output_type": "display_data"
    },
    {
     "name": "stdout",
     "output_type": "stream",
     "text": [
      "[(1, 3, 84, 84), (1,), (1,), (1,), (1, 2)]\n",
      "(7,)\n",
      "(3, 84, 84)\n"
     ]
    },
    {
     "data": {
      "application/vnd.jupyter.widget-view+json": {
       "model_id": "0defacddc3d943b9ab8b2189eb1bb6e2",
       "version_major": 2,
       "version_minor": 0
      },
      "text/plain": [
       "HBox(children=(Canvas(height=84, width=84),), layout=Layout(align_items='center', display='flex', flex_flow='r…"
      ]
     },
     "metadata": {},
     "output_type": "display_data"
    },
    {
     "name": "stdout",
     "output_type": "stream",
     "text": [
      "[(1, 3, 84, 84), (1,), (1,), (1,), (1, 2)]\n",
      "(7,)\n",
      "(3, 84, 84)\n"
     ]
    },
    {
     "data": {
      "application/vnd.jupyter.widget-view+json": {
       "model_id": "2c12f91d50e442f58b286616c561031d",
       "version_major": 2,
       "version_minor": 0
      },
      "text/plain": [
       "HBox(children=(Canvas(height=84, width=84),), layout=Layout(align_items='center', display='flex', flex_flow='r…"
      ]
     },
     "metadata": {},
     "output_type": "display_data"
    },
    {
     "name": "stdout",
     "output_type": "stream",
     "text": [
      "[(1, 3, 84, 84), (1,), (1,), (1,), (1, 2)]\n",
      "(7,)\n",
      "(3, 84, 84)\n"
     ]
    },
    {
     "data": {
      "application/vnd.jupyter.widget-view+json": {
       "model_id": "c36a2124e19a45368340968fce76ce9c",
       "version_major": 2,
       "version_minor": 0
      },
      "text/plain": [
       "HBox(children=(Canvas(height=84, width=84),), layout=Layout(align_items='center', display='flex', flex_flow='r…"
      ]
     },
     "metadata": {},
     "output_type": "display_data"
    },
    {
     "name": "stdout",
     "output_type": "stream",
     "text": [
      "[(1, 3, 84, 84), (1,), (1,), (1,), (1, 2)]\n",
      "(7,)\n",
      "(3, 84, 84)\n"
     ]
    },
    {
     "data": {
      "application/vnd.jupyter.widget-view+json": {
       "model_id": "610d9585773f4b9cbb1374a8e35246db",
       "version_major": 2,
       "version_minor": 0
      },
      "text/plain": [
       "HBox(children=(Canvas(height=84, width=84),), layout=Layout(align_items='center', display='flex', flex_flow='r…"
      ]
     },
     "metadata": {},
     "output_type": "display_data"
    },
    {
     "name": "stdout",
     "output_type": "stream",
     "text": [
      "[(1, 3, 84, 84), (1,), (1,), (1,), (1, 2)]\n",
      "(7,)\n",
      "(3, 84, 84)\n"
     ]
    },
    {
     "data": {
      "application/vnd.jupyter.widget-view+json": {
       "model_id": "0c7c0209e986475b9975a771ac2b5a98",
       "version_major": 2,
       "version_minor": 0
      },
      "text/plain": [
       "HBox(children=(Canvas(height=84, width=84),), layout=Layout(align_items='center', display='flex', flex_flow='r…"
      ]
     },
     "metadata": {},
     "output_type": "display_data"
    },
    {
     "name": "stdout",
     "output_type": "stream",
     "text": [
      "[(1, 3, 84, 84), (1,), (1,), (1,), (1, 2)]\n",
      "(7,)\n",
      "(3, 84, 84)\n"
     ]
    },
    {
     "data": {
      "application/vnd.jupyter.widget-view+json": {
       "model_id": "05fa854516be4bcb9c662471e0da2ea0",
       "version_major": 2,
       "version_minor": 0
      },
      "text/plain": [
       "HBox(children=(Canvas(height=84, width=84),), layout=Layout(align_items='center', display='flex', flex_flow='r…"
      ]
     },
     "metadata": {},
     "output_type": "display_data"
    },
    {
     "name": "stdout",
     "output_type": "stream",
     "text": [
      "[(1, 3, 84, 84), (1,), (1,), (1,), (1, 2)]\n",
      "(7,)\n",
      "(3, 84, 84)\n"
     ]
    },
    {
     "data": {
      "application/vnd.jupyter.widget-view+json": {
       "model_id": "0215e5864492490f9eba27bfe3276f3d",
       "version_major": 2,
       "version_minor": 0
      },
      "text/plain": [
       "HBox(children=(Canvas(height=84, width=84),), layout=Layout(align_items='center', display='flex', flex_flow='r…"
      ]
     },
     "metadata": {},
     "output_type": "display_data"
    },
    {
     "name": "stdout",
     "output_type": "stream",
     "text": [
      "[(1, 3, 84, 84), (1,), (1,), (1,), (1, 2)]\n",
      "(7,)\n",
      "(3, 84, 84)\n"
     ]
    },
    {
     "data": {
      "application/vnd.jupyter.widget-view+json": {
       "model_id": "f4b0b9404ea34bdd8d97c0f99e7b4d4f",
       "version_major": 2,
       "version_minor": 0
      },
      "text/plain": [
       "HBox(children=(Canvas(height=84, width=84),), layout=Layout(align_items='center', display='flex', flex_flow='r…"
      ]
     },
     "metadata": {},
     "output_type": "display_data"
    },
    {
     "name": "stdout",
     "output_type": "stream",
     "text": [
      "[(1, 3, 84, 84), (1,), (1,), (1,), (1, 2)]\n",
      "(7,)\n",
      "(3, 84, 84)\n"
     ]
    },
    {
     "data": {
      "application/vnd.jupyter.widget-view+json": {
       "model_id": "81e8df2c8c404e8c930ba3486415e3df",
       "version_major": 2,
       "version_minor": 0
      },
      "text/plain": [
       "HBox(children=(Canvas(height=84, width=84),), layout=Layout(align_items='center', display='flex', flex_flow='r…"
      ]
     },
     "metadata": {},
     "output_type": "display_data"
    },
    {
     "name": "stdout",
     "output_type": "stream",
     "text": [
      "[(1, 3, 84, 84), (1,), (1,), (1,), (1, 2)]\n",
      "(7,)\n",
      "(3, 84, 84)\n"
     ]
    },
    {
     "data": {
      "application/vnd.jupyter.widget-view+json": {
       "model_id": "981a475c413546f7bdcce3a86f2962e6",
       "version_major": 2,
       "version_minor": 0
      },
      "text/plain": [
       "HBox(children=(Canvas(height=84, width=84),), layout=Layout(align_items='center', display='flex', flex_flow='r…"
      ]
     },
     "metadata": {},
     "output_type": "display_data"
    },
    {
     "name": "stdout",
     "output_type": "stream",
     "text": [
      "[(1, 3, 84, 84), (1,), (1,), (1,), (1, 2)]\n",
      "(7,)\n",
      "(3, 84, 84)\n"
     ]
    },
    {
     "data": {
      "application/vnd.jupyter.widget-view+json": {
       "model_id": "41a21f1a57f143069fd8f65bbec395a2",
       "version_major": 2,
       "version_minor": 0
      },
      "text/plain": [
       "HBox(children=(Canvas(height=84, width=84),), layout=Layout(align_items='center', display='flex', flex_flow='r…"
      ]
     },
     "metadata": {},
     "output_type": "display_data"
    },
    {
     "name": "stdout",
     "output_type": "stream",
     "text": [
      "[(1, 3, 84, 84), (1,), (1,), (1,), (1, 2)]\n",
      "(7,)\n",
      "(3, 84, 84)\n"
     ]
    },
    {
     "data": {
      "application/vnd.jupyter.widget-view+json": {
       "model_id": "95588cc7145e469081ec03c21c9a6f19",
       "version_major": 2,
       "version_minor": 0
      },
      "text/plain": [
       "HBox(children=(Canvas(height=84, width=84),), layout=Layout(align_items='center', display='flex', flex_flow='r…"
      ]
     },
     "metadata": {},
     "output_type": "display_data"
    },
    {
     "name": "stdout",
     "output_type": "stream",
     "text": [
      "[(1, 3, 84, 84), (1,), (1,), (1,), (1, 2)]\n",
      "(7,)\n",
      "(3, 84, 84)\n"
     ]
    },
    {
     "data": {
      "application/vnd.jupyter.widget-view+json": {
       "model_id": "f734c5c5f66c47148c9d9ddb7746bb46",
       "version_major": 2,
       "version_minor": 0
      },
      "text/plain": [
       "HBox(children=(Canvas(height=84, width=84),), layout=Layout(align_items='center', display='flex', flex_flow='r…"
      ]
     },
     "metadata": {},
     "output_type": "display_data"
    },
    {
     "name": "stdout",
     "output_type": "stream",
     "text": [
      "[(1, 3, 84, 84), (1,), (1,), (1,), (1, 2)]\n",
      "(7,)\n",
      "(3, 84, 84)\n"
     ]
    },
    {
     "data": {
      "application/vnd.jupyter.widget-view+json": {
       "model_id": "c6b6c1b94eb047f7aa60223f4e93fa66",
       "version_major": 2,
       "version_minor": 0
      },
      "text/plain": [
       "HBox(children=(Canvas(height=84, width=84),), layout=Layout(align_items='center', display='flex', flex_flow='r…"
      ]
     },
     "metadata": {},
     "output_type": "display_data"
    },
    {
     "name": "stdout",
     "output_type": "stream",
     "text": [
      "[(1, 3, 84, 84), (1,), (1,), (1,), (1, 2)]\n",
      "(7,)\n",
      "(3, 84, 84)\n"
     ]
    },
    {
     "data": {
      "application/vnd.jupyter.widget-view+json": {
       "model_id": "4ec9ea74b5a34ab999fb97f4e7768234",
       "version_major": 2,
       "version_minor": 0
      },
      "text/plain": [
       "HBox(children=(Canvas(height=84, width=84),), layout=Layout(align_items='center', display='flex', flex_flow='r…"
      ]
     },
     "metadata": {},
     "output_type": "display_data"
    },
    {
     "name": "stdout",
     "output_type": "stream",
     "text": [
      "[(1, 3, 84, 84), (1,), (1,), (1,), (1, 2)]\n",
      "(7,)\n",
      "(3, 84, 84)\n"
     ]
    },
    {
     "data": {
      "application/vnd.jupyter.widget-view+json": {
       "model_id": "ecb0b19aa21e4b83bbc7be3b40329baa",
       "version_major": 2,
       "version_minor": 0
      },
      "text/plain": [
       "HBox(children=(Canvas(height=84, width=84),), layout=Layout(align_items='center', display='flex', flex_flow='r…"
      ]
     },
     "metadata": {},
     "output_type": "display_data"
    },
    {
     "name": "stdout",
     "output_type": "stream",
     "text": [
      "[(1, 3, 84, 84), (1,), (1,), (1,), (1, 2)]\n",
      "(7,)\n",
      "(3, 84, 84)\n"
     ]
    },
    {
     "data": {
      "application/vnd.jupyter.widget-view+json": {
       "model_id": "cea15af8bfa54276bbad4cbfe7a44f69",
       "version_major": 2,
       "version_minor": 0
      },
      "text/plain": [
       "HBox(children=(Canvas(height=84, width=84),), layout=Layout(align_items='center', display='flex', flex_flow='r…"
      ]
     },
     "metadata": {},
     "output_type": "display_data"
    },
    {
     "name": "stdout",
     "output_type": "stream",
     "text": [
      "[(1, 3, 84, 84), (1,), (1,), (1,), (1, 2)]\n",
      "(7,)\n",
      "(3, 84, 84)\n"
     ]
    },
    {
     "data": {
      "application/vnd.jupyter.widget-view+json": {
       "model_id": "01ac06cf18434d70bf0d7c51ae4a16ef",
       "version_major": 2,
       "version_minor": 0
      },
      "text/plain": [
       "HBox(children=(Canvas(height=84, width=84),), layout=Layout(align_items='center', display='flex', flex_flow='r…"
      ]
     },
     "metadata": {},
     "output_type": "display_data"
    },
    {
     "name": "stdout",
     "output_type": "stream",
     "text": [
      "[(1, 3, 84, 84), (1,), (1,), (1,), (1, 2)]\n",
      "(7,)\n",
      "(3, 84, 84)\n"
     ]
    },
    {
     "data": {
      "application/vnd.jupyter.widget-view+json": {
       "model_id": "e3bf6fcaf2364a1488f790e49356b200",
       "version_major": 2,
       "version_minor": 0
      },
      "text/plain": [
       "HBox(children=(Canvas(height=84, width=84),), layout=Layout(align_items='center', display='flex', flex_flow='r…"
      ]
     },
     "metadata": {},
     "output_type": "display_data"
    },
    {
     "name": "stdout",
     "output_type": "stream",
     "text": [
      "[(1, 3, 84, 84), (1,), (1,), (1,), (1, 2)]\n",
      "(7,)\n",
      "(3, 84, 84)\n"
     ]
    },
    {
     "data": {
      "application/vnd.jupyter.widget-view+json": {
       "model_id": "4a0271685e8a45cd824551560e9341d2",
       "version_major": 2,
       "version_minor": 0
      },
      "text/plain": [
       "HBox(children=(Canvas(height=84, width=84),), layout=Layout(align_items='center', display='flex', flex_flow='r…"
      ]
     },
     "metadata": {},
     "output_type": "display_data"
    },
    {
     "name": "stdout",
     "output_type": "stream",
     "text": [
      "[(1, 3, 84, 84), (1,), (1,), (1,), (1, 2)]\n",
      "(7,)\n",
      "(3, 84, 84)\n"
     ]
    },
    {
     "data": {
      "application/vnd.jupyter.widget-view+json": {
       "model_id": "e6d737de2c4a4488a704ed174b62e0ff",
       "version_major": 2,
       "version_minor": 0
      },
      "text/plain": [
       "HBox(children=(Canvas(height=84, width=84),), layout=Layout(align_items='center', display='flex', flex_flow='r…"
      ]
     },
     "metadata": {},
     "output_type": "display_data"
    },
    {
     "name": "stdout",
     "output_type": "stream",
     "text": [
      "[(1, 3, 84, 84), (1,), (1,), (1,), (1, 2)]\n",
      "(7,)\n",
      "(3, 84, 84)\n"
     ]
    },
    {
     "data": {
      "application/vnd.jupyter.widget-view+json": {
       "model_id": "6f1e7cc9279b4815ba93595cdd437575",
       "version_major": 2,
       "version_minor": 0
      },
      "text/plain": [
       "HBox(children=(Canvas(height=84, width=84),), layout=Layout(align_items='center', display='flex', flex_flow='r…"
      ]
     },
     "metadata": {},
     "output_type": "display_data"
    },
    {
     "name": "stdout",
     "output_type": "stream",
     "text": [
      "[(1, 3, 84, 84), (1,), (1,), (1,), (1, 2)]\n",
      "(7,)\n",
      "(3, 84, 84)\n"
     ]
    },
    {
     "data": {
      "application/vnd.jupyter.widget-view+json": {
       "model_id": "244c6fad97bf47b39d7a366babf11429",
       "version_major": 2,
       "version_minor": 0
      },
      "text/plain": [
       "HBox(children=(Canvas(height=84, width=84),), layout=Layout(align_items='center', display='flex', flex_flow='r…"
      ]
     },
     "metadata": {},
     "output_type": "display_data"
    },
    {
     "name": "stdout",
     "output_type": "stream",
     "text": [
      "[(1, 3, 84, 84), (1,), (1,), (1,), (1, 2)]\n",
      "(7,)\n",
      "(3, 84, 84)\n"
     ]
    },
    {
     "data": {
      "application/vnd.jupyter.widget-view+json": {
       "model_id": "49f68c1b99434c6fbe6bd296fcc37470",
       "version_major": 2,
       "version_minor": 0
      },
      "text/plain": [
       "HBox(children=(Canvas(height=84, width=84),), layout=Layout(align_items='center', display='flex', flex_flow='r…"
      ]
     },
     "metadata": {},
     "output_type": "display_data"
    },
    {
     "name": "stdout",
     "output_type": "stream",
     "text": [
      "[(1, 3, 84, 84), (1,), (1,), (1,), (1, 2)]\n",
      "(7,)\n",
      "(3, 84, 84)\n"
     ]
    },
    {
     "data": {
      "application/vnd.jupyter.widget-view+json": {
       "model_id": "586fe7bf1daa423f86fd117da2e8e8b2",
       "version_major": 2,
       "version_minor": 0
      },
      "text/plain": [
       "HBox(children=(Canvas(height=84, width=84),), layout=Layout(align_items='center', display='flex', flex_flow='r…"
      ]
     },
     "metadata": {},
     "output_type": "display_data"
    },
    {
     "name": "stdout",
     "output_type": "stream",
     "text": [
      "[(1, 3, 84, 84), (1,), (1,), (1,), (1, 2)]\n",
      "(7,)\n",
      "(3, 84, 84)\n"
     ]
    },
    {
     "data": {
      "application/vnd.jupyter.widget-view+json": {
       "model_id": "c6f5a55b4ccd4e1eb96240f1e9760877",
       "version_major": 2,
       "version_minor": 0
      },
      "text/plain": [
       "HBox(children=(Canvas(height=84, width=84),), layout=Layout(align_items='center', display='flex', flex_flow='r…"
      ]
     },
     "metadata": {},
     "output_type": "display_data"
    },
    {
     "name": "stdout",
     "output_type": "stream",
     "text": [
      "[(1, 3, 84, 84), (1,), (1,), (1,), (1, 2)]\n",
      "(7,)\n",
      "(3, 84, 84)\n"
     ]
    },
    {
     "data": {
      "application/vnd.jupyter.widget-view+json": {
       "model_id": "cf5900b7e3d0429dbc0ff06fdd528a81",
       "version_major": 2,
       "version_minor": 0
      },
      "text/plain": [
       "HBox(children=(Canvas(height=84, width=84),), layout=Layout(align_items='center', display='flex', flex_flow='r…"
      ]
     },
     "metadata": {},
     "output_type": "display_data"
    },
    {
     "name": "stdout",
     "output_type": "stream",
     "text": [
      "[(1, 3, 84, 84), (1,), (1,), (1,), (1, 2)]\n",
      "(7,)\n",
      "(3, 84, 84)\n"
     ]
    },
    {
     "data": {
      "application/vnd.jupyter.widget-view+json": {
       "model_id": "2d7b8fa725ec4934a5ac3051aedf2c05",
       "version_major": 2,
       "version_minor": 0
      },
      "text/plain": [
       "HBox(children=(Canvas(height=84, width=84),), layout=Layout(align_items='center', display='flex', flex_flow='r…"
      ]
     },
     "metadata": {},
     "output_type": "display_data"
    },
    {
     "name": "stdout",
     "output_type": "stream",
     "text": [
      "[(1, 3, 84, 84), (1,), (1,), (1,), (1, 2)]\n",
      "(7,)\n",
      "(3, 84, 84)\n"
     ]
    },
    {
     "data": {
      "application/vnd.jupyter.widget-view+json": {
       "model_id": "18ff023333fb4a42913f7b49806e2b8d",
       "version_major": 2,
       "version_minor": 0
      },
      "text/plain": [
       "HBox(children=(Canvas(height=84, width=84),), layout=Layout(align_items='center', display='flex', flex_flow='r…"
      ]
     },
     "metadata": {},
     "output_type": "display_data"
    },
    {
     "name": "stdout",
     "output_type": "stream",
     "text": [
      "[(1, 3, 84, 84), (1,), (1,), (1,), (1, 2)]\n",
      "(7,)\n",
      "(3, 84, 84)\n"
     ]
    },
    {
     "data": {
      "application/vnd.jupyter.widget-view+json": {
       "model_id": "4124ca3471864f76b8addf4e53a1b8ba",
       "version_major": 2,
       "version_minor": 0
      },
      "text/plain": [
       "HBox(children=(Canvas(height=84, width=84),), layout=Layout(align_items='center', display='flex', flex_flow='r…"
      ]
     },
     "metadata": {},
     "output_type": "display_data"
    },
    {
     "name": "stdout",
     "output_type": "stream",
     "text": [
      "[(1, 3, 84, 84), (1,), (1,), (1,), (1, 2)]\n",
      "(7,)\n",
      "(3, 84, 84)\n"
     ]
    },
    {
     "data": {
      "application/vnd.jupyter.widget-view+json": {
       "model_id": "48d461e3762f42e4bbc58fd8a73212fd",
       "version_major": 2,
       "version_minor": 0
      },
      "text/plain": [
       "HBox(children=(Canvas(height=84, width=84),), layout=Layout(align_items='center', display='flex', flex_flow='r…"
      ]
     },
     "metadata": {},
     "output_type": "display_data"
    },
    {
     "name": "stdout",
     "output_type": "stream",
     "text": [
      "[(1, 3, 84, 84), (1,), (1,), (1,), (1, 2)]\n",
      "(7,)\n",
      "(3, 84, 84)\n"
     ]
    },
    {
     "data": {
      "application/vnd.jupyter.widget-view+json": {
       "model_id": "7adda59777c24bfda9e9ec32181271a7",
       "version_major": 2,
       "version_minor": 0
      },
      "text/plain": [
       "HBox(children=(Canvas(height=84, width=84),), layout=Layout(align_items='center', display='flex', flex_flow='r…"
      ]
     },
     "metadata": {},
     "output_type": "display_data"
    },
    {
     "name": "stdout",
     "output_type": "stream",
     "text": [
      "[(1, 3, 84, 84), (1,), (1,), (1,), (1, 2)]\n",
      "(7,)\n",
      "(3, 84, 84)\n"
     ]
    },
    {
     "data": {
      "application/vnd.jupyter.widget-view+json": {
       "model_id": "e9d50c91b6ef4068969dcc5b2a9c7464",
       "version_major": 2,
       "version_minor": 0
      },
      "text/plain": [
       "HBox(children=(Canvas(height=84, width=84),), layout=Layout(align_items='center', display='flex', flex_flow='r…"
      ]
     },
     "metadata": {},
     "output_type": "display_data"
    },
    {
     "name": "stdout",
     "output_type": "stream",
     "text": [
      "[(1, 3, 84, 84), (1,), (1,), (1,), (1, 2)]\n",
      "(7,)\n",
      "(3, 84, 84)\n"
     ]
    },
    {
     "data": {
      "application/vnd.jupyter.widget-view+json": {
       "model_id": "a2a69bddbb3a4ea5b24c4ed5482857cb",
       "version_major": 2,
       "version_minor": 0
      },
      "text/plain": [
       "HBox(children=(Canvas(height=84, width=84),), layout=Layout(align_items='center', display='flex', flex_flow='r…"
      ]
     },
     "metadata": {},
     "output_type": "display_data"
    },
    {
     "name": "stdout",
     "output_type": "stream",
     "text": [
      "[(1, 3, 84, 84), (1,), (1,), (1,), (1, 2)]\n",
      "(7,)\n",
      "(3, 84, 84)\n"
     ]
    },
    {
     "data": {
      "application/vnd.jupyter.widget-view+json": {
       "model_id": "e155e34b8e2540e7bebb69478ca6648c",
       "version_major": 2,
       "version_minor": 0
      },
      "text/plain": [
       "HBox(children=(Canvas(height=84, width=84),), layout=Layout(align_items='center', display='flex', flex_flow='r…"
      ]
     },
     "metadata": {},
     "output_type": "display_data"
    },
    {
     "name": "stdout",
     "output_type": "stream",
     "text": [
      "[(1, 3, 84, 84), (1,), (1,), (1,), (1, 2)]\n",
      "(7,)\n",
      "(3, 84, 84)\n"
     ]
    },
    {
     "data": {
      "application/vnd.jupyter.widget-view+json": {
       "model_id": "3c43e22ce976417485e891ae7f28f041",
       "version_major": 2,
       "version_minor": 0
      },
      "text/plain": [
       "HBox(children=(Canvas(height=84, width=84),), layout=Layout(align_items='center', display='flex', flex_flow='r…"
      ]
     },
     "metadata": {},
     "output_type": "display_data"
    },
    {
     "name": "stdout",
     "output_type": "stream",
     "text": [
      "[(1, 3, 84, 84), (1,), (1,), (1,), (1, 2)]\n",
      "(7,)\n",
      "(3, 84, 84)\n"
     ]
    },
    {
     "data": {
      "application/vnd.jupyter.widget-view+json": {
       "model_id": "1d8265746bd84eb5ba32c83cc5f120ab",
       "version_major": 2,
       "version_minor": 0
      },
      "text/plain": [
       "HBox(children=(Canvas(height=84, width=84),), layout=Layout(align_items='center', display='flex', flex_flow='r…"
      ]
     },
     "metadata": {},
     "output_type": "display_data"
    },
    {
     "name": "stdout",
     "output_type": "stream",
     "text": [
      "[(1, 3, 84, 84), (1,), (1,), (1,), (1, 2)]\n",
      "(7,)\n",
      "(3, 84, 84)\n"
     ]
    },
    {
     "data": {
      "application/vnd.jupyter.widget-view+json": {
       "model_id": "df2703e0587940a79273423253228fc6",
       "version_major": 2,
       "version_minor": 0
      },
      "text/plain": [
       "HBox(children=(Canvas(height=84, width=84),), layout=Layout(align_items='center', display='flex', flex_flow='r…"
      ]
     },
     "metadata": {},
     "output_type": "display_data"
    },
    {
     "name": "stdout",
     "output_type": "stream",
     "text": [
      "[(1, 3, 84, 84), (1,), (1,), (1,), (1, 2)]\n",
      "(7,)\n",
      "(3, 84, 84)\n"
     ]
    },
    {
     "data": {
      "application/vnd.jupyter.widget-view+json": {
       "model_id": "9c487579fd804875b2219a458730a874",
       "version_major": 2,
       "version_minor": 0
      },
      "text/plain": [
       "HBox(children=(Canvas(height=84, width=84),), layout=Layout(align_items='center', display='flex', flex_flow='r…"
      ]
     },
     "metadata": {},
     "output_type": "display_data"
    },
    {
     "name": "stdout",
     "output_type": "stream",
     "text": [
      "[(1, 3, 84, 84), (1,), (1,), (1,), (1, 2)]\n",
      "(7,)\n",
      "(3, 84, 84)\n"
     ]
    },
    {
     "data": {
      "application/vnd.jupyter.widget-view+json": {
       "model_id": "638b1650bd3a442e9222b24164fc6723",
       "version_major": 2,
       "version_minor": 0
      },
      "text/plain": [
       "HBox(children=(Canvas(height=84, width=84),), layout=Layout(align_items='center', display='flex', flex_flow='r…"
      ]
     },
     "metadata": {},
     "output_type": "display_data"
    },
    {
     "name": "stdout",
     "output_type": "stream",
     "text": [
      "[(1, 3, 84, 84), (1,), (1,), (1,), (1, 2)]\n",
      "(7,)\n",
      "(3, 84, 84)\n"
     ]
    },
    {
     "data": {
      "application/vnd.jupyter.widget-view+json": {
       "model_id": "ed391c4af0a9466286d8b2c9b2428d4a",
       "version_major": 2,
       "version_minor": 0
      },
      "text/plain": [
       "HBox(children=(Canvas(height=84, width=84),), layout=Layout(align_items='center', display='flex', flex_flow='r…"
      ]
     },
     "metadata": {},
     "output_type": "display_data"
    },
    {
     "name": "stdout",
     "output_type": "stream",
     "text": [
      "[(1, 3, 84, 84), (1,), (1,), (1,), (1, 2)]\n",
      "(7,)\n",
      "(3, 84, 84)\n"
     ]
    },
    {
     "data": {
      "application/vnd.jupyter.widget-view+json": {
       "model_id": "955d9a1ce94f4bb49b0d997a98585b64",
       "version_major": 2,
       "version_minor": 0
      },
      "text/plain": [
       "HBox(children=(Canvas(height=84, width=84),), layout=Layout(align_items='center', display='flex', flex_flow='r…"
      ]
     },
     "metadata": {},
     "output_type": "display_data"
    },
    {
     "name": "stdout",
     "output_type": "stream",
     "text": [
      "[(1, 3, 84, 84), (1,), (1,), (1,), (1, 2)]\n",
      "(7,)\n",
      "(3, 84, 84)\n"
     ]
    },
    {
     "data": {
      "application/vnd.jupyter.widget-view+json": {
       "model_id": "96d738c4d1d548d9a28bc764b511bd9b",
       "version_major": 2,
       "version_minor": 0
      },
      "text/plain": [
       "HBox(children=(Canvas(height=84, width=84),), layout=Layout(align_items='center', display='flex', flex_flow='r…"
      ]
     },
     "metadata": {},
     "output_type": "display_data"
    },
    {
     "name": "stdout",
     "output_type": "stream",
     "text": [
      "[(1, 3, 84, 84), (1,), (1,), (1,), (1, 2)]\n",
      "(7,)\n",
      "(3, 84, 84)\n"
     ]
    },
    {
     "data": {
      "application/vnd.jupyter.widget-view+json": {
       "model_id": "454e57ae94c84a5d88c292aab638c2a5",
       "version_major": 2,
       "version_minor": 0
      },
      "text/plain": [
       "HBox(children=(Canvas(height=84, width=84),), layout=Layout(align_items='center', display='flex', flex_flow='r…"
      ]
     },
     "metadata": {},
     "output_type": "display_data"
    },
    {
     "name": "stdout",
     "output_type": "stream",
     "text": [
      "[(1, 3, 84, 84), (1,), (1,), (1,), (1, 2)]\n",
      "(7,)\n",
      "(3, 84, 84)\n"
     ]
    },
    {
     "data": {
      "application/vnd.jupyter.widget-view+json": {
       "model_id": "1d8b189d5d8f4b48bab27c166e1d89bd",
       "version_major": 2,
       "version_minor": 0
      },
      "text/plain": [
       "HBox(children=(Canvas(height=84, width=84),), layout=Layout(align_items='center', display='flex', flex_flow='r…"
      ]
     },
     "metadata": {},
     "output_type": "display_data"
    },
    {
     "name": "stdout",
     "output_type": "stream",
     "text": [
      "[(1, 3, 84, 84), (1,), (1,), (1,), (1, 2)]\n",
      "(7,)\n",
      "(3, 84, 84)\n"
     ]
    },
    {
     "data": {
      "application/vnd.jupyter.widget-view+json": {
       "model_id": "3770c0638c064e449f5eb5bef9154ecc",
       "version_major": 2,
       "version_minor": 0
      },
      "text/plain": [
       "HBox(children=(Canvas(height=84, width=84),), layout=Layout(align_items='center', display='flex', flex_flow='r…"
      ]
     },
     "metadata": {},
     "output_type": "display_data"
    },
    {
     "name": "stdout",
     "output_type": "stream",
     "text": [
      "[(1, 3, 84, 84), (1,), (1,), (1,), (1, 2)]\n",
      "(7,)\n",
      "(3, 84, 84)\n"
     ]
    },
    {
     "data": {
      "application/vnd.jupyter.widget-view+json": {
       "model_id": "b5a9bded78e846b0b8feec5c9df04c8a",
       "version_major": 2,
       "version_minor": 0
      },
      "text/plain": [
       "HBox(children=(Canvas(height=84, width=84),), layout=Layout(align_items='center', display='flex', flex_flow='r…"
      ]
     },
     "metadata": {},
     "output_type": "display_data"
    },
    {
     "name": "stdout",
     "output_type": "stream",
     "text": [
      "[(1, 3, 84, 84), (1,), (1,), (1,), (1, 2)]\n",
      "(7,)\n",
      "(3, 84, 84)\n"
     ]
    },
    {
     "data": {
      "application/vnd.jupyter.widget-view+json": {
       "model_id": "fb87116421204b1980f1d307e947c5ed",
       "version_major": 2,
       "version_minor": 0
      },
      "text/plain": [
       "HBox(children=(Canvas(height=84, width=84),), layout=Layout(align_items='center', display='flex', flex_flow='r…"
      ]
     },
     "metadata": {},
     "output_type": "display_data"
    },
    {
     "name": "stdout",
     "output_type": "stream",
     "text": [
      "[(1, 3, 84, 84), (1,), (1,), (1,), (1, 2)]\n",
      "(7,)\n",
      "(3, 84, 84)\n"
     ]
    },
    {
     "data": {
      "application/vnd.jupyter.widget-view+json": {
       "model_id": "ae1a6f3e867e44aa92b58430290d2862",
       "version_major": 2,
       "version_minor": 0
      },
      "text/plain": [
       "HBox(children=(Canvas(height=84, width=84),), layout=Layout(align_items='center', display='flex', flex_flow='r…"
      ]
     },
     "metadata": {},
     "output_type": "display_data"
    },
    {
     "name": "stdout",
     "output_type": "stream",
     "text": [
      "[(1, 3, 84, 84), (1,), (1,), (1,), (1, 2)]\n",
      "(7,)\n",
      "(3, 84, 84)\n"
     ]
    },
    {
     "data": {
      "application/vnd.jupyter.widget-view+json": {
       "model_id": "755ef9a19d0c4cfeb39908c7ea485d84",
       "version_major": 2,
       "version_minor": 0
      },
      "text/plain": [
       "HBox(children=(Canvas(height=84, width=84),), layout=Layout(align_items='center', display='flex', flex_flow='r…"
      ]
     },
     "metadata": {},
     "output_type": "display_data"
    },
    {
     "name": "stdout",
     "output_type": "stream",
     "text": [
      "[(1, 3, 84, 84), (1,), (1,), (1,), (1, 2)]\n",
      "(7,)\n",
      "(3, 84, 84)\n"
     ]
    },
    {
     "data": {
      "application/vnd.jupyter.widget-view+json": {
       "model_id": "886fc4de21f344ffb87c30c406f10578",
       "version_major": 2,
       "version_minor": 0
      },
      "text/plain": [
       "HBox(children=(Canvas(height=84, width=84),), layout=Layout(align_items='center', display='flex', flex_flow='r…"
      ]
     },
     "metadata": {},
     "output_type": "display_data"
    },
    {
     "name": "stdout",
     "output_type": "stream",
     "text": [
      "[(1, 3, 84, 84), (1,), (1,), (1,), (1, 2)]\n",
      "(7,)\n",
      "(3, 84, 84)\n"
     ]
    },
    {
     "data": {
      "application/vnd.jupyter.widget-view+json": {
       "model_id": "01ece0e96d024291a85c8158e75f45ef",
       "version_major": 2,
       "version_minor": 0
      },
      "text/plain": [
       "HBox(children=(Canvas(height=84, width=84),), layout=Layout(align_items='center', display='flex', flex_flow='r…"
      ]
     },
     "metadata": {},
     "output_type": "display_data"
    },
    {
     "name": "stdout",
     "output_type": "stream",
     "text": [
      "[(1, 3, 84, 84), (1,), (1,), (1,), (1, 2)]\n",
      "(7,)\n",
      "(3, 84, 84)\n"
     ]
    },
    {
     "data": {
      "application/vnd.jupyter.widget-view+json": {
       "model_id": "703ef41dbc104c19a3fcaf8929a77703",
       "version_major": 2,
       "version_minor": 0
      },
      "text/plain": [
       "HBox(children=(Canvas(height=84, width=84),), layout=Layout(align_items='center', display='flex', flex_flow='r…"
      ]
     },
     "metadata": {},
     "output_type": "display_data"
    },
    {
     "name": "stdout",
     "output_type": "stream",
     "text": [
      "[(1, 3, 84, 84), (1,), (1,), (1,), (1, 2)]\n",
      "(7,)\n",
      "(3, 84, 84)\n"
     ]
    },
    {
     "data": {
      "application/vnd.jupyter.widget-view+json": {
       "model_id": "54066b7890284c5e82e8e00435217891",
       "version_major": 2,
       "version_minor": 0
      },
      "text/plain": [
       "HBox(children=(Canvas(height=84, width=84),), layout=Layout(align_items='center', display='flex', flex_flow='r…"
      ]
     },
     "metadata": {},
     "output_type": "display_data"
    },
    {
     "name": "stdout",
     "output_type": "stream",
     "text": [
      "[(1, 3, 84, 84), (1,), (1,), (1,), (1, 2)]\n",
      "(7,)\n",
      "(3, 84, 84)\n"
     ]
    },
    {
     "data": {
      "application/vnd.jupyter.widget-view+json": {
       "model_id": "97c180f927ac4ee593018f5af060f28b",
       "version_major": 2,
       "version_minor": 0
      },
      "text/plain": [
       "HBox(children=(Canvas(height=84, width=84),), layout=Layout(align_items='center', display='flex', flex_flow='r…"
      ]
     },
     "metadata": {},
     "output_type": "display_data"
    },
    {
     "name": "stdout",
     "output_type": "stream",
     "text": [
      "[(1, 3, 84, 84), (1,), (1,), (1,), (1, 2)]\n",
      "(7,)\n",
      "(3, 84, 84)\n"
     ]
    },
    {
     "data": {
      "application/vnd.jupyter.widget-view+json": {
       "model_id": "1916408e88a24ff4a80f79d97e7602a3",
       "version_major": 2,
       "version_minor": 0
      },
      "text/plain": [
       "HBox(children=(Canvas(height=84, width=84),), layout=Layout(align_items='center', display='flex', flex_flow='r…"
      ]
     },
     "metadata": {},
     "output_type": "display_data"
    },
    {
     "name": "stdout",
     "output_type": "stream",
     "text": [
      "[(1, 3, 84, 84), (1,), (1,), (1,), (1, 2)]\n",
      "(7,)\n",
      "(3, 84, 84)\n"
     ]
    },
    {
     "data": {
      "application/vnd.jupyter.widget-view+json": {
       "model_id": "d1ec6ddb721346e1ae3f6b8dfb66d592",
       "version_major": 2,
       "version_minor": 0
      },
      "text/plain": [
       "HBox(children=(Canvas(height=84, width=84),), layout=Layout(align_items='center', display='flex', flex_flow='r…"
      ]
     },
     "metadata": {},
     "output_type": "display_data"
    },
    {
     "name": "stdout",
     "output_type": "stream",
     "text": [
      "[(1, 3, 84, 84), (1,), (1,), (1,), (1, 2)]\n",
      "(7,)\n",
      "(3, 84, 84)\n"
     ]
    },
    {
     "data": {
      "application/vnd.jupyter.widget-view+json": {
       "model_id": "8d4bdfe4df514ddba376cc37973adcf1",
       "version_major": 2,
       "version_minor": 0
      },
      "text/plain": [
       "HBox(children=(Canvas(height=84, width=84),), layout=Layout(align_items='center', display='flex', flex_flow='r…"
      ]
     },
     "metadata": {},
     "output_type": "display_data"
    },
    {
     "name": "stdout",
     "output_type": "stream",
     "text": [
      "[(1, 3, 84, 84), (1,), (1,), (1,), (1, 2)]\n",
      "(7,)\n",
      "(3, 84, 84)\n"
     ]
    },
    {
     "data": {
      "application/vnd.jupyter.widget-view+json": {
       "model_id": "d9241f47defb4ef6879536e1e6689c2f",
       "version_major": 2,
       "version_minor": 0
      },
      "text/plain": [
       "HBox(children=(Canvas(height=84, width=84),), layout=Layout(align_items='center', display='flex', flex_flow='r…"
      ]
     },
     "metadata": {},
     "output_type": "display_data"
    },
    {
     "name": "stdout",
     "output_type": "stream",
     "text": [
      "[(1, 3, 84, 84), (1,), (1,), (1,), (1, 2)]\n",
      "(7,)\n",
      "(3, 84, 84)\n"
     ]
    },
    {
     "data": {
      "application/vnd.jupyter.widget-view+json": {
       "model_id": "72a98b69db0046ff97553c9d27f401eb",
       "version_major": 2,
       "version_minor": 0
      },
      "text/plain": [
       "HBox(children=(Canvas(height=84, width=84),), layout=Layout(align_items='center', display='flex', flex_flow='r…"
      ]
     },
     "metadata": {},
     "output_type": "display_data"
    },
    {
     "name": "stdout",
     "output_type": "stream",
     "text": [
      "[(1, 3, 84, 84), (1,), (1,), (1,), (1, 2)]\n",
      "(7,)\n",
      "(3, 84, 84)\n"
     ]
    },
    {
     "data": {
      "application/vnd.jupyter.widget-view+json": {
       "model_id": "9523a48cb70b41b09051f3a5d4b77a40",
       "version_major": 2,
       "version_minor": 0
      },
      "text/plain": [
       "HBox(children=(Canvas(height=84, width=84),), layout=Layout(align_items='center', display='flex', flex_flow='r…"
      ]
     },
     "metadata": {},
     "output_type": "display_data"
    },
    {
     "name": "stdout",
     "output_type": "stream",
     "text": [
      "[(1, 3, 84, 84), (1,), (1,), (1,), (1, 2)]\n",
      "(7,)\n",
      "(3, 84, 84)\n"
     ]
    },
    {
     "data": {
      "application/vnd.jupyter.widget-view+json": {
       "model_id": "f9ca0233122d41f5b69dbb616c1f0858",
       "version_major": 2,
       "version_minor": 0
      },
      "text/plain": [
       "HBox(children=(Canvas(height=84, width=84),), layout=Layout(align_items='center', display='flex', flex_flow='r…"
      ]
     },
     "metadata": {},
     "output_type": "display_data"
    },
    {
     "name": "stdout",
     "output_type": "stream",
     "text": [
      "[(1, 3, 84, 84), (1,), (1,), (1,), (1, 2)]\n",
      "(7,)\n",
      "(3, 84, 84)\n"
     ]
    },
    {
     "data": {
      "application/vnd.jupyter.widget-view+json": {
       "model_id": "7d41f47580a04330b96dc9215ac295eb",
       "version_major": 2,
       "version_minor": 0
      },
      "text/plain": [
       "HBox(children=(Canvas(height=84, width=84),), layout=Layout(align_items='center', display='flex', flex_flow='r…"
      ]
     },
     "metadata": {},
     "output_type": "display_data"
    },
    {
     "name": "stdout",
     "output_type": "stream",
     "text": [
      "[(1, 3, 84, 84), (1,), (1,), (1,), (1, 2)]\n",
      "(7,)\n",
      "(3, 84, 84)\n"
     ]
    },
    {
     "data": {
      "application/vnd.jupyter.widget-view+json": {
       "model_id": "c13f1925c65d4bb5a7d3be74dd3fc8ff",
       "version_major": 2,
       "version_minor": 0
      },
      "text/plain": [
       "HBox(children=(Canvas(height=84, width=84),), layout=Layout(align_items='center', display='flex', flex_flow='r…"
      ]
     },
     "metadata": {},
     "output_type": "display_data"
    },
    {
     "name": "stdout",
     "output_type": "stream",
     "text": [
      "[(1, 3, 84, 84), (1,), (1,), (1,), (1, 2)]\n",
      "(7,)\n",
      "(3, 84, 84)\n"
     ]
    },
    {
     "data": {
      "application/vnd.jupyter.widget-view+json": {
       "model_id": "6b0cd17e0db947118a753da2a85fc571",
       "version_major": 2,
       "version_minor": 0
      },
      "text/plain": [
       "HBox(children=(Canvas(height=84, width=84),), layout=Layout(align_items='center', display='flex', flex_flow='r…"
      ]
     },
     "metadata": {},
     "output_type": "display_data"
    },
    {
     "name": "stdout",
     "output_type": "stream",
     "text": [
      "[(1, 3, 84, 84), (1,), (1,), (1,), (1, 2)]\n",
      "(7,)\n",
      "(3, 84, 84)\n"
     ]
    },
    {
     "data": {
      "application/vnd.jupyter.widget-view+json": {
       "model_id": "8e391db47cb6440cb019d962cf1f0644",
       "version_major": 2,
       "version_minor": 0
      },
      "text/plain": [
       "HBox(children=(Canvas(height=84, width=84),), layout=Layout(align_items='center', display='flex', flex_flow='r…"
      ]
     },
     "metadata": {},
     "output_type": "display_data"
    },
    {
     "name": "stdout",
     "output_type": "stream",
     "text": [
      "[(1, 3, 84, 84), (1,), (1,), (1,), (1, 2)]\n",
      "(7,)\n",
      "(3, 84, 84)\n"
     ]
    },
    {
     "data": {
      "application/vnd.jupyter.widget-view+json": {
       "model_id": "cd4b14dc3b7d4dc59a68c02539c470dd",
       "version_major": 2,
       "version_minor": 0
      },
      "text/plain": [
       "HBox(children=(Canvas(height=84, width=84),), layout=Layout(align_items='center', display='flex', flex_flow='r…"
      ]
     },
     "metadata": {},
     "output_type": "display_data"
    },
    {
     "name": "stdout",
     "output_type": "stream",
     "text": [
      "[(1, 3, 84, 84), (1,), (1,), (1,), (1, 2)]\n",
      "(7,)\n",
      "(3, 84, 84)\n"
     ]
    },
    {
     "data": {
      "application/vnd.jupyter.widget-view+json": {
       "model_id": "f5c2fd68da444e2fb2412c6e7b3d5ada",
       "version_major": 2,
       "version_minor": 0
      },
      "text/plain": [
       "HBox(children=(Canvas(height=84, width=84),), layout=Layout(align_items='center', display='flex', flex_flow='r…"
      ]
     },
     "metadata": {},
     "output_type": "display_data"
    },
    {
     "name": "stdout",
     "output_type": "stream",
     "text": [
      "[(1, 3, 84, 84), (1,), (1,), (1,), (1, 2)]\n",
      "(7,)\n",
      "(3, 84, 84)\n"
     ]
    },
    {
     "data": {
      "application/vnd.jupyter.widget-view+json": {
       "model_id": "5b2fc75736df41fc8dee9d405fff5e5b",
       "version_major": 2,
       "version_minor": 0
      },
      "text/plain": [
       "HBox(children=(Canvas(height=84, width=84),), layout=Layout(align_items='center', display='flex', flex_flow='r…"
      ]
     },
     "metadata": {},
     "output_type": "display_data"
    },
    {
     "name": "stdout",
     "output_type": "stream",
     "text": [
      "[(1, 3, 84, 84), (1,), (1,), (1,), (1, 2)]\n",
      "(7,)\n",
      "(3, 84, 84)\n"
     ]
    },
    {
     "data": {
      "application/vnd.jupyter.widget-view+json": {
       "model_id": "ecbff895e2664c0a8dba25536fd00526",
       "version_major": 2,
       "version_minor": 0
      },
      "text/plain": [
       "HBox(children=(Canvas(height=84, width=84),), layout=Layout(align_items='center', display='flex', flex_flow='r…"
      ]
     },
     "metadata": {},
     "output_type": "display_data"
    },
    {
     "name": "stdout",
     "output_type": "stream",
     "text": [
      "[(1, 3, 84, 84), (1,), (1,), (1,), (1, 2)]\n",
      "(7,)\n",
      "(3, 84, 84)\n"
     ]
    },
    {
     "data": {
      "application/vnd.jupyter.widget-view+json": {
       "model_id": "6510f5c5310c4f828916131bce671020",
       "version_major": 2,
       "version_minor": 0
      },
      "text/plain": [
       "HBox(children=(Canvas(height=84, width=84),), layout=Layout(align_items='center', display='flex', flex_flow='r…"
      ]
     },
     "metadata": {},
     "output_type": "display_data"
    },
    {
     "name": "stdout",
     "output_type": "stream",
     "text": [
      "[(1, 3, 84, 84), (1,), (1,), (1,), (1, 2)]\n",
      "(7,)\n",
      "(3, 84, 84)\n"
     ]
    },
    {
     "data": {
      "application/vnd.jupyter.widget-view+json": {
       "model_id": "3f54bae2f37b4709ac19579f0969cfe5",
       "version_major": 2,
       "version_minor": 0
      },
      "text/plain": [
       "HBox(children=(Canvas(height=84, width=84),), layout=Layout(align_items='center', display='flex', flex_flow='r…"
      ]
     },
     "metadata": {},
     "output_type": "display_data"
    },
    {
     "name": "stdout",
     "output_type": "stream",
     "text": [
      "[(1, 3, 84, 84), (1,), (1,), (1,), (1, 2)]\n",
      "(7,)\n",
      "(3, 84, 84)\n"
     ]
    },
    {
     "data": {
      "application/vnd.jupyter.widget-view+json": {
       "model_id": "b9211653322945918fbb90641eb2a05a",
       "version_major": 2,
       "version_minor": 0
      },
      "text/plain": [
       "HBox(children=(Canvas(height=84, width=84),), layout=Layout(align_items='center', display='flex', flex_flow='r…"
      ]
     },
     "metadata": {},
     "output_type": "display_data"
    },
    {
     "name": "stdout",
     "output_type": "stream",
     "text": [
      "[(1, 3, 84, 84), (1,), (1,), (1,), (1, 2)]\n",
      "(7,)\n",
      "(3, 84, 84)\n"
     ]
    },
    {
     "data": {
      "application/vnd.jupyter.widget-view+json": {
       "model_id": "ece2f376c9d44462bc3513d6679e7f2d",
       "version_major": 2,
       "version_minor": 0
      },
      "text/plain": [
       "HBox(children=(Canvas(height=84, width=84),), layout=Layout(align_items='center', display='flex', flex_flow='r…"
      ]
     },
     "metadata": {},
     "output_type": "display_data"
    },
    {
     "name": "stdout",
     "output_type": "stream",
     "text": [
      "[(1, 3, 84, 84), (1,), (1,), (1,), (1, 2)]\n",
      "(7,)\n",
      "(3, 84, 84)\n"
     ]
    },
    {
     "data": {
      "application/vnd.jupyter.widget-view+json": {
       "model_id": "e1ab6073578c46b994879242df6abae7",
       "version_major": 2,
       "version_minor": 0
      },
      "text/plain": [
       "HBox(children=(Canvas(height=84, width=84),), layout=Layout(align_items='center', display='flex', flex_flow='r…"
      ]
     },
     "metadata": {},
     "output_type": "display_data"
    },
    {
     "name": "stdout",
     "output_type": "stream",
     "text": [
      "[(1, 3, 84, 84), (1,), (1,), (1,), (1, 2)]\n",
      "(7,)\n",
      "(3, 84, 84)\n"
     ]
    },
    {
     "data": {
      "application/vnd.jupyter.widget-view+json": {
       "model_id": "3c9e90890782430b934c2ffd27f99e47",
       "version_major": 2,
       "version_minor": 0
      },
      "text/plain": [
       "HBox(children=(Canvas(height=84, width=84),), layout=Layout(align_items='center', display='flex', flex_flow='r…"
      ]
     },
     "metadata": {},
     "output_type": "display_data"
    },
    {
     "name": "stdout",
     "output_type": "stream",
     "text": [
      "[(1, 3, 84, 84), (1,), (1,), (1,), (1, 2)]\n",
      "(7,)\n",
      "(3, 84, 84)\n"
     ]
    },
    {
     "data": {
      "application/vnd.jupyter.widget-view+json": {
       "model_id": "4e4b2fc3d5fe4663b11d7b58d570c7aa",
       "version_major": 2,
       "version_minor": 0
      },
      "text/plain": [
       "HBox(children=(Canvas(height=84, width=84),), layout=Layout(align_items='center', display='flex', flex_flow='r…"
      ]
     },
     "metadata": {},
     "output_type": "display_data"
    },
    {
     "name": "stdout",
     "output_type": "stream",
     "text": [
      "[(1, 3, 84, 84), (1,), (1,), (1,), (1, 2)]\n",
      "(7,)\n",
      "(3, 84, 84)\n"
     ]
    },
    {
     "data": {
      "application/vnd.jupyter.widget-view+json": {
       "model_id": "620a74541237417598d50d504c25b297",
       "version_major": 2,
       "version_minor": 0
      },
      "text/plain": [
       "HBox(children=(Canvas(height=84, width=84),), layout=Layout(align_items='center', display='flex', flex_flow='r…"
      ]
     },
     "metadata": {},
     "output_type": "display_data"
    },
    {
     "name": "stdout",
     "output_type": "stream",
     "text": [
      "[(1, 3, 84, 84), (1,), (1,), (1,), (1, 2)]\n",
      "(7,)\n",
      "(3, 84, 84)\n"
     ]
    },
    {
     "data": {
      "application/vnd.jupyter.widget-view+json": {
       "model_id": "16d765cdfa044ec38e7ad13dd3551356",
       "version_major": 2,
       "version_minor": 0
      },
      "text/plain": [
       "HBox(children=(Canvas(height=84, width=84),), layout=Layout(align_items='center', display='flex', flex_flow='r…"
      ]
     },
     "metadata": {},
     "output_type": "display_data"
    },
    {
     "name": "stdout",
     "output_type": "stream",
     "text": [
      "[(1, 3, 84, 84), (1,), (1,), (1,), (1, 2)]\n",
      "(7,)\n",
      "(3, 84, 84)\n"
     ]
    },
    {
     "data": {
      "application/vnd.jupyter.widget-view+json": {
       "model_id": "358714edc9d548679d310560bde23e83",
       "version_major": 2,
       "version_minor": 0
      },
      "text/plain": [
       "HBox(children=(Canvas(height=84, width=84),), layout=Layout(align_items='center', display='flex', flex_flow='r…"
      ]
     },
     "metadata": {},
     "output_type": "display_data"
    },
    {
     "name": "stdout",
     "output_type": "stream",
     "text": [
      "[(1, 3, 84, 84), (1,), (1,), (1,), (1, 2)]\n",
      "(7,)\n",
      "(3, 84, 84)\n"
     ]
    },
    {
     "data": {
      "application/vnd.jupyter.widget-view+json": {
       "model_id": "8e4967b978ab416f867115699428dc4c",
       "version_major": 2,
       "version_minor": 0
      },
      "text/plain": [
       "HBox(children=(Canvas(height=84, width=84),), layout=Layout(align_items='center', display='flex', flex_flow='r…"
      ]
     },
     "metadata": {},
     "output_type": "display_data"
    },
    {
     "name": "stdout",
     "output_type": "stream",
     "text": [
      "[(1, 3, 84, 84), (1,), (1,), (1,), (1, 2)]\n",
      "(7,)\n",
      "(3, 84, 84)\n"
     ]
    },
    {
     "data": {
      "application/vnd.jupyter.widget-view+json": {
       "model_id": "8293b960a81944af909a2ca2835bdab0",
       "version_major": 2,
       "version_minor": 0
      },
      "text/plain": [
       "HBox(children=(Canvas(height=84, width=84),), layout=Layout(align_items='center', display='flex', flex_flow='r…"
      ]
     },
     "metadata": {},
     "output_type": "display_data"
    },
    {
     "name": "stdout",
     "output_type": "stream",
     "text": [
      "[(1, 3, 84, 84), (1,), (1,), (1,), (1, 2)]\n",
      "(7,)\n",
      "(3, 84, 84)\n"
     ]
    },
    {
     "data": {
      "application/vnd.jupyter.widget-view+json": {
       "model_id": "fae8618e648f4ca393876ac2c2cd3d9a",
       "version_major": 2,
       "version_minor": 0
      },
      "text/plain": [
       "HBox(children=(Canvas(height=84, width=84),), layout=Layout(align_items='center', display='flex', flex_flow='r…"
      ]
     },
     "metadata": {},
     "output_type": "display_data"
    },
    {
     "name": "stdout",
     "output_type": "stream",
     "text": [
      "[(1, 3, 84, 84), (1,), (1,), (1,), (1, 2)]\n",
      "(7,)\n",
      "(3, 84, 84)\n"
     ]
    },
    {
     "data": {
      "application/vnd.jupyter.widget-view+json": {
       "model_id": "a1d727df8c4741ea9dcb4b9127288ed7",
       "version_major": 2,
       "version_minor": 0
      },
      "text/plain": [
       "HBox(children=(Canvas(height=84, width=84),), layout=Layout(align_items='center', display='flex', flex_flow='r…"
      ]
     },
     "metadata": {},
     "output_type": "display_data"
    },
    {
     "name": "stdout",
     "output_type": "stream",
     "text": [
      "[(1, 3, 84, 84), (1,), (1,), (1,), (1, 2)]\n",
      "(7,)\n",
      "(3, 84, 84)\n"
     ]
    },
    {
     "data": {
      "application/vnd.jupyter.widget-view+json": {
       "model_id": "1fe7d8979edf4b6db73e4f0cf8b51fce",
       "version_major": 2,
       "version_minor": 0
      },
      "text/plain": [
       "HBox(children=(Canvas(height=84, width=84),), layout=Layout(align_items='center', display='flex', flex_flow='r…"
      ]
     },
     "metadata": {},
     "output_type": "display_data"
    },
    {
     "name": "stdout",
     "output_type": "stream",
     "text": [
      "[(1, 3, 84, 84), (1,), (1,), (1,), (1, 2)]\n",
      "(7,)\n",
      "(3, 84, 84)\n"
     ]
    },
    {
     "data": {
      "application/vnd.jupyter.widget-view+json": {
       "model_id": "325b548036db465abc530425b354e137",
       "version_major": 2,
       "version_minor": 0
      },
      "text/plain": [
       "HBox(children=(Canvas(height=84, width=84),), layout=Layout(align_items='center', display='flex', flex_flow='r…"
      ]
     },
     "metadata": {},
     "output_type": "display_data"
    },
    {
     "name": "stdout",
     "output_type": "stream",
     "text": [
      "[(1, 3, 84, 84), (1,), (1,), (1,), (1, 2)]\n",
      "(7,)\n",
      "(3, 84, 84)\n"
     ]
    },
    {
     "data": {
      "application/vnd.jupyter.widget-view+json": {
       "model_id": "22e709e90e0b40d18fb54beec6ece528",
       "version_major": 2,
       "version_minor": 0
      },
      "text/plain": [
       "HBox(children=(Canvas(height=84, width=84),), layout=Layout(align_items='center', display='flex', flex_flow='r…"
      ]
     },
     "metadata": {},
     "output_type": "display_data"
    },
    {
     "name": "stdout",
     "output_type": "stream",
     "text": [
      "[(1, 3, 84, 84), (1,), (1,), (1,), (1, 2)]\n",
      "(7,)\n",
      "(3, 84, 84)\n"
     ]
    },
    {
     "data": {
      "application/vnd.jupyter.widget-view+json": {
       "model_id": "d36b9308b083418984356cc593f57d3e",
       "version_major": 2,
       "version_minor": 0
      },
      "text/plain": [
       "HBox(children=(Canvas(height=84, width=84),), layout=Layout(align_items='center', display='flex', flex_flow='r…"
      ]
     },
     "metadata": {},
     "output_type": "display_data"
    },
    {
     "name": "stdout",
     "output_type": "stream",
     "text": [
      "[(1, 3, 84, 84), (1,), (1,), (1,), (1, 2)]\n",
      "(7,)\n",
      "(3, 84, 84)\n"
     ]
    },
    {
     "data": {
      "application/vnd.jupyter.widget-view+json": {
       "model_id": "eebe538902ae4c45b125694146aecad5",
       "version_major": 2,
       "version_minor": 0
      },
      "text/plain": [
       "HBox(children=(Canvas(height=84, width=84),), layout=Layout(align_items='center', display='flex', flex_flow='r…"
      ]
     },
     "metadata": {},
     "output_type": "display_data"
    },
    {
     "name": "stdout",
     "output_type": "stream",
     "text": [
      "[(1, 3, 84, 84), (1,), (1,), (1,), (1, 2)]\n",
      "(7,)\n",
      "(3, 84, 84)\n"
     ]
    },
    {
     "data": {
      "application/vnd.jupyter.widget-view+json": {
       "model_id": "99f5aab4d33f4cbcb5eed331da8c2d6e",
       "version_major": 2,
       "version_minor": 0
      },
      "text/plain": [
       "HBox(children=(Canvas(height=84, width=84),), layout=Layout(align_items='center', display='flex', flex_flow='r…"
      ]
     },
     "metadata": {},
     "output_type": "display_data"
    },
    {
     "name": "stdout",
     "output_type": "stream",
     "text": [
      "[(1, 3, 84, 84), (1,), (1,), (1,), (1, 2)]\n",
      "(7,)\n",
      "(3, 84, 84)\n"
     ]
    },
    {
     "data": {
      "application/vnd.jupyter.widget-view+json": {
       "model_id": "9ad061693b4841dca0e4c5fce7c8c3ba",
       "version_major": 2,
       "version_minor": 0
      },
      "text/plain": [
       "HBox(children=(Canvas(height=84, width=84),), layout=Layout(align_items='center', display='flex', flex_flow='r…"
      ]
     },
     "metadata": {},
     "output_type": "display_data"
    },
    {
     "name": "stdout",
     "output_type": "stream",
     "text": [
      "[(1, 3, 84, 84), (1,), (1,), (1,), (1, 2)]\n",
      "(7,)\n",
      "(3, 84, 84)\n"
     ]
    },
    {
     "data": {
      "application/vnd.jupyter.widget-view+json": {
       "model_id": "775a2e24959b4852873de46e7777749a",
       "version_major": 2,
       "version_minor": 0
      },
      "text/plain": [
       "HBox(children=(Canvas(height=84, width=84),), layout=Layout(align_items='center', display='flex', flex_flow='r…"
      ]
     },
     "metadata": {},
     "output_type": "display_data"
    },
    {
     "name": "stdout",
     "output_type": "stream",
     "text": [
      "[(1, 3, 84, 84), (1,), (1,), (1,), (1, 2)]\n",
      "(7,)\n",
      "(3, 84, 84)\n"
     ]
    },
    {
     "data": {
      "application/vnd.jupyter.widget-view+json": {
       "model_id": "7a854a950e674943877c97fbeb2938af",
       "version_major": 2,
       "version_minor": 0
      },
      "text/plain": [
       "HBox(children=(Canvas(height=84, width=84),), layout=Layout(align_items='center', display='flex', flex_flow='r…"
      ]
     },
     "metadata": {},
     "output_type": "display_data"
    },
    {
     "name": "stdout",
     "output_type": "stream",
     "text": [
      "[(1, 3, 84, 84), (1,), (1,), (1,), (1, 2)]\n",
      "(7,)\n",
      "(3, 84, 84)\n"
     ]
    },
    {
     "data": {
      "application/vnd.jupyter.widget-view+json": {
       "model_id": "4b06369b0f6a4a148f873ef01a8829f0",
       "version_major": 2,
       "version_minor": 0
      },
      "text/plain": [
       "HBox(children=(Canvas(height=84, width=84),), layout=Layout(align_items='center', display='flex', flex_flow='r…"
      ]
     },
     "metadata": {},
     "output_type": "display_data"
    },
    {
     "name": "stdout",
     "output_type": "stream",
     "text": [
      "[(1, 3, 84, 84), (1,), (1,), (1,), (1, 2)]\n",
      "(7,)\n",
      "(3, 84, 84)\n"
     ]
    },
    {
     "data": {
      "application/vnd.jupyter.widget-view+json": {
       "model_id": "cade20e9c2a444f8a24e0bb14a76de7b",
       "version_major": 2,
       "version_minor": 0
      },
      "text/plain": [
       "HBox(children=(Canvas(height=84, width=84),), layout=Layout(align_items='center', display='flex', flex_flow='r…"
      ]
     },
     "metadata": {},
     "output_type": "display_data"
    },
    {
     "name": "stdout",
     "output_type": "stream",
     "text": [
      "[(1, 3, 84, 84), (1,), (1,), (1,), (1, 2)]\n",
      "(7,)\n",
      "(3, 84, 84)\n"
     ]
    },
    {
     "data": {
      "application/vnd.jupyter.widget-view+json": {
       "model_id": "676322f2288f42edb4bb9700a7ea179a",
       "version_major": 2,
       "version_minor": 0
      },
      "text/plain": [
       "HBox(children=(Canvas(height=84, width=84),), layout=Layout(align_items='center', display='flex', flex_flow='r…"
      ]
     },
     "metadata": {},
     "output_type": "display_data"
    },
    {
     "name": "stdout",
     "output_type": "stream",
     "text": [
      "[(1, 3, 84, 84), (1,), (1,), (1,), (1, 2)]\n",
      "(7,)\n",
      "(3, 84, 84)\n"
     ]
    },
    {
     "data": {
      "application/vnd.jupyter.widget-view+json": {
       "model_id": "2f11530523314418b3314ec7d2c42308",
       "version_major": 2,
       "version_minor": 0
      },
      "text/plain": [
       "HBox(children=(Canvas(height=84, width=84),), layout=Layout(align_items='center', display='flex', flex_flow='r…"
      ]
     },
     "metadata": {},
     "output_type": "display_data"
    },
    {
     "name": "stdout",
     "output_type": "stream",
     "text": [
      "[(1, 3, 84, 84), (1,), (1,), (1,), (1, 2)]\n",
      "(7,)\n",
      "(3, 84, 84)\n"
     ]
    },
    {
     "data": {
      "application/vnd.jupyter.widget-view+json": {
       "model_id": "c0aa782a1caf431aa08e09e1222b5f56",
       "version_major": 2,
       "version_minor": 0
      },
      "text/plain": [
       "HBox(children=(Canvas(height=84, width=84),), layout=Layout(align_items='center', display='flex', flex_flow='r…"
      ]
     },
     "metadata": {},
     "output_type": "display_data"
    },
    {
     "name": "stdout",
     "output_type": "stream",
     "text": [
      "[(1, 3, 84, 84), (1,), (1,), (1,), (1, 2)]\n",
      "(7,)\n",
      "(3, 84, 84)\n"
     ]
    },
    {
     "data": {
      "application/vnd.jupyter.widget-view+json": {
       "model_id": "c451e5e922784d32872b657559d6820e",
       "version_major": 2,
       "version_minor": 0
      },
      "text/plain": [
       "HBox(children=(Canvas(height=84, width=84),), layout=Layout(align_items='center', display='flex', flex_flow='r…"
      ]
     },
     "metadata": {},
     "output_type": "display_data"
    },
    {
     "name": "stdout",
     "output_type": "stream",
     "text": [
      "[(1, 3, 84, 84), (1,), (1,), (1,), (1, 2)]\n",
      "(7,)\n",
      "(3, 84, 84)\n"
     ]
    },
    {
     "data": {
      "application/vnd.jupyter.widget-view+json": {
       "model_id": "d6dea89ddebb405a81b53da67d2aceab",
       "version_major": 2,
       "version_minor": 0
      },
      "text/plain": [
       "HBox(children=(Canvas(height=84, width=84),), layout=Layout(align_items='center', display='flex', flex_flow='r…"
      ]
     },
     "metadata": {},
     "output_type": "display_data"
    },
    {
     "name": "stdout",
     "output_type": "stream",
     "text": [
      "[(1, 3, 84, 84), (1,), (1,), (1,), (1, 2)]\n",
      "(7,)\n",
      "(3, 84, 84)\n"
     ]
    },
    {
     "data": {
      "application/vnd.jupyter.widget-view+json": {
       "model_id": "44b5c077f2db48da81b4996f04d3f40c",
       "version_major": 2,
       "version_minor": 0
      },
      "text/plain": [
       "HBox(children=(Canvas(height=84, width=84),), layout=Layout(align_items='center', display='flex', flex_flow='r…"
      ]
     },
     "metadata": {},
     "output_type": "display_data"
    },
    {
     "name": "stdout",
     "output_type": "stream",
     "text": [
      "[(1, 3, 84, 84), (1,), (1,), (1,), (1, 2)]\n",
      "(7,)\n",
      "(3, 84, 84)\n"
     ]
    },
    {
     "data": {
      "application/vnd.jupyter.widget-view+json": {
       "model_id": "13cbb87cc14c449698ebe6c1e8ddb7ad",
       "version_major": 2,
       "version_minor": 0
      },
      "text/plain": [
       "HBox(children=(Canvas(height=84, width=84),), layout=Layout(align_items='center', display='flex', flex_flow='r…"
      ]
     },
     "metadata": {},
     "output_type": "display_data"
    },
    {
     "name": "stdout",
     "output_type": "stream",
     "text": [
      "[(1, 3, 84, 84), (1,), (1,), (1,), (1, 2)]\n",
      "(7,)\n",
      "(3, 84, 84)\n"
     ]
    },
    {
     "data": {
      "application/vnd.jupyter.widget-view+json": {
       "model_id": "6036d78b076442c085dd9322a71c4bdd",
       "version_major": 2,
       "version_minor": 0
      },
      "text/plain": [
       "HBox(children=(Canvas(height=84, width=84),), layout=Layout(align_items='center', display='flex', flex_flow='r…"
      ]
     },
     "metadata": {},
     "output_type": "display_data"
    },
    {
     "name": "stdout",
     "output_type": "stream",
     "text": [
      "[(1, 3, 84, 84), (1,), (1,), (1,), (1, 2)]\n",
      "(7,)\n",
      "(3, 84, 84)\n"
     ]
    },
    {
     "data": {
      "application/vnd.jupyter.widget-view+json": {
       "model_id": "40272a27c8544163ba7ed22bc3be0ad1",
       "version_major": 2,
       "version_minor": 0
      },
      "text/plain": [
       "HBox(children=(Canvas(height=84, width=84),), layout=Layout(align_items='center', display='flex', flex_flow='r…"
      ]
     },
     "metadata": {},
     "output_type": "display_data"
    },
    {
     "name": "stdout",
     "output_type": "stream",
     "text": [
      "[(1, 3, 84, 84), (1,), (1,), (1,), (1, 2)]\n",
      "(7,)\n",
      "(3, 84, 84)\n"
     ]
    },
    {
     "data": {
      "application/vnd.jupyter.widget-view+json": {
       "model_id": "9050facbf8f645f288e1d3a3ecb683a1",
       "version_major": 2,
       "version_minor": 0
      },
      "text/plain": [
       "HBox(children=(Canvas(height=84, width=84),), layout=Layout(align_items='center', display='flex', flex_flow='r…"
      ]
     },
     "metadata": {},
     "output_type": "display_data"
    },
    {
     "name": "stdout",
     "output_type": "stream",
     "text": [
      "[(1, 3, 84, 84), (1,), (1,), (1,), (1, 2)]\n",
      "(7,)\n",
      "(3, 84, 84)\n"
     ]
    },
    {
     "data": {
      "application/vnd.jupyter.widget-view+json": {
       "model_id": "f513977035c04d8b9b5e51a170d66c90",
       "version_major": 2,
       "version_minor": 0
      },
      "text/plain": [
       "HBox(children=(Canvas(height=84, width=84),), layout=Layout(align_items='center', display='flex', flex_flow='r…"
      ]
     },
     "metadata": {},
     "output_type": "display_data"
    },
    {
     "name": "stdout",
     "output_type": "stream",
     "text": [
      "[(1, 3, 84, 84), (1,), (1,), (1,), (1, 2)]\n",
      "(7,)\n",
      "(3, 84, 84)\n"
     ]
    },
    {
     "data": {
      "application/vnd.jupyter.widget-view+json": {
       "model_id": "ef972bdd4061433cadbe4025471d2cb7",
       "version_major": 2,
       "version_minor": 0
      },
      "text/plain": [
       "HBox(children=(Canvas(height=84, width=84),), layout=Layout(align_items='center', display='flex', flex_flow='r…"
      ]
     },
     "metadata": {},
     "output_type": "display_data"
    },
    {
     "name": "stdout",
     "output_type": "stream",
     "text": [
      "[(1, 3, 84, 84), (1,), (1,), (1,), (1, 2)]\n",
      "(7,)\n",
      "(3, 84, 84)\n"
     ]
    },
    {
     "data": {
      "application/vnd.jupyter.widget-view+json": {
       "model_id": "fce276c052e84e279a77da779937a399",
       "version_major": 2,
       "version_minor": 0
      },
      "text/plain": [
       "HBox(children=(Canvas(height=84, width=84),), layout=Layout(align_items='center', display='flex', flex_flow='r…"
      ]
     },
     "metadata": {},
     "output_type": "display_data"
    },
    {
     "name": "stdout",
     "output_type": "stream",
     "text": [
      "[(1, 3, 84, 84), (1,), (1,), (1,), (1, 2)]\n",
      "(7,)\n",
      "(3, 84, 84)\n"
     ]
    },
    {
     "data": {
      "application/vnd.jupyter.widget-view+json": {
       "model_id": "a524f66daa9d468f994e88889ffa0e11",
       "version_major": 2,
       "version_minor": 0
      },
      "text/plain": [
       "HBox(children=(Canvas(height=84, width=84),), layout=Layout(align_items='center', display='flex', flex_flow='r…"
      ]
     },
     "metadata": {},
     "output_type": "display_data"
    },
    {
     "name": "stdout",
     "output_type": "stream",
     "text": [
      "[(1, 3, 84, 84), (1,), (1,), (1,), (1, 2)]\n",
      "(7,)\n",
      "(3, 84, 84)\n"
     ]
    },
    {
     "data": {
      "application/vnd.jupyter.widget-view+json": {
       "model_id": "fb2b3c06ee59415b92832e4a1a212108",
       "version_major": 2,
       "version_minor": 0
      },
      "text/plain": [
       "HBox(children=(Canvas(height=84, width=84),), layout=Layout(align_items='center', display='flex', flex_flow='r…"
      ]
     },
     "metadata": {},
     "output_type": "display_data"
    },
    {
     "name": "stdout",
     "output_type": "stream",
     "text": [
      "[(1, 3, 84, 84), (1,), (1,), (1,), (1, 2)]\n",
      "(7,)\n",
      "(3, 84, 84)\n"
     ]
    },
    {
     "data": {
      "application/vnd.jupyter.widget-view+json": {
       "model_id": "11cb2f2c55b24b1c95fee5bb047b5af0",
       "version_major": 2,
       "version_minor": 0
      },
      "text/plain": [
       "HBox(children=(Canvas(height=84, width=84),), layout=Layout(align_items='center', display='flex', flex_flow='r…"
      ]
     },
     "metadata": {},
     "output_type": "display_data"
    },
    {
     "name": "stdout",
     "output_type": "stream",
     "text": [
      "[(1, 3, 84, 84), (1,), (1,), (1,), (1, 2)]\n",
      "(7,)\n",
      "(3, 84, 84)\n"
     ]
    },
    {
     "data": {
      "application/vnd.jupyter.widget-view+json": {
       "model_id": "18c66a38ef0a4d5397e2333b44a28bf0",
       "version_major": 2,
       "version_minor": 0
      },
      "text/plain": [
       "HBox(children=(Canvas(height=84, width=84),), layout=Layout(align_items='center', display='flex', flex_flow='r…"
      ]
     },
     "metadata": {},
     "output_type": "display_data"
    },
    {
     "name": "stdout",
     "output_type": "stream",
     "text": [
      "[(1, 3, 84, 84), (1,), (1,), (1,), (1, 2)]\n",
      "(7,)\n",
      "(3, 84, 84)\n"
     ]
    },
    {
     "data": {
      "application/vnd.jupyter.widget-view+json": {
       "model_id": "c953780c62974dc3863deecdd60640bb",
       "version_major": 2,
       "version_minor": 0
      },
      "text/plain": [
       "HBox(children=(Canvas(height=84, width=84),), layout=Layout(align_items='center', display='flex', flex_flow='r…"
      ]
     },
     "metadata": {},
     "output_type": "display_data"
    },
    {
     "name": "stdout",
     "output_type": "stream",
     "text": [
      "[(1, 3, 84, 84), (1,), (1,), (1,), (1, 2)]\n",
      "(7,)\n",
      "(3, 84, 84)\n"
     ]
    },
    {
     "data": {
      "application/vnd.jupyter.widget-view+json": {
       "model_id": "d0c19423b54042ad87ba1d2c013673d5",
       "version_major": 2,
       "version_minor": 0
      },
      "text/plain": [
       "HBox(children=(Canvas(height=84, width=84),), layout=Layout(align_items='center', display='flex', flex_flow='r…"
      ]
     },
     "metadata": {},
     "output_type": "display_data"
    },
    {
     "name": "stdout",
     "output_type": "stream",
     "text": [
      "[(1, 3, 84, 84), (1,), (1,), (1,), (1, 2)]\n",
      "(7,)\n",
      "(3, 84, 84)\n"
     ]
    },
    {
     "data": {
      "application/vnd.jupyter.widget-view+json": {
       "model_id": "7f6002b22c2048b884ef8f6be5207026",
       "version_major": 2,
       "version_minor": 0
      },
      "text/plain": [
       "HBox(children=(Canvas(height=84, width=84),), layout=Layout(align_items='center', display='flex', flex_flow='r…"
      ]
     },
     "metadata": {},
     "output_type": "display_data"
    },
    {
     "name": "stdout",
     "output_type": "stream",
     "text": [
      "[(1, 3, 84, 84), (1,), (1,), (1,), (1, 2)]\n",
      "(7,)\n",
      "(3, 84, 84)\n"
     ]
    },
    {
     "data": {
      "application/vnd.jupyter.widget-view+json": {
       "model_id": "cb258b58e495439ca1e312fa5232177a",
       "version_major": 2,
       "version_minor": 0
      },
      "text/plain": [
       "HBox(children=(Canvas(height=84, width=84),), layout=Layout(align_items='center', display='flex', flex_flow='r…"
      ]
     },
     "metadata": {},
     "output_type": "display_data"
    },
    {
     "name": "stdout",
     "output_type": "stream",
     "text": [
      "[(1, 3, 84, 84), (1,), (1,), (1,), (1, 2)]\n",
      "(7,)\n",
      "(3, 84, 84)\n"
     ]
    },
    {
     "data": {
      "application/vnd.jupyter.widget-view+json": {
       "model_id": "b95309caf4944c1a9c4c64893ea4f80c",
       "version_major": 2,
       "version_minor": 0
      },
      "text/plain": [
       "HBox(children=(Canvas(height=84, width=84),), layout=Layout(align_items='center', display='flex', flex_flow='r…"
      ]
     },
     "metadata": {},
     "output_type": "display_data"
    },
    {
     "name": "stdout",
     "output_type": "stream",
     "text": [
      "[(1, 3, 84, 84), (1,), (1,), (1,), (1, 2)]\n",
      "(7,)\n",
      "(3, 84, 84)\n"
     ]
    },
    {
     "data": {
      "application/vnd.jupyter.widget-view+json": {
       "model_id": "7374fb0730f84f8dbcb0f1265b6f445f",
       "version_major": 2,
       "version_minor": 0
      },
      "text/plain": [
       "HBox(children=(Canvas(height=84, width=84),), layout=Layout(align_items='center', display='flex', flex_flow='r…"
      ]
     },
     "metadata": {},
     "output_type": "display_data"
    },
    {
     "name": "stdout",
     "output_type": "stream",
     "text": [
      "[(1, 3, 84, 84), (1,), (1,), (1,), (1, 2)]\n",
      "(7,)\n",
      "(3, 84, 84)\n"
     ]
    },
    {
     "data": {
      "application/vnd.jupyter.widget-view+json": {
       "model_id": "2aea60a4d7a941e585e38cc6a55a5a04",
       "version_major": 2,
       "version_minor": 0
      },
      "text/plain": [
       "HBox(children=(Canvas(height=84, width=84),), layout=Layout(align_items='center', display='flex', flex_flow='r…"
      ]
     },
     "metadata": {},
     "output_type": "display_data"
    },
    {
     "name": "stdout",
     "output_type": "stream",
     "text": [
      "[(1, 3, 84, 84), (1,), (1,), (1,), (1, 2)]\n",
      "(7,)\n",
      "(3, 84, 84)\n"
     ]
    },
    {
     "data": {
      "application/vnd.jupyter.widget-view+json": {
       "model_id": "413a89821a35404eb040867eaf3ee469",
       "version_major": 2,
       "version_minor": 0
      },
      "text/plain": [
       "HBox(children=(Canvas(height=84, width=84),), layout=Layout(align_items='center', display='flex', flex_flow='r…"
      ]
     },
     "metadata": {},
     "output_type": "display_data"
    },
    {
     "name": "stdout",
     "output_type": "stream",
     "text": [
      "[(1, 3, 84, 84), (1,), (1,), (1,), (1, 2)]\n",
      "(7,)\n",
      "(3, 84, 84)\n"
     ]
    },
    {
     "data": {
      "application/vnd.jupyter.widget-view+json": {
       "model_id": "6fdecc398e2842bbb059d086f6540bb9",
       "version_major": 2,
       "version_minor": 0
      },
      "text/plain": [
       "HBox(children=(Canvas(height=84, width=84),), layout=Layout(align_items='center', display='flex', flex_flow='r…"
      ]
     },
     "metadata": {},
     "output_type": "display_data"
    },
    {
     "name": "stdout",
     "output_type": "stream",
     "text": [
      "[(1, 3, 84, 84), (1,), (1,), (1,), (1, 2)]\n",
      "(7,)\n",
      "(3, 84, 84)\n"
     ]
    },
    {
     "data": {
      "application/vnd.jupyter.widget-view+json": {
       "model_id": "95a4a118447941c6b1d10c93c822b474",
       "version_major": 2,
       "version_minor": 0
      },
      "text/plain": [
       "HBox(children=(Canvas(height=84, width=84),), layout=Layout(align_items='center', display='flex', flex_flow='r…"
      ]
     },
     "metadata": {},
     "output_type": "display_data"
    },
    {
     "name": "stdout",
     "output_type": "stream",
     "text": [
      "[(1, 3, 84, 84), (1,), (1,), (1,), (1, 2)]\n",
      "(7,)\n",
      "(3, 84, 84)\n"
     ]
    },
    {
     "data": {
      "application/vnd.jupyter.widget-view+json": {
       "model_id": "071af100a2a34e6bbe049259cfc7572f",
       "version_major": 2,
       "version_minor": 0
      },
      "text/plain": [
       "HBox(children=(Canvas(height=84, width=84),), layout=Layout(align_items='center', display='flex', flex_flow='r…"
      ]
     },
     "metadata": {},
     "output_type": "display_data"
    },
    {
     "name": "stdout",
     "output_type": "stream",
     "text": [
      "[(1, 3, 84, 84), (1,), (1,), (1,), (1, 2)]\n",
      "(7,)\n",
      "(3, 84, 84)\n"
     ]
    },
    {
     "data": {
      "application/vnd.jupyter.widget-view+json": {
       "model_id": "ce41a42b94a74c24903d987056b0d49c",
       "version_major": 2,
       "version_minor": 0
      },
      "text/plain": [
       "HBox(children=(Canvas(height=84, width=84),), layout=Layout(align_items='center', display='flex', flex_flow='r…"
      ]
     },
     "metadata": {},
     "output_type": "display_data"
    },
    {
     "name": "stdout",
     "output_type": "stream",
     "text": [
      "[(1, 3, 84, 84), (1,), (1,), (1,), (1, 2)]\n",
      "(7,)\n",
      "(3, 84, 84)\n"
     ]
    },
    {
     "data": {
      "application/vnd.jupyter.widget-view+json": {
       "model_id": "ac118bab8eae4e8e9140460adb5d253b",
       "version_major": 2,
       "version_minor": 0
      },
      "text/plain": [
       "HBox(children=(Canvas(height=84, width=84),), layout=Layout(align_items='center', display='flex', flex_flow='r…"
      ]
     },
     "metadata": {},
     "output_type": "display_data"
    },
    {
     "name": "stdout",
     "output_type": "stream",
     "text": [
      "[(1, 3, 84, 84), (1,), (1,), (1,), (1, 2)]\n",
      "(7,)\n",
      "(3, 84, 84)\n"
     ]
    },
    {
     "data": {
      "application/vnd.jupyter.widget-view+json": {
       "model_id": "64a2184104174e24913c23ae52fd8b42",
       "version_major": 2,
       "version_minor": 0
      },
      "text/plain": [
       "HBox(children=(Canvas(height=84, width=84),), layout=Layout(align_items='center', display='flex', flex_flow='r…"
      ]
     },
     "metadata": {},
     "output_type": "display_data"
    },
    {
     "name": "stdout",
     "output_type": "stream",
     "text": [
      "[(1, 3, 84, 84), (1,), (1,), (1,), (1, 2)]\n",
      "(7,)\n",
      "(3, 84, 84)\n"
     ]
    },
    {
     "data": {
      "application/vnd.jupyter.widget-view+json": {
       "model_id": "2a46238a0daf432fa6f7b25aca75be02",
       "version_major": 2,
       "version_minor": 0
      },
      "text/plain": [
       "HBox(children=(Canvas(height=84, width=84),), layout=Layout(align_items='center', display='flex', flex_flow='r…"
      ]
     },
     "metadata": {},
     "output_type": "display_data"
    },
    {
     "name": "stdout",
     "output_type": "stream",
     "text": [
      "[(1, 3, 84, 84), (1,), (1,), (1,), (1, 2)]\n",
      "(7,)\n",
      "(3, 84, 84)\n"
     ]
    },
    {
     "data": {
      "application/vnd.jupyter.widget-view+json": {
       "model_id": "770ff48c644048969a9f948c1471de26",
       "version_major": 2,
       "version_minor": 0
      },
      "text/plain": [
       "HBox(children=(Canvas(height=84, width=84),), layout=Layout(align_items='center', display='flex', flex_flow='r…"
      ]
     },
     "metadata": {},
     "output_type": "display_data"
    },
    {
     "name": "stdout",
     "output_type": "stream",
     "text": [
      "[(1, 3, 84, 84), (1,), (1,), (1,), (1, 2)]\n",
      "(7,)\n",
      "(3, 84, 84)\n"
     ]
    },
    {
     "data": {
      "application/vnd.jupyter.widget-view+json": {
       "model_id": "3e274dbe6e484af7b79a3f300ff64f35",
       "version_major": 2,
       "version_minor": 0
      },
      "text/plain": [
       "HBox(children=(Canvas(height=84, width=84),), layout=Layout(align_items='center', display='flex', flex_flow='r…"
      ]
     },
     "metadata": {},
     "output_type": "display_data"
    },
    {
     "name": "stdout",
     "output_type": "stream",
     "text": [
      "[(1, 3, 84, 84), (1,), (1,), (1,), (1, 2)]\n",
      "(7,)\n",
      "(3, 84, 84)\n"
     ]
    },
    {
     "data": {
      "application/vnd.jupyter.widget-view+json": {
       "model_id": "478fc5bc3cfe43bfad7761cd9ac7ab05",
       "version_major": 2,
       "version_minor": 0
      },
      "text/plain": [
       "HBox(children=(Canvas(height=84, width=84),), layout=Layout(align_items='center', display='flex', flex_flow='r…"
      ]
     },
     "metadata": {},
     "output_type": "display_data"
    },
    {
     "name": "stdout",
     "output_type": "stream",
     "text": [
      "[(1, 3, 84, 84), (1,), (1,), (1,), (1, 2)]\n",
      "(7,)\n",
      "(3, 84, 84)\n"
     ]
    },
    {
     "data": {
      "application/vnd.jupyter.widget-view+json": {
       "model_id": "47ceafb4291646d08645e036c17916e2",
       "version_major": 2,
       "version_minor": 0
      },
      "text/plain": [
       "HBox(children=(Canvas(height=84, width=84),), layout=Layout(align_items='center', display='flex', flex_flow='r…"
      ]
     },
     "metadata": {},
     "output_type": "display_data"
    },
    {
     "name": "stdout",
     "output_type": "stream",
     "text": [
      "[(1, 3, 84, 84), (1,), (1,), (1,), (1, 2)]\n",
      "(7,)\n",
      "(3, 84, 84)\n"
     ]
    },
    {
     "data": {
      "application/vnd.jupyter.widget-view+json": {
       "model_id": "107fcf97474346f185b25bec9e245dba",
       "version_major": 2,
       "version_minor": 0
      },
      "text/plain": [
       "HBox(children=(Canvas(height=84, width=84),), layout=Layout(align_items='center', display='flex', flex_flow='r…"
      ]
     },
     "metadata": {},
     "output_type": "display_data"
    },
    {
     "name": "stdout",
     "output_type": "stream",
     "text": [
      "[(1, 3, 84, 84), (1,), (1,), (1,), (1, 2)]\n",
      "(7,)\n",
      "(3, 84, 84)\n"
     ]
    },
    {
     "data": {
      "application/vnd.jupyter.widget-view+json": {
       "model_id": "348ab74ac60a4b818c0540b52007d4a1",
       "version_major": 2,
       "version_minor": 0
      },
      "text/plain": [
       "HBox(children=(Canvas(height=84, width=84),), layout=Layout(align_items='center', display='flex', flex_flow='r…"
      ]
     },
     "metadata": {},
     "output_type": "display_data"
    },
    {
     "name": "stdout",
     "output_type": "stream",
     "text": [
      "[(1, 3, 84, 84), (1,), (1,), (1,), (1, 2)]\n",
      "(7,)\n",
      "(3, 84, 84)\n"
     ]
    },
    {
     "data": {
      "application/vnd.jupyter.widget-view+json": {
       "model_id": "281a297471f441f6b0b8184d6aa8826f",
       "version_major": 2,
       "version_minor": 0
      },
      "text/plain": [
       "HBox(children=(Canvas(height=84, width=84),), layout=Layout(align_items='center', display='flex', flex_flow='r…"
      ]
     },
     "metadata": {},
     "output_type": "display_data"
    },
    {
     "name": "stdout",
     "output_type": "stream",
     "text": [
      "[(1, 3, 84, 84), (1,), (1,), (1,), (1, 2)]\n",
      "(7,)\n",
      "(3, 84, 84)\n"
     ]
    },
    {
     "data": {
      "application/vnd.jupyter.widget-view+json": {
       "model_id": "1dab513050684c6f8c819e51930478f0",
       "version_major": 2,
       "version_minor": 0
      },
      "text/plain": [
       "HBox(children=(Canvas(height=84, width=84),), layout=Layout(align_items='center', display='flex', flex_flow='r…"
      ]
     },
     "metadata": {},
     "output_type": "display_data"
    },
    {
     "name": "stdout",
     "output_type": "stream",
     "text": [
      "[(1, 3, 84, 84), (1,), (1,), (1,), (1, 2)]\n",
      "(7,)\n",
      "(3, 84, 84)\n"
     ]
    },
    {
     "data": {
      "application/vnd.jupyter.widget-view+json": {
       "model_id": "20d320fecbca4c0f9d952ef4c7fbcd1e",
       "version_major": 2,
       "version_minor": 0
      },
      "text/plain": [
       "HBox(children=(Canvas(height=84, width=84),), layout=Layout(align_items='center', display='flex', flex_flow='r…"
      ]
     },
     "metadata": {},
     "output_type": "display_data"
    },
    {
     "name": "stdout",
     "output_type": "stream",
     "text": [
      "[(1, 3, 84, 84), (1,), (1,), (1,), (1, 2)]\n",
      "(7,)\n",
      "(3, 84, 84)\n"
     ]
    },
    {
     "data": {
      "application/vnd.jupyter.widget-view+json": {
       "model_id": "91c5fc5101a347478df4b79d34475640",
       "version_major": 2,
       "version_minor": 0
      },
      "text/plain": [
       "HBox(children=(Canvas(height=84, width=84),), layout=Layout(align_items='center', display='flex', flex_flow='r…"
      ]
     },
     "metadata": {},
     "output_type": "display_data"
    },
    {
     "name": "stdout",
     "output_type": "stream",
     "text": [
      "[(1, 3, 84, 84), (1,), (1,), (1,), (1, 2)]\n",
      "(7,)\n",
      "(3, 84, 84)\n"
     ]
    },
    {
     "data": {
      "application/vnd.jupyter.widget-view+json": {
       "model_id": "cced927885bb4d1da81e8d061b7067a2",
       "version_major": 2,
       "version_minor": 0
      },
      "text/plain": [
       "HBox(children=(Canvas(height=84, width=84),), layout=Layout(align_items='center', display='flex', flex_flow='r…"
      ]
     },
     "metadata": {},
     "output_type": "display_data"
    },
    {
     "name": "stdout",
     "output_type": "stream",
     "text": [
      "[(1, 3, 84, 84), (1,), (1,), (1,), (1, 2)]\n",
      "(7,)\n",
      "(3, 84, 84)\n"
     ]
    },
    {
     "data": {
      "application/vnd.jupyter.widget-view+json": {
       "model_id": "172a8d844b684de9897746a4f7cca67e",
       "version_major": 2,
       "version_minor": 0
      },
      "text/plain": [
       "HBox(children=(Canvas(height=84, width=84),), layout=Layout(align_items='center', display='flex', flex_flow='r…"
      ]
     },
     "metadata": {},
     "output_type": "display_data"
    },
    {
     "name": "stdout",
     "output_type": "stream",
     "text": [
      "[(1, 3, 84, 84), (1,), (1,), (1,), (1, 2)]\n",
      "(7,)\n",
      "(3, 84, 84)\n"
     ]
    },
    {
     "data": {
      "application/vnd.jupyter.widget-view+json": {
       "model_id": "1dbf8f58179744febc30fe810e05a51e",
       "version_major": 2,
       "version_minor": 0
      },
      "text/plain": [
       "HBox(children=(Canvas(height=84, width=84),), layout=Layout(align_items='center', display='flex', flex_flow='r…"
      ]
     },
     "metadata": {},
     "output_type": "display_data"
    },
    {
     "name": "stdout",
     "output_type": "stream",
     "text": [
      "[(1, 3, 84, 84), (1,), (1,), (1,), (1, 2)]\n",
      "(7,)\n",
      "(3, 84, 84)\n"
     ]
    },
    {
     "data": {
      "application/vnd.jupyter.widget-view+json": {
       "model_id": "c4b8ff3b20364cd5b705311fc261a25c",
       "version_major": 2,
       "version_minor": 0
      },
      "text/plain": [
       "HBox(children=(Canvas(height=84, width=84),), layout=Layout(align_items='center', display='flex', flex_flow='r…"
      ]
     },
     "metadata": {},
     "output_type": "display_data"
    },
    {
     "name": "stdout",
     "output_type": "stream",
     "text": [
      "[(1, 3, 84, 84), (1,), (1,), (1,), (1, 2)]\n",
      "(7,)\n",
      "(3, 84, 84)\n"
     ]
    },
    {
     "data": {
      "application/vnd.jupyter.widget-view+json": {
       "model_id": "0655f2283ec24ba9903f6137e65686bc",
       "version_major": 2,
       "version_minor": 0
      },
      "text/plain": [
       "HBox(children=(Canvas(height=84, width=84),), layout=Layout(align_items='center', display='flex', flex_flow='r…"
      ]
     },
     "metadata": {},
     "output_type": "display_data"
    },
    {
     "name": "stdout",
     "output_type": "stream",
     "text": [
      "[(1, 3, 84, 84), (1,), (1,), (1,), (1, 2)]\n",
      "(7,)\n",
      "(3, 84, 84)\n"
     ]
    },
    {
     "data": {
      "application/vnd.jupyter.widget-view+json": {
       "model_id": "fa94f853654443d4a9860bb2f0e230f4",
       "version_major": 2,
       "version_minor": 0
      },
      "text/plain": [
       "HBox(children=(Canvas(height=84, width=84),), layout=Layout(align_items='center', display='flex', flex_flow='r…"
      ]
     },
     "metadata": {},
     "output_type": "display_data"
    },
    {
     "name": "stdout",
     "output_type": "stream",
     "text": [
      "[(1, 3, 84, 84), (1,), (1,), (1,), (1, 2)]\n",
      "(7,)\n",
      "(3, 84, 84)\n"
     ]
    },
    {
     "data": {
      "application/vnd.jupyter.widget-view+json": {
       "model_id": "1ce7449611734145ae17b727f4c06049",
       "version_major": 2,
       "version_minor": 0
      },
      "text/plain": [
       "HBox(children=(Canvas(height=84, width=84),), layout=Layout(align_items='center', display='flex', flex_flow='r…"
      ]
     },
     "metadata": {},
     "output_type": "display_data"
    },
    {
     "name": "stdout",
     "output_type": "stream",
     "text": [
      "[(1, 3, 84, 84), (1,), (1,), (1,), (1, 2)]\n",
      "(7,)\n",
      "(3, 84, 84)\n"
     ]
    },
    {
     "data": {
      "application/vnd.jupyter.widget-view+json": {
       "model_id": "888088f30b5e44f496e08297a01febef",
       "version_major": 2,
       "version_minor": 0
      },
      "text/plain": [
       "HBox(children=(Canvas(height=84, width=84),), layout=Layout(align_items='center', display='flex', flex_flow='r…"
      ]
     },
     "metadata": {},
     "output_type": "display_data"
    },
    {
     "name": "stdout",
     "output_type": "stream",
     "text": [
      "[(1, 3, 84, 84), (1,), (1,), (1,), (1, 2)]\n",
      "(7,)\n",
      "(3, 84, 84)\n"
     ]
    },
    {
     "data": {
      "application/vnd.jupyter.widget-view+json": {
       "model_id": "ec47632d810546459da6e088d8486801",
       "version_major": 2,
       "version_minor": 0
      },
      "text/plain": [
       "HBox(children=(Canvas(height=84, width=84),), layout=Layout(align_items='center', display='flex', flex_flow='r…"
      ]
     },
     "metadata": {},
     "output_type": "display_data"
    },
    {
     "name": "stdout",
     "output_type": "stream",
     "text": [
      "[(1, 3, 84, 84), (1,), (1,), (1,), (1, 2)]\n",
      "(7,)\n",
      "(3, 84, 84)\n"
     ]
    },
    {
     "data": {
      "application/vnd.jupyter.widget-view+json": {
       "model_id": "0e19e423038f42d0852da40b8eead529",
       "version_major": 2,
       "version_minor": 0
      },
      "text/plain": [
       "HBox(children=(Canvas(height=84, width=84),), layout=Layout(align_items='center', display='flex', flex_flow='r…"
      ]
     },
     "metadata": {},
     "output_type": "display_data"
    },
    {
     "name": "stdout",
     "output_type": "stream",
     "text": [
      "[(1, 3, 84, 84), (1,), (1,), (1,), (1, 2)]\n",
      "(7,)\n",
      "(3, 84, 84)\n"
     ]
    },
    {
     "data": {
      "application/vnd.jupyter.widget-view+json": {
       "model_id": "251838ab65fb4c0f9d9ad00a7ec78b41",
       "version_major": 2,
       "version_minor": 0
      },
      "text/plain": [
       "HBox(children=(Canvas(height=84, width=84),), layout=Layout(align_items='center', display='flex', flex_flow='r…"
      ]
     },
     "metadata": {},
     "output_type": "display_data"
    },
    {
     "name": "stdout",
     "output_type": "stream",
     "text": [
      "[(1, 3, 84, 84), (1,), (1,), (1,), (1, 2)]\n",
      "(7,)\n",
      "(3, 84, 84)\n"
     ]
    },
    {
     "data": {
      "application/vnd.jupyter.widget-view+json": {
       "model_id": "b5f82acb6136453ea03cac11c0f704ee",
       "version_major": 2,
       "version_minor": 0
      },
      "text/plain": [
       "HBox(children=(Canvas(height=84, width=84),), layout=Layout(align_items='center', display='flex', flex_flow='r…"
      ]
     },
     "metadata": {},
     "output_type": "display_data"
    },
    {
     "name": "stdout",
     "output_type": "stream",
     "text": [
      "[(1, 3, 84, 84), (1,), (1,), (1,), (1, 2)]\n",
      "(7,)\n",
      "(3, 84, 84)\n"
     ]
    },
    {
     "data": {
      "application/vnd.jupyter.widget-view+json": {
       "model_id": "12ea4f4af1da4fe0bdd92143821e6b2a",
       "version_major": 2,
       "version_minor": 0
      },
      "text/plain": [
       "HBox(children=(Canvas(height=84, width=84),), layout=Layout(align_items='center', display='flex', flex_flow='r…"
      ]
     },
     "metadata": {},
     "output_type": "display_data"
    },
    {
     "name": "stdout",
     "output_type": "stream",
     "text": [
      "[(1, 3, 84, 84), (1,), (1,), (1,), (1, 2)]\n",
      "(7,)\n",
      "(3, 84, 84)\n"
     ]
    },
    {
     "data": {
      "application/vnd.jupyter.widget-view+json": {
       "model_id": "f54fc090e34e4bce9d96d72a256a5c5e",
       "version_major": 2,
       "version_minor": 0
      },
      "text/plain": [
       "HBox(children=(Canvas(height=84, width=84),), layout=Layout(align_items='center', display='flex', flex_flow='r…"
      ]
     },
     "metadata": {},
     "output_type": "display_data"
    },
    {
     "name": "stdout",
     "output_type": "stream",
     "text": [
      "[(1, 3, 84, 84), (1,), (1,), (1,), (1, 2)]\n",
      "(7,)\n",
      "(3, 84, 84)\n"
     ]
    },
    {
     "data": {
      "application/vnd.jupyter.widget-view+json": {
       "model_id": "8a0cdbcb891a4d50b45dae902640d04b",
       "version_major": 2,
       "version_minor": 0
      },
      "text/plain": [
       "HBox(children=(Canvas(height=84, width=84),), layout=Layout(align_items='center', display='flex', flex_flow='r…"
      ]
     },
     "metadata": {},
     "output_type": "display_data"
    },
    {
     "name": "stdout",
     "output_type": "stream",
     "text": [
      "[(1, 3, 84, 84), (1,), (1,), (1,), (1, 2)]\n",
      "(7,)\n",
      "(3, 84, 84)\n"
     ]
    },
    {
     "data": {
      "application/vnd.jupyter.widget-view+json": {
       "model_id": "9cf93a78aa754e92ac357ad1d49049df",
       "version_major": 2,
       "version_minor": 0
      },
      "text/plain": [
       "HBox(children=(Canvas(height=84, width=84),), layout=Layout(align_items='center', display='flex', flex_flow='r…"
      ]
     },
     "metadata": {},
     "output_type": "display_data"
    },
    {
     "name": "stdout",
     "output_type": "stream",
     "text": [
      "[(1, 3, 84, 84), (1,), (1,), (1,), (1, 2)]\n",
      "(7,)\n",
      "(3, 84, 84)\n"
     ]
    },
    {
     "data": {
      "application/vnd.jupyter.widget-view+json": {
       "model_id": "fb141fabe3ee4546bb50aec2e7efb92b",
       "version_major": 2,
       "version_minor": 0
      },
      "text/plain": [
       "HBox(children=(Canvas(height=84, width=84),), layout=Layout(align_items='center', display='flex', flex_flow='r…"
      ]
     },
     "metadata": {},
     "output_type": "display_data"
    },
    {
     "name": "stdout",
     "output_type": "stream",
     "text": [
      "[(1, 3, 84, 84), (1,), (1,), (1,), (1, 2)]\n",
      "(7,)\n",
      "(3, 84, 84)\n"
     ]
    },
    {
     "data": {
      "application/vnd.jupyter.widget-view+json": {
       "model_id": "ce46adbeb35a4110bfcc0bd0b52ac7e0",
       "version_major": 2,
       "version_minor": 0
      },
      "text/plain": [
       "HBox(children=(Canvas(height=84, width=84),), layout=Layout(align_items='center', display='flex', flex_flow='r…"
      ]
     },
     "metadata": {},
     "output_type": "display_data"
    },
    {
     "name": "stdout",
     "output_type": "stream",
     "text": [
      "[(1, 3, 84, 84), (1,), (1,), (1,), (1, 2)]\n",
      "(7,)\n",
      "(3, 84, 84)\n"
     ]
    },
    {
     "data": {
      "application/vnd.jupyter.widget-view+json": {
       "model_id": "0f563f7cc5d4411289f092c293020d00",
       "version_major": 2,
       "version_minor": 0
      },
      "text/plain": [
       "HBox(children=(Canvas(height=84, width=84),), layout=Layout(align_items='center', display='flex', flex_flow='r…"
      ]
     },
     "metadata": {},
     "output_type": "display_data"
    },
    {
     "name": "stdout",
     "output_type": "stream",
     "text": [
      "[(1, 3, 84, 84), (1,), (1,), (1,), (1, 2)]\n",
      "(7,)\n",
      "(3, 84, 84)\n"
     ]
    },
    {
     "data": {
      "application/vnd.jupyter.widget-view+json": {
       "model_id": "e8b52e406b184daab79233e527e3860d",
       "version_major": 2,
       "version_minor": 0
      },
      "text/plain": [
       "HBox(children=(Canvas(height=84, width=84),), layout=Layout(align_items='center', display='flex', flex_flow='r…"
      ]
     },
     "metadata": {},
     "output_type": "display_data"
    },
    {
     "name": "stdout",
     "output_type": "stream",
     "text": [
      "[(1, 3, 84, 84), (1,), (1,), (1,), (1, 2)]\n",
      "(7,)\n",
      "(3, 84, 84)\n"
     ]
    },
    {
     "data": {
      "application/vnd.jupyter.widget-view+json": {
       "model_id": "c79591f4a40249349c82f0d2ea2ba8c9",
       "version_major": 2,
       "version_minor": 0
      },
      "text/plain": [
       "HBox(children=(Canvas(height=84, width=84),), layout=Layout(align_items='center', display='flex', flex_flow='r…"
      ]
     },
     "metadata": {},
     "output_type": "display_data"
    },
    {
     "name": "stdout",
     "output_type": "stream",
     "text": [
      "[(1, 3, 84, 84), (1,), (1,), (1,), (1, 2)]\n",
      "(7,)\n",
      "(3, 84, 84)\n"
     ]
    },
    {
     "data": {
      "application/vnd.jupyter.widget-view+json": {
       "model_id": "875eb06e0e494bb78f8dd5100bebc996",
       "version_major": 2,
       "version_minor": 0
      },
      "text/plain": [
       "HBox(children=(Canvas(height=84, width=84),), layout=Layout(align_items='center', display='flex', flex_flow='r…"
      ]
     },
     "metadata": {},
     "output_type": "display_data"
    },
    {
     "name": "stdout",
     "output_type": "stream",
     "text": [
      "[(1, 3, 84, 84), (1,), (1,), (1,), (1, 2)]\n",
      "(7,)\n",
      "(3, 84, 84)\n"
     ]
    },
    {
     "data": {
      "application/vnd.jupyter.widget-view+json": {
       "model_id": "9e5a10f4c2974b429a21e522a42201e2",
       "version_major": 2,
       "version_minor": 0
      },
      "text/plain": [
       "HBox(children=(Canvas(height=84, width=84),), layout=Layout(align_items='center', display='flex', flex_flow='r…"
      ]
     },
     "metadata": {},
     "output_type": "display_data"
    },
    {
     "name": "stdout",
     "output_type": "stream",
     "text": [
      "[(1, 3, 84, 84), (1,), (1,), (1,), (1, 2)]\n",
      "(7,)\n",
      "(3, 84, 84)\n"
     ]
    },
    {
     "data": {
      "application/vnd.jupyter.widget-view+json": {
       "model_id": "cf351906153947099957765909e1bf77",
       "version_major": 2,
       "version_minor": 0
      },
      "text/plain": [
       "HBox(children=(Canvas(height=84, width=84),), layout=Layout(align_items='center', display='flex', flex_flow='r…"
      ]
     },
     "metadata": {},
     "output_type": "display_data"
    },
    {
     "name": "stdout",
     "output_type": "stream",
     "text": [
      "[(1, 3, 84, 84), (1,), (1,), (1,), (1, 2)]\n",
      "(7,)\n",
      "(3, 84, 84)\n"
     ]
    },
    {
     "data": {
      "application/vnd.jupyter.widget-view+json": {
       "model_id": "1d26f01d34ee43f694c18fcd6e650ece",
       "version_major": 2,
       "version_minor": 0
      },
      "text/plain": [
       "HBox(children=(Canvas(height=84, width=84),), layout=Layout(align_items='center', display='flex', flex_flow='r…"
      ]
     },
     "metadata": {},
     "output_type": "display_data"
    },
    {
     "name": "stdout",
     "output_type": "stream",
     "text": [
      "[(1, 3, 84, 84), (1,), (1,), (1,), (1, 2)]\n",
      "(7,)\n",
      "(3, 84, 84)\n"
     ]
    },
    {
     "data": {
      "application/vnd.jupyter.widget-view+json": {
       "model_id": "a3c7b9272ebb44ad859be45ec7466a08",
       "version_major": 2,
       "version_minor": 0
      },
      "text/plain": [
       "HBox(children=(Canvas(height=84, width=84),), layout=Layout(align_items='center', display='flex', flex_flow='r…"
      ]
     },
     "metadata": {},
     "output_type": "display_data"
    },
    {
     "name": "stdout",
     "output_type": "stream",
     "text": [
      "[(1, 3, 84, 84), (1,), (1,), (1,), (1, 2)]\n",
      "(7,)\n",
      "(3, 84, 84)\n"
     ]
    },
    {
     "data": {
      "application/vnd.jupyter.widget-view+json": {
       "model_id": "458aa625573247f89b82886985d09c7b",
       "version_major": 2,
       "version_minor": 0
      },
      "text/plain": [
       "HBox(children=(Canvas(height=84, width=84),), layout=Layout(align_items='center', display='flex', flex_flow='r…"
      ]
     },
     "metadata": {},
     "output_type": "display_data"
    },
    {
     "name": "stdout",
     "output_type": "stream",
     "text": [
      "[(1, 3, 84, 84), (1,), (1,), (1,), (1, 2)]\n",
      "(7,)\n",
      "(3, 84, 84)\n"
     ]
    },
    {
     "data": {
      "application/vnd.jupyter.widget-view+json": {
       "model_id": "dffd85df18ae40e3b5ca1f8f7683237f",
       "version_major": 2,
       "version_minor": 0
      },
      "text/plain": [
       "HBox(children=(Canvas(height=84, width=84),), layout=Layout(align_items='center', display='flex', flex_flow='r…"
      ]
     },
     "metadata": {},
     "output_type": "display_data"
    },
    {
     "name": "stdout",
     "output_type": "stream",
     "text": [
      "[(1, 3, 84, 84), (1,), (1,), (1,), (1, 2)]\n",
      "(7,)\n",
      "(3, 84, 84)\n"
     ]
    },
    {
     "data": {
      "application/vnd.jupyter.widget-view+json": {
       "model_id": "bc0a02081b974135a60af244c3286259",
       "version_major": 2,
       "version_minor": 0
      },
      "text/plain": [
       "HBox(children=(Canvas(height=84, width=84),), layout=Layout(align_items='center', display='flex', flex_flow='r…"
      ]
     },
     "metadata": {},
     "output_type": "display_data"
    },
    {
     "name": "stdout",
     "output_type": "stream",
     "text": [
      "[(1, 3, 84, 84), (1,), (1,), (1,), (1, 2)]\n",
      "(7,)\n",
      "(3, 84, 84)\n"
     ]
    },
    {
     "data": {
      "application/vnd.jupyter.widget-view+json": {
       "model_id": "01010dfbda474d0e99588a303d9d59d5",
       "version_major": 2,
       "version_minor": 0
      },
      "text/plain": [
       "HBox(children=(Canvas(height=84, width=84),), layout=Layout(align_items='center', display='flex', flex_flow='r…"
      ]
     },
     "metadata": {},
     "output_type": "display_data"
    },
    {
     "name": "stdout",
     "output_type": "stream",
     "text": [
      "[(1, 3, 84, 84), (1,), (1,), (1,), (1, 2)]\n",
      "(7,)\n",
      "(3, 84, 84)\n"
     ]
    },
    {
     "data": {
      "application/vnd.jupyter.widget-view+json": {
       "model_id": "554278f8e814447e817db035b5b4f9e5",
       "version_major": 2,
       "version_minor": 0
      },
      "text/plain": [
       "HBox(children=(Canvas(height=84, width=84),), layout=Layout(align_items='center', display='flex', flex_flow='r…"
      ]
     },
     "metadata": {},
     "output_type": "display_data"
    },
    {
     "name": "stdout",
     "output_type": "stream",
     "text": [
      "[(1, 3, 84, 84), (1,), (1,), (1,), (1, 2)]\n",
      "(7,)\n",
      "(3, 84, 84)\n"
     ]
    },
    {
     "data": {
      "application/vnd.jupyter.widget-view+json": {
       "model_id": "a5ff0b59d1df4051a5afb7e6baedcf4a",
       "version_major": 2,
       "version_minor": 0
      },
      "text/plain": [
       "HBox(children=(Canvas(height=84, width=84),), layout=Layout(align_items='center', display='flex', flex_flow='r…"
      ]
     },
     "metadata": {},
     "output_type": "display_data"
    },
    {
     "name": "stdout",
     "output_type": "stream",
     "text": [
      "[(1, 3, 84, 84), (1,), (1,), (1,), (1, 2)]\n",
      "(7,)\n",
      "(3, 84, 84)\n"
     ]
    },
    {
     "data": {
      "application/vnd.jupyter.widget-view+json": {
       "model_id": "1e70548a62214c46a5d2db7344af7a10",
       "version_major": 2,
       "version_minor": 0
      },
      "text/plain": [
       "HBox(children=(Canvas(height=84, width=84),), layout=Layout(align_items='center', display='flex', flex_flow='r…"
      ]
     },
     "metadata": {},
     "output_type": "display_data"
    },
    {
     "name": "stdout",
     "output_type": "stream",
     "text": [
      "[(1, 3, 84, 84), (1,), (1,), (1,), (1, 2)]\n",
      "(7,)\n",
      "(3, 84, 84)\n"
     ]
    },
    {
     "data": {
      "application/vnd.jupyter.widget-view+json": {
       "model_id": "e3010b4a6cd94cd186590ac595ad4590",
       "version_major": 2,
       "version_minor": 0
      },
      "text/plain": [
       "HBox(children=(Canvas(height=84, width=84),), layout=Layout(align_items='center', display='flex', flex_flow='r…"
      ]
     },
     "metadata": {},
     "output_type": "display_data"
    },
    {
     "name": "stdout",
     "output_type": "stream",
     "text": [
      "[(1, 3, 84, 84), (1,), (1,), (1,), (1, 2)]\n",
      "(7,)\n",
      "(3, 84, 84)\n"
     ]
    },
    {
     "data": {
      "application/vnd.jupyter.widget-view+json": {
       "model_id": "8040e948f39440019a825859d077c9e5",
       "version_major": 2,
       "version_minor": 0
      },
      "text/plain": [
       "HBox(children=(Canvas(height=84, width=84),), layout=Layout(align_items='center', display='flex', flex_flow='r…"
      ]
     },
     "metadata": {},
     "output_type": "display_data"
    },
    {
     "name": "stdout",
     "output_type": "stream",
     "text": [
      "[(1, 3, 84, 84), (1,), (1,), (1,), (1, 2)]\n",
      "(7,)\n",
      "(3, 84, 84)\n"
     ]
    },
    {
     "data": {
      "application/vnd.jupyter.widget-view+json": {
       "model_id": "a9fad5ad132a4f31a99f5f0b347791bf",
       "version_major": 2,
       "version_minor": 0
      },
      "text/plain": [
       "HBox(children=(Canvas(height=84, width=84),), layout=Layout(align_items='center', display='flex', flex_flow='r…"
      ]
     },
     "metadata": {},
     "output_type": "display_data"
    },
    {
     "name": "stdout",
     "output_type": "stream",
     "text": [
      "[(1, 3, 84, 84), (1,), (1,), (1,), (1, 2)]\n",
      "(7,)\n",
      "(3, 84, 84)\n"
     ]
    },
    {
     "data": {
      "application/vnd.jupyter.widget-view+json": {
       "model_id": "933ac6a982fd46c0a9d077264009a642",
       "version_major": 2,
       "version_minor": 0
      },
      "text/plain": [
       "HBox(children=(Canvas(height=84, width=84),), layout=Layout(align_items='center', display='flex', flex_flow='r…"
      ]
     },
     "metadata": {},
     "output_type": "display_data"
    },
    {
     "name": "stdout",
     "output_type": "stream",
     "text": [
      "[(1, 3, 84, 84), (1,), (1,), (1,), (1, 2)]\n",
      "(7,)\n",
      "(3, 84, 84)\n"
     ]
    },
    {
     "data": {
      "application/vnd.jupyter.widget-view+json": {
       "model_id": "c55140399f2b4cafb6c38258cb255e5f",
       "version_major": 2,
       "version_minor": 0
      },
      "text/plain": [
       "HBox(children=(Canvas(height=84, width=84),), layout=Layout(align_items='center', display='flex', flex_flow='r…"
      ]
     },
     "metadata": {},
     "output_type": "display_data"
    },
    {
     "name": "stdout",
     "output_type": "stream",
     "text": [
      "[(1, 3, 84, 84), (1,), (1,), (1,), (1, 2)]\n",
      "(7,)\n",
      "(3, 84, 84)\n"
     ]
    },
    {
     "data": {
      "application/vnd.jupyter.widget-view+json": {
       "model_id": "0128ffabaf354cf2b4c3cf9685a3f8c7",
       "version_major": 2,
       "version_minor": 0
      },
      "text/plain": [
       "HBox(children=(Canvas(height=84, width=84),), layout=Layout(align_items='center', display='flex', flex_flow='r…"
      ]
     },
     "metadata": {},
     "output_type": "display_data"
    },
    {
     "name": "stdout",
     "output_type": "stream",
     "text": [
      "[(1, 3, 84, 84), (1,), (1,), (1,), (1, 2)]\n",
      "(7,)\n",
      "(3, 84, 84)\n"
     ]
    },
    {
     "data": {
      "application/vnd.jupyter.widget-view+json": {
       "model_id": "25fbfadff0824e24905db9476db1a17d",
       "version_major": 2,
       "version_minor": 0
      },
      "text/plain": [
       "HBox(children=(Canvas(height=84, width=84),), layout=Layout(align_items='center', display='flex', flex_flow='r…"
      ]
     },
     "metadata": {},
     "output_type": "display_data"
    },
    {
     "name": "stdout",
     "output_type": "stream",
     "text": [
      "[(1, 3, 84, 84), (1,), (1,), (1,), (1, 2)]\n",
      "(7,)\n",
      "(3, 84, 84)\n"
     ]
    },
    {
     "data": {
      "application/vnd.jupyter.widget-view+json": {
       "model_id": "27765bdbaaa747faba6c7411af784135",
       "version_major": 2,
       "version_minor": 0
      },
      "text/plain": [
       "HBox(children=(Canvas(height=84, width=84),), layout=Layout(align_items='center', display='flex', flex_flow='r…"
      ]
     },
     "metadata": {},
     "output_type": "display_data"
    },
    {
     "name": "stdout",
     "output_type": "stream",
     "text": [
      "[(1, 3, 84, 84), (1,), (1,), (1,), (1, 2)]\n",
      "(7,)\n",
      "(3, 84, 84)\n"
     ]
    },
    {
     "data": {
      "application/vnd.jupyter.widget-view+json": {
       "model_id": "f91b1a6f4620479ba9f89dee6bd5c478",
       "version_major": 2,
       "version_minor": 0
      },
      "text/plain": [
       "HBox(children=(Canvas(height=84, width=84),), layout=Layout(align_items='center', display='flex', flex_flow='r…"
      ]
     },
     "metadata": {},
     "output_type": "display_data"
    },
    {
     "name": "stdout",
     "output_type": "stream",
     "text": [
      "[(1, 3, 84, 84), (1,), (1,), (1,), (1, 2)]\n",
      "(7,)\n",
      "(3, 84, 84)\n"
     ]
    },
    {
     "data": {
      "application/vnd.jupyter.widget-view+json": {
       "model_id": "d4b323e5fbd0435781a6a99bdb462cb8",
       "version_major": 2,
       "version_minor": 0
      },
      "text/plain": [
       "HBox(children=(Canvas(height=84, width=84),), layout=Layout(align_items='center', display='flex', flex_flow='r…"
      ]
     },
     "metadata": {},
     "output_type": "display_data"
    },
    {
     "name": "stdout",
     "output_type": "stream",
     "text": [
      "[(1, 3, 84, 84), (1,), (1,), (1,), (1, 2)]\n",
      "(7,)\n",
      "(3, 84, 84)\n"
     ]
    },
    {
     "data": {
      "application/vnd.jupyter.widget-view+json": {
       "model_id": "7eb690efd538477dbe0fa4d57fb06307",
       "version_major": 2,
       "version_minor": 0
      },
      "text/plain": [
       "HBox(children=(Canvas(height=84, width=84),), layout=Layout(align_items='center', display='flex', flex_flow='r…"
      ]
     },
     "metadata": {},
     "output_type": "display_data"
    },
    {
     "name": "stdout",
     "output_type": "stream",
     "text": [
      "[(1, 3, 84, 84), (1,), (1,), (1,), (1, 2)]\n",
      "(7,)\n",
      "(3, 84, 84)\n"
     ]
    },
    {
     "data": {
      "application/vnd.jupyter.widget-view+json": {
       "model_id": "30811aab8914409db028c95589be140a",
       "version_major": 2,
       "version_minor": 0
      },
      "text/plain": [
       "HBox(children=(Canvas(height=84, width=84),), layout=Layout(align_items='center', display='flex', flex_flow='r…"
      ]
     },
     "metadata": {},
     "output_type": "display_data"
    },
    {
     "name": "stdout",
     "output_type": "stream",
     "text": [
      "[(1, 3, 84, 84), (1,), (1,), (1,), (1, 2)]\n",
      "(7,)\n",
      "(3, 84, 84)\n"
     ]
    },
    {
     "data": {
      "application/vnd.jupyter.widget-view+json": {
       "model_id": "927c9e4005b54c79babd88d64b1b3da4",
       "version_major": 2,
       "version_minor": 0
      },
      "text/plain": [
       "HBox(children=(Canvas(height=84, width=84),), layout=Layout(align_items='center', display='flex', flex_flow='r…"
      ]
     },
     "metadata": {},
     "output_type": "display_data"
    },
    {
     "name": "stdout",
     "output_type": "stream",
     "text": [
      "[(1, 3, 84, 84), (1,), (1,), (1,), (1, 2)]\n",
      "(7,)\n",
      "(3, 84, 84)\n"
     ]
    },
    {
     "data": {
      "application/vnd.jupyter.widget-view+json": {
       "model_id": "6c01f3201f644201b2090699338c7209",
       "version_major": 2,
       "version_minor": 0
      },
      "text/plain": [
       "HBox(children=(Canvas(height=84, width=84),), layout=Layout(align_items='center', display='flex', flex_flow='r…"
      ]
     },
     "metadata": {},
     "output_type": "display_data"
    },
    {
     "name": "stdout",
     "output_type": "stream",
     "text": [
      "[(1, 3, 84, 84), (1,), (1,), (1,), (1, 2)]\n",
      "(7,)\n",
      "(3, 84, 84)\n"
     ]
    },
    {
     "data": {
      "application/vnd.jupyter.widget-view+json": {
       "model_id": "ffb3c42a312242238764185f6b67aa0b",
       "version_major": 2,
       "version_minor": 0
      },
      "text/plain": [
       "HBox(children=(Canvas(height=84, width=84),), layout=Layout(align_items='center', display='flex', flex_flow='r…"
      ]
     },
     "metadata": {},
     "output_type": "display_data"
    },
    {
     "name": "stdout",
     "output_type": "stream",
     "text": [
      "[(1, 3, 84, 84), (1,), (1,), (1,), (1, 2)]\n",
      "(7,)\n",
      "(3, 84, 84)\n"
     ]
    },
    {
     "data": {
      "application/vnd.jupyter.widget-view+json": {
       "model_id": "9f56dd6d1d82465485d90011c24ce731",
       "version_major": 2,
       "version_minor": 0
      },
      "text/plain": [
       "HBox(children=(Canvas(height=84, width=84),), layout=Layout(align_items='center', display='flex', flex_flow='r…"
      ]
     },
     "metadata": {},
     "output_type": "display_data"
    },
    {
     "name": "stdout",
     "output_type": "stream",
     "text": [
      "[(1, 3, 84, 84), (1,), (1,), (1,), (1, 2)]\n",
      "(7,)\n",
      "(3, 84, 84)\n"
     ]
    },
    {
     "data": {
      "application/vnd.jupyter.widget-view+json": {
       "model_id": "56869de6541744d6a175c547f5db6abe",
       "version_major": 2,
       "version_minor": 0
      },
      "text/plain": [
       "HBox(children=(Canvas(height=84, width=84),), layout=Layout(align_items='center', display='flex', flex_flow='r…"
      ]
     },
     "metadata": {},
     "output_type": "display_data"
    },
    {
     "name": "stdout",
     "output_type": "stream",
     "text": [
      "[(1, 3, 84, 84), (1,), (1,), (1,), (1, 2)]\n",
      "(7,)\n",
      "(3, 84, 84)\n"
     ]
    },
    {
     "data": {
      "application/vnd.jupyter.widget-view+json": {
       "model_id": "5e79b7e6f7a8438e8fe1213c0dd9aaec",
       "version_major": 2,
       "version_minor": 0
      },
      "text/plain": [
       "HBox(children=(Canvas(height=84, width=84),), layout=Layout(align_items='center', display='flex', flex_flow='r…"
      ]
     },
     "metadata": {},
     "output_type": "display_data"
    },
    {
     "name": "stdout",
     "output_type": "stream",
     "text": [
      "[(1, 3, 84, 84), (1,), (1,), (1,), (1, 2)]\n",
      "(7,)\n",
      "(3, 84, 84)\n"
     ]
    },
    {
     "data": {
      "application/vnd.jupyter.widget-view+json": {
       "model_id": "c0f8b468410e4cc59bbcb93666034ae4",
       "version_major": 2,
       "version_minor": 0
      },
      "text/plain": [
       "HBox(children=(Canvas(height=84, width=84),), layout=Layout(align_items='center', display='flex', flex_flow='r…"
      ]
     },
     "metadata": {},
     "output_type": "display_data"
    },
    {
     "name": "stdout",
     "output_type": "stream",
     "text": [
      "[(1, 3, 84, 84), (1,), (1,), (1,), (1, 2)]\n",
      "(7,)\n",
      "(3, 84, 84)\n"
     ]
    },
    {
     "data": {
      "application/vnd.jupyter.widget-view+json": {
       "model_id": "a84a63e7ca4046eea5c46817c549faf8",
       "version_major": 2,
       "version_minor": 0
      },
      "text/plain": [
       "HBox(children=(Canvas(height=84, width=84),), layout=Layout(align_items='center', display='flex', flex_flow='r…"
      ]
     },
     "metadata": {},
     "output_type": "display_data"
    },
    {
     "name": "stdout",
     "output_type": "stream",
     "text": [
      "[(1, 3, 84, 84), (1,), (1,), (1,), (1, 2)]\n",
      "(7,)\n",
      "(3, 84, 84)\n"
     ]
    },
    {
     "data": {
      "application/vnd.jupyter.widget-view+json": {
       "model_id": "63f3f7240cc8425995a266b5f5c6e4f5",
       "version_major": 2,
       "version_minor": 0
      },
      "text/plain": [
       "HBox(children=(Canvas(height=84, width=84),), layout=Layout(align_items='center', display='flex', flex_flow='r…"
      ]
     },
     "metadata": {},
     "output_type": "display_data"
    },
    {
     "name": "stdout",
     "output_type": "stream",
     "text": [
      "[(1, 3, 84, 84), (1,), (1,), (1,), (1, 2)]\n",
      "(7,)\n",
      "(3, 84, 84)\n"
     ]
    },
    {
     "data": {
      "application/vnd.jupyter.widget-view+json": {
       "model_id": "99e54155caef44e1a29a7c1cc751df5b",
       "version_major": 2,
       "version_minor": 0
      },
      "text/plain": [
       "HBox(children=(Canvas(height=84, width=84),), layout=Layout(align_items='center', display='flex', flex_flow='r…"
      ]
     },
     "metadata": {},
     "output_type": "display_data"
    },
    {
     "name": "stdout",
     "output_type": "stream",
     "text": [
      "[(1, 3, 84, 84), (1,), (1,), (1,), (1, 2)]\n",
      "(7,)\n",
      "(3, 84, 84)\n"
     ]
    },
    {
     "data": {
      "application/vnd.jupyter.widget-view+json": {
       "model_id": "d2d27958b92d4e4ea6c445bcee1bfb1d",
       "version_major": 2,
       "version_minor": 0
      },
      "text/plain": [
       "HBox(children=(Canvas(height=84, width=84),), layout=Layout(align_items='center', display='flex', flex_flow='r…"
      ]
     },
     "metadata": {},
     "output_type": "display_data"
    },
    {
     "name": "stdout",
     "output_type": "stream",
     "text": [
      "[(1, 3, 84, 84), (1,), (1,), (1,), (1, 2)]\n",
      "(7,)\n",
      "(3, 84, 84)\n"
     ]
    },
    {
     "data": {
      "application/vnd.jupyter.widget-view+json": {
       "model_id": "36d4e109840b4b4c8ca9770fe715bd50",
       "version_major": 2,
       "version_minor": 0
      },
      "text/plain": [
       "HBox(children=(Canvas(height=84, width=84),), layout=Layout(align_items='center', display='flex', flex_flow='r…"
      ]
     },
     "metadata": {},
     "output_type": "display_data"
    },
    {
     "name": "stdout",
     "output_type": "stream",
     "text": [
      "[(1, 3, 84, 84), (1,), (1,), (1,), (1, 2)]\n",
      "(7,)\n",
      "(3, 84, 84)\n"
     ]
    },
    {
     "data": {
      "application/vnd.jupyter.widget-view+json": {
       "model_id": "c279921e8f8b46239bf87c2acd1d19dd",
       "version_major": 2,
       "version_minor": 0
      },
      "text/plain": [
       "HBox(children=(Canvas(height=84, width=84),), layout=Layout(align_items='center', display='flex', flex_flow='r…"
      ]
     },
     "metadata": {},
     "output_type": "display_data"
    },
    {
     "name": "stdout",
     "output_type": "stream",
     "text": [
      "[(1, 3, 84, 84), (1,), (1,), (1,), (1, 2)]\n",
      "(7,)\n",
      "(3, 84, 84)\n"
     ]
    },
    {
     "data": {
      "application/vnd.jupyter.widget-view+json": {
       "model_id": "cbc06dd322734eeab2fe68a655c7f389",
       "version_major": 2,
       "version_minor": 0
      },
      "text/plain": [
       "HBox(children=(Canvas(height=84, width=84),), layout=Layout(align_items='center', display='flex', flex_flow='r…"
      ]
     },
     "metadata": {},
     "output_type": "display_data"
    },
    {
     "name": "stdout",
     "output_type": "stream",
     "text": [
      "[(1, 3, 84, 84), (1,), (1,), (1,), (1, 2)]\n",
      "(7,)\n",
      "(3, 84, 84)\n"
     ]
    },
    {
     "data": {
      "application/vnd.jupyter.widget-view+json": {
       "model_id": "9c426cd4ee4c432cb3a105ddcc9fb396",
       "version_major": 2,
       "version_minor": 0
      },
      "text/plain": [
       "HBox(children=(Canvas(height=84, width=84),), layout=Layout(align_items='center', display='flex', flex_flow='r…"
      ]
     },
     "metadata": {},
     "output_type": "display_data"
    },
    {
     "name": "stdout",
     "output_type": "stream",
     "text": [
      "[(1, 3, 84, 84), (1,), (1,), (1,), (1, 2)]\n",
      "(7,)\n",
      "(3, 84, 84)\n"
     ]
    },
    {
     "data": {
      "application/vnd.jupyter.widget-view+json": {
       "model_id": "d68c6d2d1e4949629bf0c36d47006bd1",
       "version_major": 2,
       "version_minor": 0
      },
      "text/plain": [
       "HBox(children=(Canvas(height=84, width=84),), layout=Layout(align_items='center', display='flex', flex_flow='r…"
      ]
     },
     "metadata": {},
     "output_type": "display_data"
    },
    {
     "name": "stdout",
     "output_type": "stream",
     "text": [
      "[(1, 3, 84, 84), (1,), (1,), (1,), (1, 2)]\n",
      "(7,)\n",
      "(3, 84, 84)\n"
     ]
    },
    {
     "data": {
      "application/vnd.jupyter.widget-view+json": {
       "model_id": "8f72bcd8b98444959a6f15b00c3b8570",
       "version_major": 2,
       "version_minor": 0
      },
      "text/plain": [
       "HBox(children=(Canvas(height=84, width=84),), layout=Layout(align_items='center', display='flex', flex_flow='r…"
      ]
     },
     "metadata": {},
     "output_type": "display_data"
    },
    {
     "name": "stdout",
     "output_type": "stream",
     "text": [
      "[(1, 3, 84, 84), (1,), (1,), (1,), (1, 2)]\n",
      "(7,)\n",
      "(3, 84, 84)\n"
     ]
    },
    {
     "data": {
      "application/vnd.jupyter.widget-view+json": {
       "model_id": "a8bb9ba8f80a472fa6e6d6d4d6ccb0b7",
       "version_major": 2,
       "version_minor": 0
      },
      "text/plain": [
       "HBox(children=(Canvas(height=84, width=84),), layout=Layout(align_items='center', display='flex', flex_flow='r…"
      ]
     },
     "metadata": {},
     "output_type": "display_data"
    },
    {
     "name": "stdout",
     "output_type": "stream",
     "text": [
      "[(1, 3, 84, 84), (1,), (1,), (1,), (1, 2)]\n",
      "(7,)\n",
      "(3, 84, 84)\n"
     ]
    },
    {
     "data": {
      "application/vnd.jupyter.widget-view+json": {
       "model_id": "5383f5cdf17d4e14a7c353c3f9b38f6e",
       "version_major": 2,
       "version_minor": 0
      },
      "text/plain": [
       "HBox(children=(Canvas(height=84, width=84),), layout=Layout(align_items='center', display='flex', flex_flow='r…"
      ]
     },
     "metadata": {},
     "output_type": "display_data"
    },
    {
     "name": "stdout",
     "output_type": "stream",
     "text": [
      "[(1, 3, 84, 84), (1,), (1,), (1,), (1, 2)]\n",
      "(7,)\n",
      "(3, 84, 84)\n"
     ]
    },
    {
     "data": {
      "application/vnd.jupyter.widget-view+json": {
       "model_id": "d4df1fee18bf4a72b9483fbe50f48607",
       "version_major": 2,
       "version_minor": 0
      },
      "text/plain": [
       "HBox(children=(Canvas(height=84, width=84),), layout=Layout(align_items='center', display='flex', flex_flow='r…"
      ]
     },
     "metadata": {},
     "output_type": "display_data"
    },
    {
     "name": "stdout",
     "output_type": "stream",
     "text": [
      "[(1, 3, 84, 84), (1,), (1,), (1,), (1, 2)]\n",
      "(7,)\n",
      "(3, 84, 84)\n"
     ]
    },
    {
     "data": {
      "application/vnd.jupyter.widget-view+json": {
       "model_id": "dac27dd4f4cc4fae82900f092216833e",
       "version_major": 2,
       "version_minor": 0
      },
      "text/plain": [
       "HBox(children=(Canvas(height=84, width=84),), layout=Layout(align_items='center', display='flex', flex_flow='r…"
      ]
     },
     "metadata": {},
     "output_type": "display_data"
    },
    {
     "name": "stdout",
     "output_type": "stream",
     "text": [
      "[(1, 3, 84, 84), (1,), (1,), (1,), (1, 2)]\n",
      "(7,)\n",
      "(3, 84, 84)\n"
     ]
    },
    {
     "data": {
      "application/vnd.jupyter.widget-view+json": {
       "model_id": "5d04dfe6d77a42019247c44c60d40d1a",
       "version_major": 2,
       "version_minor": 0
      },
      "text/plain": [
       "HBox(children=(Canvas(height=84, width=84),), layout=Layout(align_items='center', display='flex', flex_flow='r…"
      ]
     },
     "metadata": {},
     "output_type": "display_data"
    },
    {
     "name": "stdout",
     "output_type": "stream",
     "text": [
      "[(1, 3, 84, 84), (1,), (1,), (1,), (1, 2)]\n",
      "(7,)\n",
      "(3, 84, 84)\n"
     ]
    },
    {
     "data": {
      "application/vnd.jupyter.widget-view+json": {
       "model_id": "f02815a1f52d4da9bca36f9500699b46",
       "version_major": 2,
       "version_minor": 0
      },
      "text/plain": [
       "HBox(children=(Canvas(height=84, width=84),), layout=Layout(align_items='center', display='flex', flex_flow='r…"
      ]
     },
     "metadata": {},
     "output_type": "display_data"
    },
    {
     "name": "stdout",
     "output_type": "stream",
     "text": [
      "[(1, 3, 84, 84), (1,), (1,), (1,), (1, 2)]\n",
      "(7,)\n",
      "(3, 84, 84)\n"
     ]
    },
    {
     "data": {
      "application/vnd.jupyter.widget-view+json": {
       "model_id": "eb0baca55b3844c881b6e66d94d7ad74",
       "version_major": 2,
       "version_minor": 0
      },
      "text/plain": [
       "HBox(children=(Canvas(height=84, width=84),), layout=Layout(align_items='center', display='flex', flex_flow='r…"
      ]
     },
     "metadata": {},
     "output_type": "display_data"
    },
    {
     "name": "stdout",
     "output_type": "stream",
     "text": [
      "[(1, 3, 84, 84), (1,), (1,), (1,), (1, 2)]\n",
      "(7,)\n",
      "(3, 84, 84)\n"
     ]
    },
    {
     "data": {
      "application/vnd.jupyter.widget-view+json": {
       "model_id": "fa29f1d9fa8043f690e34100321a0405",
       "version_major": 2,
       "version_minor": 0
      },
      "text/plain": [
       "HBox(children=(Canvas(height=84, width=84),), layout=Layout(align_items='center', display='flex', flex_flow='r…"
      ]
     },
     "metadata": {},
     "output_type": "display_data"
    },
    {
     "name": "stdout",
     "output_type": "stream",
     "text": [
      "[(1, 3, 84, 84), (1,), (1,), (1,), (1, 2)]\n",
      "(7,)\n",
      "(3, 84, 84)\n"
     ]
    },
    {
     "data": {
      "application/vnd.jupyter.widget-view+json": {
       "model_id": "43a35627566c498d89fc15eae2155880",
       "version_major": 2,
       "version_minor": 0
      },
      "text/plain": [
       "HBox(children=(Canvas(height=84, width=84),), layout=Layout(align_items='center', display='flex', flex_flow='r…"
      ]
     },
     "metadata": {},
     "output_type": "display_data"
    },
    {
     "name": "stdout",
     "output_type": "stream",
     "text": [
      "[(1, 3, 84, 84), (1,), (1,), (1,), (1, 2)]\n",
      "(7,)\n",
      "(3, 84, 84)\n"
     ]
    },
    {
     "data": {
      "application/vnd.jupyter.widget-view+json": {
       "model_id": "f8425091f43b4ec5ab34a78e259aeea5",
       "version_major": 2,
       "version_minor": 0
      },
      "text/plain": [
       "HBox(children=(Canvas(height=84, width=84),), layout=Layout(align_items='center', display='flex', flex_flow='r…"
      ]
     },
     "metadata": {},
     "output_type": "display_data"
    },
    {
     "name": "stdout",
     "output_type": "stream",
     "text": [
      "[(1, 3, 84, 84), (1,), (1,), (1,), (1, 2)]\n",
      "(7,)\n",
      "(3, 84, 84)\n"
     ]
    },
    {
     "data": {
      "application/vnd.jupyter.widget-view+json": {
       "model_id": "2ec43c1ddbf748cbbbc150bd77df96b9",
       "version_major": 2,
       "version_minor": 0
      },
      "text/plain": [
       "HBox(children=(Canvas(height=84, width=84),), layout=Layout(align_items='center', display='flex', flex_flow='r…"
      ]
     },
     "metadata": {},
     "output_type": "display_data"
    },
    {
     "name": "stdout",
     "output_type": "stream",
     "text": [
      "[(1, 3, 84, 84), (1,), (1,), (1,), (1, 2)]\n",
      "(7,)\n",
      "(3, 84, 84)\n"
     ]
    },
    {
     "data": {
      "application/vnd.jupyter.widget-view+json": {
       "model_id": "f12b212978b94ed682ed76495432a9c3",
       "version_major": 2,
       "version_minor": 0
      },
      "text/plain": [
       "HBox(children=(Canvas(height=84, width=84),), layout=Layout(align_items='center', display='flex', flex_flow='r…"
      ]
     },
     "metadata": {},
     "output_type": "display_data"
    },
    {
     "name": "stdout",
     "output_type": "stream",
     "text": [
      "[(1, 3, 84, 84), (1,), (1,), (1,), (1, 2)]\n",
      "(7,)\n",
      "(3, 84, 84)\n"
     ]
    },
    {
     "data": {
      "application/vnd.jupyter.widget-view+json": {
       "model_id": "d2e71a0f7f624532a9b800389cba93f2",
       "version_major": 2,
       "version_minor": 0
      },
      "text/plain": [
       "HBox(children=(Canvas(height=84, width=84),), layout=Layout(align_items='center', display='flex', flex_flow='r…"
      ]
     },
     "metadata": {},
     "output_type": "display_data"
    },
    {
     "name": "stdout",
     "output_type": "stream",
     "text": [
      "[(1, 3, 84, 84), (1,), (1,), (1,), (1, 2)]\n",
      "(7,)\n",
      "(3, 84, 84)\n"
     ]
    },
    {
     "data": {
      "application/vnd.jupyter.widget-view+json": {
       "model_id": "15f56908bb2747eca9037c214bb8527c",
       "version_major": 2,
       "version_minor": 0
      },
      "text/plain": [
       "HBox(children=(Canvas(height=84, width=84),), layout=Layout(align_items='center', display='flex', flex_flow='r…"
      ]
     },
     "metadata": {},
     "output_type": "display_data"
    },
    {
     "name": "stdout",
     "output_type": "stream",
     "text": [
      "[(1, 3, 84, 84), (1,), (1,), (1,), (1, 2)]\n",
      "(7,)\n",
      "(3, 84, 84)\n"
     ]
    },
    {
     "data": {
      "application/vnd.jupyter.widget-view+json": {
       "model_id": "eda307efea3d460596b5c76177ee1d44",
       "version_major": 2,
       "version_minor": 0
      },
      "text/plain": [
       "HBox(children=(Canvas(height=84, width=84),), layout=Layout(align_items='center', display='flex', flex_flow='r…"
      ]
     },
     "metadata": {},
     "output_type": "display_data"
    },
    {
     "name": "stdout",
     "output_type": "stream",
     "text": [
      "[(1, 3, 84, 84), (1,), (1,), (1,), (1, 2)]\n",
      "(7,)\n",
      "(3, 84, 84)\n"
     ]
    },
    {
     "data": {
      "application/vnd.jupyter.widget-view+json": {
       "model_id": "e6da6fb305cb42428161861fde4d6a94",
       "version_major": 2,
       "version_minor": 0
      },
      "text/plain": [
       "HBox(children=(Canvas(height=84, width=84),), layout=Layout(align_items='center', display='flex', flex_flow='r…"
      ]
     },
     "metadata": {},
     "output_type": "display_data"
    },
    {
     "name": "stdout",
     "output_type": "stream",
     "text": [
      "[(1, 3, 84, 84), (1,), (1,), (1,), (1, 2)]\n",
      "(7,)\n",
      "(3, 84, 84)\n"
     ]
    },
    {
     "data": {
      "application/vnd.jupyter.widget-view+json": {
       "model_id": "b8a108efeec34a5e8efde8eb0fafb693",
       "version_major": 2,
       "version_minor": 0
      },
      "text/plain": [
       "HBox(children=(Canvas(height=84, width=84),), layout=Layout(align_items='center', display='flex', flex_flow='r…"
      ]
     },
     "metadata": {},
     "output_type": "display_data"
    },
    {
     "name": "stdout",
     "output_type": "stream",
     "text": [
      "[(1, 3, 84, 84), (1,), (1,), (1,), (1, 2)]\n",
      "(7,)\n",
      "(3, 84, 84)\n"
     ]
    },
    {
     "data": {
      "application/vnd.jupyter.widget-view+json": {
       "model_id": "81534d286e024ef3a5548dad8aaf2d6f",
       "version_major": 2,
       "version_minor": 0
      },
      "text/plain": [
       "HBox(children=(Canvas(height=84, width=84),), layout=Layout(align_items='center', display='flex', flex_flow='r…"
      ]
     },
     "metadata": {},
     "output_type": "display_data"
    },
    {
     "name": "stdout",
     "output_type": "stream",
     "text": [
      "[(1, 3, 84, 84), (1,), (1,), (1,), (1, 2)]\n",
      "(7,)\n",
      "(3, 84, 84)\n"
     ]
    },
    {
     "data": {
      "application/vnd.jupyter.widget-view+json": {
       "model_id": "73e897f02051462c9da0b6023e9c26ae",
       "version_major": 2,
       "version_minor": 0
      },
      "text/plain": [
       "HBox(children=(Canvas(height=84, width=84),), layout=Layout(align_items='center', display='flex', flex_flow='r…"
      ]
     },
     "metadata": {},
     "output_type": "display_data"
    },
    {
     "name": "stdout",
     "output_type": "stream",
     "text": [
      "[(1, 3, 84, 84), (1,), (1,), (1,), (1, 2)]\n",
      "(7,)\n",
      "(3, 84, 84)\n"
     ]
    },
    {
     "data": {
      "application/vnd.jupyter.widget-view+json": {
       "model_id": "40ca5132ae1542ce98632a1a033ff0f7",
       "version_major": 2,
       "version_minor": 0
      },
      "text/plain": [
       "HBox(children=(Canvas(height=84, width=84),), layout=Layout(align_items='center', display='flex', flex_flow='r…"
      ]
     },
     "metadata": {},
     "output_type": "display_data"
    },
    {
     "name": "stdout",
     "output_type": "stream",
     "text": [
      "[(1, 3, 84, 84), (1,), (1,), (1,), (1, 2)]\n",
      "(7,)\n",
      "(3, 84, 84)\n"
     ]
    },
    {
     "data": {
      "application/vnd.jupyter.widget-view+json": {
       "model_id": "37e5041c165f4d5d863d5678f4c510cf",
       "version_major": 2,
       "version_minor": 0
      },
      "text/plain": [
       "HBox(children=(Canvas(height=84, width=84),), layout=Layout(align_items='center', display='flex', flex_flow='r…"
      ]
     },
     "metadata": {},
     "output_type": "display_data"
    },
    {
     "name": "stdout",
     "output_type": "stream",
     "text": [
      "[(1, 3, 84, 84), (1,), (1,), (1,), (1, 2)]\n",
      "(7,)\n",
      "(3, 84, 84)\n"
     ]
    },
    {
     "data": {
      "application/vnd.jupyter.widget-view+json": {
       "model_id": "b7cf2a15f4c64249a04549e90510d4b9",
       "version_major": 2,
       "version_minor": 0
      },
      "text/plain": [
       "HBox(children=(Canvas(height=84, width=84),), layout=Layout(align_items='center', display='flex', flex_flow='r…"
      ]
     },
     "metadata": {},
     "output_type": "display_data"
    },
    {
     "name": "stdout",
     "output_type": "stream",
     "text": [
      "[(1, 3, 84, 84), (1,), (1,), (1,), (1, 2)]\n",
      "(7,)\n",
      "(3, 84, 84)\n"
     ]
    },
    {
     "data": {
      "application/vnd.jupyter.widget-view+json": {
       "model_id": "d83668b5fe814ea3bd6d6b6fa6b4c252",
       "version_major": 2,
       "version_minor": 0
      },
      "text/plain": [
       "HBox(children=(Canvas(height=84, width=84),), layout=Layout(align_items='center', display='flex', flex_flow='r…"
      ]
     },
     "metadata": {},
     "output_type": "display_data"
    },
    {
     "name": "stdout",
     "output_type": "stream",
     "text": [
      "[(1, 3, 84, 84), (1,), (1,), (1,), (1, 2)]\n",
      "(7,)\n",
      "(3, 84, 84)\n"
     ]
    },
    {
     "data": {
      "application/vnd.jupyter.widget-view+json": {
       "model_id": "cc6fbed15a0344d7b0af933f20b96595",
       "version_major": 2,
       "version_minor": 0
      },
      "text/plain": [
       "HBox(children=(Canvas(height=84, width=84),), layout=Layout(align_items='center', display='flex', flex_flow='r…"
      ]
     },
     "metadata": {},
     "output_type": "display_data"
    },
    {
     "name": "stdout",
     "output_type": "stream",
     "text": [
      "[(1, 3, 84, 84), (1,), (1,), (1,), (1, 2)]\n",
      "(7,)\n",
      "(3, 84, 84)\n"
     ]
    },
    {
     "data": {
      "application/vnd.jupyter.widget-view+json": {
       "model_id": "4f92d69cb3e947c29b0c641084bcf5fd",
       "version_major": 2,
       "version_minor": 0
      },
      "text/plain": [
       "HBox(children=(Canvas(height=84, width=84),), layout=Layout(align_items='center', display='flex', flex_flow='r…"
      ]
     },
     "metadata": {},
     "output_type": "display_data"
    },
    {
     "name": "stdout",
     "output_type": "stream",
     "text": [
      "[(1, 3, 84, 84), (1,), (1,), (1,), (1, 2)]\n",
      "(7,)\n",
      "(3, 84, 84)\n"
     ]
    },
    {
     "data": {
      "application/vnd.jupyter.widget-view+json": {
       "model_id": "3b5a014dd24d4feb93c1255424818d72",
       "version_major": 2,
       "version_minor": 0
      },
      "text/plain": [
       "HBox(children=(Canvas(height=84, width=84),), layout=Layout(align_items='center', display='flex', flex_flow='r…"
      ]
     },
     "metadata": {},
     "output_type": "display_data"
    },
    {
     "name": "stdout",
     "output_type": "stream",
     "text": [
      "[(1, 3, 84, 84), (1,), (1,), (1,), (1, 2)]\n",
      "(7,)\n",
      "(3, 84, 84)\n"
     ]
    },
    {
     "data": {
      "application/vnd.jupyter.widget-view+json": {
       "model_id": "512bc1e0c4044bf498f5e621a991bc70",
       "version_major": 2,
       "version_minor": 0
      },
      "text/plain": [
       "HBox(children=(Canvas(height=84, width=84),), layout=Layout(align_items='center', display='flex', flex_flow='r…"
      ]
     },
     "metadata": {},
     "output_type": "display_data"
    },
    {
     "name": "stdout",
     "output_type": "stream",
     "text": [
      "[(1, 3, 84, 84), (1,), (1,), (1,), (1, 2)]\n",
      "(7,)\n",
      "(3, 84, 84)\n"
     ]
    },
    {
     "data": {
      "application/vnd.jupyter.widget-view+json": {
       "model_id": "1b6d5487d83e4611b884cd19103d168e",
       "version_major": 2,
       "version_minor": 0
      },
      "text/plain": [
       "HBox(children=(Canvas(height=84, width=84),), layout=Layout(align_items='center', display='flex', flex_flow='r…"
      ]
     },
     "metadata": {},
     "output_type": "display_data"
    },
    {
     "name": "stdout",
     "output_type": "stream",
     "text": [
      "[(1, 3, 84, 84), (1,), (1,), (1,), (1, 2)]\n",
      "(7,)\n",
      "(3, 84, 84)\n"
     ]
    },
    {
     "data": {
      "application/vnd.jupyter.widget-view+json": {
       "model_id": "e6dd70e6fd9647e7817a846cb40074f0",
       "version_major": 2,
       "version_minor": 0
      },
      "text/plain": [
       "HBox(children=(Canvas(height=84, width=84),), layout=Layout(align_items='center', display='flex', flex_flow='r…"
      ]
     },
     "metadata": {},
     "output_type": "display_data"
    },
    {
     "name": "stdout",
     "output_type": "stream",
     "text": [
      "[(1, 3, 84, 84), (1,), (1,), (1,), (1, 2)]\n",
      "(7,)\n",
      "(3, 84, 84)\n"
     ]
    },
    {
     "data": {
      "application/vnd.jupyter.widget-view+json": {
       "model_id": "75bbc5ef544c4cc6b71a00a7948dedc9",
       "version_major": 2,
       "version_minor": 0
      },
      "text/plain": [
       "HBox(children=(Canvas(height=84, width=84),), layout=Layout(align_items='center', display='flex', flex_flow='r…"
      ]
     },
     "metadata": {},
     "output_type": "display_data"
    },
    {
     "name": "stdout",
     "output_type": "stream",
     "text": [
      "[(1, 3, 84, 84), (1,), (1,), (1,), (1, 2)]\n",
      "(7,)\n",
      "(3, 84, 84)\n"
     ]
    },
    {
     "data": {
      "application/vnd.jupyter.widget-view+json": {
       "model_id": "03626d79c08f412daac37cdf4796ddfa",
       "version_major": 2,
       "version_minor": 0
      },
      "text/plain": [
       "HBox(children=(Canvas(height=84, width=84),), layout=Layout(align_items='center', display='flex', flex_flow='r…"
      ]
     },
     "metadata": {},
     "output_type": "display_data"
    },
    {
     "name": "stdout",
     "output_type": "stream",
     "text": [
      "[(1, 3, 84, 84), (1,), (1,), (1,), (1, 2)]\n",
      "(7,)\n",
      "(3, 84, 84)\n"
     ]
    },
    {
     "data": {
      "application/vnd.jupyter.widget-view+json": {
       "model_id": "87903f4cde8d4783be7c7f94725e4a81",
       "version_major": 2,
       "version_minor": 0
      },
      "text/plain": [
       "HBox(children=(Canvas(height=84, width=84),), layout=Layout(align_items='center', display='flex', flex_flow='r…"
      ]
     },
     "metadata": {},
     "output_type": "display_data"
    },
    {
     "name": "stdout",
     "output_type": "stream",
     "text": [
      "[(1, 3, 84, 84), (1,), (1,), (1,), (1, 2)]\n",
      "(7,)\n",
      "(3, 84, 84)\n"
     ]
    },
    {
     "data": {
      "application/vnd.jupyter.widget-view+json": {
       "model_id": "cb13c0145b9e4034bc8bddbd512d924c",
       "version_major": 2,
       "version_minor": 0
      },
      "text/plain": [
       "HBox(children=(Canvas(height=84, width=84),), layout=Layout(align_items='center', display='flex', flex_flow='r…"
      ]
     },
     "metadata": {},
     "output_type": "display_data"
    },
    {
     "name": "stdout",
     "output_type": "stream",
     "text": [
      "[(1, 3, 84, 84), (1,), (1,), (1,), (1, 2)]\n",
      "(7,)\n",
      "(3, 84, 84)\n"
     ]
    },
    {
     "data": {
      "application/vnd.jupyter.widget-view+json": {
       "model_id": "1f3f597f65844b31b9420af3ed1045a1",
       "version_major": 2,
       "version_minor": 0
      },
      "text/plain": [
       "HBox(children=(Canvas(height=84, width=84),), layout=Layout(align_items='center', display='flex', flex_flow='r…"
      ]
     },
     "metadata": {},
     "output_type": "display_data"
    },
    {
     "name": "stdout",
     "output_type": "stream",
     "text": [
      "[(1, 3, 84, 84), (1,), (1,), (1,), (1, 2)]\n",
      "(7,)\n",
      "(3, 84, 84)\n"
     ]
    },
    {
     "data": {
      "application/vnd.jupyter.widget-view+json": {
       "model_id": "783572369dcf41d69da16e67c98af8c5",
       "version_major": 2,
       "version_minor": 0
      },
      "text/plain": [
       "HBox(children=(Canvas(height=84, width=84),), layout=Layout(align_items='center', display='flex', flex_flow='r…"
      ]
     },
     "metadata": {},
     "output_type": "display_data"
    },
    {
     "name": "stdout",
     "output_type": "stream",
     "text": [
      "[(1, 3, 84, 84), (1,), (1,), (1,), (1, 2)]\n",
      "(7,)\n",
      "(3, 84, 84)\n"
     ]
    },
    {
     "data": {
      "application/vnd.jupyter.widget-view+json": {
       "model_id": "fdfee597cff947c89f723fe643fcacd6",
       "version_major": 2,
       "version_minor": 0
      },
      "text/plain": [
       "HBox(children=(Canvas(height=84, width=84),), layout=Layout(align_items='center', display='flex', flex_flow='r…"
      ]
     },
     "metadata": {},
     "output_type": "display_data"
    },
    {
     "name": "stdout",
     "output_type": "stream",
     "text": [
      "[(1, 3, 84, 84), (1,), (1,), (1,), (1, 2)]\n",
      "(7,)\n",
      "(3, 84, 84)\n"
     ]
    },
    {
     "data": {
      "application/vnd.jupyter.widget-view+json": {
       "model_id": "ffedb61360e84a12bc54fce27f514721",
       "version_major": 2,
       "version_minor": 0
      },
      "text/plain": [
       "HBox(children=(Canvas(height=84, width=84),), layout=Layout(align_items='center', display='flex', flex_flow='r…"
      ]
     },
     "metadata": {},
     "output_type": "display_data"
    },
    {
     "name": "stdout",
     "output_type": "stream",
     "text": [
      "[(1, 3, 84, 84), (1,), (1,), (1,), (1, 2)]\n",
      "(7,)\n",
      "(3, 84, 84)\n"
     ]
    },
    {
     "data": {
      "application/vnd.jupyter.widget-view+json": {
       "model_id": "ba39a0439bae4226b28ac759df956651",
       "version_major": 2,
       "version_minor": 0
      },
      "text/plain": [
       "HBox(children=(Canvas(height=84, width=84),), layout=Layout(align_items='center', display='flex', flex_flow='r…"
      ]
     },
     "metadata": {},
     "output_type": "display_data"
    },
    {
     "name": "stdout",
     "output_type": "stream",
     "text": [
      "[(1, 3, 84, 84), (1,), (1,), (1,), (1, 2)]\n",
      "(7,)\n",
      "(3, 84, 84)\n"
     ]
    },
    {
     "data": {
      "application/vnd.jupyter.widget-view+json": {
       "model_id": "865c82ada90e4455b689cb4c37bc9fbe",
       "version_major": 2,
       "version_minor": 0
      },
      "text/plain": [
       "HBox(children=(Canvas(height=84, width=84),), layout=Layout(align_items='center', display='flex', flex_flow='r…"
      ]
     },
     "metadata": {},
     "output_type": "display_data"
    },
    {
     "name": "stdout",
     "output_type": "stream",
     "text": [
      "[(1, 3, 84, 84), (1,), (1,), (1,), (1, 2)]\n",
      "(7,)\n",
      "(3, 84, 84)\n"
     ]
    },
    {
     "data": {
      "application/vnd.jupyter.widget-view+json": {
       "model_id": "421cec66384646609d4f83262df66e78",
       "version_major": 2,
       "version_minor": 0
      },
      "text/plain": [
       "HBox(children=(Canvas(height=84, width=84),), layout=Layout(align_items='center', display='flex', flex_flow='r…"
      ]
     },
     "metadata": {},
     "output_type": "display_data"
    },
    {
     "name": "stdout",
     "output_type": "stream",
     "text": [
      "[(1, 3, 84, 84), (1,), (1,), (1,), (1, 2)]\n",
      "(7,)\n",
      "(3, 84, 84)\n"
     ]
    },
    {
     "data": {
      "application/vnd.jupyter.widget-view+json": {
       "model_id": "b29a86443374480aae62abbfbde25e60",
       "version_major": 2,
       "version_minor": 0
      },
      "text/plain": [
       "HBox(children=(Canvas(height=84, width=84),), layout=Layout(align_items='center', display='flex', flex_flow='r…"
      ]
     },
     "metadata": {},
     "output_type": "display_data"
    },
    {
     "name": "stdout",
     "output_type": "stream",
     "text": [
      "[(1, 3, 84, 84), (1,), (1,), (1,), (1, 2)]\n",
      "(7,)\n",
      "(3, 84, 84)\n"
     ]
    },
    {
     "data": {
      "application/vnd.jupyter.widget-view+json": {
       "model_id": "28153d5712154ad3ae2e530c3b94bd22",
       "version_major": 2,
       "version_minor": 0
      },
      "text/plain": [
       "HBox(children=(Canvas(height=84, width=84),), layout=Layout(align_items='center', display='flex', flex_flow='r…"
      ]
     },
     "metadata": {},
     "output_type": "display_data"
    },
    {
     "name": "stdout",
     "output_type": "stream",
     "text": [
      "[(1, 3, 84, 84), (1,), (1,), (1,), (1, 2)]\n",
      "(7,)\n",
      "(3, 84, 84)\n"
     ]
    },
    {
     "data": {
      "application/vnd.jupyter.widget-view+json": {
       "model_id": "17d8283dc7104cc294a3a46de77bce6b",
       "version_major": 2,
       "version_minor": 0
      },
      "text/plain": [
       "HBox(children=(Canvas(height=84, width=84),), layout=Layout(align_items='center', display='flex', flex_flow='r…"
      ]
     },
     "metadata": {},
     "output_type": "display_data"
    },
    {
     "name": "stdout",
     "output_type": "stream",
     "text": [
      "[(1, 3, 84, 84), (1,), (1,), (1,), (1, 2)]\n",
      "(7,)\n",
      "(3, 84, 84)\n"
     ]
    },
    {
     "data": {
      "application/vnd.jupyter.widget-view+json": {
       "model_id": "7cabfef76b85418ca5f10e53f837b47a",
       "version_major": 2,
       "version_minor": 0
      },
      "text/plain": [
       "HBox(children=(Canvas(height=84, width=84),), layout=Layout(align_items='center', display='flex', flex_flow='r…"
      ]
     },
     "metadata": {},
     "output_type": "display_data"
    },
    {
     "name": "stdout",
     "output_type": "stream",
     "text": [
      "[(1, 3, 84, 84), (1,), (1,), (1,), (1, 2)]\n",
      "(7,)\n",
      "(3, 84, 84)\n"
     ]
    },
    {
     "data": {
      "application/vnd.jupyter.widget-view+json": {
       "model_id": "951e4a378d6747748806ac50ff1568f0",
       "version_major": 2,
       "version_minor": 0
      },
      "text/plain": [
       "HBox(children=(Canvas(height=84, width=84),), layout=Layout(align_items='center', display='flex', flex_flow='r…"
      ]
     },
     "metadata": {},
     "output_type": "display_data"
    },
    {
     "name": "stdout",
     "output_type": "stream",
     "text": [
      "[(1, 3, 84, 84), (1,), (1,), (1,), (1, 2)]\n",
      "(7,)\n",
      "(3, 84, 84)\n"
     ]
    },
    {
     "data": {
      "application/vnd.jupyter.widget-view+json": {
       "model_id": "f1a9d9859ce84670a283a5cab1c6c2da",
       "version_major": 2,
       "version_minor": 0
      },
      "text/plain": [
       "HBox(children=(Canvas(height=84, width=84),), layout=Layout(align_items='center', display='flex', flex_flow='r…"
      ]
     },
     "metadata": {},
     "output_type": "display_data"
    },
    {
     "name": "stdout",
     "output_type": "stream",
     "text": [
      "[(1, 3, 84, 84), (1,), (1,), (1,), (1, 2)]\n",
      "(7,)\n",
      "(3, 84, 84)\n"
     ]
    },
    {
     "data": {
      "application/vnd.jupyter.widget-view+json": {
       "model_id": "78744ef41e24443c895d4a05823478dc",
       "version_major": 2,
       "version_minor": 0
      },
      "text/plain": [
       "HBox(children=(Canvas(height=84, width=84),), layout=Layout(align_items='center', display='flex', flex_flow='r…"
      ]
     },
     "metadata": {},
     "output_type": "display_data"
    },
    {
     "name": "stdout",
     "output_type": "stream",
     "text": [
      "[(1, 3, 84, 84), (1,), (1,), (1,), (1, 2)]\n",
      "(7,)\n",
      "(3, 84, 84)\n"
     ]
    },
    {
     "data": {
      "application/vnd.jupyter.widget-view+json": {
       "model_id": "fc27a5ad77a9493fb968afc6646eeda6",
       "version_major": 2,
       "version_minor": 0
      },
      "text/plain": [
       "HBox(children=(Canvas(height=84, width=84),), layout=Layout(align_items='center', display='flex', flex_flow='r…"
      ]
     },
     "metadata": {},
     "output_type": "display_data"
    },
    {
     "name": "stdout",
     "output_type": "stream",
     "text": [
      "[(1, 3, 84, 84), (1,), (1,), (1,), (1, 2)]\n",
      "(7,)\n",
      "(3, 84, 84)\n"
     ]
    },
    {
     "data": {
      "application/vnd.jupyter.widget-view+json": {
       "model_id": "72c39f2561194cef80d3fcc27f247535",
       "version_major": 2,
       "version_minor": 0
      },
      "text/plain": [
       "HBox(children=(Canvas(height=84, width=84),), layout=Layout(align_items='center', display='flex', flex_flow='r…"
      ]
     },
     "metadata": {},
     "output_type": "display_data"
    },
    {
     "name": "stdout",
     "output_type": "stream",
     "text": [
      "[(1, 3, 84, 84), (1,), (1,), (1,), (1, 2)]\n",
      "(7,)\n",
      "(3, 84, 84)\n"
     ]
    },
    {
     "data": {
      "application/vnd.jupyter.widget-view+json": {
       "model_id": "60fc5a44efd647d991256caf61857bc1",
       "version_major": 2,
       "version_minor": 0
      },
      "text/plain": [
       "HBox(children=(Canvas(height=84, width=84),), layout=Layout(align_items='center', display='flex', flex_flow='r…"
      ]
     },
     "metadata": {},
     "output_type": "display_data"
    },
    {
     "name": "stdout",
     "output_type": "stream",
     "text": [
      "[(1, 3, 84, 84), (1,), (1,), (1,), (1, 2)]\n",
      "(7,)\n",
      "(3, 84, 84)\n"
     ]
    },
    {
     "data": {
      "application/vnd.jupyter.widget-view+json": {
       "model_id": "192b85a56ca340ff9d569d571aa06d57",
       "version_major": 2,
       "version_minor": 0
      },
      "text/plain": [
       "HBox(children=(Canvas(height=84, width=84),), layout=Layout(align_items='center', display='flex', flex_flow='r…"
      ]
     },
     "metadata": {},
     "output_type": "display_data"
    },
    {
     "name": "stdout",
     "output_type": "stream",
     "text": [
      "[(1, 3, 84, 84), (1,), (1,), (1,), (1, 2)]\n",
      "(7,)\n",
      "(3, 84, 84)\n"
     ]
    },
    {
     "data": {
      "application/vnd.jupyter.widget-view+json": {
       "model_id": "870eb5cef2af47d59ebab0566e13f026",
       "version_major": 2,
       "version_minor": 0
      },
      "text/plain": [
       "HBox(children=(Canvas(height=84, width=84),), layout=Layout(align_items='center', display='flex', flex_flow='r…"
      ]
     },
     "metadata": {},
     "output_type": "display_data"
    },
    {
     "name": "stdout",
     "output_type": "stream",
     "text": [
      "[(1, 3, 84, 84), (1,), (1,), (1,), (1, 2)]\n",
      "(7,)\n",
      "(3, 84, 84)\n"
     ]
    },
    {
     "data": {
      "application/vnd.jupyter.widget-view+json": {
       "model_id": "a86f5371beb64a2ab48bfa0ed9758aeb",
       "version_major": 2,
       "version_minor": 0
      },
      "text/plain": [
       "HBox(children=(Canvas(height=84, width=84),), layout=Layout(align_items='center', display='flex', flex_flow='r…"
      ]
     },
     "metadata": {},
     "output_type": "display_data"
    },
    {
     "name": "stdout",
     "output_type": "stream",
     "text": [
      "[(1, 3, 84, 84), (1,), (1,), (1,), (1, 2)]\n",
      "(7,)\n",
      "(3, 84, 84)\n"
     ]
    },
    {
     "data": {
      "application/vnd.jupyter.widget-view+json": {
       "model_id": "d4d865edc4fa4d9eb337dee85f461788",
       "version_major": 2,
       "version_minor": 0
      },
      "text/plain": [
       "HBox(children=(Canvas(height=84, width=84),), layout=Layout(align_items='center', display='flex', flex_flow='r…"
      ]
     },
     "metadata": {},
     "output_type": "display_data"
    },
    {
     "name": "stdout",
     "output_type": "stream",
     "text": [
      "[(1, 3, 84, 84), (1,), (1,), (1,), (1, 2)]\n",
      "(7,)\n",
      "(3, 84, 84)\n"
     ]
    },
    {
     "data": {
      "application/vnd.jupyter.widget-view+json": {
       "model_id": "e3c1f57c17de41bc9e17cfa31fc7d155",
       "version_major": 2,
       "version_minor": 0
      },
      "text/plain": [
       "HBox(children=(Canvas(height=84, width=84),), layout=Layout(align_items='center', display='flex', flex_flow='r…"
      ]
     },
     "metadata": {},
     "output_type": "display_data"
    },
    {
     "name": "stdout",
     "output_type": "stream",
     "text": [
      "[(1, 3, 84, 84), (1,), (1,), (1,), (1, 2)]\n",
      "(7,)\n",
      "(3, 84, 84)\n"
     ]
    },
    {
     "data": {
      "application/vnd.jupyter.widget-view+json": {
       "model_id": "d1423192b5394e818d91a6b09a543b72",
       "version_major": 2,
       "version_minor": 0
      },
      "text/plain": [
       "HBox(children=(Canvas(height=84, width=84),), layout=Layout(align_items='center', display='flex', flex_flow='r…"
      ]
     },
     "metadata": {},
     "output_type": "display_data"
    },
    {
     "name": "stdout",
     "output_type": "stream",
     "text": [
      "[(1, 3, 84, 84), (1,), (1,), (1,), (1, 2)]\n",
      "(7,)\n",
      "(3, 84, 84)\n"
     ]
    },
    {
     "data": {
      "application/vnd.jupyter.widget-view+json": {
       "model_id": "d44d915009234ae0987c8b6caceeae45",
       "version_major": 2,
       "version_minor": 0
      },
      "text/plain": [
       "HBox(children=(Canvas(height=84, width=84),), layout=Layout(align_items='center', display='flex', flex_flow='r…"
      ]
     },
     "metadata": {},
     "output_type": "display_data"
    },
    {
     "name": "stdout",
     "output_type": "stream",
     "text": [
      "[(1, 3, 84, 84), (1,), (1,), (1,), (1, 2)]\n",
      "(7,)\n",
      "(3, 84, 84)\n"
     ]
    },
    {
     "data": {
      "application/vnd.jupyter.widget-view+json": {
       "model_id": "a0e7941617ac4fa293c28a0c063e7414",
       "version_major": 2,
       "version_minor": 0
      },
      "text/plain": [
       "HBox(children=(Canvas(height=84, width=84),), layout=Layout(align_items='center', display='flex', flex_flow='r…"
      ]
     },
     "metadata": {},
     "output_type": "display_data"
    },
    {
     "name": "stdout",
     "output_type": "stream",
     "text": [
      "[(1, 3, 84, 84), (1,), (1,), (1,), (1, 2)]\n",
      "(7,)\n",
      "(3, 84, 84)\n"
     ]
    },
    {
     "data": {
      "application/vnd.jupyter.widget-view+json": {
       "model_id": "1ec3979e27f642219ce64e0d373797d6",
       "version_major": 2,
       "version_minor": 0
      },
      "text/plain": [
       "HBox(children=(Canvas(height=84, width=84),), layout=Layout(align_items='center', display='flex', flex_flow='r…"
      ]
     },
     "metadata": {},
     "output_type": "display_data"
    },
    {
     "name": "stdout",
     "output_type": "stream",
     "text": [
      "[(1, 3, 84, 84), (1,), (1,), (1,), (1, 2)]\n",
      "(7,)\n",
      "(3, 84, 84)\n"
     ]
    },
    {
     "data": {
      "application/vnd.jupyter.widget-view+json": {
       "model_id": "6f8b7fcbe0db4568a6be39887a51eaec",
       "version_major": 2,
       "version_minor": 0
      },
      "text/plain": [
       "HBox(children=(Canvas(height=84, width=84),), layout=Layout(align_items='center', display='flex', flex_flow='r…"
      ]
     },
     "metadata": {},
     "output_type": "display_data"
    },
    {
     "name": "stdout",
     "output_type": "stream",
     "text": [
      "[(1, 3, 84, 84), (1,), (1,), (1,), (1, 2)]\n",
      "(7,)\n",
      "(3, 84, 84)\n"
     ]
    },
    {
     "data": {
      "application/vnd.jupyter.widget-view+json": {
       "model_id": "4e056c14e5ef42c88c68e2f95dd1272b",
       "version_major": 2,
       "version_minor": 0
      },
      "text/plain": [
       "HBox(children=(Canvas(height=84, width=84),), layout=Layout(align_items='center', display='flex', flex_flow='r…"
      ]
     },
     "metadata": {},
     "output_type": "display_data"
    },
    {
     "name": "stdout",
     "output_type": "stream",
     "text": [
      "[(1, 3, 84, 84), (1,), (1,), (1,), (1, 2)]\n",
      "(7,)\n",
      "(3, 84, 84)\n"
     ]
    },
    {
     "data": {
      "application/vnd.jupyter.widget-view+json": {
       "model_id": "d8567c1e845f4a5c924901d426d5093a",
       "version_major": 2,
       "version_minor": 0
      },
      "text/plain": [
       "HBox(children=(Canvas(height=84, width=84),), layout=Layout(align_items='center', display='flex', flex_flow='r…"
      ]
     },
     "metadata": {},
     "output_type": "display_data"
    },
    {
     "name": "stdout",
     "output_type": "stream",
     "text": [
      "[(1, 3, 84, 84), (1,), (1,), (1,), (1, 2)]\n",
      "(7,)\n",
      "(3, 84, 84)\n"
     ]
    },
    {
     "data": {
      "application/vnd.jupyter.widget-view+json": {
       "model_id": "8eba96a6469847fab4842f9fe7391ee6",
       "version_major": 2,
       "version_minor": 0
      },
      "text/plain": [
       "HBox(children=(Canvas(height=84, width=84),), layout=Layout(align_items='center', display='flex', flex_flow='r…"
      ]
     },
     "metadata": {},
     "output_type": "display_data"
    },
    {
     "name": "stdout",
     "output_type": "stream",
     "text": [
      "[(1, 3, 84, 84), (1,), (1,), (1,), (1, 2)]\n",
      "(7,)\n",
      "(3, 84, 84)\n"
     ]
    },
    {
     "data": {
      "application/vnd.jupyter.widget-view+json": {
       "model_id": "1cd8706ab11e4d48a3cce89cc1427d8f",
       "version_major": 2,
       "version_minor": 0
      },
      "text/plain": [
       "HBox(children=(Canvas(height=84, width=84),), layout=Layout(align_items='center', display='flex', flex_flow='r…"
      ]
     },
     "metadata": {},
     "output_type": "display_data"
    },
    {
     "name": "stdout",
     "output_type": "stream",
     "text": [
      "[(1, 3, 84, 84), (1,), (1,), (1,), (1, 2)]\n",
      "(7,)\n",
      "(3, 84, 84)\n"
     ]
    },
    {
     "data": {
      "application/vnd.jupyter.widget-view+json": {
       "model_id": "be7b610967ff4684a73204b0cac4bad1",
       "version_major": 2,
       "version_minor": 0
      },
      "text/plain": [
       "HBox(children=(Canvas(height=84, width=84),), layout=Layout(align_items='center', display='flex', flex_flow='r…"
      ]
     },
     "metadata": {},
     "output_type": "display_data"
    },
    {
     "name": "stdout",
     "output_type": "stream",
     "text": [
      "[(1, 3, 84, 84), (1,), (1,), (1,), (1, 2)]\n",
      "(7,)\n",
      "(3, 84, 84)\n"
     ]
    },
    {
     "data": {
      "application/vnd.jupyter.widget-view+json": {
       "model_id": "d9479d7ccbda4a9baf22fc52abc28434",
       "version_major": 2,
       "version_minor": 0
      },
      "text/plain": [
       "HBox(children=(Canvas(height=84, width=84),), layout=Layout(align_items='center', display='flex', flex_flow='r…"
      ]
     },
     "metadata": {},
     "output_type": "display_data"
    },
    {
     "name": "stdout",
     "output_type": "stream",
     "text": [
      "[(1, 3, 84, 84), (1,), (1,), (1,), (1, 2)]\n",
      "(7,)\n",
      "(3, 84, 84)\n"
     ]
    },
    {
     "data": {
      "application/vnd.jupyter.widget-view+json": {
       "model_id": "2acea8313a3c4f73b15cfa4594178fbe",
       "version_major": 2,
       "version_minor": 0
      },
      "text/plain": [
       "HBox(children=(Canvas(height=84, width=84),), layout=Layout(align_items='center', display='flex', flex_flow='r…"
      ]
     },
     "metadata": {},
     "output_type": "display_data"
    },
    {
     "name": "stdout",
     "output_type": "stream",
     "text": [
      "[(1, 3, 84, 84), (1,), (1,), (1,), (1, 2)]\n",
      "(7,)\n",
      "(3, 84, 84)\n"
     ]
    },
    {
     "data": {
      "application/vnd.jupyter.widget-view+json": {
       "model_id": "524d0c52e6ca4213aff4b7d86daeb630",
       "version_major": 2,
       "version_minor": 0
      },
      "text/plain": [
       "HBox(children=(Canvas(height=84, width=84),), layout=Layout(align_items='center', display='flex', flex_flow='r…"
      ]
     },
     "metadata": {},
     "output_type": "display_data"
    },
    {
     "name": "stdout",
     "output_type": "stream",
     "text": [
      "[(1, 3, 84, 84), (1,), (1,), (1,), (1, 2)]\n",
      "(7,)\n",
      "(3, 84, 84)\n"
     ]
    },
    {
     "data": {
      "application/vnd.jupyter.widget-view+json": {
       "model_id": "5e1d1051203545debc0c230429ad0f0a",
       "version_major": 2,
       "version_minor": 0
      },
      "text/plain": [
       "HBox(children=(Canvas(height=84, width=84),), layout=Layout(align_items='center', display='flex', flex_flow='r…"
      ]
     },
     "metadata": {},
     "output_type": "display_data"
    },
    {
     "name": "stdout",
     "output_type": "stream",
     "text": [
      "[(1, 3, 84, 84), (1,), (1,), (1,), (1, 2)]\n",
      "(7,)\n",
      "(3, 84, 84)\n"
     ]
    },
    {
     "data": {
      "application/vnd.jupyter.widget-view+json": {
       "model_id": "6cc4a50436ad4191911da73e173adbba",
       "version_major": 2,
       "version_minor": 0
      },
      "text/plain": [
       "HBox(children=(Canvas(height=84, width=84),), layout=Layout(align_items='center', display='flex', flex_flow='r…"
      ]
     },
     "metadata": {},
     "output_type": "display_data"
    },
    {
     "name": "stdout",
     "output_type": "stream",
     "text": [
      "[(1, 3, 84, 84), (1,), (1,), (1,), (1, 2)]\n",
      "(7,)\n",
      "(3, 84, 84)\n"
     ]
    },
    {
     "data": {
      "application/vnd.jupyter.widget-view+json": {
       "model_id": "bd6343848d6247ff839a5e70608f135c",
       "version_major": 2,
       "version_minor": 0
      },
      "text/plain": [
       "HBox(children=(Canvas(height=84, width=84),), layout=Layout(align_items='center', display='flex', flex_flow='r…"
      ]
     },
     "metadata": {},
     "output_type": "display_data"
    },
    {
     "name": "stdout",
     "output_type": "stream",
     "text": [
      "[(1, 3, 84, 84), (1,), (1,), (1,), (1, 2)]\n",
      "(7,)\n",
      "(3, 84, 84)\n"
     ]
    },
    {
     "data": {
      "application/vnd.jupyter.widget-view+json": {
       "model_id": "19bc0f72d5724608b1f04c828d498abf",
       "version_major": 2,
       "version_minor": 0
      },
      "text/plain": [
       "HBox(children=(Canvas(height=84, width=84),), layout=Layout(align_items='center', display='flex', flex_flow='r…"
      ]
     },
     "metadata": {},
     "output_type": "display_data"
    },
    {
     "name": "stdout",
     "output_type": "stream",
     "text": [
      "[(1, 3, 84, 84), (1,), (1,), (1,), (1, 2)]\n",
      "(7,)\n",
      "(3, 84, 84)\n"
     ]
    },
    {
     "data": {
      "application/vnd.jupyter.widget-view+json": {
       "model_id": "ad9f1c724e4e4d8da5bea2bb58e259a2",
       "version_major": 2,
       "version_minor": 0
      },
      "text/plain": [
       "HBox(children=(Canvas(height=84, width=84),), layout=Layout(align_items='center', display='flex', flex_flow='r…"
      ]
     },
     "metadata": {},
     "output_type": "display_data"
    },
    {
     "name": "stdout",
     "output_type": "stream",
     "text": [
      "[(1, 3, 84, 84), (1,), (1,), (1,), (1, 2)]\n",
      "(7,)\n",
      "(3, 84, 84)\n"
     ]
    },
    {
     "data": {
      "application/vnd.jupyter.widget-view+json": {
       "model_id": "78644f7f1b6e4e1d88a7a5e9d0ca7286",
       "version_major": 2,
       "version_minor": 0
      },
      "text/plain": [
       "HBox(children=(Canvas(height=84, width=84),), layout=Layout(align_items='center', display='flex', flex_flow='r…"
      ]
     },
     "metadata": {},
     "output_type": "display_data"
    },
    {
     "name": "stdout",
     "output_type": "stream",
     "text": [
      "[(1, 3, 84, 84), (1,), (1,), (1,), (1, 2)]\n",
      "(7,)\n",
      "(3, 84, 84)\n"
     ]
    },
    {
     "data": {
      "application/vnd.jupyter.widget-view+json": {
       "model_id": "ac2af650880c48e28209beb6d6e733f0",
       "version_major": 2,
       "version_minor": 0
      },
      "text/plain": [
       "HBox(children=(Canvas(height=84, width=84),), layout=Layout(align_items='center', display='flex', flex_flow='r…"
      ]
     },
     "metadata": {},
     "output_type": "display_data"
    },
    {
     "name": "stdout",
     "output_type": "stream",
     "text": [
      "[(1, 3, 84, 84), (1,), (1,), (1,), (1, 2)]\n",
      "(7,)\n",
      "(3, 84, 84)\n"
     ]
    },
    {
     "data": {
      "application/vnd.jupyter.widget-view+json": {
       "model_id": "9fca4555a7a24565b7c2683b8b983de1",
       "version_major": 2,
       "version_minor": 0
      },
      "text/plain": [
       "HBox(children=(Canvas(height=84, width=84),), layout=Layout(align_items='center', display='flex', flex_flow='r…"
      ]
     },
     "metadata": {},
     "output_type": "display_data"
    },
    {
     "name": "stdout",
     "output_type": "stream",
     "text": [
      "[(1, 3, 84, 84), (1,), (1,), (1,), (1, 2)]\n",
      "(7,)\n",
      "(3, 84, 84)\n"
     ]
    },
    {
     "data": {
      "application/vnd.jupyter.widget-view+json": {
       "model_id": "93e8fc1214db43159c0eb4ae4df6e220",
       "version_major": 2,
       "version_minor": 0
      },
      "text/plain": [
       "HBox(children=(Canvas(height=84, width=84),), layout=Layout(align_items='center', display='flex', flex_flow='r…"
      ]
     },
     "metadata": {},
     "output_type": "display_data"
    },
    {
     "name": "stdout",
     "output_type": "stream",
     "text": [
      "[(1, 3, 84, 84), (1,), (1,), (1,), (1, 2)]\n",
      "(7,)\n",
      "(3, 84, 84)\n"
     ]
    },
    {
     "data": {
      "application/vnd.jupyter.widget-view+json": {
       "model_id": "e2527afaf0b54c34b4e1c223321de539",
       "version_major": 2,
       "version_minor": 0
      },
      "text/plain": [
       "HBox(children=(Canvas(height=84, width=84),), layout=Layout(align_items='center', display='flex', flex_flow='r…"
      ]
     },
     "metadata": {},
     "output_type": "display_data"
    },
    {
     "name": "stdout",
     "output_type": "stream",
     "text": [
      "[(1, 3, 84, 84), (1,), (1,), (1,), (1, 2)]\n",
      "(7,)\n",
      "(3, 84, 84)\n"
     ]
    },
    {
     "data": {
      "application/vnd.jupyter.widget-view+json": {
       "model_id": "088f72905b6a42e88f9c630c8bad6847",
       "version_major": 2,
       "version_minor": 0
      },
      "text/plain": [
       "HBox(children=(Canvas(height=84, width=84),), layout=Layout(align_items='center', display='flex', flex_flow='r…"
      ]
     },
     "metadata": {},
     "output_type": "display_data"
    },
    {
     "name": "stdout",
     "output_type": "stream",
     "text": [
      "[(1, 3, 84, 84), (1,), (1,), (1,), (1, 2)]\n",
      "(7,)\n",
      "(3, 84, 84)\n"
     ]
    },
    {
     "data": {
      "application/vnd.jupyter.widget-view+json": {
       "model_id": "63c0bae7980d4b178b0ddf5d7b650936",
       "version_major": 2,
       "version_minor": 0
      },
      "text/plain": [
       "HBox(children=(Canvas(height=84, width=84),), layout=Layout(align_items='center', display='flex', flex_flow='r…"
      ]
     },
     "metadata": {},
     "output_type": "display_data"
    },
    {
     "name": "stdout",
     "output_type": "stream",
     "text": [
      "[(1, 3, 84, 84), (1,), (1,), (1,), (1, 2)]\n",
      "(7,)\n",
      "(3, 84, 84)\n"
     ]
    },
    {
     "data": {
      "application/vnd.jupyter.widget-view+json": {
       "model_id": "1b68759e05fa4342aedce61b76e3f69a",
       "version_major": 2,
       "version_minor": 0
      },
      "text/plain": [
       "HBox(children=(Canvas(height=84, width=84),), layout=Layout(align_items='center', display='flex', flex_flow='r…"
      ]
     },
     "metadata": {},
     "output_type": "display_data"
    },
    {
     "name": "stdout",
     "output_type": "stream",
     "text": [
      "[(1, 3, 84, 84), (1,), (1,), (1,), (1, 2)]\n",
      "(7,)\n",
      "(3, 84, 84)\n"
     ]
    },
    {
     "data": {
      "application/vnd.jupyter.widget-view+json": {
       "model_id": "cbcaf3847b0b48a9984e20eeb2e434e3",
       "version_major": 2,
       "version_minor": 0
      },
      "text/plain": [
       "HBox(children=(Canvas(height=84, width=84),), layout=Layout(align_items='center', display='flex', flex_flow='r…"
      ]
     },
     "metadata": {},
     "output_type": "display_data"
    },
    {
     "name": "stdout",
     "output_type": "stream",
     "text": [
      "[(1, 3, 84, 84), (1,), (1,), (1,), (1, 2)]\n",
      "(7,)\n",
      "(3, 84, 84)\n"
     ]
    },
    {
     "data": {
      "application/vnd.jupyter.widget-view+json": {
       "model_id": "ff2b6fad07d3426cb00b6935db6fdcc4",
       "version_major": 2,
       "version_minor": 0
      },
      "text/plain": [
       "HBox(children=(Canvas(height=84, width=84),), layout=Layout(align_items='center', display='flex', flex_flow='r…"
      ]
     },
     "metadata": {},
     "output_type": "display_data"
    },
    {
     "name": "stdout",
     "output_type": "stream",
     "text": [
      "[(1, 3, 84, 84), (1,), (1,), (1,), (1, 2)]\n",
      "(7,)\n",
      "(3, 84, 84)\n"
     ]
    },
    {
     "data": {
      "application/vnd.jupyter.widget-view+json": {
       "model_id": "399848a39b8b45cd946bdcd8468ff82b",
       "version_major": 2,
       "version_minor": 0
      },
      "text/plain": [
       "HBox(children=(Canvas(height=84, width=84),), layout=Layout(align_items='center', display='flex', flex_flow='r…"
      ]
     },
     "metadata": {},
     "output_type": "display_data"
    },
    {
     "name": "stdout",
     "output_type": "stream",
     "text": [
      "[(1, 3, 84, 84), (1,), (1,), (1,), (1, 2)]\n",
      "(7,)\n",
      "(3, 84, 84)\n"
     ]
    },
    {
     "data": {
      "application/vnd.jupyter.widget-view+json": {
       "model_id": "987f65e2bfc243b98f95dc0350c4ec7b",
       "version_major": 2,
       "version_minor": 0
      },
      "text/plain": [
       "HBox(children=(Canvas(height=84, width=84),), layout=Layout(align_items='center', display='flex', flex_flow='r…"
      ]
     },
     "metadata": {},
     "output_type": "display_data"
    },
    {
     "name": "stdout",
     "output_type": "stream",
     "text": [
      "[(1, 3, 84, 84), (1,), (1,), (1,), (1, 2)]\n",
      "(7,)\n",
      "(3, 84, 84)\n"
     ]
    },
    {
     "data": {
      "application/vnd.jupyter.widget-view+json": {
       "model_id": "5fdc534091dd4d3eb30ac29924fb207b",
       "version_major": 2,
       "version_minor": 0
      },
      "text/plain": [
       "HBox(children=(Canvas(height=84, width=84),), layout=Layout(align_items='center', display='flex', flex_flow='r…"
      ]
     },
     "metadata": {},
     "output_type": "display_data"
    },
    {
     "name": "stdout",
     "output_type": "stream",
     "text": [
      "[(1, 3, 84, 84), (1,), (1,), (1,), (1, 2)]\n",
      "(7,)\n",
      "(3, 84, 84)\n"
     ]
    },
    {
     "data": {
      "application/vnd.jupyter.widget-view+json": {
       "model_id": "9d0c90d26f6f4c7d9b157410970d0bdb",
       "version_major": 2,
       "version_minor": 0
      },
      "text/plain": [
       "HBox(children=(Canvas(height=84, width=84),), layout=Layout(align_items='center', display='flex', flex_flow='r…"
      ]
     },
     "metadata": {},
     "output_type": "display_data"
    },
    {
     "name": "stdout",
     "output_type": "stream",
     "text": [
      "[(1, 3, 84, 84), (1,), (1,), (1,), (1, 2)]\n",
      "(7,)\n",
      "(3, 84, 84)\n"
     ]
    },
    {
     "data": {
      "application/vnd.jupyter.widget-view+json": {
       "model_id": "38807b65344444c2b2ab7069061fe2f7",
       "version_major": 2,
       "version_minor": 0
      },
      "text/plain": [
       "HBox(children=(Canvas(height=84, width=84),), layout=Layout(align_items='center', display='flex', flex_flow='r…"
      ]
     },
     "metadata": {},
     "output_type": "display_data"
    },
    {
     "name": "stdout",
     "output_type": "stream",
     "text": [
      "[(1, 3, 84, 84), (1,), (1,), (1,), (1, 2)]\n",
      "(7,)\n",
      "(3, 84, 84)\n"
     ]
    },
    {
     "data": {
      "application/vnd.jupyter.widget-view+json": {
       "model_id": "94c279448ae44e938069481ea945a581",
       "version_major": 2,
       "version_minor": 0
      },
      "text/plain": [
       "HBox(children=(Canvas(height=84, width=84),), layout=Layout(align_items='center', display='flex', flex_flow='r…"
      ]
     },
     "metadata": {},
     "output_type": "display_data"
    },
    {
     "name": "stdout",
     "output_type": "stream",
     "text": [
      "[(1, 3, 84, 84), (1,), (1,), (1,), (1, 2)]\n",
      "(7,)\n",
      "(3, 84, 84)\n"
     ]
    },
    {
     "data": {
      "application/vnd.jupyter.widget-view+json": {
       "model_id": "4e472e1a6db7463baaf3c1b95a9cbe91",
       "version_major": 2,
       "version_minor": 0
      },
      "text/plain": [
       "HBox(children=(Canvas(height=84, width=84),), layout=Layout(align_items='center', display='flex', flex_flow='r…"
      ]
     },
     "metadata": {},
     "output_type": "display_data"
    },
    {
     "name": "stdout",
     "output_type": "stream",
     "text": [
      "[(1, 3, 84, 84), (1,), (1,), (1,), (1, 2)]\n",
      "(7,)\n",
      "(3, 84, 84)\n"
     ]
    },
    {
     "data": {
      "application/vnd.jupyter.widget-view+json": {
       "model_id": "15ed00d9816f405987cd4a33f2262221",
       "version_major": 2,
       "version_minor": 0
      },
      "text/plain": [
       "HBox(children=(Canvas(height=84, width=84),), layout=Layout(align_items='center', display='flex', flex_flow='r…"
      ]
     },
     "metadata": {},
     "output_type": "display_data"
    },
    {
     "name": "stdout",
     "output_type": "stream",
     "text": [
      "[(1, 3, 84, 84), (1,), (1,), (1,), (1, 2)]\n",
      "(7,)\n",
      "(3, 84, 84)\n"
     ]
    },
    {
     "data": {
      "application/vnd.jupyter.widget-view+json": {
       "model_id": "ca5e6542593b45e7bbdd3b626fcc1a7e",
       "version_major": 2,
       "version_minor": 0
      },
      "text/plain": [
       "HBox(children=(Canvas(height=84, width=84),), layout=Layout(align_items='center', display='flex', flex_flow='r…"
      ]
     },
     "metadata": {},
     "output_type": "display_data"
    },
    {
     "name": "stdout",
     "output_type": "stream",
     "text": [
      "[(1, 3, 84, 84), (1,), (1,), (1,), (1, 2)]\n",
      "(7,)\n",
      "(3, 84, 84)\n"
     ]
    },
    {
     "data": {
      "application/vnd.jupyter.widget-view+json": {
       "model_id": "347a1754c70e4a06b48dec84db51e40c",
       "version_major": 2,
       "version_minor": 0
      },
      "text/plain": [
       "HBox(children=(Canvas(height=84, width=84),), layout=Layout(align_items='center', display='flex', flex_flow='r…"
      ]
     },
     "metadata": {},
     "output_type": "display_data"
    },
    {
     "name": "stdout",
     "output_type": "stream",
     "text": [
      "[(1, 3, 84, 84), (1,), (1,), (1,), (1, 2)]\n",
      "(7,)\n",
      "(3, 84, 84)\n"
     ]
    },
    {
     "data": {
      "application/vnd.jupyter.widget-view+json": {
       "model_id": "06b4928da0bf442eaf79300ab518b00b",
       "version_major": 2,
       "version_minor": 0
      },
      "text/plain": [
       "HBox(children=(Canvas(height=84, width=84),), layout=Layout(align_items='center', display='flex', flex_flow='r…"
      ]
     },
     "metadata": {},
     "output_type": "display_data"
    },
    {
     "name": "stdout",
     "output_type": "stream",
     "text": [
      "[(1, 3, 84, 84), (1,), (1,), (1,), (1, 2)]\n",
      "(7,)\n",
      "(3, 84, 84)\n"
     ]
    },
    {
     "data": {
      "application/vnd.jupyter.widget-view+json": {
       "model_id": "10d168e92b7b4cbe9e21dd8db4e2e3ae",
       "version_major": 2,
       "version_minor": 0
      },
      "text/plain": [
       "HBox(children=(Canvas(height=84, width=84),), layout=Layout(align_items='center', display='flex', flex_flow='r…"
      ]
     },
     "metadata": {},
     "output_type": "display_data"
    },
    {
     "name": "stdout",
     "output_type": "stream",
     "text": [
      "[(1, 3, 84, 84), (1,), (1,), (1,), (1, 2)]\n",
      "(7,)\n",
      "(3, 84, 84)\n"
     ]
    },
    {
     "data": {
      "application/vnd.jupyter.widget-view+json": {
       "model_id": "f3a28bd7acbe4a6dbd41eed727eacb5e",
       "version_major": 2,
       "version_minor": 0
      },
      "text/plain": [
       "HBox(children=(Canvas(height=84, width=84),), layout=Layout(align_items='center', display='flex', flex_flow='r…"
      ]
     },
     "metadata": {},
     "output_type": "display_data"
    },
    {
     "name": "stdout",
     "output_type": "stream",
     "text": [
      "[(1, 3, 84, 84), (1,), (1,), (1,), (1, 2)]\n",
      "(7,)\n",
      "(3, 84, 84)\n"
     ]
    },
    {
     "data": {
      "application/vnd.jupyter.widget-view+json": {
       "model_id": "13b8cc3d3bf649baa21403f38f9ff523",
       "version_major": 2,
       "version_minor": 0
      },
      "text/plain": [
       "HBox(children=(Canvas(height=84, width=84),), layout=Layout(align_items='center', display='flex', flex_flow='r…"
      ]
     },
     "metadata": {},
     "output_type": "display_data"
    },
    {
     "name": "stdout",
     "output_type": "stream",
     "text": [
      "[(1, 3, 84, 84), (1,), (1,), (1,), (1, 2)]\n",
      "(7,)\n",
      "(3, 84, 84)\n"
     ]
    },
    {
     "data": {
      "application/vnd.jupyter.widget-view+json": {
       "model_id": "6301be44ab13447ab785e71edf093c29",
       "version_major": 2,
       "version_minor": 0
      },
      "text/plain": [
       "HBox(children=(Canvas(height=84, width=84),), layout=Layout(align_items='center', display='flex', flex_flow='r…"
      ]
     },
     "metadata": {},
     "output_type": "display_data"
    },
    {
     "name": "stdout",
     "output_type": "stream",
     "text": [
      "[(1, 3, 84, 84), (1,), (1,), (1,), (1, 2)]\n",
      "(7,)\n",
      "(3, 84, 84)\n"
     ]
    },
    {
     "data": {
      "application/vnd.jupyter.widget-view+json": {
       "model_id": "a7454b17d613429cae6389ab1fd3f6ed",
       "version_major": 2,
       "version_minor": 0
      },
      "text/plain": [
       "HBox(children=(Canvas(height=84, width=84),), layout=Layout(align_items='center', display='flex', flex_flow='r…"
      ]
     },
     "metadata": {},
     "output_type": "display_data"
    },
    {
     "name": "stdout",
     "output_type": "stream",
     "text": [
      "[(1, 3, 84, 84), (1,), (1,), (1,), (1, 2)]\n",
      "(7,)\n",
      "(3, 84, 84)\n"
     ]
    },
    {
     "data": {
      "application/vnd.jupyter.widget-view+json": {
       "model_id": "bd1b2e8bdd6b4d71872df58af18833f7",
       "version_major": 2,
       "version_minor": 0
      },
      "text/plain": [
       "HBox(children=(Canvas(height=84, width=84),), layout=Layout(align_items='center', display='flex', flex_flow='r…"
      ]
     },
     "metadata": {},
     "output_type": "display_data"
    },
    {
     "name": "stdout",
     "output_type": "stream",
     "text": [
      "[(1, 3, 84, 84), (1,), (1,), (1,), (1, 2)]\n",
      "(7,)\n",
      "(3, 84, 84)\n"
     ]
    },
    {
     "data": {
      "application/vnd.jupyter.widget-view+json": {
       "model_id": "c70e3920be874063b3012c5e57704a6c",
       "version_major": 2,
       "version_minor": 0
      },
      "text/plain": [
       "HBox(children=(Canvas(height=84, width=84),), layout=Layout(align_items='center', display='flex', flex_flow='r…"
      ]
     },
     "metadata": {},
     "output_type": "display_data"
    },
    {
     "name": "stdout",
     "output_type": "stream",
     "text": [
      "[(1, 3, 84, 84), (1,), (1,), (1,), (1, 2)]\n",
      "(7,)\n",
      "(3, 84, 84)\n"
     ]
    },
    {
     "data": {
      "application/vnd.jupyter.widget-view+json": {
       "model_id": "2095fd163d504757b81758a7c9dbb080",
       "version_major": 2,
       "version_minor": 0
      },
      "text/plain": [
       "HBox(children=(Canvas(height=84, width=84),), layout=Layout(align_items='center', display='flex', flex_flow='r…"
      ]
     },
     "metadata": {},
     "output_type": "display_data"
    },
    {
     "name": "stdout",
     "output_type": "stream",
     "text": [
      "[(1, 3, 84, 84), (1,), (1,), (1,), (1, 2)]\n",
      "(7,)\n",
      "(3, 84, 84)\n"
     ]
    },
    {
     "data": {
      "application/vnd.jupyter.widget-view+json": {
       "model_id": "e0758814267a4001b71abed795fcb5fa",
       "version_major": 2,
       "version_minor": 0
      },
      "text/plain": [
       "HBox(children=(Canvas(height=84, width=84),), layout=Layout(align_items='center', display='flex', flex_flow='r…"
      ]
     },
     "metadata": {},
     "output_type": "display_data"
    },
    {
     "name": "stdout",
     "output_type": "stream",
     "text": [
      "[(1, 3, 84, 84), (1,), (1,), (1,), (1, 2)]\n",
      "(7,)\n",
      "(3, 84, 84)\n"
     ]
    },
    {
     "data": {
      "application/vnd.jupyter.widget-view+json": {
       "model_id": "941e454067d74a7c8dbe4cae715c2cb8",
       "version_major": 2,
       "version_minor": 0
      },
      "text/plain": [
       "HBox(children=(Canvas(height=84, width=84),), layout=Layout(align_items='center', display='flex', flex_flow='r…"
      ]
     },
     "metadata": {},
     "output_type": "display_data"
    },
    {
     "name": "stdout",
     "output_type": "stream",
     "text": [
      "[(1, 3, 84, 84), (1,), (1,), (1,), (1, 2)]\n",
      "(7,)\n",
      "(3, 84, 84)\n"
     ]
    },
    {
     "data": {
      "application/vnd.jupyter.widget-view+json": {
       "model_id": "9cf27af800324f1a9e13181ae470f0f9",
       "version_major": 2,
       "version_minor": 0
      },
      "text/plain": [
       "HBox(children=(Canvas(height=84, width=84),), layout=Layout(align_items='center', display='flex', flex_flow='r…"
      ]
     },
     "metadata": {},
     "output_type": "display_data"
    },
    {
     "name": "stdout",
     "output_type": "stream",
     "text": [
      "[(1, 3, 84, 84), (1,), (1,), (1,), (1, 2)]\n",
      "(7,)\n",
      "(3, 84, 84)\n"
     ]
    },
    {
     "data": {
      "application/vnd.jupyter.widget-view+json": {
       "model_id": "9d45c916acff4264b97dea67fe50286b",
       "version_major": 2,
       "version_minor": 0
      },
      "text/plain": [
       "HBox(children=(Canvas(height=84, width=84),), layout=Layout(align_items='center', display='flex', flex_flow='r…"
      ]
     },
     "metadata": {},
     "output_type": "display_data"
    },
    {
     "name": "stdout",
     "output_type": "stream",
     "text": [
      "[(1, 3, 84, 84), (1,), (1,), (1,), (1, 2)]\n",
      "(7,)\n",
      "(3, 84, 84)\n"
     ]
    },
    {
     "data": {
      "application/vnd.jupyter.widget-view+json": {
       "model_id": "5f4eba47599947c2ae82d3f1f70c9105",
       "version_major": 2,
       "version_minor": 0
      },
      "text/plain": [
       "HBox(children=(Canvas(height=84, width=84),), layout=Layout(align_items='center', display='flex', flex_flow='r…"
      ]
     },
     "metadata": {},
     "output_type": "display_data"
    },
    {
     "name": "stdout",
     "output_type": "stream",
     "text": [
      "[(1, 3, 84, 84), (1,), (1,), (1,), (1, 2)]\n",
      "(7,)\n",
      "(3, 84, 84)\n"
     ]
    },
    {
     "data": {
      "application/vnd.jupyter.widget-view+json": {
       "model_id": "2a5f971e619148c6944394964380d984",
       "version_major": 2,
       "version_minor": 0
      },
      "text/plain": [
       "HBox(children=(Canvas(height=84, width=84),), layout=Layout(align_items='center', display='flex', flex_flow='r…"
      ]
     },
     "metadata": {},
     "output_type": "display_data"
    },
    {
     "name": "stdout",
     "output_type": "stream",
     "text": [
      "[(1, 3, 84, 84), (1,), (1,), (1,), (1, 2)]\n",
      "(7,)\n",
      "(3, 84, 84)\n"
     ]
    },
    {
     "data": {
      "application/vnd.jupyter.widget-view+json": {
       "model_id": "8bfa4d94ca434ba9b7ad174ac2b12502",
       "version_major": 2,
       "version_minor": 0
      },
      "text/plain": [
       "HBox(children=(Canvas(height=84, width=84),), layout=Layout(align_items='center', display='flex', flex_flow='r…"
      ]
     },
     "metadata": {},
     "output_type": "display_data"
    },
    {
     "name": "stdout",
     "output_type": "stream",
     "text": [
      "[(1, 3, 84, 84), (1,), (1,), (1,), (1, 2)]\n",
      "(7,)\n",
      "(3, 84, 84)\n"
     ]
    },
    {
     "data": {
      "application/vnd.jupyter.widget-view+json": {
       "model_id": "070d951bed744faca510398a36cb2d7f",
       "version_major": 2,
       "version_minor": 0
      },
      "text/plain": [
       "HBox(children=(Canvas(height=84, width=84),), layout=Layout(align_items='center', display='flex', flex_flow='r…"
      ]
     },
     "metadata": {},
     "output_type": "display_data"
    },
    {
     "name": "stdout",
     "output_type": "stream",
     "text": [
      "[(1, 3, 84, 84), (1,), (1,), (1,), (1, 2)]\n",
      "(7,)\n",
      "(3, 84, 84)\n"
     ]
    },
    {
     "data": {
      "application/vnd.jupyter.widget-view+json": {
       "model_id": "ca4e9ed3ed7b4439bcc1dd912bb545d6",
       "version_major": 2,
       "version_minor": 0
      },
      "text/plain": [
       "HBox(children=(Canvas(height=84, width=84),), layout=Layout(align_items='center', display='flex', flex_flow='r…"
      ]
     },
     "metadata": {},
     "output_type": "display_data"
    },
    {
     "name": "stdout",
     "output_type": "stream",
     "text": [
      "[(1, 3, 84, 84), (1,), (1,), (1,), (1, 2)]\n",
      "(7,)\n",
      "(3, 84, 84)\n"
     ]
    },
    {
     "data": {
      "application/vnd.jupyter.widget-view+json": {
       "model_id": "234291b3030b4251b1411effee1fbfc3",
       "version_major": 2,
       "version_minor": 0
      },
      "text/plain": [
       "HBox(children=(Canvas(height=84, width=84),), layout=Layout(align_items='center', display='flex', flex_flow='r…"
      ]
     },
     "metadata": {},
     "output_type": "display_data"
    },
    {
     "name": "stdout",
     "output_type": "stream",
     "text": [
      "[(1, 3, 84, 84), (1,), (1,), (1,), (1, 2)]\n",
      "(7,)\n",
      "(3, 84, 84)\n"
     ]
    },
    {
     "data": {
      "application/vnd.jupyter.widget-view+json": {
       "model_id": "0df8ca3e7ae045399179fce663643c94",
       "version_major": 2,
       "version_minor": 0
      },
      "text/plain": [
       "HBox(children=(Canvas(height=84, width=84),), layout=Layout(align_items='center', display='flex', flex_flow='r…"
      ]
     },
     "metadata": {},
     "output_type": "display_data"
    },
    {
     "name": "stdout",
     "output_type": "stream",
     "text": [
      "[(1, 3, 84, 84), (1,), (1,), (1,), (1, 2)]\n",
      "(7,)\n",
      "(3, 84, 84)\n"
     ]
    },
    {
     "data": {
      "application/vnd.jupyter.widget-view+json": {
       "model_id": "702055fd620647b9969d320be4b20e11",
       "version_major": 2,
       "version_minor": 0
      },
      "text/plain": [
       "HBox(children=(Canvas(height=84, width=84),), layout=Layout(align_items='center', display='flex', flex_flow='r…"
      ]
     },
     "metadata": {},
     "output_type": "display_data"
    },
    {
     "name": "stdout",
     "output_type": "stream",
     "text": [
      "[(1, 3, 84, 84), (1,), (1,), (1,), (1, 2)]\n",
      "(7,)\n",
      "(3, 84, 84)\n"
     ]
    },
    {
     "data": {
      "application/vnd.jupyter.widget-view+json": {
       "model_id": "3b7dd3b83c7d4deab092146e70707b7f",
       "version_major": 2,
       "version_minor": 0
      },
      "text/plain": [
       "HBox(children=(Canvas(height=84, width=84),), layout=Layout(align_items='center', display='flex', flex_flow='r…"
      ]
     },
     "metadata": {},
     "output_type": "display_data"
    },
    {
     "name": "stdout",
     "output_type": "stream",
     "text": [
      "[(1, 3, 84, 84), (1,), (1,), (1,), (1, 2)]\n",
      "(7,)\n",
      "(3, 84, 84)\n"
     ]
    },
    {
     "data": {
      "application/vnd.jupyter.widget-view+json": {
       "model_id": "4eb32ccb1338495f8904d0ed464cc2bf",
       "version_major": 2,
       "version_minor": 0
      },
      "text/plain": [
       "HBox(children=(Canvas(height=84, width=84),), layout=Layout(align_items='center', display='flex', flex_flow='r…"
      ]
     },
     "metadata": {},
     "output_type": "display_data"
    },
    {
     "name": "stdout",
     "output_type": "stream",
     "text": [
      "[(1, 3, 84, 84), (1,), (1,), (1,), (1, 2)]\n",
      "(7,)\n",
      "(3, 84, 84)\n"
     ]
    },
    {
     "data": {
      "application/vnd.jupyter.widget-view+json": {
       "model_id": "40cf06db2a034ed79fbddde4a6f929b2",
       "version_major": 2,
       "version_minor": 0
      },
      "text/plain": [
       "HBox(children=(Canvas(height=84, width=84),), layout=Layout(align_items='center', display='flex', flex_flow='r…"
      ]
     },
     "metadata": {},
     "output_type": "display_data"
    },
    {
     "name": "stdout",
     "output_type": "stream",
     "text": [
      "[(1, 3, 84, 84), (1,), (1,), (1,), (1, 2)]\n",
      "(7,)\n",
      "(3, 84, 84)\n"
     ]
    },
    {
     "data": {
      "application/vnd.jupyter.widget-view+json": {
       "model_id": "1b612d4a1b9545f3aeb329c1f3385a7d",
       "version_major": 2,
       "version_minor": 0
      },
      "text/plain": [
       "HBox(children=(Canvas(height=84, width=84),), layout=Layout(align_items='center', display='flex', flex_flow='r…"
      ]
     },
     "metadata": {},
     "output_type": "display_data"
    },
    {
     "name": "stdout",
     "output_type": "stream",
     "text": [
      "[(1, 3, 84, 84), (1,), (1,), (1,), (1, 2)]\n",
      "(7,)\n",
      "(3, 84, 84)\n"
     ]
    },
    {
     "data": {
      "application/vnd.jupyter.widget-view+json": {
       "model_id": "d6565d1f5b1e43938a47c831388ca0c1",
       "version_major": 2,
       "version_minor": 0
      },
      "text/plain": [
       "HBox(children=(Canvas(height=84, width=84),), layout=Layout(align_items='center', display='flex', flex_flow='r…"
      ]
     },
     "metadata": {},
     "output_type": "display_data"
    },
    {
     "name": "stdout",
     "output_type": "stream",
     "text": [
      "[(1, 3, 84, 84), (1,), (1,), (1,), (1, 2)]\n",
      "(7,)\n",
      "(3, 84, 84)\n"
     ]
    },
    {
     "data": {
      "application/vnd.jupyter.widget-view+json": {
       "model_id": "023cd8d26ba64d7e82601dbbe74d75ce",
       "version_major": 2,
       "version_minor": 0
      },
      "text/plain": [
       "HBox(children=(Canvas(height=84, width=84),), layout=Layout(align_items='center', display='flex', flex_flow='r…"
      ]
     },
     "metadata": {},
     "output_type": "display_data"
    },
    {
     "name": "stdout",
     "output_type": "stream",
     "text": [
      "[(1, 3, 84, 84), (1,), (1,), (1,), (1, 2)]\n",
      "(7,)\n",
      "(3, 84, 84)\n"
     ]
    },
    {
     "data": {
      "application/vnd.jupyter.widget-view+json": {
       "model_id": "38eef669060d46d4a82d84a9c1c86969",
       "version_major": 2,
       "version_minor": 0
      },
      "text/plain": [
       "HBox(children=(Canvas(height=84, width=84),), layout=Layout(align_items='center', display='flex', flex_flow='r…"
      ]
     },
     "metadata": {},
     "output_type": "display_data"
    },
    {
     "name": "stdout",
     "output_type": "stream",
     "text": [
      "[(1, 3, 84, 84), (1,), (1,), (1,), (1, 2)]\n",
      "(7,)\n",
      "(3, 84, 84)\n"
     ]
    },
    {
     "data": {
      "application/vnd.jupyter.widget-view+json": {
       "model_id": "0e2e724bcb284d1fa8bc9d57c30a11d7",
       "version_major": 2,
       "version_minor": 0
      },
      "text/plain": [
       "HBox(children=(Canvas(height=84, width=84),), layout=Layout(align_items='center', display='flex', flex_flow='r…"
      ]
     },
     "metadata": {},
     "output_type": "display_data"
    },
    {
     "name": "stdout",
     "output_type": "stream",
     "text": [
      "[(1, 3, 84, 84), (1,), (1,), (1,), (1, 2)]\n",
      "(7,)\n",
      "(3, 84, 84)\n"
     ]
    },
    {
     "data": {
      "application/vnd.jupyter.widget-view+json": {
       "model_id": "76b9a0752f4b4f82b18a24117419f6b2",
       "version_major": 2,
       "version_minor": 0
      },
      "text/plain": [
       "HBox(children=(Canvas(height=84, width=84),), layout=Layout(align_items='center', display='flex', flex_flow='r…"
      ]
     },
     "metadata": {},
     "output_type": "display_data"
    },
    {
     "name": "stdout",
     "output_type": "stream",
     "text": [
      "[(1, 3, 84, 84), (1,), (1,), (1,), (1, 2)]\n",
      "(7,)\n",
      "(3, 84, 84)\n"
     ]
    },
    {
     "data": {
      "application/vnd.jupyter.widget-view+json": {
       "model_id": "4b663f4a9a564d14b747077a851d232e",
       "version_major": 2,
       "version_minor": 0
      },
      "text/plain": [
       "HBox(children=(Canvas(height=84, width=84),), layout=Layout(align_items='center', display='flex', flex_flow='r…"
      ]
     },
     "metadata": {},
     "output_type": "display_data"
    },
    {
     "name": "stdout",
     "output_type": "stream",
     "text": [
      "[(1, 3, 84, 84), (1,), (1,), (1,), (1, 2)]\n",
      "(7,)\n",
      "(3, 84, 84)\n"
     ]
    },
    {
     "data": {
      "application/vnd.jupyter.widget-view+json": {
       "model_id": "e974bf88768246babe73fee6249cd7ed",
       "version_major": 2,
       "version_minor": 0
      },
      "text/plain": [
       "HBox(children=(Canvas(height=84, width=84),), layout=Layout(align_items='center', display='flex', flex_flow='r…"
      ]
     },
     "metadata": {},
     "output_type": "display_data"
    },
    {
     "name": "stdout",
     "output_type": "stream",
     "text": [
      "[(1, 3, 84, 84), (1,), (1,), (1,), (1, 2)]\n",
      "(7,)\n",
      "(3, 84, 84)\n"
     ]
    },
    {
     "data": {
      "application/vnd.jupyter.widget-view+json": {
       "model_id": "f8e4ec2f45fe45979dacd9bf9e135b95",
       "version_major": 2,
       "version_minor": 0
      },
      "text/plain": [
       "HBox(children=(Canvas(height=84, width=84),), layout=Layout(align_items='center', display='flex', flex_flow='r…"
      ]
     },
     "metadata": {},
     "output_type": "display_data"
    },
    {
     "name": "stdout",
     "output_type": "stream",
     "text": [
      "[(1, 3, 84, 84), (1,), (1,), (1,), (1, 2)]\n",
      "(7,)\n",
      "(3, 84, 84)\n"
     ]
    },
    {
     "data": {
      "application/vnd.jupyter.widget-view+json": {
       "model_id": "1fff4234f060494591e06ac8332e75fa",
       "version_major": 2,
       "version_minor": 0
      },
      "text/plain": [
       "HBox(children=(Canvas(height=84, width=84),), layout=Layout(align_items='center', display='flex', flex_flow='r…"
      ]
     },
     "metadata": {},
     "output_type": "display_data"
    },
    {
     "name": "stdout",
     "output_type": "stream",
     "text": [
      "[(1, 3, 84, 84), (1,), (1,), (1,), (1, 2)]\n",
      "(7,)\n",
      "(3, 84, 84)\n"
     ]
    },
    {
     "data": {
      "application/vnd.jupyter.widget-view+json": {
       "model_id": "1c85d52f509a4dce857896dc6697fb1a",
       "version_major": 2,
       "version_minor": 0
      },
      "text/plain": [
       "HBox(children=(Canvas(height=84, width=84),), layout=Layout(align_items='center', display='flex', flex_flow='r…"
      ]
     },
     "metadata": {},
     "output_type": "display_data"
    },
    {
     "name": "stdout",
     "output_type": "stream",
     "text": [
      "[(1, 3, 84, 84), (1,), (1,), (1,), (1, 2)]\n",
      "(7,)\n",
      "(3, 84, 84)\n"
     ]
    },
    {
     "data": {
      "application/vnd.jupyter.widget-view+json": {
       "model_id": "dd7cd9dc178442949d7bcb4505036b0f",
       "version_major": 2,
       "version_minor": 0
      },
      "text/plain": [
       "HBox(children=(Canvas(height=84, width=84),), layout=Layout(align_items='center', display='flex', flex_flow='r…"
      ]
     },
     "metadata": {},
     "output_type": "display_data"
    },
    {
     "name": "stdout",
     "output_type": "stream",
     "text": [
      "[(1, 3, 84, 84), (1,), (1,), (1,), (1, 2)]\n",
      "(7,)\n",
      "(3, 84, 84)\n"
     ]
    },
    {
     "data": {
      "application/vnd.jupyter.widget-view+json": {
       "model_id": "b0f5748d01f14911b3ac6e391d48a501",
       "version_major": 2,
       "version_minor": 0
      },
      "text/plain": [
       "HBox(children=(Canvas(height=84, width=84),), layout=Layout(align_items='center', display='flex', flex_flow='r…"
      ]
     },
     "metadata": {},
     "output_type": "display_data"
    },
    {
     "name": "stdout",
     "output_type": "stream",
     "text": [
      "[(1, 3, 84, 84), (1,), (1,), (1,), (1, 2)]\n",
      "(7,)\n",
      "(3, 84, 84)\n"
     ]
    },
    {
     "data": {
      "application/vnd.jupyter.widget-view+json": {
       "model_id": "08b02d432bb84e48acf7f5bacc2a491d",
       "version_major": 2,
       "version_minor": 0
      },
      "text/plain": [
       "HBox(children=(Canvas(height=84, width=84),), layout=Layout(align_items='center', display='flex', flex_flow='r…"
      ]
     },
     "metadata": {},
     "output_type": "display_data"
    },
    {
     "name": "stdout",
     "output_type": "stream",
     "text": [
      "[(1, 3, 84, 84), (1,), (1,), (1,), (1, 2)]\n",
      "(7,)\n",
      "(3, 84, 84)\n"
     ]
    },
    {
     "data": {
      "application/vnd.jupyter.widget-view+json": {
       "model_id": "da8805268c4348cca5fb4eaf4bcb84b3",
       "version_major": 2,
       "version_minor": 0
      },
      "text/plain": [
       "HBox(children=(Canvas(height=84, width=84),), layout=Layout(align_items='center', display='flex', flex_flow='r…"
      ]
     },
     "metadata": {},
     "output_type": "display_data"
    },
    {
     "name": "stdout",
     "output_type": "stream",
     "text": [
      "[(1, 3, 84, 84), (1,), (1,), (1,), (1, 2)]\n",
      "(7,)\n",
      "(3, 84, 84)\n"
     ]
    },
    {
     "data": {
      "application/vnd.jupyter.widget-view+json": {
       "model_id": "df8c1f29d34f4e11be2231acd14bab82",
       "version_major": 2,
       "version_minor": 0
      },
      "text/plain": [
       "HBox(children=(Canvas(height=84, width=84),), layout=Layout(align_items='center', display='flex', flex_flow='r…"
      ]
     },
     "metadata": {},
     "output_type": "display_data"
    },
    {
     "name": "stdout",
     "output_type": "stream",
     "text": [
      "[(1, 3, 84, 84), (1,), (1,), (1,), (1, 2)]\n",
      "(7,)\n",
      "(3, 84, 84)\n"
     ]
    },
    {
     "data": {
      "application/vnd.jupyter.widget-view+json": {
       "model_id": "06fd29093d104d90b2bcd4555be2944e",
       "version_major": 2,
       "version_minor": 0
      },
      "text/plain": [
       "HBox(children=(Canvas(height=84, width=84),), layout=Layout(align_items='center', display='flex', flex_flow='r…"
      ]
     },
     "metadata": {},
     "output_type": "display_data"
    },
    {
     "name": "stdout",
     "output_type": "stream",
     "text": [
      "[(1, 3, 84, 84), (1,), (1,), (1,), (1, 2)]\n",
      "(7,)\n",
      "(3, 84, 84)\n"
     ]
    },
    {
     "data": {
      "application/vnd.jupyter.widget-view+json": {
       "model_id": "ff8af91c4ba544adb6cc0aab78924149",
       "version_major": 2,
       "version_minor": 0
      },
      "text/plain": [
       "HBox(children=(Canvas(height=84, width=84),), layout=Layout(align_items='center', display='flex', flex_flow='r…"
      ]
     },
     "metadata": {},
     "output_type": "display_data"
    },
    {
     "name": "stdout",
     "output_type": "stream",
     "text": [
      "[(1, 3, 84, 84), (1,), (1,), (1,), (1, 2)]\n",
      "(7,)\n",
      "(3, 84, 84)\n"
     ]
    },
    {
     "data": {
      "application/vnd.jupyter.widget-view+json": {
       "model_id": "367cba79302448e68a8ba663045b973b",
       "version_major": 2,
       "version_minor": 0
      },
      "text/plain": [
       "HBox(children=(Canvas(height=84, width=84),), layout=Layout(align_items='center', display='flex', flex_flow='r…"
      ]
     },
     "metadata": {},
     "output_type": "display_data"
    },
    {
     "name": "stdout",
     "output_type": "stream",
     "text": [
      "[(1, 3, 84, 84), (1,), (1,), (1,), (1, 2)]\n",
      "(7,)\n",
      "(3, 84, 84)\n"
     ]
    },
    {
     "data": {
      "application/vnd.jupyter.widget-view+json": {
       "model_id": "68d303699f9a434ba9a804d910dd29ea",
       "version_major": 2,
       "version_minor": 0
      },
      "text/plain": [
       "HBox(children=(Canvas(height=84, width=84),), layout=Layout(align_items='center', display='flex', flex_flow='r…"
      ]
     },
     "metadata": {},
     "output_type": "display_data"
    },
    {
     "name": "stdout",
     "output_type": "stream",
     "text": [
      "[(1, 3, 84, 84), (1,), (1,), (1,), (1, 2)]\n",
      "(7,)\n",
      "(3, 84, 84)\n"
     ]
    },
    {
     "data": {
      "application/vnd.jupyter.widget-view+json": {
       "model_id": "dc48680541f54eb3af6383a8e79f95c2",
       "version_major": 2,
       "version_minor": 0
      },
      "text/plain": [
       "HBox(children=(Canvas(height=84, width=84),), layout=Layout(align_items='center', display='flex', flex_flow='r…"
      ]
     },
     "metadata": {},
     "output_type": "display_data"
    },
    {
     "name": "stdout",
     "output_type": "stream",
     "text": [
      "[(1, 3, 84, 84), (1,), (1,), (1,), (1, 2)]\n",
      "(7,)\n",
      "(3, 84, 84)\n"
     ]
    },
    {
     "data": {
      "application/vnd.jupyter.widget-view+json": {
       "model_id": "603370e3a71b4d3faad1245229ef8f82",
       "version_major": 2,
       "version_minor": 0
      },
      "text/plain": [
       "HBox(children=(Canvas(height=84, width=84),), layout=Layout(align_items='center', display='flex', flex_flow='r…"
      ]
     },
     "metadata": {},
     "output_type": "display_data"
    },
    {
     "name": "stdout",
     "output_type": "stream",
     "text": [
      "[(1, 3, 84, 84), (1,), (1,), (1,), (1, 2)]\n",
      "(7,)\n",
      "(3, 84, 84)\n"
     ]
    },
    {
     "data": {
      "application/vnd.jupyter.widget-view+json": {
       "model_id": "8d3e2cca3a1f48f38ae1e644630913de",
       "version_major": 2,
       "version_minor": 0
      },
      "text/plain": [
       "HBox(children=(Canvas(height=84, width=84),), layout=Layout(align_items='center', display='flex', flex_flow='r…"
      ]
     },
     "metadata": {},
     "output_type": "display_data"
    },
    {
     "name": "stdout",
     "output_type": "stream",
     "text": [
      "[(1, 3, 84, 84), (1,), (1,), (1,), (1, 2)]\n",
      "(7,)\n",
      "(3, 84, 84)\n"
     ]
    },
    {
     "data": {
      "application/vnd.jupyter.widget-view+json": {
       "model_id": "c986cbdd43f543b6b4f8b6ea38a04fde",
       "version_major": 2,
       "version_minor": 0
      },
      "text/plain": [
       "HBox(children=(Canvas(height=84, width=84),), layout=Layout(align_items='center', display='flex', flex_flow='r…"
      ]
     },
     "metadata": {},
     "output_type": "display_data"
    },
    {
     "name": "stdout",
     "output_type": "stream",
     "text": [
      "[(1, 3, 84, 84), (1,), (1,), (1,), (1, 2)]\n",
      "(7,)\n",
      "(3, 84, 84)\n"
     ]
    },
    {
     "data": {
      "application/vnd.jupyter.widget-view+json": {
       "model_id": "4c46379a0fb44a7994548b9c05e36804",
       "version_major": 2,
       "version_minor": 0
      },
      "text/plain": [
       "HBox(children=(Canvas(height=84, width=84),), layout=Layout(align_items='center', display='flex', flex_flow='r…"
      ]
     },
     "metadata": {},
     "output_type": "display_data"
    },
    {
     "name": "stdout",
     "output_type": "stream",
     "text": [
      "[(1, 3, 84, 84), (1,), (1,), (1,), (1, 2)]\n",
      "(7,)\n",
      "(3, 84, 84)\n"
     ]
    },
    {
     "data": {
      "application/vnd.jupyter.widget-view+json": {
       "model_id": "451c151f0aa2497490d6028c0568d89f",
       "version_major": 2,
       "version_minor": 0
      },
      "text/plain": [
       "HBox(children=(Canvas(height=84, width=84),), layout=Layout(align_items='center', display='flex', flex_flow='r…"
      ]
     },
     "metadata": {},
     "output_type": "display_data"
    },
    {
     "name": "stdout",
     "output_type": "stream",
     "text": [
      "[(1, 3, 84, 84), (1,), (1,), (1,), (1, 2)]\n",
      "(7,)\n",
      "(3, 84, 84)\n"
     ]
    },
    {
     "data": {
      "application/vnd.jupyter.widget-view+json": {
       "model_id": "137745a063614629b8c95150aa0e2b77",
       "version_major": 2,
       "version_minor": 0
      },
      "text/plain": [
       "HBox(children=(Canvas(height=84, width=84),), layout=Layout(align_items='center', display='flex', flex_flow='r…"
      ]
     },
     "metadata": {},
     "output_type": "display_data"
    },
    {
     "name": "stdout",
     "output_type": "stream",
     "text": [
      "[(1, 3, 84, 84), (1,), (1,), (1,), (1, 2)]\n",
      "(7,)\n",
      "(3, 84, 84)\n"
     ]
    },
    {
     "data": {
      "application/vnd.jupyter.widget-view+json": {
       "model_id": "eb95ab46e9f44ccaafd71585ac6465b4",
       "version_major": 2,
       "version_minor": 0
      },
      "text/plain": [
       "HBox(children=(Canvas(height=84, width=84),), layout=Layout(align_items='center', display='flex', flex_flow='r…"
      ]
     },
     "metadata": {},
     "output_type": "display_data"
    },
    {
     "name": "stdout",
     "output_type": "stream",
     "text": [
      "[(1, 3, 84, 84), (1,), (1,), (1,), (1, 2)]\n",
      "(7,)\n",
      "(3, 84, 84)\n"
     ]
    },
    {
     "data": {
      "application/vnd.jupyter.widget-view+json": {
       "model_id": "6dba001d37c3465f915fe5fbdce955ba",
       "version_major": 2,
       "version_minor": 0
      },
      "text/plain": [
       "HBox(children=(Canvas(height=84, width=84),), layout=Layout(align_items='center', display='flex', flex_flow='r…"
      ]
     },
     "metadata": {},
     "output_type": "display_data"
    },
    {
     "name": "stdout",
     "output_type": "stream",
     "text": [
      "[(1, 3, 84, 84), (1,), (1,), (1,), (1, 2)]\n",
      "(7,)\n",
      "(3, 84, 84)\n"
     ]
    },
    {
     "data": {
      "application/vnd.jupyter.widget-view+json": {
       "model_id": "45164e46450e43eaac3581a19f5fd33f",
       "version_major": 2,
       "version_minor": 0
      },
      "text/plain": [
       "HBox(children=(Canvas(height=84, width=84),), layout=Layout(align_items='center', display='flex', flex_flow='r…"
      ]
     },
     "metadata": {},
     "output_type": "display_data"
    },
    {
     "name": "stdout",
     "output_type": "stream",
     "text": [
      "[(1, 3, 84, 84), (1,), (1,), (1,), (1, 2)]\n",
      "(7,)\n",
      "(3, 84, 84)\n"
     ]
    },
    {
     "data": {
      "application/vnd.jupyter.widget-view+json": {
       "model_id": "f214f310abee4893b86d250c693f3db4",
       "version_major": 2,
       "version_minor": 0
      },
      "text/plain": [
       "HBox(children=(Canvas(height=84, width=84),), layout=Layout(align_items='center', display='flex', flex_flow='r…"
      ]
     },
     "metadata": {},
     "output_type": "display_data"
    },
    {
     "name": "stdout",
     "output_type": "stream",
     "text": [
      "[(1, 3, 84, 84), (1,), (1,), (1,), (1, 2)]\n",
      "(7,)\n",
      "(3, 84, 84)\n"
     ]
    },
    {
     "data": {
      "application/vnd.jupyter.widget-view+json": {
       "model_id": "3cf407dd192544b0a7c8fa70efa41903",
       "version_major": 2,
       "version_minor": 0
      },
      "text/plain": [
       "HBox(children=(Canvas(height=84, width=84),), layout=Layout(align_items='center', display='flex', flex_flow='r…"
      ]
     },
     "metadata": {},
     "output_type": "display_data"
    },
    {
     "name": "stdout",
     "output_type": "stream",
     "text": [
      "[(1, 3, 84, 84), (1,), (1,), (1,), (1, 2)]\n",
      "(7,)\n",
      "(3, 84, 84)\n"
     ]
    },
    {
     "data": {
      "application/vnd.jupyter.widget-view+json": {
       "model_id": "3ccb71689b134a1a8406d4b0bfb1b3b4",
       "version_major": 2,
       "version_minor": 0
      },
      "text/plain": [
       "HBox(children=(Canvas(height=84, width=84),), layout=Layout(align_items='center', display='flex', flex_flow='r…"
      ]
     },
     "metadata": {},
     "output_type": "display_data"
    },
    {
     "name": "stdout",
     "output_type": "stream",
     "text": [
      "[(1, 3, 84, 84), (1,), (1,), (1,), (1, 2)]\n",
      "(7,)\n",
      "(3, 84, 84)\n"
     ]
    },
    {
     "data": {
      "application/vnd.jupyter.widget-view+json": {
       "model_id": "aed3a26228744f17a438335cf41e657f",
       "version_major": 2,
       "version_minor": 0
      },
      "text/plain": [
       "HBox(children=(Canvas(height=84, width=84),), layout=Layout(align_items='center', display='flex', flex_flow='r…"
      ]
     },
     "metadata": {},
     "output_type": "display_data"
    },
    {
     "name": "stdout",
     "output_type": "stream",
     "text": [
      "[(1, 3, 84, 84), (1,), (1,), (1,), (1, 2)]\n",
      "(7,)\n",
      "(3, 84, 84)\n"
     ]
    },
    {
     "data": {
      "application/vnd.jupyter.widget-view+json": {
       "model_id": "e6b1be6304ef494ba037930aa1d1fd01",
       "version_major": 2,
       "version_minor": 0
      },
      "text/plain": [
       "HBox(children=(Canvas(height=84, width=84),), layout=Layout(align_items='center', display='flex', flex_flow='r…"
      ]
     },
     "metadata": {},
     "output_type": "display_data"
    },
    {
     "name": "stdout",
     "output_type": "stream",
     "text": [
      "[(1, 3, 84, 84), (1,), (1,), (1,), (1, 2)]\n",
      "(7,)\n",
      "(3, 84, 84)\n"
     ]
    },
    {
     "data": {
      "application/vnd.jupyter.widget-view+json": {
       "model_id": "4cb5d97d1a9341b8afe6cf87a3531bfb",
       "version_major": 2,
       "version_minor": 0
      },
      "text/plain": [
       "HBox(children=(Canvas(height=84, width=84),), layout=Layout(align_items='center', display='flex', flex_flow='r…"
      ]
     },
     "metadata": {},
     "output_type": "display_data"
    },
    {
     "name": "stdout",
     "output_type": "stream",
     "text": [
      "[(1, 3, 84, 84), (1,), (1,), (1,), (1, 2)]\n",
      "(7,)\n",
      "(3, 84, 84)\n"
     ]
    },
    {
     "data": {
      "application/vnd.jupyter.widget-view+json": {
       "model_id": "3b43ded98847430d9681711a7a8df774",
       "version_major": 2,
       "version_minor": 0
      },
      "text/plain": [
       "HBox(children=(Canvas(height=84, width=84),), layout=Layout(align_items='center', display='flex', flex_flow='r…"
      ]
     },
     "metadata": {},
     "output_type": "display_data"
    },
    {
     "name": "stdout",
     "output_type": "stream",
     "text": [
      "[(1, 3, 84, 84), (1,), (1,), (1,), (1, 2)]\n",
      "(7,)\n",
      "(3, 84, 84)\n"
     ]
    },
    {
     "data": {
      "application/vnd.jupyter.widget-view+json": {
       "model_id": "ccbd4a86e80d4491b30ae3d9b9762fcc",
       "version_major": 2,
       "version_minor": 0
      },
      "text/plain": [
       "HBox(children=(Canvas(height=84, width=84),), layout=Layout(align_items='center', display='flex', flex_flow='r…"
      ]
     },
     "metadata": {},
     "output_type": "display_data"
    },
    {
     "name": "stdout",
     "output_type": "stream",
     "text": [
      "[(1, 3, 84, 84), (1,), (1,), (1,), (1, 2)]\n",
      "(7,)\n",
      "(3, 84, 84)\n"
     ]
    },
    {
     "data": {
      "application/vnd.jupyter.widget-view+json": {
       "model_id": "07d53b1f0e8e46cfbfa71715034cbe4d",
       "version_major": 2,
       "version_minor": 0
      },
      "text/plain": [
       "HBox(children=(Canvas(height=84, width=84),), layout=Layout(align_items='center', display='flex', flex_flow='r…"
      ]
     },
     "metadata": {},
     "output_type": "display_data"
    },
    {
     "name": "stdout",
     "output_type": "stream",
     "text": [
      "[(1, 3, 84, 84), (1,), (1,), (1,), (1, 2)]\n",
      "(7,)\n",
      "(3, 84, 84)\n"
     ]
    },
    {
     "data": {
      "application/vnd.jupyter.widget-view+json": {
       "model_id": "e81d421428954ac6b6fda992e0bfb36a",
       "version_major": 2,
       "version_minor": 0
      },
      "text/plain": [
       "HBox(children=(Canvas(height=84, width=84),), layout=Layout(align_items='center', display='flex', flex_flow='r…"
      ]
     },
     "metadata": {},
     "output_type": "display_data"
    },
    {
     "name": "stdout",
     "output_type": "stream",
     "text": [
      "[(1, 3, 84, 84), (1,), (1,), (1,), (1, 2)]\n",
      "(7,)\n",
      "(3, 84, 84)\n"
     ]
    },
    {
     "data": {
      "application/vnd.jupyter.widget-view+json": {
       "model_id": "ed39c0d08857474183febe19b3e2de49",
       "version_major": 2,
       "version_minor": 0
      },
      "text/plain": [
       "HBox(children=(Canvas(height=84, width=84),), layout=Layout(align_items='center', display='flex', flex_flow='r…"
      ]
     },
     "metadata": {},
     "output_type": "display_data"
    },
    {
     "name": "stdout",
     "output_type": "stream",
     "text": [
      "[(1, 3, 84, 84), (1,), (1,), (1,), (1, 2)]\n",
      "(7,)\n",
      "(3, 84, 84)\n"
     ]
    },
    {
     "data": {
      "application/vnd.jupyter.widget-view+json": {
       "model_id": "a5421a28d5c04540aa4acfaee1fc56c4",
       "version_major": 2,
       "version_minor": 0
      },
      "text/plain": [
       "HBox(children=(Canvas(height=84, width=84),), layout=Layout(align_items='center', display='flex', flex_flow='r…"
      ]
     },
     "metadata": {},
     "output_type": "display_data"
    },
    {
     "name": "stdout",
     "output_type": "stream",
     "text": [
      "[(1, 3, 84, 84), (1,), (1,), (1,), (1, 2)]\n",
      "(7,)\n",
      "(3, 84, 84)\n"
     ]
    },
    {
     "data": {
      "application/vnd.jupyter.widget-view+json": {
       "model_id": "b3b8241ed7ef4d47b5428e6ff16d8234",
       "version_major": 2,
       "version_minor": 0
      },
      "text/plain": [
       "HBox(children=(Canvas(height=84, width=84),), layout=Layout(align_items='center', display='flex', flex_flow='r…"
      ]
     },
     "metadata": {},
     "output_type": "display_data"
    },
    {
     "name": "stdout",
     "output_type": "stream",
     "text": [
      "[(1, 3, 84, 84), (1,), (1,), (1,), (1, 2)]\n",
      "(7,)\n",
      "(3, 84, 84)\n"
     ]
    },
    {
     "data": {
      "application/vnd.jupyter.widget-view+json": {
       "model_id": "604407e2597840508d2d6960b8d04c1f",
       "version_major": 2,
       "version_minor": 0
      },
      "text/plain": [
       "HBox(children=(Canvas(height=84, width=84),), layout=Layout(align_items='center', display='flex', flex_flow='r…"
      ]
     },
     "metadata": {},
     "output_type": "display_data"
    },
    {
     "name": "stdout",
     "output_type": "stream",
     "text": [
      "[(1, 3, 84, 84), (1,), (1,), (1,), (1, 2)]\n",
      "(7,)\n",
      "(3, 84, 84)\n"
     ]
    },
    {
     "data": {
      "application/vnd.jupyter.widget-view+json": {
       "model_id": "0d51dd71e331418a8554968b0ba32d4c",
       "version_major": 2,
       "version_minor": 0
      },
      "text/plain": [
       "HBox(children=(Canvas(height=84, width=84),), layout=Layout(align_items='center', display='flex', flex_flow='r…"
      ]
     },
     "metadata": {},
     "output_type": "display_data"
    },
    {
     "name": "stdout",
     "output_type": "stream",
     "text": [
      "[(1, 3, 84, 84), (1,), (1,), (1,), (1, 2)]\n",
      "(7,)\n",
      "(3, 84, 84)\n"
     ]
    },
    {
     "data": {
      "application/vnd.jupyter.widget-view+json": {
       "model_id": "c9d50a48f9484380bef798c6b5f50a5b",
       "version_major": 2,
       "version_minor": 0
      },
      "text/plain": [
       "HBox(children=(Canvas(height=84, width=84),), layout=Layout(align_items='center', display='flex', flex_flow='r…"
      ]
     },
     "metadata": {},
     "output_type": "display_data"
    },
    {
     "name": "stdout",
     "output_type": "stream",
     "text": [
      "[(1, 3, 84, 84), (1,), (1,), (1,), (1, 2)]\n",
      "(7,)\n",
      "(3, 84, 84)\n"
     ]
    },
    {
     "data": {
      "application/vnd.jupyter.widget-view+json": {
       "model_id": "08a3238d2372485cbb745d916cb6b320",
       "version_major": 2,
       "version_minor": 0
      },
      "text/plain": [
       "HBox(children=(Canvas(height=84, width=84),), layout=Layout(align_items='center', display='flex', flex_flow='r…"
      ]
     },
     "metadata": {},
     "output_type": "display_data"
    },
    {
     "name": "stdout",
     "output_type": "stream",
     "text": [
      "[(1, 3, 84, 84), (1,), (1,), (1,), (1, 2)]\n",
      "(7,)\n",
      "(3, 84, 84)\n"
     ]
    },
    {
     "data": {
      "application/vnd.jupyter.widget-view+json": {
       "model_id": "6377f843959f4b08aa593a05bb480851",
       "version_major": 2,
       "version_minor": 0
      },
      "text/plain": [
       "HBox(children=(Canvas(height=84, width=84),), layout=Layout(align_items='center', display='flex', flex_flow='r…"
      ]
     },
     "metadata": {},
     "output_type": "display_data"
    },
    {
     "name": "stdout",
     "output_type": "stream",
     "text": [
      "[(1, 3, 84, 84), (1,), (1,), (1,), (1, 2)]\n",
      "(7,)\n",
      "(3, 84, 84)\n"
     ]
    },
    {
     "data": {
      "application/vnd.jupyter.widget-view+json": {
       "model_id": "62fecd9a690240988af8f4df13e70b8b",
       "version_major": 2,
       "version_minor": 0
      },
      "text/plain": [
       "HBox(children=(Canvas(height=84, width=84),), layout=Layout(align_items='center', display='flex', flex_flow='r…"
      ]
     },
     "metadata": {},
     "output_type": "display_data"
    },
    {
     "name": "stdout",
     "output_type": "stream",
     "text": [
      "[(1, 3, 84, 84), (1,), (1,), (1,), (1, 2)]\n",
      "(7,)\n",
      "(3, 84, 84)\n"
     ]
    },
    {
     "data": {
      "application/vnd.jupyter.widget-view+json": {
       "model_id": "8566ac811d9d489bae913bb15e36c870",
       "version_major": 2,
       "version_minor": 0
      },
      "text/plain": [
       "HBox(children=(Canvas(height=84, width=84),), layout=Layout(align_items='center', display='flex', flex_flow='r…"
      ]
     },
     "metadata": {},
     "output_type": "display_data"
    },
    {
     "name": "stdout",
     "output_type": "stream",
     "text": [
      "[(1, 3, 84, 84), (1,), (1,), (1,), (1, 2)]\n",
      "(7,)\n",
      "(3, 84, 84)\n"
     ]
    },
    {
     "data": {
      "application/vnd.jupyter.widget-view+json": {
       "model_id": "f629ad81cc9545cea71255f5e044ec15",
       "version_major": 2,
       "version_minor": 0
      },
      "text/plain": [
       "HBox(children=(Canvas(height=84, width=84),), layout=Layout(align_items='center', display='flex', flex_flow='r…"
      ]
     },
     "metadata": {},
     "output_type": "display_data"
    },
    {
     "name": "stdout",
     "output_type": "stream",
     "text": [
      "[(1, 3, 84, 84), (1,), (1,), (1,), (1, 2)]\n",
      "(7,)\n",
      "(3, 84, 84)\n"
     ]
    },
    {
     "data": {
      "application/vnd.jupyter.widget-view+json": {
       "model_id": "b1ece7a871834d64bc55119836b9de7d",
       "version_major": 2,
       "version_minor": 0
      },
      "text/plain": [
       "HBox(children=(Canvas(height=84, width=84),), layout=Layout(align_items='center', display='flex', flex_flow='r…"
      ]
     },
     "metadata": {},
     "output_type": "display_data"
    },
    {
     "name": "stdout",
     "output_type": "stream",
     "text": [
      "[(1, 3, 84, 84), (1,), (1,), (1,), (1, 2)]\n",
      "(7,)\n",
      "(3, 84, 84)\n"
     ]
    },
    {
     "data": {
      "application/vnd.jupyter.widget-view+json": {
       "model_id": "f449f726169c441eaea25d454e0ae27e",
       "version_major": 2,
       "version_minor": 0
      },
      "text/plain": [
       "HBox(children=(Canvas(height=84, width=84),), layout=Layout(align_items='center', display='flex', flex_flow='r…"
      ]
     },
     "metadata": {},
     "output_type": "display_data"
    },
    {
     "name": "stdout",
     "output_type": "stream",
     "text": [
      "[(1, 3, 84, 84), (1,), (1,), (1,), (1, 2)]\n",
      "(7,)\n",
      "(3, 84, 84)\n"
     ]
    },
    {
     "data": {
      "application/vnd.jupyter.widget-view+json": {
       "model_id": "7b8ef07b6468416d970c92df567aa569",
       "version_major": 2,
       "version_minor": 0
      },
      "text/plain": [
       "HBox(children=(Canvas(height=84, width=84),), layout=Layout(align_items='center', display='flex', flex_flow='r…"
      ]
     },
     "metadata": {},
     "output_type": "display_data"
    },
    {
     "name": "stdout",
     "output_type": "stream",
     "text": [
      "[(1, 3, 84, 84), (1,), (1,), (1,), (1, 2)]\n",
      "(7,)\n",
      "(3, 84, 84)\n"
     ]
    },
    {
     "data": {
      "application/vnd.jupyter.widget-view+json": {
       "model_id": "e2a3ccfad37042eab23d6f86a87a4655",
       "version_major": 2,
       "version_minor": 0
      },
      "text/plain": [
       "HBox(children=(Canvas(height=84, width=84),), layout=Layout(align_items='center', display='flex', flex_flow='r…"
      ]
     },
     "metadata": {},
     "output_type": "display_data"
    },
    {
     "name": "stdout",
     "output_type": "stream",
     "text": [
      "[(1, 3, 84, 84), (1,), (1,), (1,), (1, 2)]\n",
      "(7,)\n",
      "(3, 84, 84)\n"
     ]
    },
    {
     "data": {
      "application/vnd.jupyter.widget-view+json": {
       "model_id": "b4f0225f53274bd1abf281199803d2d6",
       "version_major": 2,
       "version_minor": 0
      },
      "text/plain": [
       "HBox(children=(Canvas(height=84, width=84),), layout=Layout(align_items='center', display='flex', flex_flow='r…"
      ]
     },
     "metadata": {},
     "output_type": "display_data"
    },
    {
     "name": "stdout",
     "output_type": "stream",
     "text": [
      "[(1, 3, 84, 84), (1,), (1,), (1,), (1, 2)]\n",
      "(7,)\n",
      "(3, 84, 84)\n"
     ]
    },
    {
     "data": {
      "application/vnd.jupyter.widget-view+json": {
       "model_id": "de71981c90564505b751db9e7fd7130c",
       "version_major": 2,
       "version_minor": 0
      },
      "text/plain": [
       "HBox(children=(Canvas(height=84, width=84),), layout=Layout(align_items='center', display='flex', flex_flow='r…"
      ]
     },
     "metadata": {},
     "output_type": "display_data"
    },
    {
     "name": "stdout",
     "output_type": "stream",
     "text": [
      "[(1, 3, 84, 84), (1,), (1,), (1,), (1, 2)]\n",
      "(7,)\n",
      "(3, 84, 84)\n"
     ]
    },
    {
     "data": {
      "application/vnd.jupyter.widget-view+json": {
       "model_id": "a306f15c6e8343b2938b2715ace94459",
       "version_major": 2,
       "version_minor": 0
      },
      "text/plain": [
       "HBox(children=(Canvas(height=84, width=84),), layout=Layout(align_items='center', display='flex', flex_flow='r…"
      ]
     },
     "metadata": {},
     "output_type": "display_data"
    },
    {
     "name": "stdout",
     "output_type": "stream",
     "text": [
      "[(1, 3, 84, 84), (1,), (1,), (1,), (1, 2)]\n",
      "(7,)\n",
      "(3, 84, 84)\n"
     ]
    },
    {
     "data": {
      "application/vnd.jupyter.widget-view+json": {
       "model_id": "41a4b3fb7bd24d00a81c4d9ef6efa3c0",
       "version_major": 2,
       "version_minor": 0
      },
      "text/plain": [
       "HBox(children=(Canvas(height=84, width=84),), layout=Layout(align_items='center', display='flex', flex_flow='r…"
      ]
     },
     "metadata": {},
     "output_type": "display_data"
    },
    {
     "name": "stdout",
     "output_type": "stream",
     "text": [
      "[(1, 3, 84, 84), (1,), (1,), (1,), (1, 2)]\n",
      "(7,)\n",
      "(3, 84, 84)\n"
     ]
    },
    {
     "data": {
      "application/vnd.jupyter.widget-view+json": {
       "model_id": "032f4f551137462095b7d053011b7583",
       "version_major": 2,
       "version_minor": 0
      },
      "text/plain": [
       "HBox(children=(Canvas(height=84, width=84),), layout=Layout(align_items='center', display='flex', flex_flow='r…"
      ]
     },
     "metadata": {},
     "output_type": "display_data"
    },
    {
     "name": "stdout",
     "output_type": "stream",
     "text": [
      "[(1, 3, 84, 84), (1,), (1,), (1,), (1, 2)]\n",
      "(7,)\n",
      "(3, 84, 84)\n"
     ]
    },
    {
     "data": {
      "application/vnd.jupyter.widget-view+json": {
       "model_id": "64e1c4a762ee4ee5b8fcaef5ed536df1",
       "version_major": 2,
       "version_minor": 0
      },
      "text/plain": [
       "HBox(children=(Canvas(height=84, width=84),), layout=Layout(align_items='center', display='flex', flex_flow='r…"
      ]
     },
     "metadata": {},
     "output_type": "display_data"
    },
    {
     "name": "stdout",
     "output_type": "stream",
     "text": [
      "[(1, 3, 84, 84), (1,), (1,), (1,), (1, 2)]\n",
      "(7,)\n",
      "(3, 84, 84)\n"
     ]
    },
    {
     "data": {
      "application/vnd.jupyter.widget-view+json": {
       "model_id": "eee0f0de83b340018ea99d7032b8ad70",
       "version_major": 2,
       "version_minor": 0
      },
      "text/plain": [
       "HBox(children=(Canvas(height=84, width=84),), layout=Layout(align_items='center', display='flex', flex_flow='r…"
      ]
     },
     "metadata": {},
     "output_type": "display_data"
    },
    {
     "name": "stdout",
     "output_type": "stream",
     "text": [
      "[(1, 3, 84, 84), (1,), (1,), (1,), (1, 2)]\n",
      "(7,)\n",
      "(3, 84, 84)\n"
     ]
    },
    {
     "data": {
      "application/vnd.jupyter.widget-view+json": {
       "model_id": "1213ad4000804b25a8bcc20a11d7f0a3",
       "version_major": 2,
       "version_minor": 0
      },
      "text/plain": [
       "HBox(children=(Canvas(height=84, width=84),), layout=Layout(align_items='center', display='flex', flex_flow='r…"
      ]
     },
     "metadata": {},
     "output_type": "display_data"
    },
    {
     "name": "stdout",
     "output_type": "stream",
     "text": [
      "[(1, 3, 84, 84), (1,), (1,), (1,), (1, 2)]\n",
      "(7,)\n",
      "(3, 84, 84)\n"
     ]
    },
    {
     "data": {
      "application/vnd.jupyter.widget-view+json": {
       "model_id": "704ce5cf49a049378639401286047bcb",
       "version_major": 2,
       "version_minor": 0
      },
      "text/plain": [
       "HBox(children=(Canvas(height=84, width=84),), layout=Layout(align_items='center', display='flex', flex_flow='r…"
      ]
     },
     "metadata": {},
     "output_type": "display_data"
    },
    {
     "name": "stdout",
     "output_type": "stream",
     "text": [
      "[(1, 3, 84, 84), (1,), (1,), (1,), (1, 2)]\n",
      "(7,)\n",
      "(3, 84, 84)\n"
     ]
    },
    {
     "data": {
      "application/vnd.jupyter.widget-view+json": {
       "model_id": "67f04620d84a44c29e4416353582eed8",
       "version_major": 2,
       "version_minor": 0
      },
      "text/plain": [
       "HBox(children=(Canvas(height=84, width=84),), layout=Layout(align_items='center', display='flex', flex_flow='r…"
      ]
     },
     "metadata": {},
     "output_type": "display_data"
    },
    {
     "name": "stdout",
     "output_type": "stream",
     "text": [
      "[(1, 3, 84, 84), (1,), (1,), (1,), (1, 2)]\n",
      "(7,)\n",
      "(3, 84, 84)\n"
     ]
    },
    {
     "data": {
      "application/vnd.jupyter.widget-view+json": {
       "model_id": "bf6e0a72d6a24d56a40ba3b4cb92bd09",
       "version_major": 2,
       "version_minor": 0
      },
      "text/plain": [
       "HBox(children=(Canvas(height=84, width=84),), layout=Layout(align_items='center', display='flex', flex_flow='r…"
      ]
     },
     "metadata": {},
     "output_type": "display_data"
    },
    {
     "name": "stdout",
     "output_type": "stream",
     "text": [
      "[(1, 3, 84, 84), (1,), (1,), (1,), (1, 2)]\n",
      "(7,)\n",
      "(3, 84, 84)\n"
     ]
    },
    {
     "data": {
      "application/vnd.jupyter.widget-view+json": {
       "model_id": "ab2b2ca1a48649fd92f6cfbaffeb1a7e",
       "version_major": 2,
       "version_minor": 0
      },
      "text/plain": [
       "HBox(children=(Canvas(height=84, width=84),), layout=Layout(align_items='center', display='flex', flex_flow='r…"
      ]
     },
     "metadata": {},
     "output_type": "display_data"
    },
    {
     "name": "stdout",
     "output_type": "stream",
     "text": [
      "[(1, 3, 84, 84), (1,), (1,), (1,), (1, 2)]\n",
      "(7,)\n",
      "(3, 84, 84)\n"
     ]
    },
    {
     "data": {
      "application/vnd.jupyter.widget-view+json": {
       "model_id": "fdb05ebd658f4a70b4d676a680e88819",
       "version_major": 2,
       "version_minor": 0
      },
      "text/plain": [
       "HBox(children=(Canvas(height=84, width=84),), layout=Layout(align_items='center', display='flex', flex_flow='r…"
      ]
     },
     "metadata": {},
     "output_type": "display_data"
    },
    {
     "name": "stdout",
     "output_type": "stream",
     "text": [
      "[(1, 3, 84, 84), (1,), (1,), (1,), (1, 2)]\n",
      "(7,)\n",
      "(3, 84, 84)\n"
     ]
    },
    {
     "data": {
      "application/vnd.jupyter.widget-view+json": {
       "model_id": "2c8f5e856d5f4f82a3e007e9379d1899",
       "version_major": 2,
       "version_minor": 0
      },
      "text/plain": [
       "HBox(children=(Canvas(height=84, width=84),), layout=Layout(align_items='center', display='flex', flex_flow='r…"
      ]
     },
     "metadata": {},
     "output_type": "display_data"
    },
    {
     "name": "stdout",
     "output_type": "stream",
     "text": [
      "[(1, 3, 84, 84), (1,), (1,), (1,), (1, 2)]\n",
      "(7,)\n",
      "(3, 84, 84)\n"
     ]
    },
    {
     "data": {
      "application/vnd.jupyter.widget-view+json": {
       "model_id": "fa69074001bd4411a047ac81a8fce241",
       "version_major": 2,
       "version_minor": 0
      },
      "text/plain": [
       "HBox(children=(Canvas(height=84, width=84),), layout=Layout(align_items='center', display='flex', flex_flow='r…"
      ]
     },
     "metadata": {},
     "output_type": "display_data"
    },
    {
     "name": "stdout",
     "output_type": "stream",
     "text": [
      "[(1, 3, 84, 84), (1,), (1,), (1,), (1, 2)]\n",
      "(7,)\n",
      "(3, 84, 84)\n"
     ]
    },
    {
     "data": {
      "application/vnd.jupyter.widget-view+json": {
       "model_id": "f5dd26d757ee47e1b98da2eb39b938ad",
       "version_major": 2,
       "version_minor": 0
      },
      "text/plain": [
       "HBox(children=(Canvas(height=84, width=84),), layout=Layout(align_items='center', display='flex', flex_flow='r…"
      ]
     },
     "metadata": {},
     "output_type": "display_data"
    },
    {
     "name": "stdout",
     "output_type": "stream",
     "text": [
      "[(1, 3, 84, 84), (1,), (1,), (1,), (1, 2)]\n",
      "(7,)\n",
      "(3, 84, 84)\n"
     ]
    },
    {
     "data": {
      "application/vnd.jupyter.widget-view+json": {
       "model_id": "e04fb87a906d4369a03c15d00604f6b4",
       "version_major": 2,
       "version_minor": 0
      },
      "text/plain": [
       "HBox(children=(Canvas(height=84, width=84),), layout=Layout(align_items='center', display='flex', flex_flow='r…"
      ]
     },
     "metadata": {},
     "output_type": "display_data"
    },
    {
     "name": "stdout",
     "output_type": "stream",
     "text": [
      "[(1, 3, 84, 84), (1,), (1,), (1,), (1, 2)]\n",
      "(7,)\n",
      "(3, 84, 84)\n"
     ]
    },
    {
     "data": {
      "application/vnd.jupyter.widget-view+json": {
       "model_id": "490fd107211b4aeba5ce350110083535",
       "version_major": 2,
       "version_minor": 0
      },
      "text/plain": [
       "HBox(children=(Canvas(height=84, width=84),), layout=Layout(align_items='center', display='flex', flex_flow='r…"
      ]
     },
     "metadata": {},
     "output_type": "display_data"
    },
    {
     "name": "stdout",
     "output_type": "stream",
     "text": [
      "[(1, 3, 84, 84), (1,), (1,), (1,), (1, 2)]\n",
      "(7,)\n",
      "(3, 84, 84)\n"
     ]
    },
    {
     "data": {
      "application/vnd.jupyter.widget-view+json": {
       "model_id": "3925e6eca7a4478594a09ce27f3f4b33",
       "version_major": 2,
       "version_minor": 0
      },
      "text/plain": [
       "HBox(children=(Canvas(height=84, width=84),), layout=Layout(align_items='center', display='flex', flex_flow='r…"
      ]
     },
     "metadata": {},
     "output_type": "display_data"
    },
    {
     "name": "stdout",
     "output_type": "stream",
     "text": [
      "[(1, 3, 84, 84), (1,), (1,), (1,), (1, 2)]\n",
      "(7,)\n",
      "(3, 84, 84)\n"
     ]
    },
    {
     "data": {
      "application/vnd.jupyter.widget-view+json": {
       "model_id": "6f50e3133eb64cf89aaaed0f236c852c",
       "version_major": 2,
       "version_minor": 0
      },
      "text/plain": [
       "HBox(children=(Canvas(height=84, width=84),), layout=Layout(align_items='center', display='flex', flex_flow='r…"
      ]
     },
     "metadata": {},
     "output_type": "display_data"
    },
    {
     "name": "stdout",
     "output_type": "stream",
     "text": [
      "[(1, 3, 84, 84), (1,), (1,), (1,), (1, 2)]\n",
      "(7,)\n",
      "(3, 84, 84)\n"
     ]
    },
    {
     "data": {
      "application/vnd.jupyter.widget-view+json": {
       "model_id": "d10fe3a9314c4b61939cb9bcb5acbf0f",
       "version_major": 2,
       "version_minor": 0
      },
      "text/plain": [
       "HBox(children=(Canvas(height=84, width=84),), layout=Layout(align_items='center', display='flex', flex_flow='r…"
      ]
     },
     "metadata": {},
     "output_type": "display_data"
    },
    {
     "name": "stdout",
     "output_type": "stream",
     "text": [
      "[(1, 3, 84, 84), (1,), (1,), (1,), (1, 2)]\n",
      "(7,)\n",
      "(3, 84, 84)\n"
     ]
    },
    {
     "data": {
      "application/vnd.jupyter.widget-view+json": {
       "model_id": "85306d3a281141a0880fcfa44da15904",
       "version_major": 2,
       "version_minor": 0
      },
      "text/plain": [
       "HBox(children=(Canvas(height=84, width=84),), layout=Layout(align_items='center', display='flex', flex_flow='r…"
      ]
     },
     "metadata": {},
     "output_type": "display_data"
    },
    {
     "name": "stdout",
     "output_type": "stream",
     "text": [
      "[(1, 3, 84, 84), (1,), (1,), (1,), (1, 2)]\n",
      "(7,)\n",
      "(3, 84, 84)\n"
     ]
    },
    {
     "data": {
      "application/vnd.jupyter.widget-view+json": {
       "model_id": "10bb2dd88cab48c0b400cf6166dd9e46",
       "version_major": 2,
       "version_minor": 0
      },
      "text/plain": [
       "HBox(children=(Canvas(height=84, width=84),), layout=Layout(align_items='center', display='flex', flex_flow='r…"
      ]
     },
     "metadata": {},
     "output_type": "display_data"
    },
    {
     "name": "stdout",
     "output_type": "stream",
     "text": [
      "[(1, 3, 84, 84), (1,), (1,), (1,), (1, 2)]\n",
      "(7,)\n",
      "(3, 84, 84)\n"
     ]
    },
    {
     "data": {
      "application/vnd.jupyter.widget-view+json": {
       "model_id": "183217a83c9d4b42814c3620b51cc11d",
       "version_major": 2,
       "version_minor": 0
      },
      "text/plain": [
       "HBox(children=(Canvas(height=84, width=84),), layout=Layout(align_items='center', display='flex', flex_flow='r…"
      ]
     },
     "metadata": {},
     "output_type": "display_data"
    },
    {
     "name": "stdout",
     "output_type": "stream",
     "text": [
      "[(1, 3, 84, 84), (1,), (1,), (1,), (1, 2)]\n",
      "(7,)\n",
      "(3, 84, 84)\n"
     ]
    },
    {
     "data": {
      "application/vnd.jupyter.widget-view+json": {
       "model_id": "79888266543c4b1296fcee356de81afa",
       "version_major": 2,
       "version_minor": 0
      },
      "text/plain": [
       "HBox(children=(Canvas(height=84, width=84),), layout=Layout(align_items='center', display='flex', flex_flow='r…"
      ]
     },
     "metadata": {},
     "output_type": "display_data"
    },
    {
     "name": "stdout",
     "output_type": "stream",
     "text": [
      "[(1, 3, 84, 84), (1,), (1,), (1,), (1, 2)]\n",
      "(7,)\n",
      "(3, 84, 84)\n"
     ]
    },
    {
     "data": {
      "application/vnd.jupyter.widget-view+json": {
       "model_id": "35b82131f3c14634b15041d960fd9ee8",
       "version_major": 2,
       "version_minor": 0
      },
      "text/plain": [
       "HBox(children=(Canvas(height=84, width=84),), layout=Layout(align_items='center', display='flex', flex_flow='r…"
      ]
     },
     "metadata": {},
     "output_type": "display_data"
    },
    {
     "name": "stdout",
     "output_type": "stream",
     "text": [
      "[(1, 3, 84, 84), (1,), (1,), (1,), (1, 2)]\n",
      "(7,)\n",
      "(3, 84, 84)\n"
     ]
    },
    {
     "data": {
      "application/vnd.jupyter.widget-view+json": {
       "model_id": "89cf3a1b77d541a19f0e881ec8e70a67",
       "version_major": 2,
       "version_minor": 0
      },
      "text/plain": [
       "HBox(children=(Canvas(height=84, width=84),), layout=Layout(align_items='center', display='flex', flex_flow='r…"
      ]
     },
     "metadata": {},
     "output_type": "display_data"
    },
    {
     "name": "stdout",
     "output_type": "stream",
     "text": [
      "[(1, 3, 84, 84), (1,), (1,), (1,), (1, 2)]\n",
      "(7,)\n",
      "(3, 84, 84)\n"
     ]
    },
    {
     "data": {
      "application/vnd.jupyter.widget-view+json": {
       "model_id": "50a358a85966491880ec68ec1fa02a01",
       "version_major": 2,
       "version_minor": 0
      },
      "text/plain": [
       "HBox(children=(Canvas(height=84, width=84),), layout=Layout(align_items='center', display='flex', flex_flow='r…"
      ]
     },
     "metadata": {},
     "output_type": "display_data"
    },
    {
     "name": "stdout",
     "output_type": "stream",
     "text": [
      "[(1, 3, 84, 84), (1,), (1,), (1,), (1, 2)]\n",
      "(7,)\n",
      "(3, 84, 84)\n"
     ]
    },
    {
     "data": {
      "application/vnd.jupyter.widget-view+json": {
       "model_id": "6f1154d62a71483babd19eacf64f95c7",
       "version_major": 2,
       "version_minor": 0
      },
      "text/plain": [
       "HBox(children=(Canvas(height=84, width=84),), layout=Layout(align_items='center', display='flex', flex_flow='r…"
      ]
     },
     "metadata": {},
     "output_type": "display_data"
    },
    {
     "name": "stdout",
     "output_type": "stream",
     "text": [
      "[(1, 3, 84, 84), (1,), (1,), (1,), (1, 2)]\n",
      "(7,)\n",
      "(3, 84, 84)\n"
     ]
    },
    {
     "data": {
      "application/vnd.jupyter.widget-view+json": {
       "model_id": "92019045940946e9b5cd0525adcde746",
       "version_major": 2,
       "version_minor": 0
      },
      "text/plain": [
       "HBox(children=(Canvas(height=84, width=84),), layout=Layout(align_items='center', display='flex', flex_flow='r…"
      ]
     },
     "metadata": {},
     "output_type": "display_data"
    },
    {
     "name": "stdout",
     "output_type": "stream",
     "text": [
      "[(1, 3, 84, 84), (1,), (1,), (1,), (1, 2)]\n",
      "(7,)\n",
      "(3, 84, 84)\n"
     ]
    },
    {
     "data": {
      "application/vnd.jupyter.widget-view+json": {
       "model_id": "4412d52bdca340af921eb058ce52dc4b",
       "version_major": 2,
       "version_minor": 0
      },
      "text/plain": [
       "HBox(children=(Canvas(height=84, width=84),), layout=Layout(align_items='center', display='flex', flex_flow='r…"
      ]
     },
     "metadata": {},
     "output_type": "display_data"
    },
    {
     "name": "stdout",
     "output_type": "stream",
     "text": [
      "[(1, 3, 84, 84), (1,), (1,), (1,), (1, 2)]\n",
      "(7,)\n",
      "(3, 84, 84)\n"
     ]
    },
    {
     "data": {
      "application/vnd.jupyter.widget-view+json": {
       "model_id": "79ced79d7339451892268076a0c3898e",
       "version_major": 2,
       "version_minor": 0
      },
      "text/plain": [
       "HBox(children=(Canvas(height=84, width=84),), layout=Layout(align_items='center', display='flex', flex_flow='r…"
      ]
     },
     "metadata": {},
     "output_type": "display_data"
    },
    {
     "name": "stdout",
     "output_type": "stream",
     "text": [
      "[(1, 3, 84, 84), (1,), (1,), (1,), (1, 2)]\n",
      "(7,)\n",
      "(3, 84, 84)\n"
     ]
    },
    {
     "data": {
      "application/vnd.jupyter.widget-view+json": {
       "model_id": "f89f488e72324357be75a3e6b01dd987",
       "version_major": 2,
       "version_minor": 0
      },
      "text/plain": [
       "HBox(children=(Canvas(height=84, width=84),), layout=Layout(align_items='center', display='flex', flex_flow='r…"
      ]
     },
     "metadata": {},
     "output_type": "display_data"
    },
    {
     "name": "stdout",
     "output_type": "stream",
     "text": [
      "[(1, 3, 84, 84), (1,), (1,), (1,), (1, 2)]\n",
      "(7,)\n",
      "(3, 84, 84)\n"
     ]
    },
    {
     "data": {
      "application/vnd.jupyter.widget-view+json": {
       "model_id": "18e58e3c77074293b376ae74fbd089cd",
       "version_major": 2,
       "version_minor": 0
      },
      "text/plain": [
       "HBox(children=(Canvas(height=84, width=84),), layout=Layout(align_items='center', display='flex', flex_flow='r…"
      ]
     },
     "metadata": {},
     "output_type": "display_data"
    },
    {
     "name": "stdout",
     "output_type": "stream",
     "text": [
      "[(1, 3, 84, 84), (1,), (1,), (1,), (1, 2)]\n",
      "(7,)\n",
      "(3, 84, 84)\n"
     ]
    },
    {
     "data": {
      "application/vnd.jupyter.widget-view+json": {
       "model_id": "c29de9bd80c347ecafd718802b1318da",
       "version_major": 2,
       "version_minor": 0
      },
      "text/plain": [
       "HBox(children=(Canvas(height=84, width=84),), layout=Layout(align_items='center', display='flex', flex_flow='r…"
      ]
     },
     "metadata": {},
     "output_type": "display_data"
    },
    {
     "name": "stdout",
     "output_type": "stream",
     "text": [
      "[(1, 3, 84, 84), (1,), (1,), (1,), (1, 2)]\n",
      "(7,)\n",
      "(3, 84, 84)\n"
     ]
    },
    {
     "data": {
      "application/vnd.jupyter.widget-view+json": {
       "model_id": "a08883b5e3754ee186fae1953d15fcbb",
       "version_major": 2,
       "version_minor": 0
      },
      "text/plain": [
       "HBox(children=(Canvas(height=84, width=84),), layout=Layout(align_items='center', display='flex', flex_flow='r…"
      ]
     },
     "metadata": {},
     "output_type": "display_data"
    },
    {
     "name": "stdout",
     "output_type": "stream",
     "text": [
      "[(1, 3, 84, 84), (1,), (1,), (1,), (1, 2)]\n",
      "(7,)\n",
      "(3, 84, 84)\n"
     ]
    },
    {
     "data": {
      "application/vnd.jupyter.widget-view+json": {
       "model_id": "e807b2102c634296a879c392cc8e1d0e",
       "version_major": 2,
       "version_minor": 0
      },
      "text/plain": [
       "HBox(children=(Canvas(height=84, width=84),), layout=Layout(align_items='center', display='flex', flex_flow='r…"
      ]
     },
     "metadata": {},
     "output_type": "display_data"
    },
    {
     "name": "stdout",
     "output_type": "stream",
     "text": [
      "[(1, 3, 84, 84), (1,), (1,), (1,), (1, 2)]\n",
      "(7,)\n",
      "(3, 84, 84)\n"
     ]
    },
    {
     "data": {
      "application/vnd.jupyter.widget-view+json": {
       "model_id": "dda6d91bc98b43fc89ca4095243d2686",
       "version_major": 2,
       "version_minor": 0
      },
      "text/plain": [
       "HBox(children=(Canvas(height=84, width=84),), layout=Layout(align_items='center', display='flex', flex_flow='r…"
      ]
     },
     "metadata": {},
     "output_type": "display_data"
    },
    {
     "name": "stdout",
     "output_type": "stream",
     "text": [
      "[(1, 3, 84, 84), (1,), (1,), (1,), (1, 2)]\n",
      "(7,)\n",
      "(3, 84, 84)\n"
     ]
    },
    {
     "data": {
      "application/vnd.jupyter.widget-view+json": {
       "model_id": "6372a9a60dc84bf98f4135c6902cd3c9",
       "version_major": 2,
       "version_minor": 0
      },
      "text/plain": [
       "HBox(children=(Canvas(height=84, width=84),), layout=Layout(align_items='center', display='flex', flex_flow='r…"
      ]
     },
     "metadata": {},
     "output_type": "display_data"
    },
    {
     "name": "stdout",
     "output_type": "stream",
     "text": [
      "[(1, 3, 84, 84), (1,), (1,), (1,), (1, 2)]\n",
      "(7,)\n",
      "(3, 84, 84)\n"
     ]
    },
    {
     "data": {
      "application/vnd.jupyter.widget-view+json": {
       "model_id": "8614070cb3734803b9c3dfe7a6826e9c",
       "version_major": 2,
       "version_minor": 0
      },
      "text/plain": [
       "HBox(children=(Canvas(height=84, width=84),), layout=Layout(align_items='center', display='flex', flex_flow='r…"
      ]
     },
     "metadata": {},
     "output_type": "display_data"
    },
    {
     "name": "stdout",
     "output_type": "stream",
     "text": [
      "[(1, 3, 84, 84), (1,), (1,), (1,), (1, 2)]\n",
      "(7,)\n",
      "(3, 84, 84)\n"
     ]
    },
    {
     "data": {
      "application/vnd.jupyter.widget-view+json": {
       "model_id": "15c650b4ea31485dab928e03ed6defc9",
       "version_major": 2,
       "version_minor": 0
      },
      "text/plain": [
       "HBox(children=(Canvas(height=84, width=84),), layout=Layout(align_items='center', display='flex', flex_flow='r…"
      ]
     },
     "metadata": {},
     "output_type": "display_data"
    },
    {
     "name": "stdout",
     "output_type": "stream",
     "text": [
      "[(1, 3, 84, 84), (1,), (1,), (1,), (1, 2)]\n",
      "(7,)\n",
      "(3, 84, 84)\n"
     ]
    },
    {
     "data": {
      "application/vnd.jupyter.widget-view+json": {
       "model_id": "079cd312c2e64ec49aa38ed187d0dacf",
       "version_major": 2,
       "version_minor": 0
      },
      "text/plain": [
       "HBox(children=(Canvas(height=84, width=84),), layout=Layout(align_items='center', display='flex', flex_flow='r…"
      ]
     },
     "metadata": {},
     "output_type": "display_data"
    },
    {
     "name": "stdout",
     "output_type": "stream",
     "text": [
      "[(1, 3, 84, 84), (1,), (1,), (1,), (1, 2)]\n",
      "(7,)\n",
      "(3, 84, 84)\n"
     ]
    },
    {
     "data": {
      "application/vnd.jupyter.widget-view+json": {
       "model_id": "ac48c2905fb3407b86f43ac0d3190c82",
       "version_major": 2,
       "version_minor": 0
      },
      "text/plain": [
       "HBox(children=(Canvas(height=84, width=84),), layout=Layout(align_items='center', display='flex', flex_flow='r…"
      ]
     },
     "metadata": {},
     "output_type": "display_data"
    },
    {
     "name": "stdout",
     "output_type": "stream",
     "text": [
      "[(1, 3, 84, 84), (1,), (1,), (1,), (1, 2)]\n",
      "(7,)\n",
      "(3, 84, 84)\n"
     ]
    },
    {
     "data": {
      "application/vnd.jupyter.widget-view+json": {
       "model_id": "dfabb251d3b0456f9499ecbfb50e5b97",
       "version_major": 2,
       "version_minor": 0
      },
      "text/plain": [
       "HBox(children=(Canvas(height=84, width=84),), layout=Layout(align_items='center', display='flex', flex_flow='r…"
      ]
     },
     "metadata": {},
     "output_type": "display_data"
    },
    {
     "name": "stdout",
     "output_type": "stream",
     "text": [
      "[(1, 3, 84, 84), (1,), (1,), (1,), (1, 2)]\n",
      "(7,)\n",
      "(3, 84, 84)\n"
     ]
    },
    {
     "data": {
      "application/vnd.jupyter.widget-view+json": {
       "model_id": "0cb30a6e88b34be8a5217f473ca298ce",
       "version_major": 2,
       "version_minor": 0
      },
      "text/plain": [
       "HBox(children=(Canvas(height=84, width=84),), layout=Layout(align_items='center', display='flex', flex_flow='r…"
      ]
     },
     "metadata": {},
     "output_type": "display_data"
    },
    {
     "name": "stdout",
     "output_type": "stream",
     "text": [
      "[(1, 3, 84, 84), (1,), (1,), (1,), (1, 2)]\n",
      "(7,)\n",
      "(3, 84, 84)\n"
     ]
    },
    {
     "data": {
      "application/vnd.jupyter.widget-view+json": {
       "model_id": "7af49d557c394220b7d638d33c220db6",
       "version_major": 2,
       "version_minor": 0
      },
      "text/plain": [
       "HBox(children=(Canvas(height=84, width=84),), layout=Layout(align_items='center', display='flex', flex_flow='r…"
      ]
     },
     "metadata": {},
     "output_type": "display_data"
    },
    {
     "name": "stdout",
     "output_type": "stream",
     "text": [
      "[(1, 3, 84, 84), (1,), (1,), (1,), (1, 2)]\n",
      "(7,)\n",
      "(3, 84, 84)\n"
     ]
    },
    {
     "data": {
      "application/vnd.jupyter.widget-view+json": {
       "model_id": "82c049b27c6b4f17a1015c9309653aa8",
       "version_major": 2,
       "version_minor": 0
      },
      "text/plain": [
       "HBox(children=(Canvas(height=84, width=84),), layout=Layout(align_items='center', display='flex', flex_flow='r…"
      ]
     },
     "metadata": {},
     "output_type": "display_data"
    },
    {
     "name": "stdout",
     "output_type": "stream",
     "text": [
      "[(1, 3, 84, 84), (1,), (1,), (1,), (1, 2)]\n",
      "(7,)\n",
      "(3, 84, 84)\n"
     ]
    },
    {
     "data": {
      "application/vnd.jupyter.widget-view+json": {
       "model_id": "e22ab8541ae448619c523671c3237277",
       "version_major": 2,
       "version_minor": 0
      },
      "text/plain": [
       "HBox(children=(Canvas(height=84, width=84),), layout=Layout(align_items='center', display='flex', flex_flow='r…"
      ]
     },
     "metadata": {},
     "output_type": "display_data"
    },
    {
     "name": "stdout",
     "output_type": "stream",
     "text": [
      "[(1, 3, 84, 84), (1,), (1,), (1,), (1, 2)]\n",
      "(7,)\n",
      "(3, 84, 84)\n"
     ]
    },
    {
     "data": {
      "application/vnd.jupyter.widget-view+json": {
       "model_id": "6cbf2d16b45b41798f2116f36c8b0ee1",
       "version_major": 2,
       "version_minor": 0
      },
      "text/plain": [
       "HBox(children=(Canvas(height=84, width=84),), layout=Layout(align_items='center', display='flex', flex_flow='r…"
      ]
     },
     "metadata": {},
     "output_type": "display_data"
    },
    {
     "name": "stdout",
     "output_type": "stream",
     "text": [
      "[(1, 3, 84, 84), (1,), (1,), (1,), (1, 2)]\n",
      "(7,)\n",
      "(3, 84, 84)\n"
     ]
    },
    {
     "data": {
      "application/vnd.jupyter.widget-view+json": {
       "model_id": "f78ba8454cb4478bbfe17add00d2804c",
       "version_major": 2,
       "version_minor": 0
      },
      "text/plain": [
       "HBox(children=(Canvas(height=84, width=84),), layout=Layout(align_items='center', display='flex', flex_flow='r…"
      ]
     },
     "metadata": {},
     "output_type": "display_data"
    },
    {
     "name": "stdout",
     "output_type": "stream",
     "text": [
      "[(1, 3, 84, 84), (1,), (1,), (1,), (1, 2)]\n",
      "(7,)\n",
      "(3, 84, 84)\n"
     ]
    },
    {
     "data": {
      "application/vnd.jupyter.widget-view+json": {
       "model_id": "137fd354e67c4339a9d53692f030fe0a",
       "version_major": 2,
       "version_minor": 0
      },
      "text/plain": [
       "HBox(children=(Canvas(height=84, width=84),), layout=Layout(align_items='center', display='flex', flex_flow='r…"
      ]
     },
     "metadata": {},
     "output_type": "display_data"
    },
    {
     "name": "stdout",
     "output_type": "stream",
     "text": [
      "[(1, 3, 84, 84), (1,), (1,), (1,), (1, 2)]\n",
      "(7,)\n",
      "(3, 84, 84)\n"
     ]
    },
    {
     "data": {
      "application/vnd.jupyter.widget-view+json": {
       "model_id": "b6fe412bbb8f42a9b7b6b8f744f51256",
       "version_major": 2,
       "version_minor": 0
      },
      "text/plain": [
       "HBox(children=(Canvas(height=84, width=84),), layout=Layout(align_items='center', display='flex', flex_flow='r…"
      ]
     },
     "metadata": {},
     "output_type": "display_data"
    },
    {
     "name": "stdout",
     "output_type": "stream",
     "text": [
      "[(1, 3, 84, 84), (1,), (1,), (1,), (1, 2)]\n",
      "(7,)\n",
      "(3, 84, 84)\n"
     ]
    },
    {
     "data": {
      "application/vnd.jupyter.widget-view+json": {
       "model_id": "65b3d8b8450e40729423d4a17ff500b0",
       "version_major": 2,
       "version_minor": 0
      },
      "text/plain": [
       "HBox(children=(Canvas(height=84, width=84),), layout=Layout(align_items='center', display='flex', flex_flow='r…"
      ]
     },
     "metadata": {},
     "output_type": "display_data"
    },
    {
     "name": "stdout",
     "output_type": "stream",
     "text": [
      "[(1, 3, 84, 84), (1,), (1,), (1,), (1, 2)]\n",
      "(7,)\n",
      "(3, 84, 84)\n"
     ]
    },
    {
     "data": {
      "application/vnd.jupyter.widget-view+json": {
       "model_id": "27664b74a2ff4a2eb5116170b11436bf",
       "version_major": 2,
       "version_minor": 0
      },
      "text/plain": [
       "HBox(children=(Canvas(height=84, width=84),), layout=Layout(align_items='center', display='flex', flex_flow='r…"
      ]
     },
     "metadata": {},
     "output_type": "display_data"
    },
    {
     "name": "stdout",
     "output_type": "stream",
     "text": [
      "[(1, 3, 84, 84), (1,), (1,), (1,), (1, 2)]\n",
      "(7,)\n",
      "(3, 84, 84)\n"
     ]
    },
    {
     "data": {
      "application/vnd.jupyter.widget-view+json": {
       "model_id": "2c8eef7dc32f40fca4f9e997d349dace",
       "version_major": 2,
       "version_minor": 0
      },
      "text/plain": [
       "HBox(children=(Canvas(height=84, width=84),), layout=Layout(align_items='center', display='flex', flex_flow='r…"
      ]
     },
     "metadata": {},
     "output_type": "display_data"
    },
    {
     "name": "stdout",
     "output_type": "stream",
     "text": [
      "[(1, 3, 84, 84), (1,), (1,), (1,), (1, 2)]\n",
      "(7,)\n",
      "(3, 84, 84)\n"
     ]
    },
    {
     "data": {
      "application/vnd.jupyter.widget-view+json": {
       "model_id": "d3eb5219111f461d9718cfe1a8d6b7d9",
       "version_major": 2,
       "version_minor": 0
      },
      "text/plain": [
       "HBox(children=(Canvas(height=84, width=84),), layout=Layout(align_items='center', display='flex', flex_flow='r…"
      ]
     },
     "metadata": {},
     "output_type": "display_data"
    },
    {
     "name": "stdout",
     "output_type": "stream",
     "text": [
      "[(1, 3, 84, 84), (1,), (1,), (1,), (1, 2)]\n",
      "(7,)\n",
      "(3, 84, 84)\n"
     ]
    },
    {
     "data": {
      "application/vnd.jupyter.widget-view+json": {
       "model_id": "fb37cd5d7eee46fabad6ee1604e5c09c",
       "version_major": 2,
       "version_minor": 0
      },
      "text/plain": [
       "HBox(children=(Canvas(height=84, width=84),), layout=Layout(align_items='center', display='flex', flex_flow='r…"
      ]
     },
     "metadata": {},
     "output_type": "display_data"
    },
    {
     "name": "stdout",
     "output_type": "stream",
     "text": [
      "[(1, 3, 84, 84), (1,), (1,), (1,), (1, 2)]\n",
      "(7,)\n",
      "(3, 84, 84)\n"
     ]
    },
    {
     "data": {
      "application/vnd.jupyter.widget-view+json": {
       "model_id": "b7798849d5d545b196c9ffe4ed35bcfa",
       "version_major": 2,
       "version_minor": 0
      },
      "text/plain": [
       "HBox(children=(Canvas(height=84, width=84),), layout=Layout(align_items='center', display='flex', flex_flow='r…"
      ]
     },
     "metadata": {},
     "output_type": "display_data"
    },
    {
     "name": "stdout",
     "output_type": "stream",
     "text": [
      "[(1, 3, 84, 84), (1,), (1,), (1,), (1, 2)]\n",
      "(7,)\n",
      "(3, 84, 84)\n"
     ]
    },
    {
     "data": {
      "application/vnd.jupyter.widget-view+json": {
       "model_id": "75fa7fae5be04947bed464da408a3e43",
       "version_major": 2,
       "version_minor": 0
      },
      "text/plain": [
       "HBox(children=(Canvas(height=84, width=84),), layout=Layout(align_items='center', display='flex', flex_flow='r…"
      ]
     },
     "metadata": {},
     "output_type": "display_data"
    },
    {
     "name": "stdout",
     "output_type": "stream",
     "text": [
      "[(1, 3, 84, 84), (1,), (1,), (1,), (1, 2)]\n",
      "(7,)\n",
      "(3, 84, 84)\n"
     ]
    },
    {
     "data": {
      "application/vnd.jupyter.widget-view+json": {
       "model_id": "2a61b98855224b4282bae24454cefe81",
       "version_major": 2,
       "version_minor": 0
      },
      "text/plain": [
       "HBox(children=(Canvas(height=84, width=84),), layout=Layout(align_items='center', display='flex', flex_flow='r…"
      ]
     },
     "metadata": {},
     "output_type": "display_data"
    },
    {
     "name": "stdout",
     "output_type": "stream",
     "text": [
      "[(1, 3, 84, 84), (1,), (1,), (1,), (1, 2)]\n",
      "(7,)\n",
      "(3, 84, 84)\n"
     ]
    },
    {
     "data": {
      "application/vnd.jupyter.widget-view+json": {
       "model_id": "08d709bf8d004d70ae897ebc2cfc980b",
       "version_major": 2,
       "version_minor": 0
      },
      "text/plain": [
       "HBox(children=(Canvas(height=84, width=84),), layout=Layout(align_items='center', display='flex', flex_flow='r…"
      ]
     },
     "metadata": {},
     "output_type": "display_data"
    },
    {
     "name": "stdout",
     "output_type": "stream",
     "text": [
      "[(1, 3, 84, 84), (1,), (1,), (1,), (1, 2)]\n",
      "(7,)\n",
      "(3, 84, 84)\n"
     ]
    },
    {
     "data": {
      "application/vnd.jupyter.widget-view+json": {
       "model_id": "f76edeedc7ce48e18e20f127dde0b3a4",
       "version_major": 2,
       "version_minor": 0
      },
      "text/plain": [
       "HBox(children=(Canvas(height=84, width=84),), layout=Layout(align_items='center', display='flex', flex_flow='r…"
      ]
     },
     "metadata": {},
     "output_type": "display_data"
    },
    {
     "name": "stdout",
     "output_type": "stream",
     "text": [
      "[(1, 3, 84, 84), (1,), (1,), (1,), (1, 2)]\n",
      "(7,)\n",
      "(3, 84, 84)\n"
     ]
    },
    {
     "data": {
      "application/vnd.jupyter.widget-view+json": {
       "model_id": "1e614060c55e4c9b980a4f0160552f7f",
       "version_major": 2,
       "version_minor": 0
      },
      "text/plain": [
       "HBox(children=(Canvas(height=84, width=84),), layout=Layout(align_items='center', display='flex', flex_flow='r…"
      ]
     },
     "metadata": {},
     "output_type": "display_data"
    },
    {
     "name": "stdout",
     "output_type": "stream",
     "text": [
      "[(1, 3, 84, 84), (1,), (1,), (1,), (1, 2)]\n",
      "(7,)\n",
      "(3, 84, 84)\n"
     ]
    },
    {
     "data": {
      "application/vnd.jupyter.widget-view+json": {
       "model_id": "f81eaf0f45d34f1193f161064cd687b2",
       "version_major": 2,
       "version_minor": 0
      },
      "text/plain": [
       "HBox(children=(Canvas(height=84, width=84),), layout=Layout(align_items='center', display='flex', flex_flow='r…"
      ]
     },
     "metadata": {},
     "output_type": "display_data"
    },
    {
     "name": "stdout",
     "output_type": "stream",
     "text": [
      "[(1, 3, 84, 84), (1,), (1,), (1,), (1, 2)]\n",
      "(7,)\n",
      "(3, 84, 84)\n"
     ]
    },
    {
     "data": {
      "application/vnd.jupyter.widget-view+json": {
       "model_id": "fee37588334f4a5c83f0866b767c5051",
       "version_major": 2,
       "version_minor": 0
      },
      "text/plain": [
       "HBox(children=(Canvas(height=84, width=84),), layout=Layout(align_items='center', display='flex', flex_flow='r…"
      ]
     },
     "metadata": {},
     "output_type": "display_data"
    },
    {
     "name": "stdout",
     "output_type": "stream",
     "text": [
      "[(1, 3, 84, 84), (1,), (1,), (1,), (1, 2)]\n",
      "(7,)\n",
      "(3, 84, 84)\n"
     ]
    },
    {
     "data": {
      "application/vnd.jupyter.widget-view+json": {
       "model_id": "41d51f14bad94e33867bd897fb351ccd",
       "version_major": 2,
       "version_minor": 0
      },
      "text/plain": [
       "HBox(children=(Canvas(height=84, width=84),), layout=Layout(align_items='center', display='flex', flex_flow='r…"
      ]
     },
     "metadata": {},
     "output_type": "display_data"
    },
    {
     "name": "stdout",
     "output_type": "stream",
     "text": [
      "[(1, 3, 84, 84), (1,), (1,), (1,), (1, 2)]\n",
      "(7,)\n",
      "(3, 84, 84)\n"
     ]
    },
    {
     "data": {
      "application/vnd.jupyter.widget-view+json": {
       "model_id": "6b97254cb97e4c9489e9cc5369247365",
       "version_major": 2,
       "version_minor": 0
      },
      "text/plain": [
       "HBox(children=(Canvas(height=84, width=84),), layout=Layout(align_items='center', display='flex', flex_flow='r…"
      ]
     },
     "metadata": {},
     "output_type": "display_data"
    },
    {
     "name": "stdout",
     "output_type": "stream",
     "text": [
      "[(1, 3, 84, 84), (1,), (1,), (1,), (1, 2)]\n",
      "(7,)\n",
      "(3, 84, 84)\n"
     ]
    },
    {
     "data": {
      "application/vnd.jupyter.widget-view+json": {
       "model_id": "4de73c3c4b9b4f7b87a6636c5ee7268d",
       "version_major": 2,
       "version_minor": 0
      },
      "text/plain": [
       "HBox(children=(Canvas(height=84, width=84),), layout=Layout(align_items='center', display='flex', flex_flow='r…"
      ]
     },
     "metadata": {},
     "output_type": "display_data"
    },
    {
     "name": "stdout",
     "output_type": "stream",
     "text": [
      "[(1, 3, 84, 84), (1,), (1,), (1,), (1, 2)]\n",
      "(7,)\n",
      "(3, 84, 84)\n"
     ]
    },
    {
     "data": {
      "application/vnd.jupyter.widget-view+json": {
       "model_id": "05fd4f92bb644931b1f73516bda905eb",
       "version_major": 2,
       "version_minor": 0
      },
      "text/plain": [
       "HBox(children=(Canvas(height=84, width=84),), layout=Layout(align_items='center', display='flex', flex_flow='r…"
      ]
     },
     "metadata": {},
     "output_type": "display_data"
    },
    {
     "name": "stdout",
     "output_type": "stream",
     "text": [
      "[(1, 3, 84, 84), (1,), (1,), (1,), (1, 2)]\n",
      "(7,)\n",
      "(3, 84, 84)\n"
     ]
    },
    {
     "data": {
      "application/vnd.jupyter.widget-view+json": {
       "model_id": "d7ed322330ba42c684348298464f983b",
       "version_major": 2,
       "version_minor": 0
      },
      "text/plain": [
       "HBox(children=(Canvas(height=84, width=84),), layout=Layout(align_items='center', display='flex', flex_flow='r…"
      ]
     },
     "metadata": {},
     "output_type": "display_data"
    },
    {
     "name": "stdout",
     "output_type": "stream",
     "text": [
      "[(1, 3, 84, 84), (1,), (1,), (1,), (1, 2)]\n",
      "(7,)\n",
      "(3, 84, 84)\n"
     ]
    },
    {
     "data": {
      "application/vnd.jupyter.widget-view+json": {
       "model_id": "eb714c2cc5234b9f9ae3ead4417c610d",
       "version_major": 2,
       "version_minor": 0
      },
      "text/plain": [
       "HBox(children=(Canvas(height=84, width=84),), layout=Layout(align_items='center', display='flex', flex_flow='r…"
      ]
     },
     "metadata": {},
     "output_type": "display_data"
    },
    {
     "name": "stdout",
     "output_type": "stream",
     "text": [
      "[(1, 3, 84, 84), (1,), (1,), (1,), (1, 2)]\n",
      "(7,)\n",
      "(3, 84, 84)\n"
     ]
    },
    {
     "data": {
      "application/vnd.jupyter.widget-view+json": {
       "model_id": "698af510f75d48b5bdf7a1aaf5b43ead",
       "version_major": 2,
       "version_minor": 0
      },
      "text/plain": [
       "HBox(children=(Canvas(height=84, width=84),), layout=Layout(align_items='center', display='flex', flex_flow='r…"
      ]
     },
     "metadata": {},
     "output_type": "display_data"
    },
    {
     "name": "stdout",
     "output_type": "stream",
     "text": [
      "[(1, 3, 84, 84), (1,), (1,), (1,), (1, 2)]\n",
      "(7,)\n",
      "(3, 84, 84)\n"
     ]
    },
    {
     "data": {
      "application/vnd.jupyter.widget-view+json": {
       "model_id": "13bb85e508164e9a801b181384ce99bd",
       "version_major": 2,
       "version_minor": 0
      },
      "text/plain": [
       "HBox(children=(Canvas(height=84, width=84),), layout=Layout(align_items='center', display='flex', flex_flow='r…"
      ]
     },
     "metadata": {},
     "output_type": "display_data"
    },
    {
     "name": "stdout",
     "output_type": "stream",
     "text": [
      "[(1, 3, 84, 84), (1,), (1,), (1,), (1, 2)]\n",
      "(7,)\n",
      "(3, 84, 84)\n"
     ]
    },
    {
     "data": {
      "application/vnd.jupyter.widget-view+json": {
       "model_id": "cf921bbf07fe47c0ac6c879aef14d30e",
       "version_major": 2,
       "version_minor": 0
      },
      "text/plain": [
       "HBox(children=(Canvas(height=84, width=84),), layout=Layout(align_items='center', display='flex', flex_flow='r…"
      ]
     },
     "metadata": {},
     "output_type": "display_data"
    },
    {
     "name": "stdout",
     "output_type": "stream",
     "text": [
      "[(1, 3, 84, 84), (1,), (1,), (1,), (1, 2)]\n",
      "(7,)\n",
      "(3, 84, 84)\n"
     ]
    },
    {
     "data": {
      "application/vnd.jupyter.widget-view+json": {
       "model_id": "c0d6c4a2402640cfaa900a996acf211d",
       "version_major": 2,
       "version_minor": 0
      },
      "text/plain": [
       "HBox(children=(Canvas(height=84, width=84),), layout=Layout(align_items='center', display='flex', flex_flow='r…"
      ]
     },
     "metadata": {},
     "output_type": "display_data"
    },
    {
     "name": "stdout",
     "output_type": "stream",
     "text": [
      "[(1, 3, 84, 84), (1,), (1,), (1,), (1, 2)]\n",
      "(7,)\n",
      "(3, 84, 84)\n"
     ]
    },
    {
     "data": {
      "application/vnd.jupyter.widget-view+json": {
       "model_id": "e7ea255a00444f7899e073dec111b372",
       "version_major": 2,
       "version_minor": 0
      },
      "text/plain": [
       "HBox(children=(Canvas(height=84, width=84),), layout=Layout(align_items='center', display='flex', flex_flow='r…"
      ]
     },
     "metadata": {},
     "output_type": "display_data"
    },
    {
     "name": "stdout",
     "output_type": "stream",
     "text": [
      "[(1, 3, 84, 84), (1,), (1,), (1,), (1, 2)]\n",
      "(7,)\n",
      "(3, 84, 84)\n"
     ]
    },
    {
     "data": {
      "application/vnd.jupyter.widget-view+json": {
       "model_id": "1a9f134cf96e4a7da0195f671cf9ca20",
       "version_major": 2,
       "version_minor": 0
      },
      "text/plain": [
       "HBox(children=(Canvas(height=84, width=84),), layout=Layout(align_items='center', display='flex', flex_flow='r…"
      ]
     },
     "metadata": {},
     "output_type": "display_data"
    },
    {
     "name": "stdout",
     "output_type": "stream",
     "text": [
      "[(1, 3, 84, 84), (1,), (1,), (1,), (1, 2)]\n",
      "(7,)\n",
      "(3, 84, 84)\n"
     ]
    },
    {
     "data": {
      "application/vnd.jupyter.widget-view+json": {
       "model_id": "66f2b757e26a4040b8382d48c4b16a86",
       "version_major": 2,
       "version_minor": 0
      },
      "text/plain": [
       "HBox(children=(Canvas(height=84, width=84),), layout=Layout(align_items='center', display='flex', flex_flow='r…"
      ]
     },
     "metadata": {},
     "output_type": "display_data"
    },
    {
     "name": "stdout",
     "output_type": "stream",
     "text": [
      "[(1, 3, 84, 84), (1,), (1,), (1,), (1, 2)]\n",
      "(7,)\n",
      "(3, 84, 84)\n"
     ]
    },
    {
     "data": {
      "application/vnd.jupyter.widget-view+json": {
       "model_id": "2c450d65f3594342b4ff978667c5ed72",
       "version_major": 2,
       "version_minor": 0
      },
      "text/plain": [
       "HBox(children=(Canvas(height=84, width=84),), layout=Layout(align_items='center', display='flex', flex_flow='r…"
      ]
     },
     "metadata": {},
     "output_type": "display_data"
    },
    {
     "name": "stdout",
     "output_type": "stream",
     "text": [
      "[(1, 3, 84, 84), (1,), (1,), (1,), (1, 2)]\n",
      "(7,)\n",
      "(3, 84, 84)\n"
     ]
    },
    {
     "data": {
      "application/vnd.jupyter.widget-view+json": {
       "model_id": "fbbb481976c94eda9757dd0d53b94ba6",
       "version_major": 2,
       "version_minor": 0
      },
      "text/plain": [
       "HBox(children=(Canvas(height=84, width=84),), layout=Layout(align_items='center', display='flex', flex_flow='r…"
      ]
     },
     "metadata": {},
     "output_type": "display_data"
    },
    {
     "name": "stdout",
     "output_type": "stream",
     "text": [
      "[(1, 3, 84, 84), (1,), (1,), (1,), (1, 2)]\n",
      "(7,)\n",
      "(3, 84, 84)\n"
     ]
    },
    {
     "data": {
      "application/vnd.jupyter.widget-view+json": {
       "model_id": "2382e75bb3ab4ef891c58e685d4f6f3d",
       "version_major": 2,
       "version_minor": 0
      },
      "text/plain": [
       "HBox(children=(Canvas(height=84, width=84),), layout=Layout(align_items='center', display='flex', flex_flow='r…"
      ]
     },
     "metadata": {},
     "output_type": "display_data"
    },
    {
     "name": "stdout",
     "output_type": "stream",
     "text": [
      "[(1, 3, 84, 84), (1,), (1,), (1,), (1, 2)]\n",
      "(7,)\n",
      "(3, 84, 84)\n"
     ]
    },
    {
     "data": {
      "application/vnd.jupyter.widget-view+json": {
       "model_id": "85d3cc84b68c4efc8d99fea62d804d88",
       "version_major": 2,
       "version_minor": 0
      },
      "text/plain": [
       "HBox(children=(Canvas(height=84, width=84),), layout=Layout(align_items='center', display='flex', flex_flow='r…"
      ]
     },
     "metadata": {},
     "output_type": "display_data"
    },
    {
     "name": "stdout",
     "output_type": "stream",
     "text": [
      "[(1, 3, 84, 84), (1,), (1,), (1,), (1, 2)]\n",
      "(7,)\n",
      "(3, 84, 84)\n"
     ]
    },
    {
     "data": {
      "application/vnd.jupyter.widget-view+json": {
       "model_id": "8e4640d061de4f889e5b32171cc5f234",
       "version_major": 2,
       "version_minor": 0
      },
      "text/plain": [
       "HBox(children=(Canvas(height=84, width=84),), layout=Layout(align_items='center', display='flex', flex_flow='r…"
      ]
     },
     "metadata": {},
     "output_type": "display_data"
    },
    {
     "name": "stdout",
     "output_type": "stream",
     "text": [
      "[(1, 3, 84, 84), (1,), (1,), (1,), (1, 2)]\n",
      "(7,)\n",
      "(3, 84, 84)\n"
     ]
    },
    {
     "data": {
      "application/vnd.jupyter.widget-view+json": {
       "model_id": "3528128c0db7435990c14d322a6a3362",
       "version_major": 2,
       "version_minor": 0
      },
      "text/plain": [
       "HBox(children=(Canvas(height=84, width=84),), layout=Layout(align_items='center', display='flex', flex_flow='r…"
      ]
     },
     "metadata": {},
     "output_type": "display_data"
    },
    {
     "name": "stdout",
     "output_type": "stream",
     "text": [
      "[(1, 3, 84, 84), (1,), (1,), (1,), (1, 2)]\n",
      "(7,)\n",
      "(3, 84, 84)\n"
     ]
    },
    {
     "data": {
      "application/vnd.jupyter.widget-view+json": {
       "model_id": "be65e6b6f5fe4748bac863799f73961c",
       "version_major": 2,
       "version_minor": 0
      },
      "text/plain": [
       "HBox(children=(Canvas(height=84, width=84),), layout=Layout(align_items='center', display='flex', flex_flow='r…"
      ]
     },
     "metadata": {},
     "output_type": "display_data"
    },
    {
     "name": "stdout",
     "output_type": "stream",
     "text": [
      "[(1, 3, 84, 84), (1,), (1,), (1,), (1, 2)]\n",
      "(7,)\n",
      "(3, 84, 84)\n"
     ]
    },
    {
     "data": {
      "application/vnd.jupyter.widget-view+json": {
       "model_id": "cc226efb9e124e45b688d9490868cf33",
       "version_major": 2,
       "version_minor": 0
      },
      "text/plain": [
       "HBox(children=(Canvas(height=84, width=84),), layout=Layout(align_items='center', display='flex', flex_flow='r…"
      ]
     },
     "metadata": {},
     "output_type": "display_data"
    },
    {
     "name": "stdout",
     "output_type": "stream",
     "text": [
      "[(1, 3, 84, 84), (1,), (1,), (1,), (1, 2)]\n",
      "(7,)\n",
      "(3, 84, 84)\n"
     ]
    },
    {
     "data": {
      "application/vnd.jupyter.widget-view+json": {
       "model_id": "bb208cf3e3fb4f4bb61e6474a2c0b7ad",
       "version_major": 2,
       "version_minor": 0
      },
      "text/plain": [
       "HBox(children=(Canvas(height=84, width=84),), layout=Layout(align_items='center', display='flex', flex_flow='r…"
      ]
     },
     "metadata": {},
     "output_type": "display_data"
    },
    {
     "name": "stdout",
     "output_type": "stream",
     "text": [
      "[(1, 3, 84, 84), (1,), (1,), (1,), (1, 2)]\n",
      "(7,)\n",
      "(3, 84, 84)\n"
     ]
    },
    {
     "data": {
      "application/vnd.jupyter.widget-view+json": {
       "model_id": "37e56482f9364108b4441f16f3497596",
       "version_major": 2,
       "version_minor": 0
      },
      "text/plain": [
       "HBox(children=(Canvas(height=84, width=84),), layout=Layout(align_items='center', display='flex', flex_flow='r…"
      ]
     },
     "metadata": {},
     "output_type": "display_data"
    },
    {
     "name": "stdout",
     "output_type": "stream",
     "text": [
      "[(1, 3, 84, 84), (1,), (1,), (1,), (1, 2)]\n",
      "(7,)\n",
      "(3, 84, 84)\n"
     ]
    },
    {
     "data": {
      "application/vnd.jupyter.widget-view+json": {
       "model_id": "f68cc130ba9d4245857faed16b2f718f",
       "version_major": 2,
       "version_minor": 0
      },
      "text/plain": [
       "HBox(children=(Canvas(height=84, width=84),), layout=Layout(align_items='center', display='flex', flex_flow='r…"
      ]
     },
     "metadata": {},
     "output_type": "display_data"
    },
    {
     "name": "stdout",
     "output_type": "stream",
     "text": [
      "[(1, 3, 84, 84), (1,), (1,), (1,), (1, 2)]\n",
      "(7,)\n",
      "(3, 84, 84)\n"
     ]
    },
    {
     "data": {
      "application/vnd.jupyter.widget-view+json": {
       "model_id": "50131324218341bcb3d423e954d382c2",
       "version_major": 2,
       "version_minor": 0
      },
      "text/plain": [
       "HBox(children=(Canvas(height=84, width=84),), layout=Layout(align_items='center', display='flex', flex_flow='r…"
      ]
     },
     "metadata": {},
     "output_type": "display_data"
    },
    {
     "name": "stdout",
     "output_type": "stream",
     "text": [
      "[(1, 3, 84, 84), (1,), (1,), (1,), (1, 2)]\n",
      "(7,)\n",
      "(3, 84, 84)\n"
     ]
    },
    {
     "data": {
      "application/vnd.jupyter.widget-view+json": {
       "model_id": "2cd40fec48d94edeb18a6030f4c4eae2",
       "version_major": 2,
       "version_minor": 0
      },
      "text/plain": [
       "HBox(children=(Canvas(height=84, width=84),), layout=Layout(align_items='center', display='flex', flex_flow='r…"
      ]
     },
     "metadata": {},
     "output_type": "display_data"
    },
    {
     "name": "stdout",
     "output_type": "stream",
     "text": [
      "[(1, 3, 84, 84), (1,), (1,), (1,), (1, 2)]\n",
      "(7,)\n",
      "(3, 84, 84)\n"
     ]
    },
    {
     "data": {
      "application/vnd.jupyter.widget-view+json": {
       "model_id": "ea325215f8154292aac201b077e7cebe",
       "version_major": 2,
       "version_minor": 0
      },
      "text/plain": [
       "HBox(children=(Canvas(height=84, width=84),), layout=Layout(align_items='center', display='flex', flex_flow='r…"
      ]
     },
     "metadata": {},
     "output_type": "display_data"
    },
    {
     "name": "stdout",
     "output_type": "stream",
     "text": [
      "[(1, 3, 84, 84), (1,), (1,), (1,), (1, 2)]\n",
      "(7,)\n",
      "(3, 84, 84)\n"
     ]
    },
    {
     "data": {
      "application/vnd.jupyter.widget-view+json": {
       "model_id": "37bfdeaab4384c5a8e76c46d6d910db5",
       "version_major": 2,
       "version_minor": 0
      },
      "text/plain": [
       "HBox(children=(Canvas(height=84, width=84),), layout=Layout(align_items='center', display='flex', flex_flow='r…"
      ]
     },
     "metadata": {},
     "output_type": "display_data"
    },
    {
     "name": "stdout",
     "output_type": "stream",
     "text": [
      "[(1, 3, 84, 84), (1,), (1,), (1,), (1, 2)]\n",
      "(7,)\n",
      "(3, 84, 84)\n"
     ]
    },
    {
     "data": {
      "application/vnd.jupyter.widget-view+json": {
       "model_id": "506b027227a54418b8e9e0502d123dff",
       "version_major": 2,
       "version_minor": 0
      },
      "text/plain": [
       "HBox(children=(Canvas(height=84, width=84),), layout=Layout(align_items='center', display='flex', flex_flow='r…"
      ]
     },
     "metadata": {},
     "output_type": "display_data"
    },
    {
     "name": "stdout",
     "output_type": "stream",
     "text": [
      "[(1, 3, 84, 84), (1,), (1,), (1,), (1, 2)]\n",
      "(7,)\n",
      "(3, 84, 84)\n"
     ]
    },
    {
     "data": {
      "application/vnd.jupyter.widget-view+json": {
       "model_id": "025069ac4d2a43d7a37a949b3a83ac68",
       "version_major": 2,
       "version_minor": 0
      },
      "text/plain": [
       "HBox(children=(Canvas(height=84, width=84),), layout=Layout(align_items='center', display='flex', flex_flow='r…"
      ]
     },
     "metadata": {},
     "output_type": "display_data"
    },
    {
     "name": "stdout",
     "output_type": "stream",
     "text": [
      "[(1, 3, 84, 84), (1,), (1,), (1,), (1, 2)]\n",
      "(7,)\n",
      "(3, 84, 84)\n"
     ]
    },
    {
     "data": {
      "application/vnd.jupyter.widget-view+json": {
       "model_id": "6feb583c3cf14883b18088261fbaa60e",
       "version_major": 2,
       "version_minor": 0
      },
      "text/plain": [
       "HBox(children=(Canvas(height=84, width=84),), layout=Layout(align_items='center', display='flex', flex_flow='r…"
      ]
     },
     "metadata": {},
     "output_type": "display_data"
    },
    {
     "name": "stdout",
     "output_type": "stream",
     "text": [
      "[(1, 3, 84, 84), (1,), (1,), (1,), (1, 2)]\n",
      "(7,)\n",
      "(3, 84, 84)\n"
     ]
    },
    {
     "data": {
      "application/vnd.jupyter.widget-view+json": {
       "model_id": "e90682761d5145beb0c0facade6e72b5",
       "version_major": 2,
       "version_minor": 0
      },
      "text/plain": [
       "HBox(children=(Canvas(height=84, width=84),), layout=Layout(align_items='center', display='flex', flex_flow='r…"
      ]
     },
     "metadata": {},
     "output_type": "display_data"
    },
    {
     "name": "stdout",
     "output_type": "stream",
     "text": [
      "[(1, 3, 84, 84), (1,), (1,), (1,), (1, 2)]\n",
      "(7,)\n",
      "(3, 84, 84)\n"
     ]
    },
    {
     "data": {
      "application/vnd.jupyter.widget-view+json": {
       "model_id": "252ef0a8e3c9400aa120f1d8098da453",
       "version_major": 2,
       "version_minor": 0
      },
      "text/plain": [
       "HBox(children=(Canvas(height=84, width=84),), layout=Layout(align_items='center', display='flex', flex_flow='r…"
      ]
     },
     "metadata": {},
     "output_type": "display_data"
    },
    {
     "name": "stdout",
     "output_type": "stream",
     "text": [
      "[(1, 3, 84, 84), (1,), (1,), (1,), (1, 2)]\n",
      "(7,)\n",
      "(3, 84, 84)\n"
     ]
    },
    {
     "data": {
      "application/vnd.jupyter.widget-view+json": {
       "model_id": "be45596ab86d4136b296b47394639fc2",
       "version_major": 2,
       "version_minor": 0
      },
      "text/plain": [
       "HBox(children=(Canvas(height=84, width=84),), layout=Layout(align_items='center', display='flex', flex_flow='r…"
      ]
     },
     "metadata": {},
     "output_type": "display_data"
    },
    {
     "name": "stdout",
     "output_type": "stream",
     "text": [
      "[(1, 3, 84, 84), (1,), (1,), (1,), (1, 2)]\n",
      "(7,)\n",
      "(3, 84, 84)\n"
     ]
    },
    {
     "data": {
      "application/vnd.jupyter.widget-view+json": {
       "model_id": "91e388d3e20d4e8b8d1984044eabe803",
       "version_major": 2,
       "version_minor": 0
      },
      "text/plain": [
       "HBox(children=(Canvas(height=84, width=84),), layout=Layout(align_items='center', display='flex', flex_flow='r…"
      ]
     },
     "metadata": {},
     "output_type": "display_data"
    },
    {
     "name": "stdout",
     "output_type": "stream",
     "text": [
      "[(1, 3, 84, 84), (1,), (1,), (1,), (1, 2)]\n",
      "(7,)\n",
      "(3, 84, 84)\n"
     ]
    },
    {
     "data": {
      "application/vnd.jupyter.widget-view+json": {
       "model_id": "d85ee4adf93843519d5d73c0e8bdddc3",
       "version_major": 2,
       "version_minor": 0
      },
      "text/plain": [
       "HBox(children=(Canvas(height=84, width=84),), layout=Layout(align_items='center', display='flex', flex_flow='r…"
      ]
     },
     "metadata": {},
     "output_type": "display_data"
    },
    {
     "name": "stdout",
     "output_type": "stream",
     "text": [
      "[(1, 3, 84, 84), (1,), (1,), (1,), (1, 2)]\n",
      "(7,)\n",
      "(3, 84, 84)\n"
     ]
    },
    {
     "data": {
      "application/vnd.jupyter.widget-view+json": {
       "model_id": "40892fd63f1e43c78151aecc0694cb1d",
       "version_major": 2,
       "version_minor": 0
      },
      "text/plain": [
       "HBox(children=(Canvas(height=84, width=84),), layout=Layout(align_items='center', display='flex', flex_flow='r…"
      ]
     },
     "metadata": {},
     "output_type": "display_data"
    },
    {
     "name": "stdout",
     "output_type": "stream",
     "text": [
      "[(1, 3, 84, 84), (1,), (1,), (1,), (1, 2)]\n",
      "(7,)\n",
      "(3, 84, 84)\n"
     ]
    },
    {
     "data": {
      "application/vnd.jupyter.widget-view+json": {
       "model_id": "976b1f7ef9c440d8b7ab1b90d986fb53",
       "version_major": 2,
       "version_minor": 0
      },
      "text/plain": [
       "HBox(children=(Canvas(height=84, width=84),), layout=Layout(align_items='center', display='flex', flex_flow='r…"
      ]
     },
     "metadata": {},
     "output_type": "display_data"
    },
    {
     "name": "stdout",
     "output_type": "stream",
     "text": [
      "[(1, 3, 84, 84), (1,), (1,), (1,), (1, 2)]\n",
      "(7,)\n",
      "(3, 84, 84)\n"
     ]
    },
    {
     "data": {
      "application/vnd.jupyter.widget-view+json": {
       "model_id": "4e2f05f3c97543ebb458c87380dbf044",
       "version_major": 2,
       "version_minor": 0
      },
      "text/plain": [
       "HBox(children=(Canvas(height=84, width=84),), layout=Layout(align_items='center', display='flex', flex_flow='r…"
      ]
     },
     "metadata": {},
     "output_type": "display_data"
    },
    {
     "name": "stdout",
     "output_type": "stream",
     "text": [
      "[(1, 3, 84, 84), (1,), (1,), (1,), (1, 2)]\n",
      "(7,)\n",
      "(3, 84, 84)\n"
     ]
    },
    {
     "data": {
      "application/vnd.jupyter.widget-view+json": {
       "model_id": "bc2ca32e78f34174938fc9ca4dee665f",
       "version_major": 2,
       "version_minor": 0
      },
      "text/plain": [
       "HBox(children=(Canvas(height=84, width=84),), layout=Layout(align_items='center', display='flex', flex_flow='r…"
      ]
     },
     "metadata": {},
     "output_type": "display_data"
    },
    {
     "name": "stdout",
     "output_type": "stream",
     "text": [
      "[(1, 3, 84, 84), (1,), (1,), (1,), (1, 2)]\n",
      "(7,)\n",
      "(3, 84, 84)\n"
     ]
    },
    {
     "data": {
      "application/vnd.jupyter.widget-view+json": {
       "model_id": "c4554a5f0a8144f68f3f9266bdc57f55",
       "version_major": 2,
       "version_minor": 0
      },
      "text/plain": [
       "HBox(children=(Canvas(height=84, width=84),), layout=Layout(align_items='center', display='flex', flex_flow='r…"
      ]
     },
     "metadata": {},
     "output_type": "display_data"
    },
    {
     "name": "stdout",
     "output_type": "stream",
     "text": [
      "[(1, 3, 84, 84), (1,), (1,), (1,), (1, 2)]\n",
      "(7,)\n",
      "(3, 84, 84)\n"
     ]
    },
    {
     "data": {
      "application/vnd.jupyter.widget-view+json": {
       "model_id": "d9221345ffc2497399d07699cc6fa067",
       "version_major": 2,
       "version_minor": 0
      },
      "text/plain": [
       "HBox(children=(Canvas(height=84, width=84),), layout=Layout(align_items='center', display='flex', flex_flow='r…"
      ]
     },
     "metadata": {},
     "output_type": "display_data"
    },
    {
     "name": "stdout",
     "output_type": "stream",
     "text": [
      "[(1, 3, 84, 84), (1,), (1,), (1,), (1, 2)]\n",
      "(7,)\n",
      "(3, 84, 84)\n"
     ]
    },
    {
     "data": {
      "application/vnd.jupyter.widget-view+json": {
       "model_id": "3a481ca14f6240f488eaff1a3c123f71",
       "version_major": 2,
       "version_minor": 0
      },
      "text/plain": [
       "HBox(children=(Canvas(height=84, width=84),), layout=Layout(align_items='center', display='flex', flex_flow='r…"
      ]
     },
     "metadata": {},
     "output_type": "display_data"
    },
    {
     "name": "stdout",
     "output_type": "stream",
     "text": [
      "[(1, 3, 84, 84), (1,), (1,), (1,), (1, 2)]\n",
      "(7,)\n",
      "(3, 84, 84)\n"
     ]
    },
    {
     "data": {
      "application/vnd.jupyter.widget-view+json": {
       "model_id": "628bff3d880b4bd3b28e1f671e2b4f04",
       "version_major": 2,
       "version_minor": 0
      },
      "text/plain": [
       "HBox(children=(Canvas(height=84, width=84),), layout=Layout(align_items='center', display='flex', flex_flow='r…"
      ]
     },
     "metadata": {},
     "output_type": "display_data"
    },
    {
     "name": "stdout",
     "output_type": "stream",
     "text": [
      "[(1, 3, 84, 84), (1,), (1,), (1,), (1, 2)]\n",
      "(7,)\n",
      "(3, 84, 84)\n"
     ]
    },
    {
     "data": {
      "application/vnd.jupyter.widget-view+json": {
       "model_id": "ad775776e13e46a392d501d6bc81c9ff",
       "version_major": 2,
       "version_minor": 0
      },
      "text/plain": [
       "HBox(children=(Canvas(height=84, width=84),), layout=Layout(align_items='center', display='flex', flex_flow='r…"
      ]
     },
     "metadata": {},
     "output_type": "display_data"
    },
    {
     "name": "stdout",
     "output_type": "stream",
     "text": [
      "[(1, 3, 84, 84), (1,), (1,), (1,), (1, 2)]\n",
      "(7,)\n",
      "(3, 84, 84)\n"
     ]
    },
    {
     "data": {
      "application/vnd.jupyter.widget-view+json": {
       "model_id": "8ae630f8a648426a98bcb97097726400",
       "version_major": 2,
       "version_minor": 0
      },
      "text/plain": [
       "HBox(children=(Canvas(height=84, width=84),), layout=Layout(align_items='center', display='flex', flex_flow='r…"
      ]
     },
     "metadata": {},
     "output_type": "display_data"
    },
    {
     "name": "stdout",
     "output_type": "stream",
     "text": [
      "[(1, 3, 84, 84), (1,), (1,), (1,), (1, 2)]\n",
      "(7,)\n",
      "(3, 84, 84)\n"
     ]
    },
    {
     "data": {
      "application/vnd.jupyter.widget-view+json": {
       "model_id": "3b1b84e52c9f4f54b046edb16ce21aad",
       "version_major": 2,
       "version_minor": 0
      },
      "text/plain": [
       "HBox(children=(Canvas(height=84, width=84),), layout=Layout(align_items='center', display='flex', flex_flow='r…"
      ]
     },
     "metadata": {},
     "output_type": "display_data"
    },
    {
     "name": "stdout",
     "output_type": "stream",
     "text": [
      "[(1, 3, 84, 84), (1,), (1,), (1,), (1, 2)]\n",
      "(7,)\n",
      "(3, 84, 84)\n"
     ]
    },
    {
     "data": {
      "application/vnd.jupyter.widget-view+json": {
       "model_id": "8ad6dfb5bf0a47c3adb2d1498edaa911",
       "version_major": 2,
       "version_minor": 0
      },
      "text/plain": [
       "HBox(children=(Canvas(height=84, width=84),), layout=Layout(align_items='center', display='flex', flex_flow='r…"
      ]
     },
     "metadata": {},
     "output_type": "display_data"
    },
    {
     "name": "stdout",
     "output_type": "stream",
     "text": [
      "[(1, 3, 84, 84), (1,), (1,), (1,), (1, 2)]\n",
      "(7,)\n",
      "(3, 84, 84)\n"
     ]
    },
    {
     "data": {
      "application/vnd.jupyter.widget-view+json": {
       "model_id": "9fc8dd00f20646b19cc393c0a6fe65c9",
       "version_major": 2,
       "version_minor": 0
      },
      "text/plain": [
       "HBox(children=(Canvas(height=84, width=84),), layout=Layout(align_items='center', display='flex', flex_flow='r…"
      ]
     },
     "metadata": {},
     "output_type": "display_data"
    },
    {
     "name": "stdout",
     "output_type": "stream",
     "text": [
      "[(1, 3, 84, 84), (1,), (1,), (1,), (1, 2)]\n",
      "(7,)\n",
      "(3, 84, 84)\n"
     ]
    },
    {
     "data": {
      "application/vnd.jupyter.widget-view+json": {
       "model_id": "3dccee78f78541508ac85d490283d976",
       "version_major": 2,
       "version_minor": 0
      },
      "text/plain": [
       "HBox(children=(Canvas(height=84, width=84),), layout=Layout(align_items='center', display='flex', flex_flow='r…"
      ]
     },
     "metadata": {},
     "output_type": "display_data"
    },
    {
     "name": "stdout",
     "output_type": "stream",
     "text": [
      "[(1, 3, 84, 84), (1,), (1,), (1,), (1, 2)]\n",
      "(7,)\n",
      "(3, 84, 84)\n"
     ]
    },
    {
     "data": {
      "application/vnd.jupyter.widget-view+json": {
       "model_id": "3ab5ba24315147d1be95f7497bf6b049",
       "version_major": 2,
       "version_minor": 0
      },
      "text/plain": [
       "HBox(children=(Canvas(height=84, width=84),), layout=Layout(align_items='center', display='flex', flex_flow='r…"
      ]
     },
     "metadata": {},
     "output_type": "display_data"
    },
    {
     "name": "stdout",
     "output_type": "stream",
     "text": [
      "[(1, 3, 84, 84), (1,), (1,), (1,), (1, 2)]\n",
      "(7,)\n",
      "(3, 84, 84)\n"
     ]
    },
    {
     "data": {
      "application/vnd.jupyter.widget-view+json": {
       "model_id": "93b0c182644840ffb7b58f73c683a306",
       "version_major": 2,
       "version_minor": 0
      },
      "text/plain": [
       "HBox(children=(Canvas(height=84, width=84),), layout=Layout(align_items='center', display='flex', flex_flow='r…"
      ]
     },
     "metadata": {},
     "output_type": "display_data"
    },
    {
     "name": "stdout",
     "output_type": "stream",
     "text": [
      "[(1, 3, 84, 84), (1,), (1,), (1,), (1, 2)]\n",
      "(7,)\n",
      "(3, 84, 84)\n"
     ]
    },
    {
     "data": {
      "application/vnd.jupyter.widget-view+json": {
       "model_id": "b3717d97a6774a27bcd75a366ef2eb49",
       "version_major": 2,
       "version_minor": 0
      },
      "text/plain": [
       "HBox(children=(Canvas(height=84, width=84),), layout=Layout(align_items='center', display='flex', flex_flow='r…"
      ]
     },
     "metadata": {},
     "output_type": "display_data"
    },
    {
     "name": "stdout",
     "output_type": "stream",
     "text": [
      "[(1, 3, 84, 84), (1,), (1,), (1,), (1, 2)]\n",
      "(7,)\n",
      "(3, 84, 84)\n"
     ]
    },
    {
     "data": {
      "application/vnd.jupyter.widget-view+json": {
       "model_id": "9d55e04ea9b743bdbf15781b503d02b6",
       "version_major": 2,
       "version_minor": 0
      },
      "text/plain": [
       "HBox(children=(Canvas(height=84, width=84),), layout=Layout(align_items='center', display='flex', flex_flow='r…"
      ]
     },
     "metadata": {},
     "output_type": "display_data"
    },
    {
     "name": "stdout",
     "output_type": "stream",
     "text": [
      "[(1, 3, 84, 84), (1,), (1,), (1,), (1, 2)]\n",
      "(7,)\n",
      "(3, 84, 84)\n"
     ]
    },
    {
     "data": {
      "application/vnd.jupyter.widget-view+json": {
       "model_id": "fcaa63ef12c1464ebb32ec8a8767ad1f",
       "version_major": 2,
       "version_minor": 0
      },
      "text/plain": [
       "HBox(children=(Canvas(height=84, width=84),), layout=Layout(align_items='center', display='flex', flex_flow='r…"
      ]
     },
     "metadata": {},
     "output_type": "display_data"
    },
    {
     "name": "stdout",
     "output_type": "stream",
     "text": [
      "[(1, 3, 84, 84), (1,), (1,), (1,), (1, 2)]\n",
      "(7,)\n",
      "(3, 84, 84)\n"
     ]
    },
    {
     "data": {
      "application/vnd.jupyter.widget-view+json": {
       "model_id": "20bd4d03d48b465aa118997f3d05611d",
       "version_major": 2,
       "version_minor": 0
      },
      "text/plain": [
       "HBox(children=(Canvas(height=84, width=84),), layout=Layout(align_items='center', display='flex', flex_flow='r…"
      ]
     },
     "metadata": {},
     "output_type": "display_data"
    },
    {
     "name": "stdout",
     "output_type": "stream",
     "text": [
      "[(1, 3, 84, 84), (1,), (1,), (1,), (1, 2)]\n",
      "(7,)\n",
      "(3, 84, 84)\n"
     ]
    },
    {
     "data": {
      "application/vnd.jupyter.widget-view+json": {
       "model_id": "a2411fbe8ea74e3a86fd71c666540a96",
       "version_major": 2,
       "version_minor": 0
      },
      "text/plain": [
       "HBox(children=(Canvas(height=84, width=84),), layout=Layout(align_items='center', display='flex', flex_flow='r…"
      ]
     },
     "metadata": {},
     "output_type": "display_data"
    },
    {
     "name": "stdout",
     "output_type": "stream",
     "text": [
      "[(1, 3, 84, 84), (1,), (1,), (1,), (1, 2)]\n",
      "(7,)\n",
      "(3, 84, 84)\n"
     ]
    },
    {
     "data": {
      "application/vnd.jupyter.widget-view+json": {
       "model_id": "0c889d7ebdc347cc95c8bf76d11cd837",
       "version_major": 2,
       "version_minor": 0
      },
      "text/plain": [
       "HBox(children=(Canvas(height=84, width=84),), layout=Layout(align_items='center', display='flex', flex_flow='r…"
      ]
     },
     "metadata": {},
     "output_type": "display_data"
    },
    {
     "name": "stdout",
     "output_type": "stream",
     "text": [
      "[(1, 3, 84, 84), (1,), (1,), (1,), (1, 2)]\n",
      "(7,)\n",
      "(3, 84, 84)\n"
     ]
    },
    {
     "data": {
      "application/vnd.jupyter.widget-view+json": {
       "model_id": "ac6ad381be6c4970a80363693d9eb9d7",
       "version_major": 2,
       "version_minor": 0
      },
      "text/plain": [
       "HBox(children=(Canvas(height=84, width=84),), layout=Layout(align_items='center', display='flex', flex_flow='r…"
      ]
     },
     "metadata": {},
     "output_type": "display_data"
    },
    {
     "name": "stdout",
     "output_type": "stream",
     "text": [
      "[(1, 3, 84, 84), (1,), (1,), (1,), (1, 2)]\n",
      "(7,)\n",
      "(3, 84, 84)\n"
     ]
    },
    {
     "data": {
      "application/vnd.jupyter.widget-view+json": {
       "model_id": "d774e8dde72741d4af2cc5a34ca5d1eb",
       "version_major": 2,
       "version_minor": 0
      },
      "text/plain": [
       "HBox(children=(Canvas(height=84, width=84),), layout=Layout(align_items='center', display='flex', flex_flow='r…"
      ]
     },
     "metadata": {},
     "output_type": "display_data"
    },
    {
     "name": "stdout",
     "output_type": "stream",
     "text": [
      "[(1, 3, 84, 84), (1,), (1,), (1,), (1, 2)]\n",
      "(7,)\n",
      "(3, 84, 84)\n"
     ]
    },
    {
     "data": {
      "application/vnd.jupyter.widget-view+json": {
       "model_id": "1775ee3f106e4a6d98ed2a84708e7a49",
       "version_major": 2,
       "version_minor": 0
      },
      "text/plain": [
       "HBox(children=(Canvas(height=84, width=84),), layout=Layout(align_items='center', display='flex', flex_flow='r…"
      ]
     },
     "metadata": {},
     "output_type": "display_data"
    },
    {
     "name": "stdout",
     "output_type": "stream",
     "text": [
      "[(1, 3, 84, 84), (1,), (1,), (1,), (1, 2)]\n",
      "(7,)\n",
      "(3, 84, 84)\n"
     ]
    },
    {
     "data": {
      "application/vnd.jupyter.widget-view+json": {
       "model_id": "a31625bfdca647c49eef3dd3f7a69818",
       "version_major": 2,
       "version_minor": 0
      },
      "text/plain": [
       "HBox(children=(Canvas(height=84, width=84),), layout=Layout(align_items='center', display='flex', flex_flow='r…"
      ]
     },
     "metadata": {},
     "output_type": "display_data"
    },
    {
     "name": "stdout",
     "output_type": "stream",
     "text": [
      "[(1, 3, 84, 84), (1,), (1,), (1,), (1, 2)]\n",
      "(7,)\n",
      "(3, 84, 84)\n"
     ]
    },
    {
     "data": {
      "application/vnd.jupyter.widget-view+json": {
       "model_id": "a48fd0bf4b534a48822dc93e3dca375b",
       "version_major": 2,
       "version_minor": 0
      },
      "text/plain": [
       "HBox(children=(Canvas(height=84, width=84),), layout=Layout(align_items='center', display='flex', flex_flow='r…"
      ]
     },
     "metadata": {},
     "output_type": "display_data"
    },
    {
     "name": "stdout",
     "output_type": "stream",
     "text": [
      "[(1, 3, 84, 84), (1,), (1,), (1,), (1, 2)]\n",
      "(7,)\n",
      "(3, 84, 84)\n"
     ]
    },
    {
     "data": {
      "application/vnd.jupyter.widget-view+json": {
       "model_id": "44b2a6a676ef4f9b9d94ef35d810c322",
       "version_major": 2,
       "version_minor": 0
      },
      "text/plain": [
       "HBox(children=(Canvas(height=84, width=84),), layout=Layout(align_items='center', display='flex', flex_flow='r…"
      ]
     },
     "metadata": {},
     "output_type": "display_data"
    },
    {
     "name": "stdout",
     "output_type": "stream",
     "text": [
      "[(1, 3, 84, 84), (1,), (1,), (1,), (1, 2)]\n",
      "(7,)\n",
      "(3, 84, 84)\n"
     ]
    },
    {
     "data": {
      "application/vnd.jupyter.widget-view+json": {
       "model_id": "42fe64520e33460889d601d8888d99e2",
       "version_major": 2,
       "version_minor": 0
      },
      "text/plain": [
       "HBox(children=(Canvas(height=84, width=84),), layout=Layout(align_items='center', display='flex', flex_flow='r…"
      ]
     },
     "metadata": {},
     "output_type": "display_data"
    },
    {
     "name": "stdout",
     "output_type": "stream",
     "text": [
      "[(1, 3, 84, 84), (1,), (1,), (1,), (1, 2)]\n",
      "(7,)\n",
      "(3, 84, 84)\n"
     ]
    },
    {
     "data": {
      "application/vnd.jupyter.widget-view+json": {
       "model_id": "28ae0e4de018467486d86e1cedd2e7e1",
       "version_major": 2,
       "version_minor": 0
      },
      "text/plain": [
       "HBox(children=(Canvas(height=84, width=84),), layout=Layout(align_items='center', display='flex', flex_flow='r…"
      ]
     },
     "metadata": {},
     "output_type": "display_data"
    },
    {
     "name": "stdout",
     "output_type": "stream",
     "text": [
      "[(1, 3, 84, 84), (1,), (1,), (1,), (1, 2)]\n",
      "(7,)\n",
      "(3, 84, 84)\n"
     ]
    },
    {
     "data": {
      "application/vnd.jupyter.widget-view+json": {
       "model_id": "084c6f4c647449b7b9470a606afa2887",
       "version_major": 2,
       "version_minor": 0
      },
      "text/plain": [
       "HBox(children=(Canvas(height=84, width=84),), layout=Layout(align_items='center', display='flex', flex_flow='r…"
      ]
     },
     "metadata": {},
     "output_type": "display_data"
    },
    {
     "name": "stdout",
     "output_type": "stream",
     "text": [
      "[(1, 3, 84, 84), (1,), (1,), (1,), (1, 2)]\n",
      "(7,)\n",
      "(3, 84, 84)\n"
     ]
    },
    {
     "data": {
      "application/vnd.jupyter.widget-view+json": {
       "model_id": "4e51852405664ede9b891827f9ce5771",
       "version_major": 2,
       "version_minor": 0
      },
      "text/plain": [
       "HBox(children=(Canvas(height=84, width=84),), layout=Layout(align_items='center', display='flex', flex_flow='r…"
      ]
     },
     "metadata": {},
     "output_type": "display_data"
    },
    {
     "name": "stdout",
     "output_type": "stream",
     "text": [
      "[(1, 3, 84, 84), (1,), (1,), (1,), (1, 2)]\n",
      "(7,)\n",
      "(3, 84, 84)\n"
     ]
    },
    {
     "data": {
      "application/vnd.jupyter.widget-view+json": {
       "model_id": "08900e35217b440385c2b2244be1c09b",
       "version_major": 2,
       "version_minor": 0
      },
      "text/plain": [
       "HBox(children=(Canvas(height=84, width=84),), layout=Layout(align_items='center', display='flex', flex_flow='r…"
      ]
     },
     "metadata": {},
     "output_type": "display_data"
    },
    {
     "name": "stdout",
     "output_type": "stream",
     "text": [
      "[(1, 3, 84, 84), (1,), (1,), (1,), (1, 2)]\n",
      "(7,)\n",
      "(3, 84, 84)\n"
     ]
    },
    {
     "data": {
      "application/vnd.jupyter.widget-view+json": {
       "model_id": "085148bf54774a58bf9f9bee654cd78a",
       "version_major": 2,
       "version_minor": 0
      },
      "text/plain": [
       "HBox(children=(Canvas(height=84, width=84),), layout=Layout(align_items='center', display='flex', flex_flow='r…"
      ]
     },
     "metadata": {},
     "output_type": "display_data"
    },
    {
     "name": "stdout",
     "output_type": "stream",
     "text": [
      "[(1, 3, 84, 84), (1,), (1,), (1,), (1, 2)]\n",
      "(7,)\n",
      "(3, 84, 84)\n"
     ]
    },
    {
     "data": {
      "application/vnd.jupyter.widget-view+json": {
       "model_id": "30126f09a27e4c70a51d71f1ce1410aa",
       "version_major": 2,
       "version_minor": 0
      },
      "text/plain": [
       "HBox(children=(Canvas(height=84, width=84),), layout=Layout(align_items='center', display='flex', flex_flow='r…"
      ]
     },
     "metadata": {},
     "output_type": "display_data"
    },
    {
     "name": "stdout",
     "output_type": "stream",
     "text": [
      "[(1, 3, 84, 84), (1,), (1,), (1,), (1, 2)]\n",
      "(7,)\n",
      "(3, 84, 84)\n"
     ]
    },
    {
     "data": {
      "application/vnd.jupyter.widget-view+json": {
       "model_id": "d5f46b0630664bb5ac7380d899384170",
       "version_major": 2,
       "version_minor": 0
      },
      "text/plain": [
       "HBox(children=(Canvas(height=84, width=84),), layout=Layout(align_items='center', display='flex', flex_flow='r…"
      ]
     },
     "metadata": {},
     "output_type": "display_data"
    },
    {
     "name": "stdout",
     "output_type": "stream",
     "text": [
      "[(1, 3, 84, 84), (1,), (1,), (1,), (1, 2)]\n",
      "(7,)\n",
      "(3, 84, 84)\n"
     ]
    },
    {
     "data": {
      "application/vnd.jupyter.widget-view+json": {
       "model_id": "e04f3c35296b4be2bb79fa005cc9b714",
       "version_major": 2,
       "version_minor": 0
      },
      "text/plain": [
       "HBox(children=(Canvas(height=84, width=84),), layout=Layout(align_items='center', display='flex', flex_flow='r…"
      ]
     },
     "metadata": {},
     "output_type": "display_data"
    },
    {
     "name": "stdout",
     "output_type": "stream",
     "text": [
      "[(1, 3, 84, 84), (1,), (1,), (1,), (1, 2)]\n",
      "(7,)\n",
      "(3, 84, 84)\n"
     ]
    },
    {
     "data": {
      "application/vnd.jupyter.widget-view+json": {
       "model_id": "403ce230f2984c89b45cd8ee1dcb29fc",
       "version_major": 2,
       "version_minor": 0
      },
      "text/plain": [
       "HBox(children=(Canvas(height=84, width=84),), layout=Layout(align_items='center', display='flex', flex_flow='r…"
      ]
     },
     "metadata": {},
     "output_type": "display_data"
    },
    {
     "name": "stdout",
     "output_type": "stream",
     "text": [
      "[(1, 3, 84, 84), (1,), (1,), (1,), (1, 2)]\n",
      "(7,)\n",
      "(3, 84, 84)\n"
     ]
    },
    {
     "data": {
      "application/vnd.jupyter.widget-view+json": {
       "model_id": "23f37e8ab7674f59bce263f9b26b8471",
       "version_major": 2,
       "version_minor": 0
      },
      "text/plain": [
       "HBox(children=(Canvas(height=84, width=84),), layout=Layout(align_items='center', display='flex', flex_flow='r…"
      ]
     },
     "metadata": {},
     "output_type": "display_data"
    },
    {
     "name": "stdout",
     "output_type": "stream",
     "text": [
      "[(1, 3, 84, 84), (1,), (1,), (1,), (1, 2)]\n",
      "(7,)\n",
      "(3, 84, 84)\n"
     ]
    },
    {
     "data": {
      "application/vnd.jupyter.widget-view+json": {
       "model_id": "010a227c2bf64f74a0333781787969a1",
       "version_major": 2,
       "version_minor": 0
      },
      "text/plain": [
       "HBox(children=(Canvas(height=84, width=84),), layout=Layout(align_items='center', display='flex', flex_flow='r…"
      ]
     },
     "metadata": {},
     "output_type": "display_data"
    },
    {
     "name": "stdout",
     "output_type": "stream",
     "text": [
      "[(1, 3, 84, 84), (1,), (1,), (1,), (1, 2)]\n",
      "(7,)\n",
      "(3, 84, 84)\n"
     ]
    },
    {
     "data": {
      "application/vnd.jupyter.widget-view+json": {
       "model_id": "51ebbbf09d4e49868343f926e3bd967e",
       "version_major": 2,
       "version_minor": 0
      },
      "text/plain": [
       "HBox(children=(Canvas(height=84, width=84),), layout=Layout(align_items='center', display='flex', flex_flow='r…"
      ]
     },
     "metadata": {},
     "output_type": "display_data"
    },
    {
     "name": "stdout",
     "output_type": "stream",
     "text": [
      "[(1, 3, 84, 84), (1,), (1,), (1,), (1, 2)]\n",
      "(7,)\n",
      "(3, 84, 84)\n"
     ]
    },
    {
     "data": {
      "application/vnd.jupyter.widget-view+json": {
       "model_id": "cadb01906e074610b3bae564f1de6da0",
       "version_major": 2,
       "version_minor": 0
      },
      "text/plain": [
       "HBox(children=(Canvas(height=84, width=84),), layout=Layout(align_items='center', display='flex', flex_flow='r…"
      ]
     },
     "metadata": {},
     "output_type": "display_data"
    },
    {
     "name": "stdout",
     "output_type": "stream",
     "text": [
      "[(1, 3, 84, 84), (1,), (1,), (1,), (1, 2)]\n",
      "(7,)\n",
      "(3, 84, 84)\n"
     ]
    },
    {
     "data": {
      "application/vnd.jupyter.widget-view+json": {
       "model_id": "6a043a0ed8884b0abe2335ac1f2d05ba",
       "version_major": 2,
       "version_minor": 0
      },
      "text/plain": [
       "HBox(children=(Canvas(height=84, width=84),), layout=Layout(align_items='center', display='flex', flex_flow='r…"
      ]
     },
     "metadata": {},
     "output_type": "display_data"
    },
    {
     "name": "stdout",
     "output_type": "stream",
     "text": [
      "[(1, 3, 84, 84), (1,), (1,), (1,), (1, 2)]\n",
      "(7,)\n",
      "(3, 84, 84)\n"
     ]
    },
    {
     "data": {
      "application/vnd.jupyter.widget-view+json": {
       "model_id": "615eac103a0b4f3380e15e67c4bd37d0",
       "version_major": 2,
       "version_minor": 0
      },
      "text/plain": [
       "HBox(children=(Canvas(height=84, width=84),), layout=Layout(align_items='center', display='flex', flex_flow='r…"
      ]
     },
     "metadata": {},
     "output_type": "display_data"
    },
    {
     "name": "stdout",
     "output_type": "stream",
     "text": [
      "[(1, 3, 84, 84), (1,), (1,), (1,), (1, 2)]\n",
      "(7,)\n",
      "(3, 84, 84)\n"
     ]
    },
    {
     "data": {
      "application/vnd.jupyter.widget-view+json": {
       "model_id": "d78045d7ebde4152a5751fd60698b4db",
       "version_major": 2,
       "version_minor": 0
      },
      "text/plain": [
       "HBox(children=(Canvas(height=84, width=84),), layout=Layout(align_items='center', display='flex', flex_flow='r…"
      ]
     },
     "metadata": {},
     "output_type": "display_data"
    },
    {
     "name": "stdout",
     "output_type": "stream",
     "text": [
      "[(1, 3, 84, 84), (1,), (1,), (1,), (1, 2)]\n",
      "(7,)\n",
      "(3, 84, 84)\n"
     ]
    },
    {
     "data": {
      "application/vnd.jupyter.widget-view+json": {
       "model_id": "015fca31190d4869b7889cfc2ea9cf7f",
       "version_major": 2,
       "version_minor": 0
      },
      "text/plain": [
       "HBox(children=(Canvas(height=84, width=84),), layout=Layout(align_items='center', display='flex', flex_flow='r…"
      ]
     },
     "metadata": {},
     "output_type": "display_data"
    },
    {
     "name": "stdout",
     "output_type": "stream",
     "text": [
      "[(1, 3, 84, 84), (1,), (1,), (1,), (1, 2)]\n",
      "(7,)\n",
      "(3, 84, 84)\n"
     ]
    },
    {
     "data": {
      "application/vnd.jupyter.widget-view+json": {
       "model_id": "80483a7a2dc64ae8bf016dd00c1bc784",
       "version_major": 2,
       "version_minor": 0
      },
      "text/plain": [
       "HBox(children=(Canvas(height=84, width=84),), layout=Layout(align_items='center', display='flex', flex_flow='r…"
      ]
     },
     "metadata": {},
     "output_type": "display_data"
    },
    {
     "name": "stdout",
     "output_type": "stream",
     "text": [
      "[(1, 3, 84, 84), (1,), (1,), (1,), (1, 2)]\n",
      "(7,)\n",
      "(3, 84, 84)\n"
     ]
    },
    {
     "data": {
      "application/vnd.jupyter.widget-view+json": {
       "model_id": "a9e1344193084d62b814f0816025d375",
       "version_major": 2,
       "version_minor": 0
      },
      "text/plain": [
       "HBox(children=(Canvas(height=84, width=84),), layout=Layout(align_items='center', display='flex', flex_flow='r…"
      ]
     },
     "metadata": {},
     "output_type": "display_data"
    },
    {
     "name": "stdout",
     "output_type": "stream",
     "text": [
      "[(1, 3, 84, 84), (1,), (1,), (1,), (1, 2)]\n",
      "(7,)\n",
      "(3, 84, 84)\n"
     ]
    },
    {
     "data": {
      "application/vnd.jupyter.widget-view+json": {
       "model_id": "c6135d97548247d8bc83bd349ea632df",
       "version_major": 2,
       "version_minor": 0
      },
      "text/plain": [
       "HBox(children=(Canvas(height=84, width=84),), layout=Layout(align_items='center', display='flex', flex_flow='r…"
      ]
     },
     "metadata": {},
     "output_type": "display_data"
    },
    {
     "name": "stdout",
     "output_type": "stream",
     "text": [
      "[(1, 3, 84, 84), (1,), (1,), (1,), (1, 2)]\n",
      "(7,)\n",
      "(3, 84, 84)\n"
     ]
    },
    {
     "data": {
      "application/vnd.jupyter.widget-view+json": {
       "model_id": "0f53c170f23b4587989e60177697a483",
       "version_major": 2,
       "version_minor": 0
      },
      "text/plain": [
       "HBox(children=(Canvas(height=84, width=84),), layout=Layout(align_items='center', display='flex', flex_flow='r…"
      ]
     },
     "metadata": {},
     "output_type": "display_data"
    },
    {
     "name": "stdout",
     "output_type": "stream",
     "text": [
      "[(1, 3, 84, 84), (1,), (1,), (1,), (1, 2)]\n",
      "(7,)\n",
      "(3, 84, 84)\n"
     ]
    },
    {
     "data": {
      "application/vnd.jupyter.widget-view+json": {
       "model_id": "f62c944feb814b0198562588c4ffd394",
       "version_major": 2,
       "version_minor": 0
      },
      "text/plain": [
       "HBox(children=(Canvas(height=84, width=84),), layout=Layout(align_items='center', display='flex', flex_flow='r…"
      ]
     },
     "metadata": {},
     "output_type": "display_data"
    },
    {
     "name": "stdout",
     "output_type": "stream",
     "text": [
      "[(1, 3, 84, 84), (1,), (1,), (1,), (1, 2)]\n",
      "(7,)\n",
      "(3, 84, 84)\n"
     ]
    },
    {
     "data": {
      "application/vnd.jupyter.widget-view+json": {
       "model_id": "1efe103d3d5a4b4183ad66ca9d13846b",
       "version_major": 2,
       "version_minor": 0
      },
      "text/plain": [
       "HBox(children=(Canvas(height=84, width=84),), layout=Layout(align_items='center', display='flex', flex_flow='r…"
      ]
     },
     "metadata": {},
     "output_type": "display_data"
    },
    {
     "name": "stdout",
     "output_type": "stream",
     "text": [
      "[(1, 3, 84, 84), (1,), (1,), (1,), (1, 2)]\n",
      "(7,)\n",
      "(3, 84, 84)\n"
     ]
    },
    {
     "data": {
      "application/vnd.jupyter.widget-view+json": {
       "model_id": "4cd6501692194733b6f41048ef504f64",
       "version_major": 2,
       "version_minor": 0
      },
      "text/plain": [
       "HBox(children=(Canvas(height=84, width=84),), layout=Layout(align_items='center', display='flex', flex_flow='r…"
      ]
     },
     "metadata": {},
     "output_type": "display_data"
    },
    {
     "name": "stdout",
     "output_type": "stream",
     "text": [
      "[(1, 3, 84, 84), (1,), (1,), (1,), (1, 2)]\n",
      "(7,)\n",
      "(3, 84, 84)\n"
     ]
    },
    {
     "data": {
      "application/vnd.jupyter.widget-view+json": {
       "model_id": "62bdc7c78f4e495a9fc7690dbfdb2899",
       "version_major": 2,
       "version_minor": 0
      },
      "text/plain": [
       "HBox(children=(Canvas(height=84, width=84),), layout=Layout(align_items='center', display='flex', flex_flow='r…"
      ]
     },
     "metadata": {},
     "output_type": "display_data"
    },
    {
     "name": "stdout",
     "output_type": "stream",
     "text": [
      "[(1, 3, 84, 84), (1,), (1,), (1,), (1, 2)]\n",
      "(7,)\n",
      "(3, 84, 84)\n"
     ]
    },
    {
     "data": {
      "application/vnd.jupyter.widget-view+json": {
       "model_id": "4b3a4c4a8dbd4794a7bb2e869e4fae6e",
       "version_major": 2,
       "version_minor": 0
      },
      "text/plain": [
       "HBox(children=(Canvas(height=84, width=84),), layout=Layout(align_items='center', display='flex', flex_flow='r…"
      ]
     },
     "metadata": {},
     "output_type": "display_data"
    },
    {
     "name": "stdout",
     "output_type": "stream",
     "text": [
      "[(1, 3, 84, 84), (1,), (1,), (1,), (1, 2)]\n",
      "(7,)\n",
      "(3, 84, 84)\n"
     ]
    },
    {
     "data": {
      "application/vnd.jupyter.widget-view+json": {
       "model_id": "166510a0538242f48aca6f71f3fb8b8a",
       "version_major": 2,
       "version_minor": 0
      },
      "text/plain": [
       "HBox(children=(Canvas(height=84, width=84),), layout=Layout(align_items='center', display='flex', flex_flow='r…"
      ]
     },
     "metadata": {},
     "output_type": "display_data"
    },
    {
     "name": "stdout",
     "output_type": "stream",
     "text": [
      "[(1, 3, 84, 84), (1,), (1,), (1,), (1, 2)]\n",
      "(7,)\n",
      "(3, 84, 84)\n"
     ]
    },
    {
     "data": {
      "application/vnd.jupyter.widget-view+json": {
       "model_id": "522a49cc346448c39c86913b2b42d5a8",
       "version_major": 2,
       "version_minor": 0
      },
      "text/plain": [
       "HBox(children=(Canvas(height=84, width=84),), layout=Layout(align_items='center', display='flex', flex_flow='r…"
      ]
     },
     "metadata": {},
     "output_type": "display_data"
    },
    {
     "name": "stdout",
     "output_type": "stream",
     "text": [
      "[(1, 3, 84, 84), (1,), (1,), (1,), (1, 2)]\n",
      "(7,)\n",
      "(3, 84, 84)\n"
     ]
    },
    {
     "data": {
      "application/vnd.jupyter.widget-view+json": {
       "model_id": "fc1c11d81187496faf92763cffa64b0b",
       "version_major": 2,
       "version_minor": 0
      },
      "text/plain": [
       "HBox(children=(Canvas(height=84, width=84),), layout=Layout(align_items='center', display='flex', flex_flow='r…"
      ]
     },
     "metadata": {},
     "output_type": "display_data"
    },
    {
     "name": "stdout",
     "output_type": "stream",
     "text": [
      "[(1, 3, 84, 84), (1,), (1,), (1,), (1, 2)]\n",
      "(7,)\n",
      "(3, 84, 84)\n"
     ]
    },
    {
     "data": {
      "application/vnd.jupyter.widget-view+json": {
       "model_id": "ae42d8202f454964a10cba92a2502288",
       "version_major": 2,
       "version_minor": 0
      },
      "text/plain": [
       "HBox(children=(Canvas(height=84, width=84),), layout=Layout(align_items='center', display='flex', flex_flow='r…"
      ]
     },
     "metadata": {},
     "output_type": "display_data"
    },
    {
     "name": "stdout",
     "output_type": "stream",
     "text": [
      "[(1, 3, 84, 84), (1,), (1,), (1,), (1, 2)]\n",
      "(7,)\n",
      "(3, 84, 84)\n"
     ]
    },
    {
     "data": {
      "application/vnd.jupyter.widget-view+json": {
       "model_id": "4c327edc666c4f7cad500c16c63e493c",
       "version_major": 2,
       "version_minor": 0
      },
      "text/plain": [
       "HBox(children=(Canvas(height=84, width=84),), layout=Layout(align_items='center', display='flex', flex_flow='r…"
      ]
     },
     "metadata": {},
     "output_type": "display_data"
    },
    {
     "name": "stdout",
     "output_type": "stream",
     "text": [
      "[(1, 3, 84, 84), (1,), (1,), (1,), (1, 2)]\n",
      "(7,)\n",
      "(3, 84, 84)\n"
     ]
    },
    {
     "data": {
      "application/vnd.jupyter.widget-view+json": {
       "model_id": "8da7009c6a454f9aa19f72ac2f0074a2",
       "version_major": 2,
       "version_minor": 0
      },
      "text/plain": [
       "HBox(children=(Canvas(height=84, width=84),), layout=Layout(align_items='center', display='flex', flex_flow='r…"
      ]
     },
     "metadata": {},
     "output_type": "display_data"
    },
    {
     "name": "stdout",
     "output_type": "stream",
     "text": [
      "[(1, 3, 84, 84), (1,), (1,), (1,), (1, 2)]\n",
      "(7,)\n",
      "(3, 84, 84)\n"
     ]
    },
    {
     "data": {
      "application/vnd.jupyter.widget-view+json": {
       "model_id": "4ea69436de8944bab66e23a3cb9e92e3",
       "version_major": 2,
       "version_minor": 0
      },
      "text/plain": [
       "HBox(children=(Canvas(height=84, width=84),), layout=Layout(align_items='center', display='flex', flex_flow='r…"
      ]
     },
     "metadata": {},
     "output_type": "display_data"
    },
    {
     "name": "stdout",
     "output_type": "stream",
     "text": [
      "[(1, 3, 84, 84), (1,), (1,), (1,), (1, 2)]\n",
      "(7,)\n",
      "(3, 84, 84)\n"
     ]
    },
    {
     "data": {
      "application/vnd.jupyter.widget-view+json": {
       "model_id": "ccd2d61c8b3d48aaa95715109193f355",
       "version_major": 2,
       "version_minor": 0
      },
      "text/plain": [
       "HBox(children=(Canvas(height=84, width=84),), layout=Layout(align_items='center', display='flex', flex_flow='r…"
      ]
     },
     "metadata": {},
     "output_type": "display_data"
    },
    {
     "name": "stdout",
     "output_type": "stream",
     "text": [
      "[(1, 3, 84, 84), (1,), (1,), (1,), (1, 2)]\n",
      "(7,)\n",
      "(3, 84, 84)\n"
     ]
    },
    {
     "data": {
      "application/vnd.jupyter.widget-view+json": {
       "model_id": "2a60eb9f72054a6ab3b8c2041689f903",
       "version_major": 2,
       "version_minor": 0
      },
      "text/plain": [
       "HBox(children=(Canvas(height=84, width=84),), layout=Layout(align_items='center', display='flex', flex_flow='r…"
      ]
     },
     "metadata": {},
     "output_type": "display_data"
    },
    {
     "name": "stdout",
     "output_type": "stream",
     "text": [
      "[(1, 3, 84, 84), (1,), (1,), (1,), (1, 2)]\n",
      "(7,)\n",
      "(3, 84, 84)\n"
     ]
    },
    {
     "data": {
      "application/vnd.jupyter.widget-view+json": {
       "model_id": "986058e63a3844ce927b725074995242",
       "version_major": 2,
       "version_minor": 0
      },
      "text/plain": [
       "HBox(children=(Canvas(height=84, width=84),), layout=Layout(align_items='center', display='flex', flex_flow='r…"
      ]
     },
     "metadata": {},
     "output_type": "display_data"
    },
    {
     "name": "stdout",
     "output_type": "stream",
     "text": [
      "[(1, 3, 84, 84), (1,), (1,), (1,), (1, 2)]\n",
      "(7,)\n",
      "(3, 84, 84)\n"
     ]
    },
    {
     "data": {
      "application/vnd.jupyter.widget-view+json": {
       "model_id": "0d7244f373a54d94ba7319296c40cdc9",
       "version_major": 2,
       "version_minor": 0
      },
      "text/plain": [
       "HBox(children=(Canvas(height=84, width=84),), layout=Layout(align_items='center', display='flex', flex_flow='r…"
      ]
     },
     "metadata": {},
     "output_type": "display_data"
    },
    {
     "name": "stdout",
     "output_type": "stream",
     "text": [
      "[(1, 3, 84, 84), (1,), (1,), (1,), (1, 2)]\n",
      "(7,)\n",
      "(3, 84, 84)\n"
     ]
    },
    {
     "data": {
      "application/vnd.jupyter.widget-view+json": {
       "model_id": "a85f45d83ef84874be9a481de8ef7a81",
       "version_major": 2,
       "version_minor": 0
      },
      "text/plain": [
       "HBox(children=(Canvas(height=84, width=84),), layout=Layout(align_items='center', display='flex', flex_flow='r…"
      ]
     },
     "metadata": {},
     "output_type": "display_data"
    },
    {
     "name": "stdout",
     "output_type": "stream",
     "text": [
      "[(1, 3, 84, 84), (1,), (1,), (1,), (1, 2)]\n",
      "(7,)\n",
      "(3, 84, 84)\n"
     ]
    },
    {
     "data": {
      "application/vnd.jupyter.widget-view+json": {
       "model_id": "a975676787674806b8db1b84d27175cb",
       "version_major": 2,
       "version_minor": 0
      },
      "text/plain": [
       "HBox(children=(Canvas(height=84, width=84),), layout=Layout(align_items='center', display='flex', flex_flow='r…"
      ]
     },
     "metadata": {},
     "output_type": "display_data"
    },
    {
     "name": "stdout",
     "output_type": "stream",
     "text": [
      "[(1, 3, 84, 84), (1,), (1,), (1,), (1, 2)]\n",
      "(7,)\n",
      "(3, 84, 84)\n"
     ]
    },
    {
     "data": {
      "application/vnd.jupyter.widget-view+json": {
       "model_id": "9cc00c32713d46f18059bc9c42e61916",
       "version_major": 2,
       "version_minor": 0
      },
      "text/plain": [
       "HBox(children=(Canvas(height=84, width=84),), layout=Layout(align_items='center', display='flex', flex_flow='r…"
      ]
     },
     "metadata": {},
     "output_type": "display_data"
    },
    {
     "name": "stdout",
     "output_type": "stream",
     "text": [
      "[(1, 3, 84, 84), (1,), (1,), (1,), (1, 2)]\n",
      "(7,)\n",
      "(3, 84, 84)\n"
     ]
    },
    {
     "data": {
      "application/vnd.jupyter.widget-view+json": {
       "model_id": "796ccc37c7884b178a164c778fb6675c",
       "version_major": 2,
       "version_minor": 0
      },
      "text/plain": [
       "HBox(children=(Canvas(height=84, width=84),), layout=Layout(align_items='center', display='flex', flex_flow='r…"
      ]
     },
     "metadata": {},
     "output_type": "display_data"
    },
    {
     "name": "stdout",
     "output_type": "stream",
     "text": [
      "[(1, 3, 84, 84), (1,), (1,), (1,), (1, 2)]\n",
      "(7,)\n",
      "(3, 84, 84)\n"
     ]
    },
    {
     "data": {
      "application/vnd.jupyter.widget-view+json": {
       "model_id": "3b4968fd46ce46ad866075210d5e1e77",
       "version_major": 2,
       "version_minor": 0
      },
      "text/plain": [
       "HBox(children=(Canvas(height=84, width=84),), layout=Layout(align_items='center', display='flex', flex_flow='r…"
      ]
     },
     "metadata": {},
     "output_type": "display_data"
    },
    {
     "name": "stdout",
     "output_type": "stream",
     "text": [
      "[(1, 3, 84, 84), (1,), (1,), (1,), (1, 2)]\n",
      "(7,)\n",
      "(3, 84, 84)\n"
     ]
    },
    {
     "data": {
      "application/vnd.jupyter.widget-view+json": {
       "model_id": "47cdc60e8d8344fbbabc8680361a1785",
       "version_major": 2,
       "version_minor": 0
      },
      "text/plain": [
       "HBox(children=(Canvas(height=84, width=84),), layout=Layout(align_items='center', display='flex', flex_flow='r…"
      ]
     },
     "metadata": {},
     "output_type": "display_data"
    },
    {
     "name": "stdout",
     "output_type": "stream",
     "text": [
      "[(1, 3, 84, 84), (1,), (1,), (1,), (1, 2)]\n",
      "(7,)\n",
      "(3, 84, 84)\n"
     ]
    },
    {
     "data": {
      "application/vnd.jupyter.widget-view+json": {
       "model_id": "798f1ea0fb67418d98625b1c41e7fbdc",
       "version_major": 2,
       "version_minor": 0
      },
      "text/plain": [
       "HBox(children=(Canvas(height=84, width=84),), layout=Layout(align_items='center', display='flex', flex_flow='r…"
      ]
     },
     "metadata": {},
     "output_type": "display_data"
    },
    {
     "name": "stdout",
     "output_type": "stream",
     "text": [
      "[(1, 3, 84, 84), (1,), (1,), (1,), (1, 2)]\n",
      "(7,)\n",
      "(3, 84, 84)\n"
     ]
    },
    {
     "data": {
      "application/vnd.jupyter.widget-view+json": {
       "model_id": "498f5a2ccace4a82b97259362a18cafd",
       "version_major": 2,
       "version_minor": 0
      },
      "text/plain": [
       "HBox(children=(Canvas(height=84, width=84),), layout=Layout(align_items='center', display='flex', flex_flow='r…"
      ]
     },
     "metadata": {},
     "output_type": "display_data"
    },
    {
     "name": "stdout",
     "output_type": "stream",
     "text": [
      "[(1, 3, 84, 84), (1,), (1,), (1,), (1, 2)]\n",
      "(7,)\n",
      "(3, 84, 84)\n"
     ]
    },
    {
     "data": {
      "application/vnd.jupyter.widget-view+json": {
       "model_id": "2ad8dc34acc8419b8289dc07075d8eaa",
       "version_major": 2,
       "version_minor": 0
      },
      "text/plain": [
       "HBox(children=(Canvas(height=84, width=84),), layout=Layout(align_items='center', display='flex', flex_flow='r…"
      ]
     },
     "metadata": {},
     "output_type": "display_data"
    },
    {
     "name": "stdout",
     "output_type": "stream",
     "text": [
      "[(1, 3, 84, 84), (1,), (1,), (1,), (1, 2)]\n",
      "(7,)\n",
      "(3, 84, 84)\n"
     ]
    },
    {
     "data": {
      "application/vnd.jupyter.widget-view+json": {
       "model_id": "eec72fa7f4a546ec8d41742a1fb016aa",
       "version_major": 2,
       "version_minor": 0
      },
      "text/plain": [
       "HBox(children=(Canvas(height=84, width=84),), layout=Layout(align_items='center', display='flex', flex_flow='r…"
      ]
     },
     "metadata": {},
     "output_type": "display_data"
    },
    {
     "name": "stdout",
     "output_type": "stream",
     "text": [
      "[(1, 3, 84, 84), (1,), (1,), (1,), (1, 2)]\n",
      "(7,)\n",
      "(3, 84, 84)\n"
     ]
    },
    {
     "data": {
      "application/vnd.jupyter.widget-view+json": {
       "model_id": "85c8f75ea9144e009708426b2862ef79",
       "version_major": 2,
       "version_minor": 0
      },
      "text/plain": [
       "HBox(children=(Canvas(height=84, width=84),), layout=Layout(align_items='center', display='flex', flex_flow='r…"
      ]
     },
     "metadata": {},
     "output_type": "display_data"
    },
    {
     "name": "stdout",
     "output_type": "stream",
     "text": [
      "[(1, 3, 84, 84), (1,), (1,), (1,), (1, 2)]\n",
      "(7,)\n",
      "(3, 84, 84)\n"
     ]
    },
    {
     "data": {
      "application/vnd.jupyter.widget-view+json": {
       "model_id": "9bf3a73658fa4bf7b259913a212209a4",
       "version_major": 2,
       "version_minor": 0
      },
      "text/plain": [
       "HBox(children=(Canvas(height=84, width=84),), layout=Layout(align_items='center', display='flex', flex_flow='r…"
      ]
     },
     "metadata": {},
     "output_type": "display_data"
    },
    {
     "name": "stdout",
     "output_type": "stream",
     "text": [
      "[(1, 3, 84, 84), (1,), (1,), (1,), (1, 2)]\n",
      "(7,)\n",
      "(3, 84, 84)\n"
     ]
    },
    {
     "data": {
      "application/vnd.jupyter.widget-view+json": {
       "model_id": "d2c052c706d54a16a1e40e6522f93dd2",
       "version_major": 2,
       "version_minor": 0
      },
      "text/plain": [
       "HBox(children=(Canvas(height=84, width=84),), layout=Layout(align_items='center', display='flex', flex_flow='r…"
      ]
     },
     "metadata": {},
     "output_type": "display_data"
    },
    {
     "name": "stdout",
     "output_type": "stream",
     "text": [
      "[(1, 3, 84, 84), (1,), (1,), (1,), (1, 2)]\n",
      "(7,)\n",
      "(3, 84, 84)\n"
     ]
    },
    {
     "data": {
      "application/vnd.jupyter.widget-view+json": {
       "model_id": "c5f25343897a411ab9cce821a3502ae1",
       "version_major": 2,
       "version_minor": 0
      },
      "text/plain": [
       "HBox(children=(Canvas(height=84, width=84),), layout=Layout(align_items='center', display='flex', flex_flow='r…"
      ]
     },
     "metadata": {},
     "output_type": "display_data"
    },
    {
     "name": "stdout",
     "output_type": "stream",
     "text": [
      "[(1, 3, 84, 84), (1,), (1,), (1,), (1, 2)]\n",
      "(7,)\n",
      "(3, 84, 84)\n"
     ]
    },
    {
     "data": {
      "application/vnd.jupyter.widget-view+json": {
       "model_id": "3a85690d2336460a8ce8d35bf3d2cd8e",
       "version_major": 2,
       "version_minor": 0
      },
      "text/plain": [
       "HBox(children=(Canvas(height=84, width=84),), layout=Layout(align_items='center', display='flex', flex_flow='r…"
      ]
     },
     "metadata": {},
     "output_type": "display_data"
    },
    {
     "name": "stdout",
     "output_type": "stream",
     "text": [
      "[(1, 3, 84, 84), (1,), (1,), (1,), (1, 2)]\n",
      "(7,)\n",
      "(3, 84, 84)\n"
     ]
    },
    {
     "data": {
      "application/vnd.jupyter.widget-view+json": {
       "model_id": "65122d8c208f4ca89148580c50100572",
       "version_major": 2,
       "version_minor": 0
      },
      "text/plain": [
       "HBox(children=(Canvas(height=84, width=84),), layout=Layout(align_items='center', display='flex', flex_flow='r…"
      ]
     },
     "metadata": {},
     "output_type": "display_data"
    },
    {
     "name": "stdout",
     "output_type": "stream",
     "text": [
      "[(1, 3, 84, 84), (1,), (1,), (1,), (1, 2)]\n",
      "(7,)\n",
      "(3, 84, 84)\n"
     ]
    },
    {
     "data": {
      "application/vnd.jupyter.widget-view+json": {
       "model_id": "0d64bac5d1ed44358f50208584102f05",
       "version_major": 2,
       "version_minor": 0
      },
      "text/plain": [
       "HBox(children=(Canvas(height=84, width=84),), layout=Layout(align_items='center', display='flex', flex_flow='r…"
      ]
     },
     "metadata": {},
     "output_type": "display_data"
    },
    {
     "name": "stdout",
     "output_type": "stream",
     "text": [
      "[(1, 3, 84, 84), (1,), (1,), (1,), (1, 2)]\n",
      "(7,)\n",
      "(3, 84, 84)\n"
     ]
    },
    {
     "data": {
      "application/vnd.jupyter.widget-view+json": {
       "model_id": "72580853e5244b18af3bc09b516401ca",
       "version_major": 2,
       "version_minor": 0
      },
      "text/plain": [
       "HBox(children=(Canvas(height=84, width=84),), layout=Layout(align_items='center', display='flex', flex_flow='r…"
      ]
     },
     "metadata": {},
     "output_type": "display_data"
    },
    {
     "name": "stdout",
     "output_type": "stream",
     "text": [
      "[(1, 3, 84, 84), (1,), (1,), (1,), (1, 2)]\n",
      "(7,)\n",
      "(3, 84, 84)\n"
     ]
    },
    {
     "data": {
      "application/vnd.jupyter.widget-view+json": {
       "model_id": "7c402de270ab4851a4030f6a96179e3c",
       "version_major": 2,
       "version_minor": 0
      },
      "text/plain": [
       "HBox(children=(Canvas(height=84, width=84),), layout=Layout(align_items='center', display='flex', flex_flow='r…"
      ]
     },
     "metadata": {},
     "output_type": "display_data"
    },
    {
     "name": "stdout",
     "output_type": "stream",
     "text": [
      "[(1, 3, 84, 84), (1,), (1,), (1,), (1, 2)]\n",
      "(7,)\n",
      "(3, 84, 84)\n"
     ]
    },
    {
     "data": {
      "application/vnd.jupyter.widget-view+json": {
       "model_id": "375ce34bd02e429cbe4601a71e68fb47",
       "version_major": 2,
       "version_minor": 0
      },
      "text/plain": [
       "HBox(children=(Canvas(height=84, width=84),), layout=Layout(align_items='center', display='flex', flex_flow='r…"
      ]
     },
     "metadata": {},
     "output_type": "display_data"
    },
    {
     "name": "stdout",
     "output_type": "stream",
     "text": [
      "[(1, 3, 84, 84), (1,), (1,), (1,), (1, 2)]\n",
      "(7,)\n",
      "(3, 84, 84)\n"
     ]
    },
    {
     "data": {
      "application/vnd.jupyter.widget-view+json": {
       "model_id": "cf757fff8b9441e38f0097b0aa8cff8a",
       "version_major": 2,
       "version_minor": 0
      },
      "text/plain": [
       "HBox(children=(Canvas(height=84, width=84),), layout=Layout(align_items='center', display='flex', flex_flow='r…"
      ]
     },
     "metadata": {},
     "output_type": "display_data"
    },
    {
     "name": "stdout",
     "output_type": "stream",
     "text": [
      "[(1, 3, 84, 84), (1,), (1,), (1,), (1, 2)]\n",
      "(7,)\n",
      "(3, 84, 84)\n"
     ]
    },
    {
     "data": {
      "application/vnd.jupyter.widget-view+json": {
       "model_id": "23edbae8ea334fb698f6e18c5fe69bc1",
       "version_major": 2,
       "version_minor": 0
      },
      "text/plain": [
       "HBox(children=(Canvas(height=84, width=84),), layout=Layout(align_items='center', display='flex', flex_flow='r…"
      ]
     },
     "metadata": {},
     "output_type": "display_data"
    },
    {
     "name": "stdout",
     "output_type": "stream",
     "text": [
      "[(1, 3, 84, 84), (1,), (1,), (1,), (1, 2)]\n",
      "(7,)\n",
      "(3, 84, 84)\n"
     ]
    },
    {
     "data": {
      "application/vnd.jupyter.widget-view+json": {
       "model_id": "68367b87064a4844abbed297a1d2034a",
       "version_major": 2,
       "version_minor": 0
      },
      "text/plain": [
       "HBox(children=(Canvas(height=84, width=84),), layout=Layout(align_items='center', display='flex', flex_flow='r…"
      ]
     },
     "metadata": {},
     "output_type": "display_data"
    },
    {
     "name": "stdout",
     "output_type": "stream",
     "text": [
      "[(1, 3, 84, 84), (1,), (1,), (1,), (1, 2)]\n",
      "(7,)\n",
      "(3, 84, 84)\n"
     ]
    },
    {
     "data": {
      "application/vnd.jupyter.widget-view+json": {
       "model_id": "08c27300a3924cc2971872119ffd8e53",
       "version_major": 2,
       "version_minor": 0
      },
      "text/plain": [
       "HBox(children=(Canvas(height=84, width=84),), layout=Layout(align_items='center', display='flex', flex_flow='r…"
      ]
     },
     "metadata": {},
     "output_type": "display_data"
    },
    {
     "name": "stdout",
     "output_type": "stream",
     "text": [
      "[(1, 3, 84, 84), (1,), (1,), (1,), (1, 2)]\n",
      "(7,)\n",
      "(3, 84, 84)\n"
     ]
    },
    {
     "data": {
      "application/vnd.jupyter.widget-view+json": {
       "model_id": "f12b036583fc449bbe07515cd9f82bfa",
       "version_major": 2,
       "version_minor": 0
      },
      "text/plain": [
       "HBox(children=(Canvas(height=84, width=84),), layout=Layout(align_items='center', display='flex', flex_flow='r…"
      ]
     },
     "metadata": {},
     "output_type": "display_data"
    },
    {
     "name": "stdout",
     "output_type": "stream",
     "text": [
      "[(1, 3, 84, 84), (1,), (1,), (1,), (1, 2)]\n",
      "(7,)\n",
      "(3, 84, 84)\n"
     ]
    },
    {
     "data": {
      "application/vnd.jupyter.widget-view+json": {
       "model_id": "98c5572bc6a7497dad3cc2f89ed3e57e",
       "version_major": 2,
       "version_minor": 0
      },
      "text/plain": [
       "HBox(children=(Canvas(height=84, width=84),), layout=Layout(align_items='center', display='flex', flex_flow='r…"
      ]
     },
     "metadata": {},
     "output_type": "display_data"
    },
    {
     "name": "stdout",
     "output_type": "stream",
     "text": [
      "[(1, 3, 84, 84), (1,), (1,), (1,), (1, 2)]\n",
      "(7,)\n",
      "(3, 84, 84)\n"
     ]
    },
    {
     "data": {
      "application/vnd.jupyter.widget-view+json": {
       "model_id": "16310e23694e4659b1c54a4a86407916",
       "version_major": 2,
       "version_minor": 0
      },
      "text/plain": [
       "HBox(children=(Canvas(height=84, width=84),), layout=Layout(align_items='center', display='flex', flex_flow='r…"
      ]
     },
     "metadata": {},
     "output_type": "display_data"
    },
    {
     "name": "stdout",
     "output_type": "stream",
     "text": [
      "[(1, 3, 84, 84), (1,), (1,), (1,), (1, 2)]\n",
      "(7,)\n",
      "(3, 84, 84)\n"
     ]
    },
    {
     "data": {
      "application/vnd.jupyter.widget-view+json": {
       "model_id": "cac4d38fd1d34c6c9fe2803a3a5f8b97",
       "version_major": 2,
       "version_minor": 0
      },
      "text/plain": [
       "HBox(children=(Canvas(height=84, width=84),), layout=Layout(align_items='center', display='flex', flex_flow='r…"
      ]
     },
     "metadata": {},
     "output_type": "display_data"
    },
    {
     "name": "stdout",
     "output_type": "stream",
     "text": [
      "[(1, 3, 84, 84), (1,), (1,), (1,), (1, 2)]\n",
      "(7,)\n",
      "(3, 84, 84)\n"
     ]
    },
    {
     "data": {
      "application/vnd.jupyter.widget-view+json": {
       "model_id": "3f6f7560048c43ffa35023008d73c708",
       "version_major": 2,
       "version_minor": 0
      },
      "text/plain": [
       "HBox(children=(Canvas(height=84, width=84),), layout=Layout(align_items='center', display='flex', flex_flow='r…"
      ]
     },
     "metadata": {},
     "output_type": "display_data"
    },
    {
     "name": "stdout",
     "output_type": "stream",
     "text": [
      "[(1, 3, 84, 84), (1,), (1,), (1,), (1, 2)]\n",
      "(7,)\n",
      "(3, 84, 84)\n"
     ]
    },
    {
     "data": {
      "application/vnd.jupyter.widget-view+json": {
       "model_id": "a9a576c148534a29a0c2482cd823252e",
       "version_major": 2,
       "version_minor": 0
      },
      "text/plain": [
       "HBox(children=(Canvas(height=84, width=84),), layout=Layout(align_items='center', display='flex', flex_flow='r…"
      ]
     },
     "metadata": {},
     "output_type": "display_data"
    },
    {
     "name": "stdout",
     "output_type": "stream",
     "text": [
      "[(1, 3, 84, 84), (1,), (1,), (1,), (1, 2)]\n",
      "(7,)\n",
      "(3, 84, 84)\n"
     ]
    },
    {
     "data": {
      "application/vnd.jupyter.widget-view+json": {
       "model_id": "373ba5cbbeaa4ca4b04c97bb403f6986",
       "version_major": 2,
       "version_minor": 0
      },
      "text/plain": [
       "HBox(children=(Canvas(height=84, width=84),), layout=Layout(align_items='center', display='flex', flex_flow='r…"
      ]
     },
     "metadata": {},
     "output_type": "display_data"
    },
    {
     "name": "stdout",
     "output_type": "stream",
     "text": [
      "[(1, 3, 84, 84), (1,), (1,), (1,), (1, 2)]\n",
      "(7,)\n",
      "(3, 84, 84)\n"
     ]
    },
    {
     "data": {
      "application/vnd.jupyter.widget-view+json": {
       "model_id": "349364a29cf3417ea0022f7611ae452d",
       "version_major": 2,
       "version_minor": 0
      },
      "text/plain": [
       "HBox(children=(Canvas(height=84, width=84),), layout=Layout(align_items='center', display='flex', flex_flow='r…"
      ]
     },
     "metadata": {},
     "output_type": "display_data"
    },
    {
     "name": "stdout",
     "output_type": "stream",
     "text": [
      "[(1, 3, 84, 84), (1,), (1,), (1,), (1, 2)]\n",
      "(7,)\n",
      "(3, 84, 84)\n"
     ]
    },
    {
     "data": {
      "application/vnd.jupyter.widget-view+json": {
       "model_id": "6959b3803fce4db7a33a6949785f0ac1",
       "version_major": 2,
       "version_minor": 0
      },
      "text/plain": [
       "HBox(children=(Canvas(height=84, width=84),), layout=Layout(align_items='center', display='flex', flex_flow='r…"
      ]
     },
     "metadata": {},
     "output_type": "display_data"
    },
    {
     "name": "stdout",
     "output_type": "stream",
     "text": [
      "[(1, 3, 84, 84), (1,), (1,), (1,), (1, 2)]\n",
      "(7,)\n",
      "(3, 84, 84)\n"
     ]
    },
    {
     "data": {
      "application/vnd.jupyter.widget-view+json": {
       "model_id": "d59954fe86934276b0e716ba327ec659",
       "version_major": 2,
       "version_minor": 0
      },
      "text/plain": [
       "HBox(children=(Canvas(height=84, width=84),), layout=Layout(align_items='center', display='flex', flex_flow='r…"
      ]
     },
     "metadata": {},
     "output_type": "display_data"
    },
    {
     "name": "stdout",
     "output_type": "stream",
     "text": [
      "[(1, 3, 84, 84), (1,), (1,), (1,), (1, 2)]\n",
      "(7,)\n",
      "(3, 84, 84)\n"
     ]
    },
    {
     "data": {
      "application/vnd.jupyter.widget-view+json": {
       "model_id": "84b4b3ca2daa40838fc2197fa930d4f9",
       "version_major": 2,
       "version_minor": 0
      },
      "text/plain": [
       "HBox(children=(Canvas(height=84, width=84),), layout=Layout(align_items='center', display='flex', flex_flow='r…"
      ]
     },
     "metadata": {},
     "output_type": "display_data"
    },
    {
     "name": "stdout",
     "output_type": "stream",
     "text": [
      "[(1, 3, 84, 84), (1,), (1,), (1,), (1, 2)]\n",
      "(7,)\n",
      "(3, 84, 84)\n"
     ]
    },
    {
     "data": {
      "application/vnd.jupyter.widget-view+json": {
       "model_id": "05ba6ae8d39f4f5083fbc3755a03459f",
       "version_major": 2,
       "version_minor": 0
      },
      "text/plain": [
       "HBox(children=(Canvas(height=84, width=84),), layout=Layout(align_items='center', display='flex', flex_flow='r…"
      ]
     },
     "metadata": {},
     "output_type": "display_data"
    },
    {
     "name": "stdout",
     "output_type": "stream",
     "text": [
      "[(1, 3, 84, 84), (1,), (1,), (1,), (1, 2)]\n",
      "(7,)\n",
      "(3, 84, 84)\n"
     ]
    },
    {
     "data": {
      "application/vnd.jupyter.widget-view+json": {
       "model_id": "e3d21bb33990449e96cc63ff566fd4db",
       "version_major": 2,
       "version_minor": 0
      },
      "text/plain": [
       "HBox(children=(Canvas(height=84, width=84),), layout=Layout(align_items='center', display='flex', flex_flow='r…"
      ]
     },
     "metadata": {},
     "output_type": "display_data"
    },
    {
     "name": "stdout",
     "output_type": "stream",
     "text": [
      "[(1, 3, 84, 84), (1,), (1,), (1,), (1, 2)]\n",
      "(7,)\n",
      "(3, 84, 84)\n"
     ]
    },
    {
     "data": {
      "application/vnd.jupyter.widget-view+json": {
       "model_id": "17e76351312149398efaf1b87bc2112b",
       "version_major": 2,
       "version_minor": 0
      },
      "text/plain": [
       "HBox(children=(Canvas(height=84, width=84),), layout=Layout(align_items='center', display='flex', flex_flow='r…"
      ]
     },
     "metadata": {},
     "output_type": "display_data"
    },
    {
     "name": "stdout",
     "output_type": "stream",
     "text": [
      "[(1, 3, 84, 84), (1,), (1,), (1,), (1, 2)]\n",
      "(7,)\n",
      "(3, 84, 84)\n"
     ]
    },
    {
     "data": {
      "application/vnd.jupyter.widget-view+json": {
       "model_id": "08ef9cd69dbc4c7ca610ac6abed12164",
       "version_major": 2,
       "version_minor": 0
      },
      "text/plain": [
       "HBox(children=(Canvas(height=84, width=84),), layout=Layout(align_items='center', display='flex', flex_flow='r…"
      ]
     },
     "metadata": {},
     "output_type": "display_data"
    },
    {
     "name": "stdout",
     "output_type": "stream",
     "text": [
      "[(1, 3, 84, 84), (1,), (1,), (1,), (1, 2)]\n",
      "(7,)\n",
      "(3, 84, 84)\n"
     ]
    },
    {
     "data": {
      "application/vnd.jupyter.widget-view+json": {
       "model_id": "577a73045d304a139e50b07a13f2a2eb",
       "version_major": 2,
       "version_minor": 0
      },
      "text/plain": [
       "HBox(children=(Canvas(height=84, width=84),), layout=Layout(align_items='center', display='flex', flex_flow='r…"
      ]
     },
     "metadata": {},
     "output_type": "display_data"
    },
    {
     "name": "stdout",
     "output_type": "stream",
     "text": [
      "[(1, 3, 84, 84), (1,), (1,), (1,), (1, 2)]\n",
      "(7,)\n",
      "(3, 84, 84)\n"
     ]
    },
    {
     "data": {
      "application/vnd.jupyter.widget-view+json": {
       "model_id": "0753dc92ed6e4fa8a19bf97185f37b03",
       "version_major": 2,
       "version_minor": 0
      },
      "text/plain": [
       "HBox(children=(Canvas(height=84, width=84),), layout=Layout(align_items='center', display='flex', flex_flow='r…"
      ]
     },
     "metadata": {},
     "output_type": "display_data"
    },
    {
     "name": "stdout",
     "output_type": "stream",
     "text": [
      "[(1, 3, 84, 84), (1,), (1,), (1,), (1, 2)]\n",
      "(7,)\n",
      "(3, 84, 84)\n"
     ]
    },
    {
     "data": {
      "application/vnd.jupyter.widget-view+json": {
       "model_id": "f1383b7aa486460c8d24c8ef4c4c5aff",
       "version_major": 2,
       "version_minor": 0
      },
      "text/plain": [
       "HBox(children=(Canvas(height=84, width=84),), layout=Layout(align_items='center', display='flex', flex_flow='r…"
      ]
     },
     "metadata": {},
     "output_type": "display_data"
    },
    {
     "name": "stdout",
     "output_type": "stream",
     "text": [
      "[(1, 3, 84, 84), (1,), (1,), (1,), (1, 2)]\n",
      "(7,)\n",
      "(3, 84, 84)\n"
     ]
    },
    {
     "data": {
      "application/vnd.jupyter.widget-view+json": {
       "model_id": "a9537476e529418fa8c8e2e7fb90559f",
       "version_major": 2,
       "version_minor": 0
      },
      "text/plain": [
       "HBox(children=(Canvas(height=84, width=84),), layout=Layout(align_items='center', display='flex', flex_flow='r…"
      ]
     },
     "metadata": {},
     "output_type": "display_data"
    },
    {
     "name": "stdout",
     "output_type": "stream",
     "text": [
      "[(1, 3, 84, 84), (1,), (1,), (1,), (1, 2)]\n",
      "(7,)\n",
      "(3, 84, 84)\n"
     ]
    },
    {
     "data": {
      "application/vnd.jupyter.widget-view+json": {
       "model_id": "8e6507ed3f034ecdb4ac6bacb263241d",
       "version_major": 2,
       "version_minor": 0
      },
      "text/plain": [
       "HBox(children=(Canvas(height=84, width=84),), layout=Layout(align_items='center', display='flex', flex_flow='r…"
      ]
     },
     "metadata": {},
     "output_type": "display_data"
    },
    {
     "name": "stdout",
     "output_type": "stream",
     "text": [
      "[(1, 3, 84, 84), (1,), (1,), (1,), (1, 2)]\n",
      "(7,)\n",
      "(3, 84, 84)\n"
     ]
    },
    {
     "data": {
      "application/vnd.jupyter.widget-view+json": {
       "model_id": "6fadc87ec1e14da986aa71cb5f5556d5",
       "version_major": 2,
       "version_minor": 0
      },
      "text/plain": [
       "HBox(children=(Canvas(height=84, width=84),), layout=Layout(align_items='center', display='flex', flex_flow='r…"
      ]
     },
     "metadata": {},
     "output_type": "display_data"
    },
    {
     "name": "stdout",
     "output_type": "stream",
     "text": [
      "[(1, 3, 84, 84), (1,), (1,), (1,), (1, 2)]\n",
      "(7,)\n",
      "(3, 84, 84)\n"
     ]
    },
    {
     "data": {
      "application/vnd.jupyter.widget-view+json": {
       "model_id": "8cd783fd2c3a4137b73627e61d2caa23",
       "version_major": 2,
       "version_minor": 0
      },
      "text/plain": [
       "HBox(children=(Canvas(height=84, width=84),), layout=Layout(align_items='center', display='flex', flex_flow='r…"
      ]
     },
     "metadata": {},
     "output_type": "display_data"
    },
    {
     "name": "stdout",
     "output_type": "stream",
     "text": [
      "[(1, 3, 84, 84), (1,), (1,), (1,), (1, 2)]\n",
      "(7,)\n",
      "(3, 84, 84)\n"
     ]
    },
    {
     "data": {
      "application/vnd.jupyter.widget-view+json": {
       "model_id": "b3b3dd39dbc14f758f394600dd18c9c7",
       "version_major": 2,
       "version_minor": 0
      },
      "text/plain": [
       "HBox(children=(Canvas(height=84, width=84),), layout=Layout(align_items='center', display='flex', flex_flow='r…"
      ]
     },
     "metadata": {},
     "output_type": "display_data"
    },
    {
     "name": "stdout",
     "output_type": "stream",
     "text": [
      "[(1, 3, 84, 84), (1,), (1,), (1,), (1, 2)]\n",
      "(7,)\n",
      "(3, 84, 84)\n"
     ]
    },
    {
     "data": {
      "application/vnd.jupyter.widget-view+json": {
       "model_id": "ce3df0081f8a424891a959041b834014",
       "version_major": 2,
       "version_minor": 0
      },
      "text/plain": [
       "HBox(children=(Canvas(height=84, width=84),), layout=Layout(align_items='center', display='flex', flex_flow='r…"
      ]
     },
     "metadata": {},
     "output_type": "display_data"
    },
    {
     "name": "stdout",
     "output_type": "stream",
     "text": [
      "[(1, 3, 84, 84), (1,), (1,), (1,), (1, 2)]\n",
      "(7,)\n",
      "(3, 84, 84)\n"
     ]
    },
    {
     "data": {
      "application/vnd.jupyter.widget-view+json": {
       "model_id": "17588525e35946e79d1a1d54fde86d69",
       "version_major": 2,
       "version_minor": 0
      },
      "text/plain": [
       "HBox(children=(Canvas(height=84, width=84),), layout=Layout(align_items='center', display='flex', flex_flow='r…"
      ]
     },
     "metadata": {},
     "output_type": "display_data"
    },
    {
     "name": "stdout",
     "output_type": "stream",
     "text": [
      "[(1, 3, 84, 84), (1,), (1,), (1,), (1, 2)]\n",
      "(7,)\n",
      "(3, 84, 84)\n"
     ]
    },
    {
     "data": {
      "application/vnd.jupyter.widget-view+json": {
       "model_id": "039c48a793a44f3e9bd6aa054ab214a0",
       "version_major": 2,
       "version_minor": 0
      },
      "text/plain": [
       "HBox(children=(Canvas(height=84, width=84),), layout=Layout(align_items='center', display='flex', flex_flow='r…"
      ]
     },
     "metadata": {},
     "output_type": "display_data"
    },
    {
     "name": "stdout",
     "output_type": "stream",
     "text": [
      "[(1, 3, 84, 84), (1,), (1,), (1,), (1, 2)]\n",
      "(7,)\n",
      "(3, 84, 84)\n"
     ]
    },
    {
     "data": {
      "application/vnd.jupyter.widget-view+json": {
       "model_id": "9b802faac9a34af9a852e4df94a8e639",
       "version_major": 2,
       "version_minor": 0
      },
      "text/plain": [
       "HBox(children=(Canvas(height=84, width=84),), layout=Layout(align_items='center', display='flex', flex_flow='r…"
      ]
     },
     "metadata": {},
     "output_type": "display_data"
    },
    {
     "name": "stdout",
     "output_type": "stream",
     "text": [
      "[(1, 3, 84, 84), (1,), (1,), (1,), (1, 2)]\n",
      "(7,)\n",
      "(3, 84, 84)\n"
     ]
    },
    {
     "data": {
      "application/vnd.jupyter.widget-view+json": {
       "model_id": "15a724c1ec8b4e45984dea05bfc0dac9",
       "version_major": 2,
       "version_minor": 0
      },
      "text/plain": [
       "HBox(children=(Canvas(height=84, width=84),), layout=Layout(align_items='center', display='flex', flex_flow='r…"
      ]
     },
     "metadata": {},
     "output_type": "display_data"
    },
    {
     "name": "stdout",
     "output_type": "stream",
     "text": [
      "[(1, 3, 84, 84), (1,), (1,), (1,), (1, 2)]\n",
      "(7,)\n",
      "(3, 84, 84)\n"
     ]
    },
    {
     "data": {
      "application/vnd.jupyter.widget-view+json": {
       "model_id": "ba0b74f866794e848c212a43a8d3b894",
       "version_major": 2,
       "version_minor": 0
      },
      "text/plain": [
       "HBox(children=(Canvas(height=84, width=84),), layout=Layout(align_items='center', display='flex', flex_flow='r…"
      ]
     },
     "metadata": {},
     "output_type": "display_data"
    },
    {
     "name": "stdout",
     "output_type": "stream",
     "text": [
      "[(1, 3, 84, 84), (1,), (1,), (1,), (1, 2)]\n",
      "(7,)\n",
      "(3, 84, 84)\n"
     ]
    },
    {
     "data": {
      "application/vnd.jupyter.widget-view+json": {
       "model_id": "9839555f7bf44a9abaf56947f40445f7",
       "version_major": 2,
       "version_minor": 0
      },
      "text/plain": [
       "HBox(children=(Canvas(height=84, width=84),), layout=Layout(align_items='center', display='flex', flex_flow='r…"
      ]
     },
     "metadata": {},
     "output_type": "display_data"
    },
    {
     "name": "stdout",
     "output_type": "stream",
     "text": [
      "[(1, 3, 84, 84), (1,), (1,), (1,), (1, 2)]\n",
      "(7,)\n",
      "(3, 84, 84)\n"
     ]
    },
    {
     "data": {
      "application/vnd.jupyter.widget-view+json": {
       "model_id": "56680795e7a04f88b33e7415642f66b1",
       "version_major": 2,
       "version_minor": 0
      },
      "text/plain": [
       "HBox(children=(Canvas(height=84, width=84),), layout=Layout(align_items='center', display='flex', flex_flow='r…"
      ]
     },
     "metadata": {},
     "output_type": "display_data"
    },
    {
     "name": "stdout",
     "output_type": "stream",
     "text": [
      "[(1, 3, 84, 84), (1,), (1,), (1,), (1, 2)]\n",
      "(7,)\n",
      "(3, 84, 84)\n"
     ]
    },
    {
     "data": {
      "application/vnd.jupyter.widget-view+json": {
       "model_id": "5709c39cb7864f48a82a2be06999542a",
       "version_major": 2,
       "version_minor": 0
      },
      "text/plain": [
       "HBox(children=(Canvas(height=84, width=84),), layout=Layout(align_items='center', display='flex', flex_flow='r…"
      ]
     },
     "metadata": {},
     "output_type": "display_data"
    },
    {
     "name": "stdout",
     "output_type": "stream",
     "text": [
      "[(1, 3, 84, 84), (1,), (1,), (1,), (1, 2)]\n",
      "(7,)\n",
      "(3, 84, 84)\n"
     ]
    },
    {
     "data": {
      "application/vnd.jupyter.widget-view+json": {
       "model_id": "fc1476f949b74297b45e0ceed869d532",
       "version_major": 2,
       "version_minor": 0
      },
      "text/plain": [
       "HBox(children=(Canvas(height=84, width=84),), layout=Layout(align_items='center', display='flex', flex_flow='r…"
      ]
     },
     "metadata": {},
     "output_type": "display_data"
    },
    {
     "name": "stdout",
     "output_type": "stream",
     "text": [
      "[(1, 3, 84, 84), (1,), (1,), (1,), (1, 2)]\n",
      "(7,)\n",
      "(3, 84, 84)\n"
     ]
    },
    {
     "data": {
      "application/vnd.jupyter.widget-view+json": {
       "model_id": "16bdee0848834375961fae0ed04f4d15",
       "version_major": 2,
       "version_minor": 0
      },
      "text/plain": [
       "HBox(children=(Canvas(height=84, width=84),), layout=Layout(align_items='center', display='flex', flex_flow='r…"
      ]
     },
     "metadata": {},
     "output_type": "display_data"
    },
    {
     "name": "stdout",
     "output_type": "stream",
     "text": [
      "[(1, 3, 84, 84), (1,), (1,), (1,), (1, 2)]\n",
      "(7,)\n",
      "(3, 84, 84)\n"
     ]
    },
    {
     "data": {
      "application/vnd.jupyter.widget-view+json": {
       "model_id": "cf62bf64fae04ba4898398b3ad4404ec",
       "version_major": 2,
       "version_minor": 0
      },
      "text/plain": [
       "HBox(children=(Canvas(height=84, width=84),), layout=Layout(align_items='center', display='flex', flex_flow='r…"
      ]
     },
     "metadata": {},
     "output_type": "display_data"
    },
    {
     "name": "stdout",
     "output_type": "stream",
     "text": [
      "[(1, 3, 84, 84), (1,), (1,), (1,), (1, 2)]\n",
      "(7,)\n",
      "(3, 84, 84)\n"
     ]
    },
    {
     "data": {
      "application/vnd.jupyter.widget-view+json": {
       "model_id": "af757352fc7842c59e5a56698cf89185",
       "version_major": 2,
       "version_minor": 0
      },
      "text/plain": [
       "HBox(children=(Canvas(height=84, width=84),), layout=Layout(align_items='center', display='flex', flex_flow='r…"
      ]
     },
     "metadata": {},
     "output_type": "display_data"
    },
    {
     "name": "stdout",
     "output_type": "stream",
     "text": [
      "[(1, 3, 84, 84), (1,), (1,), (1,), (1, 2)]\n",
      "(7,)\n",
      "(3, 84, 84)\n"
     ]
    },
    {
     "data": {
      "application/vnd.jupyter.widget-view+json": {
       "model_id": "6c790f15d23f4beab34e777a5a1322df",
       "version_major": 2,
       "version_minor": 0
      },
      "text/plain": [
       "HBox(children=(Canvas(height=84, width=84),), layout=Layout(align_items='center', display='flex', flex_flow='r…"
      ]
     },
     "metadata": {},
     "output_type": "display_data"
    },
    {
     "name": "stdout",
     "output_type": "stream",
     "text": [
      "[(1, 3, 84, 84), (1,), (1,), (1,), (1, 2)]\n",
      "(7,)\n",
      "(3, 84, 84)\n"
     ]
    },
    {
     "data": {
      "application/vnd.jupyter.widget-view+json": {
       "model_id": "b6b2c04d1ad94000a6fbb8a65dc6795f",
       "version_major": 2,
       "version_minor": 0
      },
      "text/plain": [
       "HBox(children=(Canvas(height=84, width=84),), layout=Layout(align_items='center', display='flex', flex_flow='r…"
      ]
     },
     "metadata": {},
     "output_type": "display_data"
    },
    {
     "name": "stdout",
     "output_type": "stream",
     "text": [
      "[(1, 3, 84, 84), (1,), (1,), (1,), (1, 2)]\n",
      "(7,)\n",
      "(3, 84, 84)\n"
     ]
    },
    {
     "data": {
      "application/vnd.jupyter.widget-view+json": {
       "model_id": "687d0748717145018313b7737c411366",
       "version_major": 2,
       "version_minor": 0
      },
      "text/plain": [
       "HBox(children=(Canvas(height=84, width=84),), layout=Layout(align_items='center', display='flex', flex_flow='r…"
      ]
     },
     "metadata": {},
     "output_type": "display_data"
    },
    {
     "name": "stdout",
     "output_type": "stream",
     "text": [
      "[(1, 3, 84, 84), (1,), (1,), (1,), (1, 2)]\n",
      "(7,)\n",
      "(3, 84, 84)\n"
     ]
    },
    {
     "data": {
      "application/vnd.jupyter.widget-view+json": {
       "model_id": "cc00dc5bebbd45a0b11d5b44fd8d9015",
       "version_major": 2,
       "version_minor": 0
      },
      "text/plain": [
       "HBox(children=(Canvas(height=84, width=84),), layout=Layout(align_items='center', display='flex', flex_flow='r…"
      ]
     },
     "metadata": {},
     "output_type": "display_data"
    },
    {
     "name": "stdout",
     "output_type": "stream",
     "text": [
      "[(1, 3, 84, 84), (1,), (1,), (1,), (1, 2)]\n",
      "(7,)\n",
      "(3, 84, 84)\n"
     ]
    },
    {
     "data": {
      "application/vnd.jupyter.widget-view+json": {
       "model_id": "0b77788625014a3a9c15f446e90f6adb",
       "version_major": 2,
       "version_minor": 0
      },
      "text/plain": [
       "HBox(children=(Canvas(height=84, width=84),), layout=Layout(align_items='center', display='flex', flex_flow='r…"
      ]
     },
     "metadata": {},
     "output_type": "display_data"
    },
    {
     "name": "stdout",
     "output_type": "stream",
     "text": [
      "[(1, 3, 84, 84), (1,), (1,), (1,), (1, 2)]\n",
      "(7,)\n",
      "(3, 84, 84)\n"
     ]
    },
    {
     "data": {
      "application/vnd.jupyter.widget-view+json": {
       "model_id": "025163cf7eab441a8ec65a94b0791afb",
       "version_major": 2,
       "version_minor": 0
      },
      "text/plain": [
       "HBox(children=(Canvas(height=84, width=84),), layout=Layout(align_items='center', display='flex', flex_flow='r…"
      ]
     },
     "metadata": {},
     "output_type": "display_data"
    },
    {
     "name": "stdout",
     "output_type": "stream",
     "text": [
      "[(1, 3, 84, 84), (1,), (1,), (1,), (1, 2)]\n",
      "(7,)\n",
      "(3, 84, 84)\n"
     ]
    },
    {
     "data": {
      "application/vnd.jupyter.widget-view+json": {
       "model_id": "8664feaac658410882012676790fa89f",
       "version_major": 2,
       "version_minor": 0
      },
      "text/plain": [
       "HBox(children=(Canvas(height=84, width=84),), layout=Layout(align_items='center', display='flex', flex_flow='r…"
      ]
     },
     "metadata": {},
     "output_type": "display_data"
    },
    {
     "name": "stdout",
     "output_type": "stream",
     "text": [
      "[(1, 3, 84, 84), (1,), (1,), (1,), (1, 2)]\n",
      "(7,)\n",
      "(3, 84, 84)\n"
     ]
    },
    {
     "data": {
      "application/vnd.jupyter.widget-view+json": {
       "model_id": "0065b4c4ffc64df6b4a262cdc0d997e5",
       "version_major": 2,
       "version_minor": 0
      },
      "text/plain": [
       "HBox(children=(Canvas(height=84, width=84),), layout=Layout(align_items='center', display='flex', flex_flow='r…"
      ]
     },
     "metadata": {},
     "output_type": "display_data"
    },
    {
     "name": "stdout",
     "output_type": "stream",
     "text": [
      "[(1, 3, 84, 84), (1,), (1,), (1,), (1, 2)]\n",
      "(7,)\n",
      "(3, 84, 84)\n"
     ]
    },
    {
     "data": {
      "application/vnd.jupyter.widget-view+json": {
       "model_id": "8f2b9ee5096f4cb4b803b1ee90ecf5c9",
       "version_major": 2,
       "version_minor": 0
      },
      "text/plain": [
       "HBox(children=(Canvas(height=84, width=84),), layout=Layout(align_items='center', display='flex', flex_flow='r…"
      ]
     },
     "metadata": {},
     "output_type": "display_data"
    },
    {
     "name": "stdout",
     "output_type": "stream",
     "text": [
      "[(1, 3, 84, 84), (1,), (1,), (1,), (1, 2)]\n",
      "(7,)\n",
      "(3, 84, 84)\n"
     ]
    },
    {
     "data": {
      "application/vnd.jupyter.widget-view+json": {
       "model_id": "ab5cd915c50d48a1985aa8ebca11c447",
       "version_major": 2,
       "version_minor": 0
      },
      "text/plain": [
       "HBox(children=(Canvas(height=84, width=84),), layout=Layout(align_items='center', display='flex', flex_flow='r…"
      ]
     },
     "metadata": {},
     "output_type": "display_data"
    },
    {
     "name": "stdout",
     "output_type": "stream",
     "text": [
      "[(1, 3, 84, 84), (1,), (1,), (1,), (1, 2)]\n",
      "(7,)\n",
      "(3, 84, 84)\n"
     ]
    },
    {
     "data": {
      "application/vnd.jupyter.widget-view+json": {
       "model_id": "7f17d7a203b042a289f2c1c7151c04a9",
       "version_major": 2,
       "version_minor": 0
      },
      "text/plain": [
       "HBox(children=(Canvas(height=84, width=84),), layout=Layout(align_items='center', display='flex', flex_flow='r…"
      ]
     },
     "metadata": {},
     "output_type": "display_data"
    },
    {
     "name": "stdout",
     "output_type": "stream",
     "text": [
      "[(1, 3, 84, 84), (1,), (1,), (1,), (1, 2)]\n",
      "(7,)\n",
      "(3, 84, 84)\n"
     ]
    },
    {
     "data": {
      "application/vnd.jupyter.widget-view+json": {
       "model_id": "474657b167f4485aa7410879e560f1f9",
       "version_major": 2,
       "version_minor": 0
      },
      "text/plain": [
       "HBox(children=(Canvas(height=84, width=84),), layout=Layout(align_items='center', display='flex', flex_flow='r…"
      ]
     },
     "metadata": {},
     "output_type": "display_data"
    },
    {
     "name": "stdout",
     "output_type": "stream",
     "text": [
      "[(1, 3, 84, 84), (1,), (1,), (1,), (1, 2)]\n",
      "(7,)\n",
      "(3, 84, 84)\n"
     ]
    },
    {
     "data": {
      "application/vnd.jupyter.widget-view+json": {
       "model_id": "d14f3f99a07b4afdad7ad1c5fb731ce1",
       "version_major": 2,
       "version_minor": 0
      },
      "text/plain": [
       "HBox(children=(Canvas(height=84, width=84),), layout=Layout(align_items='center', display='flex', flex_flow='r…"
      ]
     },
     "metadata": {},
     "output_type": "display_data"
    },
    {
     "name": "stdout",
     "output_type": "stream",
     "text": [
      "[(1, 3, 84, 84), (1,), (1,), (1,), (1, 2)]\n",
      "(7,)\n",
      "(3, 84, 84)\n"
     ]
    },
    {
     "data": {
      "application/vnd.jupyter.widget-view+json": {
       "model_id": "d8a6c626ee40415892282a3af1987405",
       "version_major": 2,
       "version_minor": 0
      },
      "text/plain": [
       "HBox(children=(Canvas(height=84, width=84),), layout=Layout(align_items='center', display='flex', flex_flow='r…"
      ]
     },
     "metadata": {},
     "output_type": "display_data"
    },
    {
     "name": "stdout",
     "output_type": "stream",
     "text": [
      "[(1, 3, 84, 84), (1,), (1,), (1,), (1, 2)]\n",
      "(7,)\n",
      "(3, 84, 84)\n"
     ]
    },
    {
     "data": {
      "application/vnd.jupyter.widget-view+json": {
       "model_id": "40d46ac2f65d46b8904e2ea353d6e898",
       "version_major": 2,
       "version_minor": 0
      },
      "text/plain": [
       "HBox(children=(Canvas(height=84, width=84),), layout=Layout(align_items='center', display='flex', flex_flow='r…"
      ]
     },
     "metadata": {},
     "output_type": "display_data"
    },
    {
     "name": "stdout",
     "output_type": "stream",
     "text": [
      "[(1, 3, 84, 84), (1,), (1,), (1,), (1, 2)]\n",
      "(7,)\n",
      "(3, 84, 84)\n"
     ]
    },
    {
     "data": {
      "application/vnd.jupyter.widget-view+json": {
       "model_id": "0a0706cdf9094d468bf3b024e6867381",
       "version_major": 2,
       "version_minor": 0
      },
      "text/plain": [
       "HBox(children=(Canvas(height=84, width=84),), layout=Layout(align_items='center', display='flex', flex_flow='r…"
      ]
     },
     "metadata": {},
     "output_type": "display_data"
    },
    {
     "name": "stdout",
     "output_type": "stream",
     "text": [
      "[(1, 3, 84, 84), (1,), (1,), (1,), (1, 2)]\n",
      "(7,)\n",
      "(3, 84, 84)\n"
     ]
    },
    {
     "data": {
      "application/vnd.jupyter.widget-view+json": {
       "model_id": "a14055474802433a944a8eeb98eef7e5",
       "version_major": 2,
       "version_minor": 0
      },
      "text/plain": [
       "HBox(children=(Canvas(height=84, width=84),), layout=Layout(align_items='center', display='flex', flex_flow='r…"
      ]
     },
     "metadata": {},
     "output_type": "display_data"
    },
    {
     "name": "stdout",
     "output_type": "stream",
     "text": [
      "[(1, 3, 84, 84), (1,), (1,), (1,), (1, 2)]\n",
      "(7,)\n",
      "(3, 84, 84)\n"
     ]
    },
    {
     "data": {
      "application/vnd.jupyter.widget-view+json": {
       "model_id": "4b56401484d24ffeb567091c0fa09fc8",
       "version_major": 2,
       "version_minor": 0
      },
      "text/plain": [
       "HBox(children=(Canvas(height=84, width=84),), layout=Layout(align_items='center', display='flex', flex_flow='r…"
      ]
     },
     "metadata": {},
     "output_type": "display_data"
    },
    {
     "name": "stdout",
     "output_type": "stream",
     "text": [
      "[(1, 3, 84, 84), (1,), (1,), (1,), (1, 2)]\n",
      "(7,)\n",
      "(3, 84, 84)\n"
     ]
    },
    {
     "data": {
      "application/vnd.jupyter.widget-view+json": {
       "model_id": "b7e7a3ee866c4424864402f873925182",
       "version_major": 2,
       "version_minor": 0
      },
      "text/plain": [
       "HBox(children=(Canvas(height=84, width=84),), layout=Layout(align_items='center', display='flex', flex_flow='r…"
      ]
     },
     "metadata": {},
     "output_type": "display_data"
    },
    {
     "name": "stdout",
     "output_type": "stream",
     "text": [
      "[(1, 3, 84, 84), (1,), (1,), (1,), (1, 2)]\n",
      "(7,)\n",
      "(3, 84, 84)\n"
     ]
    },
    {
     "data": {
      "application/vnd.jupyter.widget-view+json": {
       "model_id": "a290a58b93444708aca079abe491e19a",
       "version_major": 2,
       "version_minor": 0
      },
      "text/plain": [
       "HBox(children=(Canvas(height=84, width=84),), layout=Layout(align_items='center', display='flex', flex_flow='r…"
      ]
     },
     "metadata": {},
     "output_type": "display_data"
    },
    {
     "name": "stdout",
     "output_type": "stream",
     "text": [
      "[(1, 3, 84, 84), (1,), (1,), (1,), (1, 2)]\n",
      "(7,)\n",
      "(3, 84, 84)\n"
     ]
    },
    {
     "data": {
      "application/vnd.jupyter.widget-view+json": {
       "model_id": "705b0f4f5c764007add32465b59c462b",
       "version_major": 2,
       "version_minor": 0
      },
      "text/plain": [
       "HBox(children=(Canvas(height=84, width=84),), layout=Layout(align_items='center', display='flex', flex_flow='r…"
      ]
     },
     "metadata": {},
     "output_type": "display_data"
    },
    {
     "name": "stdout",
     "output_type": "stream",
     "text": [
      "[(1, 3, 84, 84), (1,), (1,), (1,), (1, 2)]\n",
      "(7,)\n",
      "(3, 84, 84)\n"
     ]
    },
    {
     "data": {
      "application/vnd.jupyter.widget-view+json": {
       "model_id": "10e4b9b9697b4d4788b0c25309a3ba9e",
       "version_major": 2,
       "version_minor": 0
      },
      "text/plain": [
       "HBox(children=(Canvas(height=84, width=84),), layout=Layout(align_items='center', display='flex', flex_flow='r…"
      ]
     },
     "metadata": {},
     "output_type": "display_data"
    },
    {
     "name": "stdout",
     "output_type": "stream",
     "text": [
      "[(1, 3, 84, 84), (1,), (1,), (1,), (1, 2)]\n",
      "(7,)\n",
      "(3, 84, 84)\n"
     ]
    },
    {
     "data": {
      "application/vnd.jupyter.widget-view+json": {
       "model_id": "3cc7f91ad9ac462bbdb8aea1148254d4",
       "version_major": 2,
       "version_minor": 0
      },
      "text/plain": [
       "HBox(children=(Canvas(height=84, width=84),), layout=Layout(align_items='center', display='flex', flex_flow='r…"
      ]
     },
     "metadata": {},
     "output_type": "display_data"
    },
    {
     "name": "stdout",
     "output_type": "stream",
     "text": [
      "[(1, 3, 84, 84), (1,), (1,), (1,), (1, 2)]\n",
      "(7,)\n",
      "(3, 84, 84)\n"
     ]
    },
    {
     "data": {
      "application/vnd.jupyter.widget-view+json": {
       "model_id": "d0cb2965b0014a639b197e38966fefc4",
       "version_major": 2,
       "version_minor": 0
      },
      "text/plain": [
       "HBox(children=(Canvas(height=84, width=84),), layout=Layout(align_items='center', display='flex', flex_flow='r…"
      ]
     },
     "metadata": {},
     "output_type": "display_data"
    },
    {
     "name": "stdout",
     "output_type": "stream",
     "text": [
      "[(1, 3, 84, 84), (1,), (1,), (1,), (1, 2)]\n",
      "(7,)\n",
      "(3, 84, 84)\n"
     ]
    },
    {
     "data": {
      "application/vnd.jupyter.widget-view+json": {
       "model_id": "997003e2b91d43cda0de5078fe4448b0",
       "version_major": 2,
       "version_minor": 0
      },
      "text/plain": [
       "HBox(children=(Canvas(height=84, width=84),), layout=Layout(align_items='center', display='flex', flex_flow='r…"
      ]
     },
     "metadata": {},
     "output_type": "display_data"
    },
    {
     "name": "stdout",
     "output_type": "stream",
     "text": [
      "[(1, 3, 84, 84), (1,), (1,), (1,), (1, 2)]\n",
      "(7,)\n",
      "(3, 84, 84)\n"
     ]
    },
    {
     "data": {
      "application/vnd.jupyter.widget-view+json": {
       "model_id": "2e10fad8eb1f4a3d97c1351b259be38b",
       "version_major": 2,
       "version_minor": 0
      },
      "text/plain": [
       "HBox(children=(Canvas(height=84, width=84),), layout=Layout(align_items='center', display='flex', flex_flow='r…"
      ]
     },
     "metadata": {},
     "output_type": "display_data"
    },
    {
     "name": "stdout",
     "output_type": "stream",
     "text": [
      "[(1, 3, 84, 84), (1,), (1,), (1,), (1, 2)]\n",
      "(7,)\n",
      "(3, 84, 84)\n"
     ]
    },
    {
     "data": {
      "application/vnd.jupyter.widget-view+json": {
       "model_id": "455581e77fb54c53922d37af53c61256",
       "version_major": 2,
       "version_minor": 0
      },
      "text/plain": [
       "HBox(children=(Canvas(height=84, width=84),), layout=Layout(align_items='center', display='flex', flex_flow='r…"
      ]
     },
     "metadata": {},
     "output_type": "display_data"
    },
    {
     "name": "stdout",
     "output_type": "stream",
     "text": [
      "[(1, 3, 84, 84), (1,), (1,), (1,), (1, 2)]\n",
      "(7,)\n",
      "(3, 84, 84)\n"
     ]
    },
    {
     "data": {
      "application/vnd.jupyter.widget-view+json": {
       "model_id": "bbaf1590b8e742319d48efd640ee49f8",
       "version_major": 2,
       "version_minor": 0
      },
      "text/plain": [
       "HBox(children=(Canvas(height=84, width=84),), layout=Layout(align_items='center', display='flex', flex_flow='r…"
      ]
     },
     "metadata": {},
     "output_type": "display_data"
    },
    {
     "name": "stdout",
     "output_type": "stream",
     "text": [
      "[(1, 3, 84, 84), (1,), (1,), (1,), (1, 2)]\n",
      "(7,)\n",
      "(3, 84, 84)\n"
     ]
    },
    {
     "data": {
      "application/vnd.jupyter.widget-view+json": {
       "model_id": "5799f3962b9845b39d6c6f3dc44276dc",
       "version_major": 2,
       "version_minor": 0
      },
      "text/plain": [
       "HBox(children=(Canvas(height=84, width=84),), layout=Layout(align_items='center', display='flex', flex_flow='r…"
      ]
     },
     "metadata": {},
     "output_type": "display_data"
    },
    {
     "name": "stdout",
     "output_type": "stream",
     "text": [
      "[(1, 3, 84, 84), (1,), (1,), (1,), (1, 2)]\n",
      "(7,)\n",
      "(3, 84, 84)\n"
     ]
    },
    {
     "data": {
      "application/vnd.jupyter.widget-view+json": {
       "model_id": "7f1a2a02278b471f834951f448a64f2c",
       "version_major": 2,
       "version_minor": 0
      },
      "text/plain": [
       "HBox(children=(Canvas(height=84, width=84),), layout=Layout(align_items='center', display='flex', flex_flow='r…"
      ]
     },
     "metadata": {},
     "output_type": "display_data"
    },
    {
     "name": "stdout",
     "output_type": "stream",
     "text": [
      "[(1, 3, 84, 84), (1,), (1,), (1,), (1, 2)]\n",
      "(7,)\n",
      "(3, 84, 84)\n"
     ]
    },
    {
     "data": {
      "application/vnd.jupyter.widget-view+json": {
       "model_id": "3bbfab3a4af8487aa2d3ea9b9643a296",
       "version_major": 2,
       "version_minor": 0
      },
      "text/plain": [
       "HBox(children=(Canvas(height=84, width=84),), layout=Layout(align_items='center', display='flex', flex_flow='r…"
      ]
     },
     "metadata": {},
     "output_type": "display_data"
    },
    {
     "name": "stdout",
     "output_type": "stream",
     "text": [
      "[(1, 3, 84, 84), (1,), (1,), (1,), (1, 2)]\n",
      "(7,)\n",
      "(3, 84, 84)\n"
     ]
    },
    {
     "data": {
      "application/vnd.jupyter.widget-view+json": {
       "model_id": "791bb20a779a4df3b20e3e0b2cf28792",
       "version_major": 2,
       "version_minor": 0
      },
      "text/plain": [
       "HBox(children=(Canvas(height=84, width=84),), layout=Layout(align_items='center', display='flex', flex_flow='r…"
      ]
     },
     "metadata": {},
     "output_type": "display_data"
    },
    {
     "name": "stdout",
     "output_type": "stream",
     "text": [
      "[(1, 3, 84, 84), (1,), (1,), (1,), (1, 2)]\n",
      "(7,)\n",
      "(3, 84, 84)\n"
     ]
    },
    {
     "data": {
      "application/vnd.jupyter.widget-view+json": {
       "model_id": "e5a66247bc454651a90e2afa0ddd9967",
       "version_major": 2,
       "version_minor": 0
      },
      "text/plain": [
       "HBox(children=(Canvas(height=84, width=84),), layout=Layout(align_items='center', display='flex', flex_flow='r…"
      ]
     },
     "metadata": {},
     "output_type": "display_data"
    },
    {
     "name": "stdout",
     "output_type": "stream",
     "text": [
      "[(1, 3, 84, 84), (1,), (1,), (1,), (1, 2)]\n",
      "(7,)\n",
      "(3, 84, 84)\n"
     ]
    },
    {
     "data": {
      "application/vnd.jupyter.widget-view+json": {
       "model_id": "16bd3269184649968bb76a752a1d509e",
       "version_major": 2,
       "version_minor": 0
      },
      "text/plain": [
       "HBox(children=(Canvas(height=84, width=84),), layout=Layout(align_items='center', display='flex', flex_flow='r…"
      ]
     },
     "metadata": {},
     "output_type": "display_data"
    },
    {
     "name": "stdout",
     "output_type": "stream",
     "text": [
      "[(1, 3, 84, 84), (1,), (1,), (1,), (1, 2)]\n",
      "(7,)\n",
      "(3, 84, 84)\n"
     ]
    },
    {
     "data": {
      "application/vnd.jupyter.widget-view+json": {
       "model_id": "c450f5f4b3884d19aa81e28e1f7ec101",
       "version_major": 2,
       "version_minor": 0
      },
      "text/plain": [
       "HBox(children=(Canvas(height=84, width=84),), layout=Layout(align_items='center', display='flex', flex_flow='r…"
      ]
     },
     "metadata": {},
     "output_type": "display_data"
    },
    {
     "name": "stdout",
     "output_type": "stream",
     "text": [
      "[(1, 3, 84, 84), (1,), (1,), (1,), (1, 2)]\n",
      "(7,)\n",
      "(3, 84, 84)\n"
     ]
    },
    {
     "data": {
      "application/vnd.jupyter.widget-view+json": {
       "model_id": "27deed5bc2004e68a60c7cf225fe33cc",
       "version_major": 2,
       "version_minor": 0
      },
      "text/plain": [
       "HBox(children=(Canvas(height=84, width=84),), layout=Layout(align_items='center', display='flex', flex_flow='r…"
      ]
     },
     "metadata": {},
     "output_type": "display_data"
    },
    {
     "name": "stdout",
     "output_type": "stream",
     "text": [
      "[(1, 3, 84, 84), (1,), (1,), (1,), (1, 2)]\n",
      "(7,)\n",
      "(3, 84, 84)\n"
     ]
    },
    {
     "data": {
      "application/vnd.jupyter.widget-view+json": {
       "model_id": "042cd768405e4fc191da05d51e67d833",
       "version_major": 2,
       "version_minor": 0
      },
      "text/plain": [
       "HBox(children=(Canvas(height=84, width=84),), layout=Layout(align_items='center', display='flex', flex_flow='r…"
      ]
     },
     "metadata": {},
     "output_type": "display_data"
    },
    {
     "name": "stdout",
     "output_type": "stream",
     "text": [
      "[(1, 3, 84, 84), (1,), (1,), (1,), (1, 2)]\n",
      "(7,)\n",
      "(3, 84, 84)\n"
     ]
    },
    {
     "data": {
      "application/vnd.jupyter.widget-view+json": {
       "model_id": "46fa4969e2734b19bdb5dd058575a6a0",
       "version_major": 2,
       "version_minor": 0
      },
      "text/plain": [
       "HBox(children=(Canvas(height=84, width=84),), layout=Layout(align_items='center', display='flex', flex_flow='r…"
      ]
     },
     "metadata": {},
     "output_type": "display_data"
    },
    {
     "name": "stdout",
     "output_type": "stream",
     "text": [
      "[(1, 3, 84, 84), (1,), (1,), (1,), (1, 2)]\n",
      "(7,)\n",
      "(3, 84, 84)\n"
     ]
    },
    {
     "data": {
      "application/vnd.jupyter.widget-view+json": {
       "model_id": "7faed37849a44c5698627c2c566db425",
       "version_major": 2,
       "version_minor": 0
      },
      "text/plain": [
       "HBox(children=(Canvas(height=84, width=84),), layout=Layout(align_items='center', display='flex', flex_flow='r…"
      ]
     },
     "metadata": {},
     "output_type": "display_data"
    },
    {
     "name": "stdout",
     "output_type": "stream",
     "text": [
      "[(1, 3, 84, 84), (1,), (1,), (1,), (1, 2)]\n",
      "(7,)\n",
      "(3, 84, 84)\n"
     ]
    },
    {
     "data": {
      "application/vnd.jupyter.widget-view+json": {
       "model_id": "b7918ce461e743dd8be32d8c04deb26e",
       "version_major": 2,
       "version_minor": 0
      },
      "text/plain": [
       "HBox(children=(Canvas(height=84, width=84),), layout=Layout(align_items='center', display='flex', flex_flow='r…"
      ]
     },
     "metadata": {},
     "output_type": "display_data"
    },
    {
     "name": "stdout",
     "output_type": "stream",
     "text": [
      "[(1, 3, 84, 84), (1,), (1,), (1,), (1, 2)]\n",
      "(7,)\n",
      "(3, 84, 84)\n"
     ]
    },
    {
     "data": {
      "application/vnd.jupyter.widget-view+json": {
       "model_id": "3bfaa1be953e4c66a1025de2d1f81bbf",
       "version_major": 2,
       "version_minor": 0
      },
      "text/plain": [
       "HBox(children=(Canvas(height=84, width=84),), layout=Layout(align_items='center', display='flex', flex_flow='r…"
      ]
     },
     "metadata": {},
     "output_type": "display_data"
    },
    {
     "name": "stdout",
     "output_type": "stream",
     "text": [
      "[(1, 3, 84, 84), (1,), (1,), (1,), (1, 2)]\n",
      "(7,)\n",
      "(3, 84, 84)\n"
     ]
    },
    {
     "data": {
      "application/vnd.jupyter.widget-view+json": {
       "model_id": "b4a45877476a415a916360908463c80c",
       "version_major": 2,
       "version_minor": 0
      },
      "text/plain": [
       "HBox(children=(Canvas(height=84, width=84),), layout=Layout(align_items='center', display='flex', flex_flow='r…"
      ]
     },
     "metadata": {},
     "output_type": "display_data"
    },
    {
     "name": "stdout",
     "output_type": "stream",
     "text": [
      "[(1, 3, 84, 84), (1,), (1,), (1,), (1, 2)]\n",
      "(7,)\n",
      "(3, 84, 84)\n"
     ]
    },
    {
     "data": {
      "application/vnd.jupyter.widget-view+json": {
       "model_id": "72fd9102300448378f2bc58a07277935",
       "version_major": 2,
       "version_minor": 0
      },
      "text/plain": [
       "HBox(children=(Canvas(height=84, width=84),), layout=Layout(align_items='center', display='flex', flex_flow='r…"
      ]
     },
     "metadata": {},
     "output_type": "display_data"
    },
    {
     "name": "stdout",
     "output_type": "stream",
     "text": [
      "[(1, 3, 84, 84), (1,), (1,), (1,), (1, 2)]\n",
      "(7,)\n",
      "(3, 84, 84)\n"
     ]
    },
    {
     "data": {
      "application/vnd.jupyter.widget-view+json": {
       "model_id": "d0c8f9fd51fa436ea6a6df45814bd5b9",
       "version_major": 2,
       "version_minor": 0
      },
      "text/plain": [
       "HBox(children=(Canvas(height=84, width=84),), layout=Layout(align_items='center', display='flex', flex_flow='r…"
      ]
     },
     "metadata": {},
     "output_type": "display_data"
    },
    {
     "name": "stdout",
     "output_type": "stream",
     "text": [
      "[(1, 3, 84, 84), (1,), (1,), (1,), (1, 2)]\n",
      "(7,)\n",
      "(3, 84, 84)\n"
     ]
    },
    {
     "data": {
      "application/vnd.jupyter.widget-view+json": {
       "model_id": "4222c546305b43c980cc60302260aa27",
       "version_major": 2,
       "version_minor": 0
      },
      "text/plain": [
       "HBox(children=(Canvas(height=84, width=84),), layout=Layout(align_items='center', display='flex', flex_flow='r…"
      ]
     },
     "metadata": {},
     "output_type": "display_data"
    },
    {
     "name": "stdout",
     "output_type": "stream",
     "text": [
      "[(1, 3, 84, 84), (1,), (1,), (1,), (1, 2)]\n",
      "(7,)\n",
      "(3, 84, 84)\n"
     ]
    },
    {
     "data": {
      "application/vnd.jupyter.widget-view+json": {
       "model_id": "3c6959ec50fa4846bb2425ba305730dd",
       "version_major": 2,
       "version_minor": 0
      },
      "text/plain": [
       "HBox(children=(Canvas(height=84, width=84),), layout=Layout(align_items='center', display='flex', flex_flow='r…"
      ]
     },
     "metadata": {},
     "output_type": "display_data"
    },
    {
     "name": "stdout",
     "output_type": "stream",
     "text": [
      "[(1, 3, 84, 84), (1,), (1,), (1,), (1, 2)]\n",
      "(7,)\n",
      "(3, 84, 84)\n"
     ]
    },
    {
     "data": {
      "application/vnd.jupyter.widget-view+json": {
       "model_id": "6df96200406e459c9267ada60a69bb9e",
       "version_major": 2,
       "version_minor": 0
      },
      "text/plain": [
       "HBox(children=(Canvas(height=84, width=84),), layout=Layout(align_items='center', display='flex', flex_flow='r…"
      ]
     },
     "metadata": {},
     "output_type": "display_data"
    },
    {
     "name": "stdout",
     "output_type": "stream",
     "text": [
      "[(1, 3, 84, 84), (1,), (1,), (1,), (1, 2)]\n",
      "(7,)\n",
      "(3, 84, 84)\n"
     ]
    },
    {
     "data": {
      "application/vnd.jupyter.widget-view+json": {
       "model_id": "d41c76a9608840dfb131ac2dfc23e37a",
       "version_major": 2,
       "version_minor": 0
      },
      "text/plain": [
       "HBox(children=(Canvas(height=84, width=84),), layout=Layout(align_items='center', display='flex', flex_flow='r…"
      ]
     },
     "metadata": {},
     "output_type": "display_data"
    },
    {
     "name": "stdout",
     "output_type": "stream",
     "text": [
      "[(1, 3, 84, 84), (1,), (1,), (1,), (1, 2)]\n",
      "(7,)\n",
      "(3, 84, 84)\n"
     ]
    },
    {
     "data": {
      "application/vnd.jupyter.widget-view+json": {
       "model_id": "1f21116e75d04187be0076e3170e2b4d",
       "version_major": 2,
       "version_minor": 0
      },
      "text/plain": [
       "HBox(children=(Canvas(height=84, width=84),), layout=Layout(align_items='center', display='flex', flex_flow='r…"
      ]
     },
     "metadata": {},
     "output_type": "display_data"
    },
    {
     "name": "stdout",
     "output_type": "stream",
     "text": [
      "[(1, 3, 84, 84), (1,), (1,), (1,), (1, 2)]\n",
      "(7,)\n",
      "(3, 84, 84)\n"
     ]
    },
    {
     "data": {
      "application/vnd.jupyter.widget-view+json": {
       "model_id": "491a0bc69e73411287d119a90e974e78",
       "version_major": 2,
       "version_minor": 0
      },
      "text/plain": [
       "HBox(children=(Canvas(height=84, width=84),), layout=Layout(align_items='center', display='flex', flex_flow='r…"
      ]
     },
     "metadata": {},
     "output_type": "display_data"
    },
    {
     "name": "stdout",
     "output_type": "stream",
     "text": [
      "[(1, 3, 84, 84), (1,), (1,), (1,), (1, 2)]\n",
      "(7,)\n",
      "(3, 84, 84)\n"
     ]
    },
    {
     "data": {
      "application/vnd.jupyter.widget-view+json": {
       "model_id": "b1e30bca2cf74af2883f9768e25d47e6",
       "version_major": 2,
       "version_minor": 0
      },
      "text/plain": [
       "HBox(children=(Canvas(height=84, width=84),), layout=Layout(align_items='center', display='flex', flex_flow='r…"
      ]
     },
     "metadata": {},
     "output_type": "display_data"
    },
    {
     "name": "stdout",
     "output_type": "stream",
     "text": [
      "[(1, 3, 84, 84), (1,), (1,), (1,), (1, 2)]\n",
      "(7,)\n",
      "(3, 84, 84)\n"
     ]
    },
    {
     "data": {
      "application/vnd.jupyter.widget-view+json": {
       "model_id": "e419085d6a7d4655a9f713f33362c50c",
       "version_major": 2,
       "version_minor": 0
      },
      "text/plain": [
       "HBox(children=(Canvas(height=84, width=84),), layout=Layout(align_items='center', display='flex', flex_flow='r…"
      ]
     },
     "metadata": {},
     "output_type": "display_data"
    },
    {
     "name": "stdout",
     "output_type": "stream",
     "text": [
      "[(1, 3, 84, 84), (1,), (1,), (1,), (1, 2)]\n",
      "(7,)\n",
      "(3, 84, 84)\n"
     ]
    },
    {
     "data": {
      "application/vnd.jupyter.widget-view+json": {
       "model_id": "7f54df5aa1cc46d390c3eb1c44c701ed",
       "version_major": 2,
       "version_minor": 0
      },
      "text/plain": [
       "HBox(children=(Canvas(height=84, width=84),), layout=Layout(align_items='center', display='flex', flex_flow='r…"
      ]
     },
     "metadata": {},
     "output_type": "display_data"
    },
    {
     "name": "stdout",
     "output_type": "stream",
     "text": [
      "[(1, 3, 84, 84), (1,), (1,), (1,), (1, 2)]\n",
      "(7,)\n",
      "(3, 84, 84)\n"
     ]
    },
    {
     "data": {
      "application/vnd.jupyter.widget-view+json": {
       "model_id": "ebb2bd7bd8bd4f8388882fa4777cf4ec",
       "version_major": 2,
       "version_minor": 0
      },
      "text/plain": [
       "HBox(children=(Canvas(height=84, width=84),), layout=Layout(align_items='center', display='flex', flex_flow='r…"
      ]
     },
     "metadata": {},
     "output_type": "display_data"
    },
    {
     "name": "stdout",
     "output_type": "stream",
     "text": [
      "[(1, 3, 84, 84), (1,), (1,), (1,), (1, 2)]\n",
      "(7,)\n",
      "(3, 84, 84)\n"
     ]
    },
    {
     "data": {
      "application/vnd.jupyter.widget-view+json": {
       "model_id": "62533cbd496d4e83807291325a3f0e1b",
       "version_major": 2,
       "version_minor": 0
      },
      "text/plain": [
       "HBox(children=(Canvas(height=84, width=84),), layout=Layout(align_items='center', display='flex', flex_flow='r…"
      ]
     },
     "metadata": {},
     "output_type": "display_data"
    },
    {
     "name": "stdout",
     "output_type": "stream",
     "text": [
      "[(1, 3, 84, 84), (1,), (1,), (1,), (1, 2)]\n",
      "(7,)\n",
      "(3, 84, 84)\n"
     ]
    },
    {
     "data": {
      "application/vnd.jupyter.widget-view+json": {
       "model_id": "396912efe7a84963954653bc4e7937fc",
       "version_major": 2,
       "version_minor": 0
      },
      "text/plain": [
       "HBox(children=(Canvas(height=84, width=84),), layout=Layout(align_items='center', display='flex', flex_flow='r…"
      ]
     },
     "metadata": {},
     "output_type": "display_data"
    },
    {
     "name": "stdout",
     "output_type": "stream",
     "text": [
      "[(1, 3, 84, 84), (1,), (1,), (1,), (1, 2)]\n",
      "(7,)\n",
      "(3, 84, 84)\n"
     ]
    },
    {
     "data": {
      "application/vnd.jupyter.widget-view+json": {
       "model_id": "7ef8ee24e5864e68a48b416455baf03d",
       "version_major": 2,
       "version_minor": 0
      },
      "text/plain": [
       "HBox(children=(Canvas(height=84, width=84),), layout=Layout(align_items='center', display='flex', flex_flow='r…"
      ]
     },
     "metadata": {},
     "output_type": "display_data"
    },
    {
     "name": "stdout",
     "output_type": "stream",
     "text": [
      "[(1, 3, 84, 84), (1,), (1,), (1,), (1, 2)]\n",
      "(7,)\n",
      "(3, 84, 84)\n"
     ]
    },
    {
     "data": {
      "application/vnd.jupyter.widget-view+json": {
       "model_id": "ac8597a073ca46be96d79b9c281156da",
       "version_major": 2,
       "version_minor": 0
      },
      "text/plain": [
       "HBox(children=(Canvas(height=84, width=84),), layout=Layout(align_items='center', display='flex', flex_flow='r…"
      ]
     },
     "metadata": {},
     "output_type": "display_data"
    },
    {
     "name": "stdout",
     "output_type": "stream",
     "text": [
      "[(1, 3, 84, 84), (1,), (1,), (1,), (1, 2)]\n",
      "(7,)\n",
      "(3, 84, 84)\n"
     ]
    },
    {
     "data": {
      "application/vnd.jupyter.widget-view+json": {
       "model_id": "f06a548818cf434b9f6cb7e253650ef3",
       "version_major": 2,
       "version_minor": 0
      },
      "text/plain": [
       "HBox(children=(Canvas(height=84, width=84),), layout=Layout(align_items='center', display='flex', flex_flow='r…"
      ]
     },
     "metadata": {},
     "output_type": "display_data"
    },
    {
     "name": "stdout",
     "output_type": "stream",
     "text": [
      "[(1, 3, 84, 84), (1,), (1,), (1,), (1, 2)]\n",
      "(7,)\n",
      "(3, 84, 84)\n"
     ]
    },
    {
     "data": {
      "application/vnd.jupyter.widget-view+json": {
       "model_id": "fb7247be52574f1f99c61562d70e9179",
       "version_major": 2,
       "version_minor": 0
      },
      "text/plain": [
       "HBox(children=(Canvas(height=84, width=84),), layout=Layout(align_items='center', display='flex', flex_flow='r…"
      ]
     },
     "metadata": {},
     "output_type": "display_data"
    },
    {
     "name": "stdout",
     "output_type": "stream",
     "text": [
      "[(1, 3, 84, 84), (1,), (1,), (1,), (1, 2)]\n",
      "(7,)\n",
      "(3, 84, 84)\n"
     ]
    },
    {
     "data": {
      "application/vnd.jupyter.widget-view+json": {
       "model_id": "4caa30b127fe4205a5de45357ffa72fa",
       "version_major": 2,
       "version_minor": 0
      },
      "text/plain": [
       "HBox(children=(Canvas(height=84, width=84),), layout=Layout(align_items='center', display='flex', flex_flow='r…"
      ]
     },
     "metadata": {},
     "output_type": "display_data"
    },
    {
     "name": "stdout",
     "output_type": "stream",
     "text": [
      "[(1, 3, 84, 84), (1,), (1,), (1,), (1, 2)]\n",
      "(7,)\n",
      "(3, 84, 84)\n"
     ]
    },
    {
     "data": {
      "application/vnd.jupyter.widget-view+json": {
       "model_id": "6bb325b880ed4d2981886a3a4d657776",
       "version_major": 2,
       "version_minor": 0
      },
      "text/plain": [
       "HBox(children=(Canvas(height=84, width=84),), layout=Layout(align_items='center', display='flex', flex_flow='r…"
      ]
     },
     "metadata": {},
     "output_type": "display_data"
    },
    {
     "name": "stdout",
     "output_type": "stream",
     "text": [
      "[(1, 3, 84, 84), (1,), (1,), (1,), (1, 2)]\n",
      "(7,)\n",
      "(3, 84, 84)\n"
     ]
    },
    {
     "data": {
      "application/vnd.jupyter.widget-view+json": {
       "model_id": "63db8a3069db4d57bbeb308ff9bb8c8a",
       "version_major": 2,
       "version_minor": 0
      },
      "text/plain": [
       "HBox(children=(Canvas(height=84, width=84),), layout=Layout(align_items='center', display='flex', flex_flow='r…"
      ]
     },
     "metadata": {},
     "output_type": "display_data"
    },
    {
     "name": "stdout",
     "output_type": "stream",
     "text": [
      "[(1, 3, 84, 84), (1,), (1,), (1,), (1, 2)]\n",
      "(7,)\n",
      "(3, 84, 84)\n"
     ]
    },
    {
     "data": {
      "application/vnd.jupyter.widget-view+json": {
       "model_id": "9c41c2bb79a14f48bcfdefe7fd4c50e5",
       "version_major": 2,
       "version_minor": 0
      },
      "text/plain": [
       "HBox(children=(Canvas(height=84, width=84),), layout=Layout(align_items='center', display='flex', flex_flow='r…"
      ]
     },
     "metadata": {},
     "output_type": "display_data"
    },
    {
     "name": "stdout",
     "output_type": "stream",
     "text": [
      "[(1, 3, 84, 84), (1,), (1,), (1,), (1, 2)]\n",
      "(7,)\n",
      "(3, 84, 84)\n"
     ]
    },
    {
     "data": {
      "application/vnd.jupyter.widget-view+json": {
       "model_id": "7b2fe7b50406407c97d6ace93122f6fa",
       "version_major": 2,
       "version_minor": 0
      },
      "text/plain": [
       "HBox(children=(Canvas(height=84, width=84),), layout=Layout(align_items='center', display='flex', flex_flow='r…"
      ]
     },
     "metadata": {},
     "output_type": "display_data"
    },
    {
     "name": "stdout",
     "output_type": "stream",
     "text": [
      "[(1, 3, 84, 84), (1,), (1,), (1,), (1, 2)]\n",
      "(7,)\n",
      "(3, 84, 84)\n"
     ]
    },
    {
     "data": {
      "application/vnd.jupyter.widget-view+json": {
       "model_id": "98bf25db002540e09c5a811415ae0076",
       "version_major": 2,
       "version_minor": 0
      },
      "text/plain": [
       "HBox(children=(Canvas(height=84, width=84),), layout=Layout(align_items='center', display='flex', flex_flow='r…"
      ]
     },
     "metadata": {},
     "output_type": "display_data"
    },
    {
     "name": "stdout",
     "output_type": "stream",
     "text": [
      "[(1, 3, 84, 84), (1,), (1,), (1,), (1, 2)]\n",
      "(7,)\n",
      "(3, 84, 84)\n"
     ]
    },
    {
     "data": {
      "application/vnd.jupyter.widget-view+json": {
       "model_id": "7d5f26fc46c54601a4bdfe34b8e724cb",
       "version_major": 2,
       "version_minor": 0
      },
      "text/plain": [
       "HBox(children=(Canvas(height=84, width=84),), layout=Layout(align_items='center', display='flex', flex_flow='r…"
      ]
     },
     "metadata": {},
     "output_type": "display_data"
    },
    {
     "name": "stdout",
     "output_type": "stream",
     "text": [
      "[(1, 3, 84, 84), (1,), (1,), (1,), (1, 2)]\n",
      "(7,)\n",
      "(3, 84, 84)\n"
     ]
    },
    {
     "data": {
      "application/vnd.jupyter.widget-view+json": {
       "model_id": "5393c7ff8b7b4c27ba827510e5bd7ffe",
       "version_major": 2,
       "version_minor": 0
      },
      "text/plain": [
       "HBox(children=(Canvas(height=84, width=84),), layout=Layout(align_items='center', display='flex', flex_flow='r…"
      ]
     },
     "metadata": {},
     "output_type": "display_data"
    },
    {
     "name": "stdout",
     "output_type": "stream",
     "text": [
      "[(1, 3, 84, 84), (1,), (1,), (1,), (1, 2)]\n",
      "(7,)\n",
      "(3, 84, 84)\n"
     ]
    },
    {
     "data": {
      "application/vnd.jupyter.widget-view+json": {
       "model_id": "5007eb2d13314345973b620feaca07a4",
       "version_major": 2,
       "version_minor": 0
      },
      "text/plain": [
       "HBox(children=(Canvas(height=84, width=84),), layout=Layout(align_items='center', display='flex', flex_flow='r…"
      ]
     },
     "metadata": {},
     "output_type": "display_data"
    },
    {
     "name": "stdout",
     "output_type": "stream",
     "text": [
      "[(1, 3, 84, 84), (1,), (1,), (1,), (1, 2)]\n",
      "(7,)\n",
      "(3, 84, 84)\n"
     ]
    },
    {
     "data": {
      "application/vnd.jupyter.widget-view+json": {
       "model_id": "d2bee4ff00ef4970af4d913f95ba7773",
       "version_major": 2,
       "version_minor": 0
      },
      "text/plain": [
       "HBox(children=(Canvas(height=84, width=84),), layout=Layout(align_items='center', display='flex', flex_flow='r…"
      ]
     },
     "metadata": {},
     "output_type": "display_data"
    },
    {
     "name": "stdout",
     "output_type": "stream",
     "text": [
      "[(1, 3, 84, 84), (1,), (1,), (1,), (1, 2)]\n",
      "(7,)\n",
      "(3, 84, 84)\n"
     ]
    },
    {
     "data": {
      "application/vnd.jupyter.widget-view+json": {
       "model_id": "0d177f328de44e589d004f2ad8240f9a",
       "version_major": 2,
       "version_minor": 0
      },
      "text/plain": [
       "HBox(children=(Canvas(height=84, width=84),), layout=Layout(align_items='center', display='flex', flex_flow='r…"
      ]
     },
     "metadata": {},
     "output_type": "display_data"
    },
    {
     "name": "stdout",
     "output_type": "stream",
     "text": [
      "[(1, 3, 84, 84), (1,), (1,), (1,), (1, 2)]\n",
      "(7,)\n",
      "(3, 84, 84)\n"
     ]
    },
    {
     "data": {
      "application/vnd.jupyter.widget-view+json": {
       "model_id": "f3e8f229588b4cb99411a8c407f09671",
       "version_major": 2,
       "version_minor": 0
      },
      "text/plain": [
       "HBox(children=(Canvas(height=84, width=84),), layout=Layout(align_items='center', display='flex', flex_flow='r…"
      ]
     },
     "metadata": {},
     "output_type": "display_data"
    },
    {
     "name": "stdout",
     "output_type": "stream",
     "text": [
      "[(1, 3, 84, 84), (1,), (1,), (1,), (1, 2)]\n",
      "(7,)\n",
      "(3, 84, 84)\n"
     ]
    },
    {
     "data": {
      "application/vnd.jupyter.widget-view+json": {
       "model_id": "b08f1bd6332e44ca82378c48a558da24",
       "version_major": 2,
       "version_minor": 0
      },
      "text/plain": [
       "HBox(children=(Canvas(height=84, width=84),), layout=Layout(align_items='center', display='flex', flex_flow='r…"
      ]
     },
     "metadata": {},
     "output_type": "display_data"
    },
    {
     "name": "stdout",
     "output_type": "stream",
     "text": [
      "[(1, 3, 84, 84), (1,), (1,), (1,), (1, 2)]\n",
      "(7,)\n",
      "(3, 84, 84)\n"
     ]
    },
    {
     "data": {
      "application/vnd.jupyter.widget-view+json": {
       "model_id": "a0af1261d6614e6394dd9a629e849e2d",
       "version_major": 2,
       "version_minor": 0
      },
      "text/plain": [
       "HBox(children=(Canvas(height=84, width=84),), layout=Layout(align_items='center', display='flex', flex_flow='r…"
      ]
     },
     "metadata": {},
     "output_type": "display_data"
    },
    {
     "name": "stdout",
     "output_type": "stream",
     "text": [
      "[(1, 3, 84, 84), (1,), (1,), (1,), (1, 2)]\n",
      "(7,)\n",
      "(3, 84, 84)\n"
     ]
    },
    {
     "data": {
      "application/vnd.jupyter.widget-view+json": {
       "model_id": "306ceccc8533438bafc4409d11aeb457",
       "version_major": 2,
       "version_minor": 0
      },
      "text/plain": [
       "HBox(children=(Canvas(height=84, width=84),), layout=Layout(align_items='center', display='flex', flex_flow='r…"
      ]
     },
     "metadata": {},
     "output_type": "display_data"
    },
    {
     "name": "stdout",
     "output_type": "stream",
     "text": [
      "[(1, 3, 84, 84), (1,), (1,), (1,), (1, 2)]\n",
      "(7,)\n",
      "(3, 84, 84)\n"
     ]
    },
    {
     "data": {
      "application/vnd.jupyter.widget-view+json": {
       "model_id": "0e840ad2c58e457ca66c24a5d8181fa4",
       "version_major": 2,
       "version_minor": 0
      },
      "text/plain": [
       "HBox(children=(Canvas(height=84, width=84),), layout=Layout(align_items='center', display='flex', flex_flow='r…"
      ]
     },
     "metadata": {},
     "output_type": "display_data"
    },
    {
     "name": "stdout",
     "output_type": "stream",
     "text": [
      "[(1, 3, 84, 84), (1,), (1,), (1,), (1, 2)]\n",
      "(7,)\n",
      "(3, 84, 84)\n"
     ]
    },
    {
     "data": {
      "application/vnd.jupyter.widget-view+json": {
       "model_id": "7c7a095f54f046b0a6f3a2c78b1ff8c2",
       "version_major": 2,
       "version_minor": 0
      },
      "text/plain": [
       "HBox(children=(Canvas(height=84, width=84),), layout=Layout(align_items='center', display='flex', flex_flow='r…"
      ]
     },
     "metadata": {},
     "output_type": "display_data"
    },
    {
     "name": "stdout",
     "output_type": "stream",
     "text": [
      "[(1, 3, 84, 84), (1,), (1,), (1,), (1, 2)]\n",
      "(7,)\n",
      "(3, 84, 84)\n"
     ]
    },
    {
     "data": {
      "application/vnd.jupyter.widget-view+json": {
       "model_id": "3000162cbd404ffaa633aeb9ab2c8335",
       "version_major": 2,
       "version_minor": 0
      },
      "text/plain": [
       "HBox(children=(Canvas(height=84, width=84),), layout=Layout(align_items='center', display='flex', flex_flow='r…"
      ]
     },
     "metadata": {},
     "output_type": "display_data"
    },
    {
     "name": "stdout",
     "output_type": "stream",
     "text": [
      "[(1, 3, 84, 84), (1,), (1,), (1,), (1, 2)]\n",
      "(7,)\n",
      "(3, 84, 84)\n"
     ]
    },
    {
     "data": {
      "application/vnd.jupyter.widget-view+json": {
       "model_id": "ca79390572ad4f9e968749a9646a9824",
       "version_major": 2,
       "version_minor": 0
      },
      "text/plain": [
       "HBox(children=(Canvas(height=84, width=84),), layout=Layout(align_items='center', display='flex', flex_flow='r…"
      ]
     },
     "metadata": {},
     "output_type": "display_data"
    },
    {
     "name": "stdout",
     "output_type": "stream",
     "text": [
      "[(1, 3, 84, 84), (1,), (1,), (1,), (1, 2)]\n",
      "(7,)\n",
      "(3, 84, 84)\n"
     ]
    },
    {
     "data": {
      "application/vnd.jupyter.widget-view+json": {
       "model_id": "0e382e5cd820482b8cb9cd75baed20d6",
       "version_major": 2,
       "version_minor": 0
      },
      "text/plain": [
       "HBox(children=(Canvas(height=84, width=84),), layout=Layout(align_items='center', display='flex', flex_flow='r…"
      ]
     },
     "metadata": {},
     "output_type": "display_data"
    },
    {
     "name": "stdout",
     "output_type": "stream",
     "text": [
      "[(1, 3, 84, 84), (1,), (1,), (1,), (1, 2)]\n",
      "(7,)\n",
      "(3, 84, 84)\n"
     ]
    },
    {
     "data": {
      "application/vnd.jupyter.widget-view+json": {
       "model_id": "6446bd7fb4f243e685f757f8ef998770",
       "version_major": 2,
       "version_minor": 0
      },
      "text/plain": [
       "HBox(children=(Canvas(height=84, width=84),), layout=Layout(align_items='center', display='flex', flex_flow='r…"
      ]
     },
     "metadata": {},
     "output_type": "display_data"
    },
    {
     "name": "stdout",
     "output_type": "stream",
     "text": [
      "[(1, 3, 84, 84), (1,), (1,), (1,), (1, 2)]\n",
      "(7,)\n",
      "(3, 84, 84)\n"
     ]
    },
    {
     "data": {
      "application/vnd.jupyter.widget-view+json": {
       "model_id": "f8444c55ce2e4c01b3ec9c2fd9934ba3",
       "version_major": 2,
       "version_minor": 0
      },
      "text/plain": [
       "HBox(children=(Canvas(height=84, width=84),), layout=Layout(align_items='center', display='flex', flex_flow='r…"
      ]
     },
     "metadata": {},
     "output_type": "display_data"
    },
    {
     "name": "stdout",
     "output_type": "stream",
     "text": [
      "[(1, 3, 84, 84), (1,), (1,), (1,), (1, 2)]\n",
      "(7,)\n",
      "(3, 84, 84)\n"
     ]
    },
    {
     "data": {
      "application/vnd.jupyter.widget-view+json": {
       "model_id": "fa38b4222add42689eb5dae0c188b5a4",
       "version_major": 2,
       "version_minor": 0
      },
      "text/plain": [
       "HBox(children=(Canvas(height=84, width=84),), layout=Layout(align_items='center', display='flex', flex_flow='r…"
      ]
     },
     "metadata": {},
     "output_type": "display_data"
    },
    {
     "name": "stdout",
     "output_type": "stream",
     "text": [
      "[(1, 3, 84, 84), (1,), (1,), (1,), (1, 2)]\n",
      "(7,)\n",
      "(3, 84, 84)\n"
     ]
    },
    {
     "data": {
      "application/vnd.jupyter.widget-view+json": {
       "model_id": "80f769a6250c438bbef9c0ad6c4f5040",
       "version_major": 2,
       "version_minor": 0
      },
      "text/plain": [
       "HBox(children=(Canvas(height=84, width=84),), layout=Layout(align_items='center', display='flex', flex_flow='r…"
      ]
     },
     "metadata": {},
     "output_type": "display_data"
    },
    {
     "name": "stdout",
     "output_type": "stream",
     "text": [
      "[(1, 3, 84, 84), (1,), (1,), (1,), (1, 2)]\n",
      "(7,)\n",
      "(3, 84, 84)\n"
     ]
    },
    {
     "data": {
      "application/vnd.jupyter.widget-view+json": {
       "model_id": "aa0beceea5b842d5b7c29bc2f773f5c4",
       "version_major": 2,
       "version_minor": 0
      },
      "text/plain": [
       "HBox(children=(Canvas(height=84, width=84),), layout=Layout(align_items='center', display='flex', flex_flow='r…"
      ]
     },
     "metadata": {},
     "output_type": "display_data"
    },
    {
     "name": "stdout",
     "output_type": "stream",
     "text": [
      "[(1, 3, 84, 84), (1,), (1,), (1,), (1, 2)]\n",
      "(7,)\n",
      "(3, 84, 84)\n"
     ]
    },
    {
     "data": {
      "application/vnd.jupyter.widget-view+json": {
       "model_id": "982645309db44b1b81d643cc029df253",
       "version_major": 2,
       "version_minor": 0
      },
      "text/plain": [
       "HBox(children=(Canvas(height=84, width=84),), layout=Layout(align_items='center', display='flex', flex_flow='r…"
      ]
     },
     "metadata": {},
     "output_type": "display_data"
    },
    {
     "name": "stdout",
     "output_type": "stream",
     "text": [
      "[(1, 3, 84, 84), (1,), (1,), (1,), (1, 2)]\n",
      "(7,)\n",
      "(3, 84, 84)\n"
     ]
    },
    {
     "data": {
      "application/vnd.jupyter.widget-view+json": {
       "model_id": "67e8edd39c9f46d08576f29f62e58882",
       "version_major": 2,
       "version_minor": 0
      },
      "text/plain": [
       "HBox(children=(Canvas(height=84, width=84),), layout=Layout(align_items='center', display='flex', flex_flow='r…"
      ]
     },
     "metadata": {},
     "output_type": "display_data"
    },
    {
     "name": "stdout",
     "output_type": "stream",
     "text": [
      "[(1, 3, 84, 84), (1,), (1,), (1,), (1, 2)]\n",
      "(7,)\n",
      "(3, 84, 84)\n"
     ]
    },
    {
     "data": {
      "application/vnd.jupyter.widget-view+json": {
       "model_id": "5423fca6911d41d597284a9b11afc5a8",
       "version_major": 2,
       "version_minor": 0
      },
      "text/plain": [
       "HBox(children=(Canvas(height=84, width=84),), layout=Layout(align_items='center', display='flex', flex_flow='r…"
      ]
     },
     "metadata": {},
     "output_type": "display_data"
    },
    {
     "name": "stdout",
     "output_type": "stream",
     "text": [
      "[(1, 3, 84, 84), (1,), (1,), (1,), (1, 2)]\n",
      "(7,)\n",
      "(3, 84, 84)\n"
     ]
    },
    {
     "data": {
      "application/vnd.jupyter.widget-view+json": {
       "model_id": "9d54882c69ca4dd09e55cba16b5bad47",
       "version_major": 2,
       "version_minor": 0
      },
      "text/plain": [
       "HBox(children=(Canvas(height=84, width=84),), layout=Layout(align_items='center', display='flex', flex_flow='r…"
      ]
     },
     "metadata": {},
     "output_type": "display_data"
    },
    {
     "name": "stdout",
     "output_type": "stream",
     "text": [
      "[(1, 3, 84, 84), (1,), (1,), (1,), (1, 2)]\n",
      "(7,)\n",
      "(3, 84, 84)\n"
     ]
    },
    {
     "data": {
      "application/vnd.jupyter.widget-view+json": {
       "model_id": "2ed6f410db754c008de8039be3ee12f5",
       "version_major": 2,
       "version_minor": 0
      },
      "text/plain": [
       "HBox(children=(Canvas(height=84, width=84),), layout=Layout(align_items='center', display='flex', flex_flow='r…"
      ]
     },
     "metadata": {},
     "output_type": "display_data"
    },
    {
     "name": "stdout",
     "output_type": "stream",
     "text": [
      "[(1, 3, 84, 84), (1,), (1,), (1,), (1, 2)]\n",
      "(7,)\n",
      "(3, 84, 84)\n"
     ]
    },
    {
     "data": {
      "application/vnd.jupyter.widget-view+json": {
       "model_id": "85f310e3a3204aec9341429fccb848a6",
       "version_major": 2,
       "version_minor": 0
      },
      "text/plain": [
       "HBox(children=(Canvas(height=84, width=84),), layout=Layout(align_items='center', display='flex', flex_flow='r…"
      ]
     },
     "metadata": {},
     "output_type": "display_data"
    },
    {
     "name": "stdout",
     "output_type": "stream",
     "text": [
      "[(1, 3, 84, 84), (1,), (1,), (1,), (1, 2)]\n",
      "(7,)\n",
      "(3, 84, 84)\n"
     ]
    },
    {
     "data": {
      "application/vnd.jupyter.widget-view+json": {
       "model_id": "158b2aa580a14715aefe0d252942d1d8",
       "version_major": 2,
       "version_minor": 0
      },
      "text/plain": [
       "HBox(children=(Canvas(height=84, width=84),), layout=Layout(align_items='center', display='flex', flex_flow='r…"
      ]
     },
     "metadata": {},
     "output_type": "display_data"
    },
    {
     "name": "stdout",
     "output_type": "stream",
     "text": [
      "[(1, 3, 84, 84), (1,), (1,), (1,), (1, 2)]\n",
      "(7,)\n",
      "(3, 84, 84)\n"
     ]
    },
    {
     "data": {
      "application/vnd.jupyter.widget-view+json": {
       "model_id": "8955e34bf6ed43d4b8c65e2b929aef9b",
       "version_major": 2,
       "version_minor": 0
      },
      "text/plain": [
       "HBox(children=(Canvas(height=84, width=84),), layout=Layout(align_items='center', display='flex', flex_flow='r…"
      ]
     },
     "metadata": {},
     "output_type": "display_data"
    },
    {
     "name": "stdout",
     "output_type": "stream",
     "text": [
      "[(1, 3, 84, 84), (1,), (1,), (1,), (1, 2)]\n",
      "(7,)\n",
      "(3, 84, 84)\n"
     ]
    },
    {
     "data": {
      "application/vnd.jupyter.widget-view+json": {
       "model_id": "2ffff21d38784b0e85b77162d43d2f47",
       "version_major": 2,
       "version_minor": 0
      },
      "text/plain": [
       "HBox(children=(Canvas(height=84, width=84),), layout=Layout(align_items='center', display='flex', flex_flow='r…"
      ]
     },
     "metadata": {},
     "output_type": "display_data"
    },
    {
     "name": "stdout",
     "output_type": "stream",
     "text": [
      "[(1, 3, 84, 84), (1,), (1,), (1,), (1, 2)]\n",
      "(7,)\n",
      "(3, 84, 84)\n"
     ]
    },
    {
     "data": {
      "application/vnd.jupyter.widget-view+json": {
       "model_id": "76ed5e12d8ae4802acee6aa703b169eb",
       "version_major": 2,
       "version_minor": 0
      },
      "text/plain": [
       "HBox(children=(Canvas(height=84, width=84),), layout=Layout(align_items='center', display='flex', flex_flow='r…"
      ]
     },
     "metadata": {},
     "output_type": "display_data"
    },
    {
     "name": "stdout",
     "output_type": "stream",
     "text": [
      "[(1, 3, 84, 84), (1,), (1,), (1,), (1, 2)]\n",
      "(7,)\n",
      "(3, 84, 84)\n"
     ]
    },
    {
     "data": {
      "application/vnd.jupyter.widget-view+json": {
       "model_id": "72c0574f2d2544aa95db104838e84907",
       "version_major": 2,
       "version_minor": 0
      },
      "text/plain": [
       "HBox(children=(Canvas(height=84, width=84),), layout=Layout(align_items='center', display='flex', flex_flow='r…"
      ]
     },
     "metadata": {},
     "output_type": "display_data"
    },
    {
     "name": "stdout",
     "output_type": "stream",
     "text": [
      "[(1, 3, 84, 84), (1,), (1,), (1,), (1, 2)]\n",
      "(7,)\n",
      "(3, 84, 84)\n"
     ]
    },
    {
     "data": {
      "application/vnd.jupyter.widget-view+json": {
       "model_id": "d3c955a2b9a74b73b9b9ed165d291763",
       "version_major": 2,
       "version_minor": 0
      },
      "text/plain": [
       "HBox(children=(Canvas(height=84, width=84),), layout=Layout(align_items='center', display='flex', flex_flow='r…"
      ]
     },
     "metadata": {},
     "output_type": "display_data"
    },
    {
     "name": "stdout",
     "output_type": "stream",
     "text": [
      "[(1, 3, 84, 84), (1,), (1,), (1,), (1, 2)]\n",
      "(7,)\n",
      "(3, 84, 84)\n"
     ]
    },
    {
     "data": {
      "application/vnd.jupyter.widget-view+json": {
       "model_id": "0522bde6317548c18ebe4975498c661b",
       "version_major": 2,
       "version_minor": 0
      },
      "text/plain": [
       "HBox(children=(Canvas(height=84, width=84),), layout=Layout(align_items='center', display='flex', flex_flow='r…"
      ]
     },
     "metadata": {},
     "output_type": "display_data"
    },
    {
     "name": "stdout",
     "output_type": "stream",
     "text": [
      "[(1, 3, 84, 84), (1,), (1,), (1,), (1, 2)]\n",
      "(7,)\n",
      "(3, 84, 84)\n"
     ]
    },
    {
     "data": {
      "application/vnd.jupyter.widget-view+json": {
       "model_id": "05cd63d405c14c74ae608c799bc36780",
       "version_major": 2,
       "version_minor": 0
      },
      "text/plain": [
       "HBox(children=(Canvas(height=84, width=84),), layout=Layout(align_items='center', display='flex', flex_flow='r…"
      ]
     },
     "metadata": {},
     "output_type": "display_data"
    },
    {
     "name": "stdout",
     "output_type": "stream",
     "text": [
      "[(1, 3, 84, 84), (1,), (1,), (1,), (1, 2)]\n",
      "(7,)\n",
      "(3, 84, 84)\n"
     ]
    },
    {
     "ename": "KeyboardInterrupt",
     "evalue": "",
     "output_type": "error",
     "traceback": [
      "\u001b[0;31m---------------------------------------------------------------------------\u001b[0m",
      "\u001b[0;31mKeyError\u001b[0m                                  Traceback (most recent call last)",
      "File \u001b[0;32m~/anaconda3/envs/PhD/lib/python3.8/site-packages/traitlets/traitlets.py:537\u001b[0m, in \u001b[0;36mTraitType.get\u001b[0;34m(self, obj, cls)\u001b[0m\n\u001b[1;32m    536\u001b[0m \u001b[38;5;28;01mtry\u001b[39;00m:\n\u001b[0;32m--> 537\u001b[0m     value \u001b[38;5;241m=\u001b[39m \u001b[43mobj\u001b[49m\u001b[38;5;241;43m.\u001b[39;49m\u001b[43m_trait_values\u001b[49m\u001b[43m[\u001b[49m\u001b[38;5;28;43mself\u001b[39;49m\u001b[38;5;241;43m.\u001b[39;49m\u001b[43mname\u001b[49m\u001b[43m]\u001b[49m\n\u001b[1;32m    538\u001b[0m \u001b[38;5;28;01mexcept\u001b[39;00m \u001b[38;5;167;01mKeyError\u001b[39;00m:\n\u001b[1;32m    539\u001b[0m     \u001b[38;5;66;03m# Check for a dynamic initializer.\u001b[39;00m\n",
      "\u001b[0;31mKeyError\u001b[0m: 'layout'",
      "\nDuring handling of the above exception, another exception occurred:\n",
      "\u001b[0;31mKeyboardInterrupt\u001b[0m                         Traceback (most recent call last)",
      "Input \u001b[0;32mIn [8]\u001b[0m, in \u001b[0;36m<module>\u001b[0;34m\u001b[0m\n\u001b[1;32m      7\u001b[0m \u001b[38;5;28mprint\u001b[39m(x\u001b[38;5;241m.\u001b[39minfo[\u001b[38;5;241m0\u001b[39m,\u001b[38;5;241m0\u001b[39m]\u001b[38;5;241m.\u001b[39mshape)\n\u001b[1;32m      8\u001b[0m \u001b[38;5;28mprint\u001b[39m(x\u001b[38;5;241m.\u001b[39minfo[\u001b[38;5;241m0\u001b[39m,\u001b[38;5;241m1\u001b[39m]\u001b[38;5;241m.\u001b[39mshape)\n\u001b[0;32m---> 10\u001b[0m \u001b[43mJ\u001b[49m\u001b[38;5;241;43m.\u001b[39;49m\u001b[43mimage\u001b[49m\u001b[43m(\u001b[49m\u001b[43mx\u001b[49m\u001b[38;5;241;43m.\u001b[39;49m\u001b[43minfo\u001b[49m\u001b[43m[\u001b[49m\u001b[38;5;241;43m0\u001b[39;49m\u001b[43m,\u001b[49m\u001b[38;5;241;43m1\u001b[39;49m\u001b[43m]\u001b[49m\u001b[43m)\u001b[49m\n",
      "File \u001b[0;32m~/Documents/repos/jnu/jnu/utils.py:24\u001b[0m, in \u001b[0;36mas_numpy.<locals>.to_numpy\u001b[0;34m(*args, **kwargs)\u001b[0m\n\u001b[1;32m     22\u001b[0m     \u001b[38;5;28;01melse\u001b[39;00m:\n\u001b[1;32m     23\u001b[0m         \u001b[38;5;28;01mreturn\u001b[39;00m x\n\u001b[0;32m---> 24\u001b[0m \u001b[38;5;28;01mreturn\u001b[39;00m \u001b[43mfun\u001b[49m\u001b[43m(\u001b[49m\u001b[38;5;241;43m*\u001b[39;49m\u001b[43m[\u001b[49m\u001b[43m_to_numpy\u001b[49m\u001b[43m(\u001b[49m\u001b[43ma\u001b[49m\u001b[43m)\u001b[49m\u001b[43m \u001b[49m\u001b[38;5;28;43;01mfor\u001b[39;49;00m\u001b[43m \u001b[49m\u001b[43ma\u001b[49m\u001b[43m \u001b[49m\u001b[38;5;129;43;01min\u001b[39;49;00m\u001b[43m \u001b[49m\u001b[43margs\u001b[49m\u001b[43m]\u001b[49m\u001b[43m,\u001b[49m\u001b[43m \u001b[49m\u001b[38;5;241;43m*\u001b[39;49m\u001b[38;5;241;43m*\u001b[39;49m\u001b[43m{\u001b[49m\u001b[43mk\u001b[49m\u001b[43m:\u001b[49m\u001b[43m_to_numpy\u001b[49m\u001b[43m(\u001b[49m\u001b[43mv\u001b[49m\u001b[43m)\u001b[49m\u001b[43m \u001b[49m\u001b[38;5;28;43;01mfor\u001b[39;49;00m\u001b[43m \u001b[49m\u001b[43mk\u001b[49m\u001b[43m,\u001b[49m\u001b[43mv\u001b[49m\u001b[43m \u001b[49m\u001b[38;5;129;43;01min\u001b[39;49;00m\u001b[43m \u001b[49m\u001b[43mkwargs\u001b[49m\u001b[38;5;241;43m.\u001b[39;49m\u001b[43mitems\u001b[49m\u001b[43m(\u001b[49m\u001b[43m)\u001b[49m\u001b[43m}\u001b[49m\u001b[43m)\u001b[49m\n",
      "File \u001b[0;32m~/Documents/repos/jnu/jnu/image/_image.py:39\u001b[0m, in \u001b[0;36mimage\u001b[0;34m(image, scale, show)\u001b[0m\n\u001b[1;32m     37\u001b[0m \u001b[38;5;129m@utils\u001b[39m\u001b[38;5;241m.\u001b[39mas_numpy\n\u001b[1;32m     38\u001b[0m \u001b[38;5;28;01mdef\u001b[39;00m \u001b[38;5;21mimage\u001b[39m(image, scale\u001b[38;5;241m=\u001b[39m\u001b[38;5;241m1\u001b[39m, show\u001b[38;5;241m=\u001b[39m\u001b[38;5;28;01mTrue\u001b[39;00m):\n\u001b[0;32m---> 39\u001b[0m     image_widget \u001b[38;5;241m=\u001b[39m \u001b[43mImage\u001b[49m\u001b[43m(\u001b[49m\u001b[43mimage\u001b[49m\u001b[43m,\u001b[49m\u001b[43m \u001b[49m\u001b[43mscale\u001b[49m\u001b[38;5;241;43m=\u001b[39;49m\u001b[43mscale\u001b[49m\u001b[43m)\u001b[49m\n\u001b[1;32m     40\u001b[0m     \u001b[38;5;28;01mif\u001b[39;00m show:\n\u001b[1;32m     41\u001b[0m         image_widget\u001b[38;5;241m.\u001b[39mdisplay()\n",
      "File \u001b[0;32m~/Documents/repos/jnu/jnu/image/_image.py:90\u001b[0m, in \u001b[0;36mImage.__init__\u001b[0;34m(self, image, scale)\u001b[0m\n\u001b[1;32m     87\u001b[0m \u001b[38;5;28mself\u001b[39m\u001b[38;5;241m.\u001b[39mscale \u001b[38;5;241m=\u001b[39m scale\n\u001b[1;32m     88\u001b[0m \u001b[38;5;28mself\u001b[39m\u001b[38;5;241m.\u001b[39mimage \u001b[38;5;241m=\u001b[39m \u001b[38;5;28mself\u001b[39m\u001b[38;5;241m.\u001b[39mformat(image)\n\u001b[0;32m---> 90\u001b[0m \u001b[38;5;28mself\u001b[39m\u001b[38;5;241m.\u001b[39mcanvas \u001b[38;5;241m=\u001b[39m \u001b[43mCanvas\u001b[49m\u001b[43m(\u001b[49m\u001b[43mwidth\u001b[49m\u001b[38;5;241;43m=\u001b[39;49m\u001b[38;5;28;43mself\u001b[39;49m\u001b[38;5;241;43m.\u001b[39;49m\u001b[43mimage\u001b[49m\u001b[38;5;241;43m.\u001b[39;49m\u001b[43mshape\u001b[49m\u001b[43m[\u001b[49m\u001b[38;5;241;43m1\u001b[39;49m\u001b[43m]\u001b[49m\u001b[43m,\u001b[49m\u001b[43m \u001b[49m\u001b[43mheight\u001b[49m\u001b[38;5;241;43m=\u001b[39;49m\u001b[38;5;28;43mself\u001b[39;49m\u001b[38;5;241;43m.\u001b[39;49m\u001b[43mimage\u001b[49m\u001b[38;5;241;43m.\u001b[39;49m\u001b[43mshape\u001b[49m\u001b[43m[\u001b[49m\u001b[38;5;241;43m0\u001b[39;49m\u001b[43m]\u001b[49m\u001b[43m,\u001b[49m\u001b[43m \u001b[49m\u001b[43mscale\u001b[49m\u001b[38;5;241;43m=\u001b[39;49m\u001b[38;5;241;43m1\u001b[39;49m\u001b[43m)\u001b[49m\n\u001b[1;32m     91\u001b[0m \u001b[38;5;28mself\u001b[39m\u001b[38;5;241m.\u001b[39mcanvas\u001b[38;5;241m.\u001b[39mput_image_data(\u001b[38;5;28mself\u001b[39m\u001b[38;5;241m.\u001b[39mimage, \u001b[38;5;241m0\u001b[39m, \u001b[38;5;241m0\u001b[39m)\n",
      "File \u001b[0;32m~/anaconda3/envs/PhD/lib/python3.8/site-packages/ipycanvas/canvas.py:422\u001b[0m, in \u001b[0;36mCanvas.__init__\u001b[0;34m(self, *args, **kwargs)\u001b[0m\n\u001b[1;32m    415\u001b[0m     \u001b[38;5;28;01mdel\u001b[39;00m kwargs[\u001b[38;5;124m'\u001b[39m\u001b[38;5;124msize\u001b[39m\u001b[38;5;124m'\u001b[39m]\n\u001b[1;32m    417\u001b[0m     warnings\u001b[38;5;241m.\u001b[39mwarn(\n\u001b[1;32m    418\u001b[0m         \u001b[38;5;124m'\u001b[39m\u001b[38;5;124msize is deprecated and will be removed in a future release, please use width and height instead.\u001b[39m\u001b[38;5;124m'\u001b[39m,\n\u001b[1;32m    419\u001b[0m         \u001b[38;5;167;01mDeprecationWarning\u001b[39;00m\n\u001b[1;32m    420\u001b[0m     )\n\u001b[0;32m--> 422\u001b[0m \u001b[38;5;28;43msuper\u001b[39;49m\u001b[43m(\u001b[49m\u001b[43mCanvas\u001b[49m\u001b[43m,\u001b[49m\u001b[43m \u001b[49m\u001b[38;5;28;43mself\u001b[39;49m\u001b[43m)\u001b[49m\u001b[38;5;241;43m.\u001b[39;49m\u001b[38;5;21;43m__init__\u001b[39;49m\u001b[43m(\u001b[49m\u001b[38;5;241;43m*\u001b[39;49m\u001b[43margs\u001b[49m\u001b[43m,\u001b[49m\u001b[43m \u001b[49m\u001b[38;5;241;43m*\u001b[39;49m\u001b[38;5;241;43m*\u001b[39;49m\u001b[43mkwargs\u001b[49m\u001b[43m)\u001b[49m\n\u001b[1;32m    424\u001b[0m \u001b[38;5;28mself\u001b[39m\u001b[38;5;241m.\u001b[39mon_msg(\u001b[38;5;28mself\u001b[39m\u001b[38;5;241m.\u001b[39m_handle_frontend_event)\n",
      "File \u001b[0;32m~/anaconda3/envs/PhD/lib/python3.8/site-packages/ipywidgets/widgets/widget.py:415\u001b[0m, in \u001b[0;36mWidget.__init__\u001b[0;34m(self, **kwargs)\u001b[0m\n\u001b[1;32m    412\u001b[0m \u001b[38;5;28msuper\u001b[39m(Widget, \u001b[38;5;28mself\u001b[39m)\u001b[38;5;241m.\u001b[39m\u001b[38;5;21m__init__\u001b[39m(\u001b[38;5;241m*\u001b[39m\u001b[38;5;241m*\u001b[39mkwargs)\n\u001b[1;32m    414\u001b[0m Widget\u001b[38;5;241m.\u001b[39m_call_widget_constructed(\u001b[38;5;28mself\u001b[39m)\n\u001b[0;32m--> 415\u001b[0m \u001b[38;5;28;43mself\u001b[39;49m\u001b[38;5;241;43m.\u001b[39;49m\u001b[43mopen\u001b[49m\u001b[43m(\u001b[49m\u001b[43m)\u001b[49m\n",
      "File \u001b[0;32m~/anaconda3/envs/PhD/lib/python3.8/site-packages/ipywidgets/widgets/widget.py:428\u001b[0m, in \u001b[0;36mWidget.open\u001b[0;34m(self)\u001b[0m\n\u001b[1;32m    426\u001b[0m \u001b[38;5;124;03m\"\"\"Open a comm to the frontend if one isn't already open.\"\"\"\u001b[39;00m\n\u001b[1;32m    427\u001b[0m \u001b[38;5;28;01mif\u001b[39;00m \u001b[38;5;28mself\u001b[39m\u001b[38;5;241m.\u001b[39mcomm \u001b[38;5;129;01mis\u001b[39;00m \u001b[38;5;28;01mNone\u001b[39;00m:\n\u001b[0;32m--> 428\u001b[0m     state, buffer_paths, buffers \u001b[38;5;241m=\u001b[39m _remove_buffers(\u001b[38;5;28;43mself\u001b[39;49m\u001b[38;5;241;43m.\u001b[39;49m\u001b[43mget_state\u001b[49m\u001b[43m(\u001b[49m\u001b[43m)\u001b[49m)\n\u001b[1;32m    430\u001b[0m     args \u001b[38;5;241m=\u001b[39m \u001b[38;5;28mdict\u001b[39m(target_name\u001b[38;5;241m=\u001b[39m\u001b[38;5;124m'\u001b[39m\u001b[38;5;124mjupyter.widget\u001b[39m\u001b[38;5;124m'\u001b[39m,\n\u001b[1;32m    431\u001b[0m                 data\u001b[38;5;241m=\u001b[39m{\u001b[38;5;124m'\u001b[39m\u001b[38;5;124mstate\u001b[39m\u001b[38;5;124m'\u001b[39m: state, \u001b[38;5;124m'\u001b[39m\u001b[38;5;124mbuffer_paths\u001b[39m\u001b[38;5;124m'\u001b[39m: buffer_paths},\n\u001b[1;32m    432\u001b[0m                 buffers\u001b[38;5;241m=\u001b[39mbuffers,\n\u001b[1;32m    433\u001b[0m                 metadata\u001b[38;5;241m=\u001b[39m{\u001b[38;5;124m'\u001b[39m\u001b[38;5;124mversion\u001b[39m\u001b[38;5;124m'\u001b[39m: __protocol_version__}\n\u001b[1;32m    434\u001b[0m                 )\n\u001b[1;32m    435\u001b[0m     \u001b[38;5;28;01mif\u001b[39;00m \u001b[38;5;28mself\u001b[39m\u001b[38;5;241m.\u001b[39m_model_id \u001b[38;5;129;01mis\u001b[39;00m \u001b[38;5;129;01mnot\u001b[39;00m \u001b[38;5;28;01mNone\u001b[39;00m:\n",
      "File \u001b[0;32m~/anaconda3/envs/PhD/lib/python3.8/site-packages/ipywidgets/widgets/widget.py:518\u001b[0m, in \u001b[0;36mWidget.get_state\u001b[0;34m(self, key, drop_defaults)\u001b[0m\n\u001b[1;32m    516\u001b[0m \u001b[38;5;28;01mfor\u001b[39;00m k \u001b[38;5;129;01min\u001b[39;00m keys:\n\u001b[1;32m    517\u001b[0m     to_json \u001b[38;5;241m=\u001b[39m \u001b[38;5;28mself\u001b[39m\u001b[38;5;241m.\u001b[39mtrait_metadata(k, \u001b[38;5;124m'\u001b[39m\u001b[38;5;124mto_json\u001b[39m\u001b[38;5;124m'\u001b[39m, \u001b[38;5;28mself\u001b[39m\u001b[38;5;241m.\u001b[39m_trait_to_json)\n\u001b[0;32m--> 518\u001b[0m     value \u001b[38;5;241m=\u001b[39m to_json(\u001b[38;5;28;43mgetattr\u001b[39;49m\u001b[43m(\u001b[49m\u001b[38;5;28;43mself\u001b[39;49m\u001b[43m,\u001b[49m\u001b[43m \u001b[49m\u001b[43mk\u001b[49m\u001b[43m)\u001b[49m, \u001b[38;5;28mself\u001b[39m)\n\u001b[1;32m    519\u001b[0m     \u001b[38;5;28;01mif\u001b[39;00m \u001b[38;5;129;01mnot\u001b[39;00m PY3 \u001b[38;5;129;01mand\u001b[39;00m \u001b[38;5;28misinstance\u001b[39m(traits[k], Bytes) \u001b[38;5;129;01mand\u001b[39;00m \u001b[38;5;28misinstance\u001b[39m(value, \u001b[38;5;28mbytes\u001b[39m):\n\u001b[1;32m    520\u001b[0m         value \u001b[38;5;241m=\u001b[39m \u001b[38;5;28mmemoryview\u001b[39m(value)\n",
      "File \u001b[0;32m~/anaconda3/envs/PhD/lib/python3.8/site-packages/traitlets/traitlets.py:577\u001b[0m, in \u001b[0;36mTraitType.__get__\u001b[0;34m(self, obj, cls)\u001b[0m\n\u001b[1;32m    575\u001b[0m     \u001b[38;5;28;01mreturn\u001b[39;00m \u001b[38;5;28mself\u001b[39m\n\u001b[1;32m    576\u001b[0m \u001b[38;5;28;01melse\u001b[39;00m:\n\u001b[0;32m--> 577\u001b[0m     \u001b[38;5;28;01mreturn\u001b[39;00m \u001b[38;5;28;43mself\u001b[39;49m\u001b[38;5;241;43m.\u001b[39;49m\u001b[43mget\u001b[49m\u001b[43m(\u001b[49m\u001b[43mobj\u001b[49m\u001b[43m,\u001b[49m\u001b[43m \u001b[49m\u001b[38;5;28;43mcls\u001b[39;49m\u001b[43m)\u001b[49m\n",
      "File \u001b[0;32m~/anaconda3/envs/PhD/lib/python3.8/site-packages/traitlets/traitlets.py:540\u001b[0m, in \u001b[0;36mTraitType.get\u001b[0;34m(self, obj, cls)\u001b[0m\n\u001b[1;32m    537\u001b[0m     value \u001b[38;5;241m=\u001b[39m obj\u001b[38;5;241m.\u001b[39m_trait_values[\u001b[38;5;28mself\u001b[39m\u001b[38;5;241m.\u001b[39mname]\n\u001b[1;32m    538\u001b[0m \u001b[38;5;28;01mexcept\u001b[39;00m \u001b[38;5;167;01mKeyError\u001b[39;00m:\n\u001b[1;32m    539\u001b[0m     \u001b[38;5;66;03m# Check for a dynamic initializer.\u001b[39;00m\n\u001b[0;32m--> 540\u001b[0m     default \u001b[38;5;241m=\u001b[39m \u001b[43mobj\u001b[49m\u001b[38;5;241;43m.\u001b[39;49m\u001b[43mtrait_defaults\u001b[49m\u001b[43m(\u001b[49m\u001b[38;5;28;43mself\u001b[39;49m\u001b[38;5;241;43m.\u001b[39;49m\u001b[43mname\u001b[49m\u001b[43m)\u001b[49m\n\u001b[1;32m    541\u001b[0m     \u001b[38;5;28;01mif\u001b[39;00m default \u001b[38;5;129;01mis\u001b[39;00m Undefined:\n\u001b[1;32m    542\u001b[0m         warn(\n\u001b[1;32m    543\u001b[0m             \u001b[38;5;124m\"\u001b[39m\u001b[38;5;124mExplicit using of Undefined as the default value \u001b[39m\u001b[38;5;124m\"\u001b[39m\n\u001b[1;32m    544\u001b[0m             \u001b[38;5;124m\"\u001b[39m\u001b[38;5;124mis deprecated in traitlets 5.0, and may cause \u001b[39m\u001b[38;5;124m\"\u001b[39m\n\u001b[0;32m   (...)\u001b[0m\n\u001b[1;32m    547\u001b[0m             stacklevel\u001b[38;5;241m=\u001b[39m\u001b[38;5;241m2\u001b[39m\n\u001b[1;32m    548\u001b[0m         )\n",
      "File \u001b[0;32m~/anaconda3/envs/PhD/lib/python3.8/site-packages/traitlets/traitlets.py:1580\u001b[0m, in \u001b[0;36mHasTraits.trait_defaults\u001b[0;34m(self, *names, **metadata)\u001b[0m\n\u001b[1;32m   1576\u001b[0m         \u001b[38;5;28;01mraise\u001b[39;00m TraitError(\u001b[38;5;124m\"\u001b[39m\u001b[38;5;124m'\u001b[39m\u001b[38;5;132;01m%s\u001b[39;00m\u001b[38;5;124m'\u001b[39m\u001b[38;5;124m is not a trait of \u001b[39m\u001b[38;5;124m'\u001b[39m\u001b[38;5;132;01m%s\u001b[39;00m\u001b[38;5;124m'\u001b[39m\u001b[38;5;124m \u001b[39m\u001b[38;5;124m\"\u001b[39m\n\u001b[1;32m   1577\u001b[0m             \u001b[38;5;124m\"\u001b[39m\u001b[38;5;124minstances\u001b[39m\u001b[38;5;124m\"\u001b[39m \u001b[38;5;241m%\u001b[39m (n, \u001b[38;5;28mtype\u001b[39m(\u001b[38;5;28mself\u001b[39m)\u001b[38;5;241m.\u001b[39m\u001b[38;5;18m__name__\u001b[39m))\n\u001b[1;32m   1579\u001b[0m \u001b[38;5;28;01mif\u001b[39;00m \u001b[38;5;28mlen\u001b[39m(names) \u001b[38;5;241m==\u001b[39m \u001b[38;5;241m1\u001b[39m \u001b[38;5;129;01mand\u001b[39;00m \u001b[38;5;28mlen\u001b[39m(metadata) \u001b[38;5;241m==\u001b[39m \u001b[38;5;241m0\u001b[39m:\n\u001b[0;32m-> 1580\u001b[0m     \u001b[38;5;28;01mreturn\u001b[39;00m \u001b[38;5;28;43mself\u001b[39;49m\u001b[38;5;241;43m.\u001b[39;49m\u001b[43m_get_trait_default_generator\u001b[49m\u001b[43m(\u001b[49m\u001b[43mnames\u001b[49m\u001b[43m[\u001b[49m\u001b[38;5;241;43m0\u001b[39;49m\u001b[43m]\u001b[49m\u001b[43m)\u001b[49m\u001b[43m(\u001b[49m\u001b[38;5;28;43mself\u001b[39;49m\u001b[43m)\u001b[49m\n\u001b[1;32m   1582\u001b[0m trait_names \u001b[38;5;241m=\u001b[39m \u001b[38;5;28mself\u001b[39m\u001b[38;5;241m.\u001b[39mtrait_names(\u001b[38;5;241m*\u001b[39m\u001b[38;5;241m*\u001b[39mmetadata)\n\u001b[1;32m   1583\u001b[0m trait_names\u001b[38;5;241m.\u001b[39mextend(names)\n",
      "File \u001b[0;32m~/anaconda3/envs/PhD/lib/python3.8/site-packages/traitlets/traitlets.py:513\u001b[0m, in \u001b[0;36mTraitType.default\u001b[0;34m(self, obj)\u001b[0m\n\u001b[1;32m    511\u001b[0m     \u001b[38;5;28;01mreturn\u001b[39;00m \u001b[38;5;28mself\u001b[39m\u001b[38;5;241m.\u001b[39mdefault_value\n\u001b[1;32m    512\u001b[0m \u001b[38;5;28;01melif\u001b[39;00m \u001b[38;5;28mhasattr\u001b[39m(\u001b[38;5;28mself\u001b[39m, \u001b[38;5;124m'\u001b[39m\u001b[38;5;124mmake_dynamic_default\u001b[39m\u001b[38;5;124m'\u001b[39m):\n\u001b[0;32m--> 513\u001b[0m     \u001b[38;5;28;01mreturn\u001b[39;00m \u001b[38;5;28;43mself\u001b[39;49m\u001b[38;5;241;43m.\u001b[39;49m\u001b[43mmake_dynamic_default\u001b[49m\u001b[43m(\u001b[49m\u001b[43m)\u001b[49m\n\u001b[1;32m    514\u001b[0m \u001b[38;5;28;01melse\u001b[39;00m:\n\u001b[1;32m    515\u001b[0m     \u001b[38;5;66;03m# Undefined will raise in TraitType.get\u001b[39;00m\n\u001b[1;32m    516\u001b[0m     \u001b[38;5;28;01mreturn\u001b[39;00m \u001b[38;5;28mself\u001b[39m\u001b[38;5;241m.\u001b[39mdefault_value\n",
      "File \u001b[0;32m~/anaconda3/envs/PhD/lib/python3.8/site-packages/ipywidgets/widgets/trait_types.py:168\u001b[0m, in \u001b[0;36mInstanceDict.make_dynamic_default\u001b[0;34m(self)\u001b[0m\n\u001b[1;32m    167\u001b[0m \u001b[38;5;28;01mdef\u001b[39;00m \u001b[38;5;21mmake_dynamic_default\u001b[39m(\u001b[38;5;28mself\u001b[39m):\n\u001b[0;32m--> 168\u001b[0m     \u001b[38;5;28;01mreturn\u001b[39;00m \u001b[38;5;28;43mself\u001b[39;49m\u001b[38;5;241;43m.\u001b[39;49m\u001b[43mklass\u001b[49m\u001b[43m(\u001b[49m\u001b[38;5;241;43m*\u001b[39;49m\u001b[43m(\u001b[49m\u001b[38;5;28;43mself\u001b[39;49m\u001b[38;5;241;43m.\u001b[39;49m\u001b[43mdefault_args\u001b[49m\u001b[43m \u001b[49m\u001b[38;5;129;43;01mor\u001b[39;49;00m\u001b[43m \u001b[49m\u001b[43m(\u001b[49m\u001b[43m)\u001b[49m\u001b[43m)\u001b[49m\u001b[43m,\u001b[49m\n\u001b[1;32m    169\u001b[0m \u001b[43m                      \u001b[49m\u001b[38;5;241;43m*\u001b[39;49m\u001b[38;5;241;43m*\u001b[39;49m\u001b[43m(\u001b[49m\u001b[38;5;28;43mself\u001b[39;49m\u001b[38;5;241;43m.\u001b[39;49m\u001b[43mdefault_kwargs\u001b[49m\u001b[43m \u001b[49m\u001b[38;5;129;43;01mor\u001b[39;49;00m\u001b[43m \u001b[49m\u001b[43m{\u001b[49m\u001b[43m}\u001b[49m\u001b[43m)\u001b[49m\u001b[43m)\u001b[49m\n",
      "File \u001b[0;32m~/anaconda3/envs/PhD/lib/python3.8/site-packages/ipywidgets/widgets/widget.py:415\u001b[0m, in \u001b[0;36mWidget.__init__\u001b[0;34m(self, **kwargs)\u001b[0m\n\u001b[1;32m    412\u001b[0m \u001b[38;5;28msuper\u001b[39m(Widget, \u001b[38;5;28mself\u001b[39m)\u001b[38;5;241m.\u001b[39m\u001b[38;5;21m__init__\u001b[39m(\u001b[38;5;241m*\u001b[39m\u001b[38;5;241m*\u001b[39mkwargs)\n\u001b[1;32m    414\u001b[0m Widget\u001b[38;5;241m.\u001b[39m_call_widget_constructed(\u001b[38;5;28mself\u001b[39m)\n\u001b[0;32m--> 415\u001b[0m \u001b[38;5;28;43mself\u001b[39;49m\u001b[38;5;241;43m.\u001b[39;49m\u001b[43mopen\u001b[49m\u001b[43m(\u001b[49m\u001b[43m)\u001b[49m\n",
      "File \u001b[0;32m~/anaconda3/envs/PhD/lib/python3.8/site-packages/ipywidgets/widgets/widget.py:438\u001b[0m, in \u001b[0;36mWidget.open\u001b[0;34m(self)\u001b[0m\n\u001b[1;32m    435\u001b[0m \u001b[38;5;28;01mif\u001b[39;00m \u001b[38;5;28mself\u001b[39m\u001b[38;5;241m.\u001b[39m_model_id \u001b[38;5;129;01mis\u001b[39;00m \u001b[38;5;129;01mnot\u001b[39;00m \u001b[38;5;28;01mNone\u001b[39;00m:\n\u001b[1;32m    436\u001b[0m     args[\u001b[38;5;124m'\u001b[39m\u001b[38;5;124mcomm_id\u001b[39m\u001b[38;5;124m'\u001b[39m] \u001b[38;5;241m=\u001b[39m \u001b[38;5;28mself\u001b[39m\u001b[38;5;241m.\u001b[39m_model_id\n\u001b[0;32m--> 438\u001b[0m \u001b[38;5;28mself\u001b[39m\u001b[38;5;241m.\u001b[39mcomm \u001b[38;5;241m=\u001b[39m \u001b[43mComm\u001b[49m\u001b[43m(\u001b[49m\u001b[38;5;241;43m*\u001b[39;49m\u001b[38;5;241;43m*\u001b[39;49m\u001b[43margs\u001b[49m\u001b[43m)\u001b[49m\n",
      "File \u001b[0;32m~/anaconda3/envs/PhD/lib/python3.8/site-packages/ipykernel/comm/comm.py:53\u001b[0m, in \u001b[0;36mComm.__init__\u001b[0;34m(self, target_name, data, metadata, buffers, **kwargs)\u001b[0m\n\u001b[1;32m     51\u001b[0m \u001b[38;5;28;01mif\u001b[39;00m target_name:\n\u001b[1;32m     52\u001b[0m     kwargs[\u001b[38;5;124m'\u001b[39m\u001b[38;5;124mtarget_name\u001b[39m\u001b[38;5;124m'\u001b[39m] \u001b[38;5;241m=\u001b[39m target_name\n\u001b[0;32m---> 53\u001b[0m \u001b[38;5;28;43msuper\u001b[39;49m\u001b[43m(\u001b[49m\u001b[43m)\u001b[49m\u001b[38;5;241;43m.\u001b[39;49m\u001b[38;5;21;43m__init__\u001b[39;49m\u001b[43m(\u001b[49m\u001b[38;5;241;43m*\u001b[39;49m\u001b[38;5;241;43m*\u001b[39;49m\u001b[43mkwargs\u001b[49m\u001b[43m)\u001b[49m\n\u001b[1;32m     54\u001b[0m \u001b[38;5;28;01mif\u001b[39;00m \u001b[38;5;28mself\u001b[39m\u001b[38;5;241m.\u001b[39mkernel:\n\u001b[1;32m     55\u001b[0m     \u001b[38;5;28;01mif\u001b[39;00m \u001b[38;5;28mself\u001b[39m\u001b[38;5;241m.\u001b[39mprimary:\n\u001b[1;32m     56\u001b[0m         \u001b[38;5;66;03m# I am primary, open my peer.\u001b[39;00m\n",
      "File \u001b[0;32m~/anaconda3/envs/PhD/lib/python3.8/site-packages/traitlets/config/configurable.py:110\u001b[0m, in \u001b[0;36mConfigurable.__init__\u001b[0;34m(self, **kwargs)\u001b[0m\n\u001b[1;32m    107\u001b[0m     \u001b[38;5;28mself\u001b[39m\u001b[38;5;241m.\u001b[39mconfig \u001b[38;5;241m=\u001b[39m config\n\u001b[1;32m    108\u001b[0m \u001b[38;5;28;01melse\u001b[39;00m:\n\u001b[1;32m    109\u001b[0m     \u001b[38;5;66;03m# allow _config_default to return something\u001b[39;00m\n\u001b[0;32m--> 110\u001b[0m     \u001b[38;5;28;43mself\u001b[39;49m\u001b[38;5;241;43m.\u001b[39;49m\u001b[43m_load_config\u001b[49m\u001b[43m(\u001b[49m\u001b[38;5;28;43mself\u001b[39;49m\u001b[38;5;241;43m.\u001b[39;49m\u001b[43mconfig\u001b[49m\u001b[43m)\u001b[49m\n\u001b[1;32m    111\u001b[0m \u001b[38;5;28mself\u001b[39m\u001b[38;5;241m.\u001b[39munobserve(notice_config_override)\n\u001b[1;32m    113\u001b[0m \u001b[38;5;28;01mfor\u001b[39;00m name \u001b[38;5;129;01min\u001b[39;00m config_override_names:\n",
      "File \u001b[0;32m~/anaconda3/envs/PhD/lib/python3.8/site-packages/traitlets/config/configurable.py:157\u001b[0m, in \u001b[0;36mConfigurable._load_config\u001b[0;34m(self, cfg, section_names, traits)\u001b[0m\n\u001b[1;32m    154\u001b[0m \u001b[38;5;124;03m\"\"\"load traits from a Config object\"\"\"\u001b[39;00m\n\u001b[1;32m    156\u001b[0m \u001b[38;5;28;01mif\u001b[39;00m traits \u001b[38;5;129;01mis\u001b[39;00m \u001b[38;5;28;01mNone\u001b[39;00m:\n\u001b[0;32m--> 157\u001b[0m     traits \u001b[38;5;241m=\u001b[39m \u001b[38;5;28;43mself\u001b[39;49m\u001b[38;5;241;43m.\u001b[39;49m\u001b[43mtraits\u001b[49m\u001b[43m(\u001b[49m\u001b[43mconfig\u001b[49m\u001b[38;5;241;43m=\u001b[39;49m\u001b[38;5;28;43;01mTrue\u001b[39;49;00m\u001b[43m)\u001b[49m\n\u001b[1;32m    158\u001b[0m \u001b[38;5;28;01mif\u001b[39;00m section_names \u001b[38;5;129;01mis\u001b[39;00m \u001b[38;5;28;01mNone\u001b[39;00m:\n\u001b[1;32m    159\u001b[0m     section_names \u001b[38;5;241m=\u001b[39m \u001b[38;5;28mself\u001b[39m\u001b[38;5;241m.\u001b[39msection_names()\n",
      "File \u001b[0;32m~/anaconda3/envs/PhD/lib/python3.8/site-packages/traitlets/traitlets.py:1619\u001b[0m, in \u001b[0;36mHasTraits.traits\u001b[0;34m(self, **metadata)\u001b[0m\n\u001b[1;32m   1617\u001b[0m     \u001b[38;5;28;01mif\u001b[39;00m \u001b[38;5;129;01mnot\u001b[39;00m callable(meta_eval):\n\u001b[1;32m   1618\u001b[0m         meta_eval \u001b[38;5;241m=\u001b[39m _SimpleTest(meta_eval)\n\u001b[0;32m-> 1619\u001b[0m     \u001b[38;5;28;01mif\u001b[39;00m \u001b[38;5;129;01mnot\u001b[39;00m meta_eval(\u001b[43mtrait\u001b[49m\u001b[38;5;241;43m.\u001b[39;49m\u001b[43mmetadata\u001b[49m\u001b[38;5;241;43m.\u001b[39;49m\u001b[43mget\u001b[49m\u001b[43m(\u001b[49m\u001b[43mmeta_name\u001b[49m\u001b[43m,\u001b[49m\u001b[43m \u001b[49m\u001b[38;5;28;43;01mNone\u001b[39;49;00m\u001b[43m)\u001b[49m):\n\u001b[1;32m   1620\u001b[0m         \u001b[38;5;28;01mbreak\u001b[39;00m\n\u001b[1;32m   1621\u001b[0m \u001b[38;5;28;01melse\u001b[39;00m:\n",
      "\u001b[0;31mKeyboardInterrupt\u001b[0m: "
     ]
    }
   ],
   "source": [
    "import gymu\n",
    "import jnu as J\n",
    "dataset = gymu.data.dataset(\"./ScreenTear/ep-0000.tar.gz\", mode=gymu.mode.sardi)\n",
    "for x in dataset:\n",
    "    print([z.shape for z in x])\n",
    "    \n",
    "    print(x.info[0,0].shape)\n",
    "    print(x.info[0,1].shape)\n",
    "    \n",
    "    J.image(x.info[0,1])\n",
    "    \n"
   ]
  },
  {
   "cell_type": "code",
   "execution_count": null,
   "id": "30123754",
   "metadata": {},
   "outputs": [],
   "source": []
  }
 ],
 "metadata": {
  "kernelspec": {
   "display_name": "Python 3 (ipykernel)",
   "language": "python",
   "name": "python3"
  },
  "language_info": {
   "codemirror_mode": {
    "name": "ipython",
    "version": 3
   },
   "file_extension": ".py",
   "mimetype": "text/x-python",
   "name": "python",
   "nbconvert_exporter": "python",
   "pygments_lexer": "ipython3",
   "version": "3.8.12"
  }
 },
 "nbformat": 4,
 "nbformat_minor": 5
}
