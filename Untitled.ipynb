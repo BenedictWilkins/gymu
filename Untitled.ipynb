{
 "cells": [
  {
   "cell_type": "code",
   "execution_count": 3,
   "id": "funky-chase",
   "metadata": {},
   "outputs": [
    {
     "name": "stdout",
     "output_type": "stream",
     "text": [
      "{'In': ['',\n",
      "        'import world_model.utils as U\\n\\nU.collate_recurrent()',\n",
      "        'import world_model.utils as U\\n'\n",
      "        '\\n'\n",
      "        'U.collate_recurrent()\\n'\n",
      "        'print(globals())',\n",
      "        'from pprint import pprint\\n'\n",
      "        'import world_model.utils as U\\n'\n",
      "        '\\n'\n",
      "        'U.collate_recurrent()\\n'\n",
      "        'pprint(globals())'],\n",
      " 'Out': {1: <function collate_recurrent at 0x00000237E091CAE8>},\n",
      " 'U': <module 'world_model.utils' from 'c:\\\\users\\\\gbwilkinsb\\\\documents\\\\repos\\\\world_model\\\\world_model\\\\utils\\\\__init__.py'>,\n",
      " '_': <function collate_recurrent at 0x00000237E091CAE8>,\n",
      " '_1': <function collate_recurrent at 0x00000237E091CAE8>,\n",
      " '__': '',\n",
      " '___': '',\n",
      " '__builtin__': <module 'builtins' (built-in)>,\n",
      " '__builtins__': <module 'builtins' (built-in)>,\n",
      " '__doc__': 'Automatically created module for IPython interactive environment',\n",
      " '__loader__': None,\n",
      " '__name__': '__main__',\n",
      " '__package__': None,\n",
      " '__spec__': None,\n",
      " '_dh': ['C:\\\\Users\\\\gbwilkinsb\\\\Documents\\\\repos\\\\gymu'],\n",
      " '_i': 'import world_model.utils as U\\n'\n",
      "       '\\n'\n",
      "       'U.collate_recurrent()\\n'\n",
      "       'print(globals())',\n",
      " '_i1': 'import world_model.utils as U\\n\\nU.collate_recurrent()',\n",
      " '_i2': 'import world_model.utils as U\\n'\n",
      "        '\\n'\n",
      "        'U.collate_recurrent()\\n'\n",
      "        'print(globals())',\n",
      " '_i3': 'from pprint import pprint\\n'\n",
      "        'import world_model.utils as U\\n'\n",
      "        '\\n'\n",
      "        'U.collate_recurrent()\\n'\n",
      "        'pprint(globals())',\n",
      " '_ih': ['',\n",
      "         'import world_model.utils as U\\n\\nU.collate_recurrent()',\n",
      "         'import world_model.utils as U\\n'\n",
      "         '\\n'\n",
      "         'U.collate_recurrent()\\n'\n",
      "         'print(globals())',\n",
      "         'from pprint import pprint\\n'\n",
      "         'import world_model.utils as U\\n'\n",
      "         '\\n'\n",
      "         'U.collate_recurrent()\\n'\n",
      "         'pprint(globals())'],\n",
      " '_ii': 'import world_model.utils as U\\n\\nU.collate_recurrent()',\n",
      " '_iii': '',\n",
      " '_oh': {1: <function collate_recurrent at 0x00000237E091CAE8>},\n",
      " 'exit': <IPython.core.autocall.ZMQExitAutocall object at 0x00000237B247CA20>,\n",
      " 'get_ipython': <bound method InteractiveShell.get_ipython of <ipykernel.zmqshell.ZMQInteractiveShell object at 0x00000237B241BE10>>,\n",
      " 'pprint': <function pprint at 0x00000237AFB86400>,\n",
      " 'quit': <IPython.core.autocall.ZMQExitAutocall object at 0x00000237B247CA20>}\n"
     ]
    }
   ],
   "source": [
    "from pprint import pprint\n",
    "import world_model.utils as U\n",
    "\n",
    "U.collate_recurrent()\n",
    "pprint(globals())"
   ]
  },
  {
   "cell_type": "code",
   "execution_count": 14,
   "id": "forced-reservation",
   "metadata": {},
   "outputs": [
    {
     "name": "stdout",
     "output_type": "stream",
     "text": [
      "1\n",
      "2\n"
     ]
    }
   ],
   "source": [
    "def fun1(a):\n",
    "    return a\n",
    "\n",
    "def fun2(a):\n",
    "    return a+1\n",
    "\n",
    "for fun in [fun1, fun2]:\n",
    "    dun = lambda f=fun: f\n",
    "    globals()[\"bar\" + fun.__name__] = dun\n",
    "    \n",
    "print(barfun1()(1))\n",
    "print(barfun2()(1))"
   ]
  },
  {
   "cell_type": "code",
   "execution_count": null,
   "id": "existing-tours",
   "metadata": {},
   "outputs": [],
   "source": []
  },
  {
   "cell_type": "code",
   "execution_count": 1,
   "id": "completed-ranch",
   "metadata": {},
   "outputs": [
    {
     "name": "stdout",
     "output_type": "stream",
     "text": [
      "set()\n",
      "{'state'}\n",
      "{'reward'}\n",
      "{'state', 'action'}\n",
      "{'state', 'nstate'}\n",
      "{'state', 'reward'}\n",
      "{'state', 'action', 'reward'}\n",
      "{'action', 'nstate', 'reward'}\n",
      "{'state', 'action', 'nstate'}\n",
      "{'state', 'action', 'nstate', 'reward'}\n",
      "{'state'}\n"
     ]
    }
   ],
   "source": [
    "from abc import ABC, abstractmethod\n",
    "import torch\n",
    "\n",
    "class Sequence(ABC):\n",
    "    \n",
    "    def __init__(self, *args, **kwargs):\n",
    "        super().__init__(*args, **kwargs)\n",
    "    \n",
    "    @abstractmethod\n",
    "    def get(self):\n",
    "        pass \n",
    "\n",
    "class Sequences(torch.utils.data.Dataset):\n",
    "    \n",
    "    def __init__(self, sequences, transforms)\n",
    "        super().__init__()\n",
    "        self._sequences = sequences\n",
    "        self._transforms = transforms\n",
    "        \n",
    "    def __getitem__(self):\n",
    "        seq = self.sequences[i].get()\n",
    "        for transform in transforms:\n",
    "            seq = transform(seq)\n",
    "        return seq\n",
    "    \n",
    "    def __len__(self):\n",
    "        return len(self._sequences)\n",
    "    \n",
    "    \n",
    "        "
   ]
  },
  {
   "cell_type": "code",
   "execution_count": 1,
   "id": "limiting-assault",
   "metadata": {},
   "outputs": [
    {
     "ename": "ValueError",
     "evalue": "not enough values to unpack (expected 2, got 0)",
     "output_type": "error",
     "traceback": [
      "\u001b[1;31m---------------------------------------------------------------------------\u001b[0m",
      "\u001b[1;31mValueError\u001b[0m                                Traceback (most recent call last)",
      "\u001b[1;32m<ipython-input-1-e96057d9ce54>\u001b[0m in \u001b[0;36m<module>\u001b[1;34m\u001b[0m\n\u001b[1;32m----> 1\u001b[1;33m \u001b[0ma\u001b[0m\u001b[1;33m,\u001b[0m\u001b[0mb\u001b[0m \u001b[1;33m=\u001b[0m \u001b[1;33m[\u001b[0m\u001b[1;33m]\u001b[0m\u001b[1;33m\u001b[0m\u001b[0m\n\u001b[0m",
      "\u001b[1;31mValueError\u001b[0m: not enough values to unpack (expected 2, got 0)"
     ]
    }
   ],
   "source": [
    "a,b = []"
   ]
  },
  {
   "cell_type": "code",
   "execution_count": 2,
   "id": "dried-dinner",
   "metadata": {},
   "outputs": [
    {
     "ename": "TypeError",
     "evalue": "__init__() got an unexpected keyword argument 'b'",
     "output_type": "error",
     "traceback": [
      "\u001b[1;31m---------------------------------------------------------------------------\u001b[0m",
      "\u001b[1;31mTypeError\u001b[0m                                 Traceback (most recent call last)",
      "\u001b[1;32m<ipython-input-2-8bd5a02709c8>\u001b[0m in \u001b[0;36m<module>\u001b[1;34m\u001b[0m\n\u001b[0;32m      3\u001b[0m         \u001b[1;32mpass\u001b[0m\u001b[1;33m\u001b[0m\u001b[0m\n\u001b[0;32m      4\u001b[0m \u001b[1;33m\u001b[0m\u001b[0m\n\u001b[1;32m----> 5\u001b[1;33m \u001b[0mTest\u001b[0m\u001b[1;33m(\u001b[0m\u001b[0mb\u001b[0m\u001b[1;33m=\u001b[0m\u001b[1;36m1\u001b[0m\u001b[1;33m)\u001b[0m\u001b[1;33m\u001b[0m\u001b[0m\n\u001b[0m",
      "\u001b[1;31mTypeError\u001b[0m: __init__() got an unexpected keyword argument 'b'"
     ]
    }
   ],
   "source": [
    "class Test:\n",
    "    def __init__(self, a):\n",
    "        pass \n",
    "    \n",
    "Test(b=1)"
   ]
  },
  {
   "cell_type": "code",
   "execution_count": 1,
   "id": "upset-scanner",
   "metadata": {
    "scrolled": true
   },
   "outputs": [
    {
     "name": "stdout",
     "output_type": "stream",
     "text": [
      "[<function identity at 0x000002000AF72B70>]\n",
      "set() {'action'}\n"
     ]
    },
    {
     "ename": "TypeError",
     "evalue": "'NoneType' object is not iterable",
     "output_type": "error",
     "traceback": [
      "\u001b[1;31m---------------------------------------------------------------------------\u001b[0m",
      "\u001b[1;31mTypeError\u001b[0m                                 Traceback (most recent call last)",
      "\u001b[1;32m<ipython-input-1-5de00ba2b009>\u001b[0m in \u001b[0;36m<module>\u001b[1;34m\u001b[0m\n\u001b[0;32m     13\u001b[0m \u001b[0mloader\u001b[0m \u001b[1;33m=\u001b[0m \u001b[0mDataLoader\u001b[0m\u001b[1;33m(\u001b[0m\u001b[0mdataset\u001b[0m\u001b[1;33m)\u001b[0m\u001b[1;33m\u001b[0m\u001b[0m\n\u001b[0;32m     14\u001b[0m \u001b[1;33m\u001b[0m\u001b[0m\n\u001b[1;32m---> 15\u001b[1;33m \u001b[0mprint\u001b[0m\u001b[1;33m(\u001b[0m\u001b[0mdataset\u001b[0m\u001b[1;33m[\u001b[0m\u001b[1;36m0\u001b[0m\u001b[1;33m]\u001b[0m\u001b[1;33m)\u001b[0m\u001b[1;33m\u001b[0m\u001b[0m\n\u001b[0m\u001b[0;32m     16\u001b[0m \u001b[1;33m\u001b[0m\u001b[0m\n\u001b[0;32m     17\u001b[0m \u001b[1;32mfor\u001b[0m \u001b[0mx\u001b[0m \u001b[1;32min\u001b[0m \u001b[0mloader\u001b[0m\u001b[1;33m:\u001b[0m\u001b[1;33m\u001b[0m\u001b[0m\n",
      "\u001b[1;32m~\\Documents\\repos\\gymu\\gymu\\utils\\data.py\u001b[0m in \u001b[0;36m__getitem__\u001b[1;34m(self, i)\u001b[0m\n\u001b[0;32m    104\u001b[0m         \u001b[0mepisode\u001b[0m \u001b[1;33m=\u001b[0m \u001b[0mself\u001b[0m\u001b[1;33m.\u001b[0m\u001b[0mepisodes\u001b[0m\u001b[1;33m[\u001b[0m\u001b[0mi\u001b[0m\u001b[1;33m]\u001b[0m\u001b[1;33m.\u001b[0m\u001b[0mget\u001b[0m\u001b[1;33m(\u001b[0m\u001b[1;33m)\u001b[0m\u001b[1;33m\u001b[0m\u001b[0m\n\u001b[0;32m    105\u001b[0m         \u001b[0mepisode\u001b[0m \u001b[1;33m=\u001b[0m \u001b[0mself\u001b[0m\u001b[1;33m.\u001b[0m\u001b[0m_convert_mode\u001b[0m\u001b[1;33m(\u001b[0m\u001b[0mepisode\u001b[0m\u001b[1;33m)\u001b[0m\u001b[1;33m\u001b[0m\u001b[0m\n\u001b[1;32m--> 106\u001b[1;33m         \u001b[1;32mreturn\u001b[0m \u001b[0mself\u001b[0m\u001b[1;33m.\u001b[0m\u001b[0m_transform\u001b[0m\u001b[1;33m(\u001b[0m\u001b[0mepisode\u001b[0m\u001b[1;33m)\u001b[0m\u001b[1;33m\u001b[0m\u001b[0m\n\u001b[0m\u001b[0;32m    107\u001b[0m \u001b[1;33m\u001b[0m\u001b[0m\n\u001b[0;32m    108\u001b[0m     \u001b[1;32mdef\u001b[0m \u001b[0m__len__\u001b[0m\u001b[1;33m(\u001b[0m\u001b[0mself\u001b[0m\u001b[1;33m)\u001b[0m\u001b[1;33m:\u001b[0m\u001b[1;33m\u001b[0m\u001b[0m\n",
      "\u001b[1;32m~\\Documents\\repos\\gymu\\gymu\\utils\\data.py\u001b[0m in \u001b[0;36m_transform\u001b[1;34m(self, episode)\u001b[0m\n\u001b[0;32m     99\u001b[0m \u001b[1;33m\u001b[0m\u001b[0m\n\u001b[0;32m    100\u001b[0m     \u001b[1;32mdef\u001b[0m \u001b[0m_transform\u001b[0m\u001b[1;33m(\u001b[0m\u001b[0mself\u001b[0m\u001b[1;33m,\u001b[0m \u001b[0mepisode\u001b[0m\u001b[1;33m)\u001b[0m\u001b[1;33m:\u001b[0m \u001b[1;31m# transform each part of the episode using `transforms`\u001b[0m\u001b[1;33m\u001b[0m\u001b[0m\n\u001b[1;32m--> 101\u001b[1;33m         \u001b[1;32mreturn\u001b[0m \u001b[1;33m[\u001b[0m\u001b[0mself\u001b[0m\u001b[1;33m.\u001b[0m\u001b[0mtransforms\u001b[0m\u001b[1;33m[\u001b[0m\u001b[0mi\u001b[0m\u001b[1;33m]\u001b[0m\u001b[1;33m(\u001b[0m\u001b[0mx\u001b[0m\u001b[1;33m)\u001b[0m \u001b[1;32mfor\u001b[0m \u001b[0mi\u001b[0m\u001b[1;33m,\u001b[0m \u001b[0mx\u001b[0m \u001b[1;32min\u001b[0m \u001b[0menumerate\u001b[0m\u001b[1;33m(\u001b[0m\u001b[0mepisode\u001b[0m\u001b[1;33m)\u001b[0m\u001b[1;33m]\u001b[0m\u001b[1;33m\u001b[0m\u001b[0m\n\u001b[0m\u001b[0;32m    102\u001b[0m \u001b[1;33m\u001b[0m\u001b[0m\n\u001b[0;32m    103\u001b[0m     \u001b[1;32mdef\u001b[0m \u001b[0m__getitem__\u001b[0m\u001b[1;33m(\u001b[0m\u001b[0mself\u001b[0m\u001b[1;33m,\u001b[0m \u001b[0mi\u001b[0m\u001b[1;33m)\u001b[0m\u001b[1;33m:\u001b[0m\u001b[1;33m\u001b[0m\u001b[0m\n",
      "\u001b[1;31mTypeError\u001b[0m: 'NoneType' object is not iterable"
     ]
    }
   ],
   "source": [
    "import torch\n",
    "from torch.utils.data import DataLoader\n",
    "import numpy as np\n",
    "\n",
    "\n",
    "import gymu\n",
    "from gymu.utils.data import EpisodeDataset, Episode\n",
    "\n",
    "episodes = [Episode(gymu.mode.sa())]\n",
    "dataset = EpisodeDataset(episodes, mode=gymu.mode.s)\n",
    "print(dataset.transforms)\n",
    "\n",
    "loader = DataLoader(dataset)\n",
    "\n",
    "print(dataset[0])\n",
    "\n",
    "for x in loader:\n",
    "    print(x)\n",
    "\n"
   ]
  },
  {
   "cell_type": "code",
   "execution_count": null,
   "id": "acknowledged-reasoning",
   "metadata": {},
   "outputs": [],
   "source": []
  }
 ],
 "metadata": {
  "kernelspec": {
   "display_name": "Python 3 (ipykernel)",
   "language": "python",
   "name": "python3"
  },
  "language_info": {
   "codemirror_mode": {
    "name": "ipython",
    "version": 3
   },
   "file_extension": ".py",
   "mimetype": "text/x-python",
   "name": "python",
   "nbconvert_exporter": "python",
   "pygments_lexer": "ipython3",
   "version": "3.8.12"
  }
 },
 "nbformat": 4,
 "nbformat_minor": 5
}
